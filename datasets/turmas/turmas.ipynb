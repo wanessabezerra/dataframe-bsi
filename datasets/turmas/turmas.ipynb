{
 "cells": [
  {
   "cell_type": "code",
   "execution_count": null,
   "metadata": {},
   "outputs": [],
   "source": [
    "import pandas as pd"
   ]
  },
  {
   "attachments": {},
   "cell_type": "markdown",
   "metadata": {},
   "source": [
    "Leitura dos arquivos em csv e carregamento desses dados em um DataFrame usando o ponto e vírgula como separador."
   ]
  },
  {
   "cell_type": "code",
   "execution_count": null,
   "metadata": {},
   "outputs": [],
   "source": [
    "df20091 = pd.read_csv('turmas-2009.1.csv', sep=';')\n",
    "df20092 = pd.read_csv('turmas-2009.2.csv', sep=';')\n",
    "df20101 = pd.read_csv('turmas-2010.1.csv', sep=';')\n",
    "df20102 = pd.read_csv('turmas-2010.2.csv', sep=';')\n",
    "df20111 = pd.read_csv('turmas-2011.1.csv', sep=';')\n",
    "df20112 = pd.read_csv('turmas-2011.2.csv', sep=';')\n",
    "df20121 = pd.read_csv('turmas-2012.1.csv', sep=';')\n",
    "df20122 = pd.read_csv('turmas-2012.2.csv', sep=';')\n",
    "df20131 = pd.read_csv('turmas-2013.1.csv', sep=';')\n",
    "df20132 = pd.read_csv('turmas-2013.2.csv', sep=';')\n",
    "df20141 = pd.read_csv('turmas-2014.1.csv', sep=';')\n",
    "df20142 = pd.read_csv('turmas-2014.2.csv', sep=';')\n",
    "df20151 = pd.read_csv('turmas-2015.1.csv', sep=';')\n",
    "df20152 = pd.read_csv('turmas-2015.2.csv', sep=';')\n",
    "df20161 = pd.read_csv('turmas-2016.1.csv', sep=';')\n",
    "df20162 = pd.read_csv('turmas-2016.2.csv', sep=';')\n",
    "df20171 = pd.read_csv('turmas-2017.1.csv', sep=';')\n",
    "df20172 = pd.read_csv('turmas-2017.2.csv', sep=';')\n",
    "df20181 = pd.read_csv('turmas-2018.1.csv', sep=';')\n",
    "df20182 = pd.read_csv('turmas-2018.2.csv', sep=';')\n",
    "df20191 = pd.read_csv('turmas-2019.1.csv', sep=';')\n",
    "df20192 = pd.read_csv('turmas-2019.2.csv', sep=';')\n",
    "df20201 = pd.read_csv('turmas-2020.1.csv', sep=';')\n",
    "df20202 = pd.read_csv('turmas-2020.2.csv', sep=';')\n",
    "df20205 = pd.read_csv('turmas-2020.5.csv', sep=';')\n",
    "df20206 = pd.read_csv('turmas-2020.6.csv', sep=';')\n",
    "df20211 = pd.read_csv('turmas-2021.1.csv', sep=';')\n",
    "df20212 = pd.read_csv('turmas-2021.2.csv', sep=';')\n",
    "df20221 = pd.read_csv('turmas-2022.1.csv', sep=';')\n",
    "df20222 = pd.read_csv('turmas-2022.2.csv', sep=';')"
   ]
  },
  {
   "attachments": {},
   "cell_type": "markdown",
   "metadata": {},
   "source": [
    "Substituição na coluna ano."
   ]
  },
  {
   "cell_type": "code",
   "execution_count": null,
   "metadata": {},
   "outputs": [],
   "source": [
    "df20091.loc[df20091['ano'] == 2009, 'ano'] = 20091\n",
    "df20092.loc[df20092['ano'] == 2009, 'ano'] = 20092\n",
    "df20101.loc[df20101['ano'] == 2010, 'ano'] = 20101\n",
    "df20102.loc[df20102['ano'] == 2010, 'ano'] = 20102\n",
    "df20111.loc[df20111['ano'] == 2011, 'ano'] = 20111\n",
    "df20112.loc[df20112['ano'] == 2011, 'ano'] = 20112\n",
    "df20121.loc[df20121['ano'] == 2012, 'ano'] = 20121\n",
    "df20122.loc[df20122['ano'] == 2012, 'ano'] = 20122\n",
    "df20131.loc[df20131['ano'] == 2013, 'ano'] = 20131\n",
    "df20132.loc[df20132['ano'] == 2013, 'ano'] = 20132\n",
    "df20141.loc[df20141['ano'] == 2014, 'ano'] = 20141\n",
    "df20142.loc[df20142['ano'] == 2014, 'ano'] = 20142\n",
    "df20151.loc[df20151['ano'] == 2015, 'ano'] = 20151\n",
    "df20152.loc[df20152['ano'] == 2015, 'ano'] = 20152\n",
    "df20161.loc[df20161['ano'] == 2016, 'ano'] = 20161\n",
    "df20162.loc[df20162['ano'] == 2016, 'ano'] = 20162\n",
    "df20171.loc[df20171['ano'] == 2017, 'ano'] = 20171\n",
    "df20172.loc[df20172['ano'] == 2017, 'ano'] = 20172\n",
    "df20181.loc[df20181['ano'] == 2018, 'ano'] = 20181\n",
    "df20182.loc[df20182['ano'] == 2018, 'ano'] = 20182\n",
    "df20191.loc[df20191['ano'] == 2019, 'ano'] = 20191\n",
    "df20192.loc[df20192['ano'] == 2019, 'ano'] = 20192\n",
    "df20201.loc[df20201['ano'] == 2020, 'ano'] = 20201\n",
    "df20202.loc[df20202['ano'] == 2020, 'ano'] = 20202\n",
    "df20205.loc[df20205['ano'] == 2020, 'ano'] = 20205\n",
    "df20206.loc[df20206['ano'] == 2020, 'ano'] = 20206\n",
    "df20211.loc[df20211['ano'] == 2021, 'ano'] = 20211\n",
    "df20212.loc[df20212['ano'] == 2021, 'ano'] = 20212\n",
    "df20221.loc[df20221['ano'] == 2022, 'ano'] = 20221\n",
    "df20222.loc[df20222['ano'] == 2022, 'ano'] = 20222"
   ]
  },
  {
   "attachments": {},
   "cell_type": "markdown",
   "metadata": {},
   "source": [
    "Criação de um novo DataFrame chamado merged_df que contém todos os dados dos DataFrames df20091 a df20222, concatenados em uma única estrutura de dados."
   ]
  },
  {
   "cell_type": "code",
   "execution_count": null,
   "metadata": {},
   "outputs": [],
   "source": [
    "merged_df = pd.concat([df20091, df20092, df20101, df20102, df20111, df20112, df20121, df20122,\n",
    "                       df20131, df20132, df20141, df20142, df20151, df20152, df20161, df20162, \n",
    "                       df20171, df20172, df20181, df20182, df20191, df20192, df20201, df20202, \n",
    "                       df20205, df20206, df20211, df20212, df20221, df20222], ignore_index=True)"
   ]
  },
  {
   "attachments": {},
   "cell_type": "markdown",
   "metadata": {},
   "source": [
    "Salva o DataFrame no formato csv."
   ]
  },
  {
   "cell_type": "code",
   "execution_count": null,
   "metadata": {},
   "outputs": [],
   "source": [
    "merged_df.to_csv('turmas-2009-2022.csv', index=False) "
   ]
  }
 ],
 "metadata": {
  "kernelspec": {
   "display_name": "Python 3",
   "language": "python",
   "name": "python3"
  },
  "language_info": {
   "name": "python",
   "version": "3.10.6 (main, May 29 2023, 11:10:38) [GCC 11.3.0]"
  },
  "orig_nbformat": 4,
  "vscode": {
   "interpreter": {
    "hash": "916dbcbb3f70747c44a77c7bcd40155683ae19c65e1c03b4aa3499c5328201f1"
   }
  }
 },
 "nbformat": 4,
 "nbformat_minor": 2
}
