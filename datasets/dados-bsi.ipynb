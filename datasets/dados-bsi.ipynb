import pandas as pd
df_dados = pd.read_csv('dados-bsi-2009-2022.csv', sep=';')
## Selecionando Colunas
df_dados_reduzido = df_dados.filter(items=['discente', 'unidade', 'media_final', 'descricao', 'ano', 'id_componente', 'nome'])
df_dados_reduzido
Filtrando os dados da unidade 1.
filtro  = df_dados_reduzido['unidade'] == 1
df_dados_filtrado = df_dados_reduzido[filtro]
df_dados_filtrado
df_agrupado_por_ano = df_dados_filtrado.groupby('ano').sum().reset_index()
df_agrupado_por_ano.to_csv('dados-ano.csv', index=False, sep=';')
evasoes_por_semestre = []

for ano in df_dados_filtrado['ano']:
    alunos_semestre_atual = df_dados_filtrado[df_dados_filtrado['ano'] == ano]['discente'].unique()
    alunos_semestre_anterior = df_dados_filtrado[df_dados_filtrado['ano'] == (ano - 1 & (df_dados_filtrado['descricao'] == 'APROVADO'))]['discente'].unique()
    
    evasoes = len(set(alunos_semestre_anterior) - set(alunos_semestre_atual))
    evasoes_por_semestre.append({'ano': ano, 'Evasões': evasoes})

# Criar DataFrame com as evasões por semestre
df_evasoes = pd.DataFrame(evasoes_por_semestre)

df_evasoes
lista_obrigatórias = [
                'ALGORITMOS E LÓGICA DE PROGRAMAÇÃO',
                'INTRODUÇÃO À INFORMÁTICA',
                'FUNDAMENTOS DE MATEMÁTICA',
                'LÓGICA',
                'TEORIA GERAL DA ADMINISTRAÇÃO',
                'PROGRAMAÇÃO',
                'CÁLCULO DIFERENCIAL E INTEGRAL',
                'TEORIA GERAL DOS SISTEMAS',
                'PROGRAMAÇÃO ORIENTADA A OBJETOS I',
                'ESTRUTURA DE DADOS',
                'ÁLGEBRA LINEAR',
                'ORGANIZAÇÃO, SISTEMAS E MÉTODOS',
                'FUNDAMENTOS DE SISTEMAS DE INFORMAÇÃO',
                'PROGRAMAÇÃO WEB',
                'ARQUITETURA DE COMPUTADORES',
                'PROBABILIDADE E ESTATÍSTICA',
                'BANCO DE DADOS',
                'ENGENHARIA DE SOFTWARE I',
                'PROGRAMAÇÃO ORIENTADA A OBJETOS II',
                'SISTEMAS OPERACIONAIS',
                'PROJETO E ADMINISTRAÇÃO DE BANCO DE DADOS',
                'ENGENHARIA DE SOFTWARE II',
                'REDES DE COMPUTADORES',
                'CONTABILIDADE E CUSTOS',
                'EMPREENDEDORISMO EM INFORMÁTICA',
                'GESTÃO DE PROJETO DE SOFTWARE',
                'PROGRAMAÇÃO VISUAL',
                'MATEMÁTICA FINANCEIRA',
                'SISTEMAS DE APOIO À DECISÃO',
                'ÉTICA',
                ]
condição_nome = f"nome in {lista_obrigatórias}"
df_dados_filtrado = df_dados_filtrado.query(condição_nome)
Agrupando os dados e deixando ordenado pela coluna discente.
agregado_obrigatórias = df_dados_filtrado .groupby(["discente","nome","ano","descricao"]).size()
df_dados_filtrado = df_dados_filtrado.sort_values(by='discente')
df_dados_filtrado
df_dados_filtrado['media_final'] = df_dados_filtrado['media_final'].str.replace(',', '.').astype(float)
# Contar o número de reprovações (notas abaixo de 6.0)
reprovacoes_por_aluno = df_dados_filtrado[df_dados_filtrado['media_final'] < 5.0].groupby('discente').size()
num_reprovacoes = len(reprovacoes_por_aluno)
num_reprovacoes
df_dados_filtrado['ano'] = df_dados_filtrado['ano'].astype(int)
# Contar o número de alunos ingressantes em um determinado ano
ano_ingresso = 20091
num_alunos_ingressantes_2009 = df_dados_filtrado[df_dados_filtrado['ano'] == ano_ingresso]['discente'].nunique()
print("Número de alunos ingressantes em", ano_ingresso, ":", num_alunos_ingressantes_2009)
# Identificar a evasão (alunos que não estão matriculados em semestres posteriores)
anos_matriculados = df_dados_filtrado.groupby('discente')['ano'].unique()
alunos_evasao = anos_matriculados[anos_matriculados.apply(len) < df_dados_filtrado['ano'].nunique()].index
num_evasoes = len(alunos_evasao)
print("Número de alunos que evadiram:", num_evasoes)
evasoes_por_semestre = []

for ano in df_dados_filtrado['ano']:
    alunos_semestre_atual = df_dados_filtrado[df_dados_filtrado['ano'] == ano]['discente'].unique()
    alunos_semestre_anterior = df_dados_filtrado[df_dados_filtrado['ano'] == (ano - 1)]['discente'].unique()
    
    evasoes = len(set(alunos_semestre_anterior) - set(alunos_semestre_atual))
    evasoes_por_semestre.append({'ano': ano, 'Evasões': evasoes})

# Criar DataFrame com as evasões por semestre
df_evasoes = pd.DataFrame(evasoes_por_semestre)

print(df_evasoes)
df_evasoes.to_csv('dados-evasao.csv', index=False, sep=';')
# Identificar evasões por semestre
evasoes_por_semestre = []

for ano in zip(df_dados_filtrado['ano']):
    alunos_semestre_atual = df_dados_filtrado[(df_dados_filtrado['ano'] == ano)]['discente'].unique()
    alunos_semestre_anterior = df_dados_filtrado[(df_dados_filtrado['ano'] == ano - 1)]['discente'].unique()
    
    evasoes = len(set(alunos_semestre_anterior) - set(alunos_semestre_atual))
    evasoes_por_semestre.append({'ano': ano, 'Evasões': evasoes})

# Criar DataFrame com as evasões por semestre
df_evasoes = pd.DataFrame(evasoes_por_semestre)

# Visualizar evasões por semestre
print(df_evasoes)
