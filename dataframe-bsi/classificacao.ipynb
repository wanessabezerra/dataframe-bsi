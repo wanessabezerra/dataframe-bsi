{
 "cells": [
  {
   "cell_type": "code",
   "execution_count": 266,
   "metadata": {},
   "outputs": [],
   "source": [
    "import pandas as pd\n",
    "import matplotlib.pyplot as plt\n",
    "import numpy as np\n",
    "\n",
    "from sklearn.model_selection import train_test_split, cross_val_score\n",
    "from sklearn.metrics import accuracy_score, confusion_matrix, classification_report, ConfusionMatrixDisplay"
   ]
  },
  {
   "cell_type": "code",
   "execution_count": 267,
   "metadata": {},
   "outputs": [],
   "source": [
    "df_dados = pd.read_csv('df_total.csv', sep=',')"
   ]
  },
  {
   "cell_type": "code",
   "execution_count": 268,
   "metadata": {},
   "outputs": [],
   "source": [
    "# Substituir -1 por 'evade' e 1 por 'not evade' na coluna 'status'\n",
    "df_dados['status'] = df_dados['status'].replace({-1: 'evaded', 1: 'not evaded'})"
   ]
  },
  {
   "attachments": {},
   "cell_type": "markdown",
   "metadata": {},
   "source": [
    "# SVM"
   ]
  },
  {
   "cell_type": "code",
   "execution_count": 269,
   "metadata": {},
   "outputs": [
    {
     "name": "stdout",
     "output_type": "stream",
     "text": [
      "Acurácia do classificador SVM: 0.8529411764705882\n",
      "Matriz de confusão:\n",
      "[[104  19]\n",
      " [ 11  70]]\n",
      "Relatório de classificação:\n",
      "              precision    recall  f1-score   support\n",
      "\n",
      "      evaded       0.90      0.85      0.87       123\n",
      "  not evaded       0.79      0.86      0.82        81\n",
      "\n",
      "    accuracy                           0.85       204\n",
      "   macro avg       0.85      0.85      0.85       204\n",
      "weighted avg       0.86      0.85      0.85       204\n",
      "\n"
     ]
    },
    {
     "data": {
      "image/png": "[encoded data removed]",
      "text/plain": [
       "<Figure size 300x300 with 1 Axes>"
      ]
     },
     "metadata": {},
     "output_type": "display_data"
    }
   ],
   "source": [
    "from sklearn.svm import SVC\n",
    "\n",
    "# Filtrar as classes com mais de uma instância\n",
    "class_counts = df_dados['status'].value_counts()\n",
    "classes_to_keep = class_counts[class_counts > 1].index\n",
    "df_filtered = df_dados[df_dados['status'].isin(classes_to_keep)]\n",
    "\n",
    "# Separar as variáveis independentes e dependentes\n",
    "x = df_filtered.drop(columns=['status']).to_numpy()\n",
    "y = df_filtered['status'].to_numpy()\n",
    "\n",
    "# Dividir os dados em conjuntos de treino e teste\n",
    "X_train, X_test, y_train, y_test = train_test_split(x, y, test_size=0.3, random_state=42, stratify=y)\n",
    "\n",
    "# Treinar o classificador SVM\n",
    "classifier = SVC(kernel='linear', C=1)\n",
    "classifier.fit(X_train, y_train)\n",
    "\n",
    "# Fazer previsões no conjunto de teste\n",
    "y_pred = classifier.predict(X_test)\n",
    "\n",
    "# Avaliar a precisão do classificador\n",
    "accuracy = accuracy_score(y_test, y_pred)\n",
    "print(\"Acurácia do classificador SVM:\", accuracy)\n",
    "\n",
    "# Exibir a matriz de confusão\n",
    "conf_matrix = confusion_matrix(y_test, y_pred)\n",
    "print(\"Matriz de confusão:\")\n",
    "print(conf_matrix)\n",
    "\n",
    "# Exibir o relatório de classificação\n",
    "class_report = classification_report(y_test, y_pred)\n",
    "print(\"Relatório de classificação:\")\n",
    "print(class_report)\n",
    "# Exibir uma versão mais visual da matriz de confusão sem a colorbar\n",
    "labels = np.unique(y_test)  # Obter os rótulos únicos\n",
    "disp = ConfusionMatrixDisplay(confusion_matrix=conf_matrix, display_labels=labels)\n",
    "fig, ax = plt.subplots(figsize=(3, 3))\n",
    "disp.plot(cmap=plt.cm.PuRd, ax=ax, colorbar=False)\n",
    "plt.yticks(rotation=90, ha='center', va='center', fontsize=11)\n",
    "plt.xticks(fontsize=11)\n",
    "# Remover os rótulos dos eixos\n",
    "ax.set_xlabel('')\n",
    "ax.set_ylabel('')\n",
    "plt.title('Confusion Matrix - SVM', fontsize=12)\n",
    "plt.show()"
   ]
  },
  {
   "attachments": {},
   "cell_type": "markdown",
   "metadata": {},
   "source": [
    "# Regressão Logística "
   ]
  },
  {
   "cell_type": "code",
   "execution_count": 270,
   "metadata": {},
   "outputs": [
    {
     "ename": "ImportError",
     "evalue": "cannot import name 'train_test_spli' from 'sklearn.model_selection' (/home/wanessa/.local/lib/python3.10/site-packages/sklearn/model_selection/__init__.py)",
     "output_type": "error",
     "traceback": [
      "\u001b[0;31m---------------------------------------------------------------------------\u001b[0m",
      "\u001b[0;31mImportError\u001b[0m                               Traceback (most recent call last)",
      "Cell \u001b[0;32mIn[270], line 3\u001b[0m\n\u001b[1;32m      1\u001b[0m \u001b[38;5;28;01mimport\u001b[39;00m \u001b[38;5;21;01mpandas\u001b[39;00m \u001b[38;5;28;01mas\u001b[39;00m \u001b[38;5;21;01mpd\u001b[39;00m\n\u001b[1;32m      2\u001b[0m \u001b[38;5;28;01mfrom\u001b[39;00m \u001b[38;5;21;01msklearn\u001b[39;00m\u001b[38;5;21;01m.\u001b[39;00m\u001b[38;5;21;01mlinear_model\u001b[39;00m \u001b[38;5;28;01mimport\u001b[39;00m LogisticRegression\n\u001b[0;32m----> 3\u001b[0m \u001b[38;5;28;01mfrom\u001b[39;00m \u001b[38;5;21;01msklearn\u001b[39;00m\u001b[38;5;21;01m.\u001b[39;00m\u001b[38;5;21;01mmodel_selection\u001b[39;00m \u001b[38;5;28;01mimport\u001b[39;00m train_test_spli\n\u001b[1;32m      4\u001b[0m \u001b[38;5;28;01mfrom\u001b[39;00m \u001b[38;5;21;01msklearn\u001b[39;00m\u001b[38;5;21;01m.\u001b[39;00m\u001b[38;5;21;01mmetrics\u001b[39;00m \u001b[38;5;28;01mimport\u001b[39;00m accuracy_score, confusion_matrix, classification_report\n\u001b[1;32m      7\u001b[0m \u001b[38;5;66;03m# Filtrar as classes com mais de uma instância\u001b[39;00m\n",
      "\u001b[0;31mImportError\u001b[0m: cannot import name 'train_test_spli' from 'sklearn.model_selection' (/home/wanessa/.local/lib/python3.10/site-packages/sklearn/model_selection/__init__.py)"
     ]
    }
   ],
   "source": [
    "import pandas as pd\n",
    "from sklearn.linear_model import LogisticRegression\n",
    "from sklearn.model_selection import train_test_spli\n",
    "from sklearn.metrics import accuracy_score, confusion_matrix, classification_report\n",
    "\n",
    "\n",
    "# Filtrar as classes com mais de uma instância\n",
    "class_counts = df_dados['status'].value_counts()\n",
    "classes_to_keep = class_counts[class_counts > 1].index\n",
    "df_filtered = df_dados[df_dados['status'].isin(classes_to_keep)]\n",
    "\n",
    "# Separar as variáveis independentes e dependentes\n",
    "X = df_filtered.drop(columns=['status']).to_numpy()\n",
    "y = df_filtered['status'].to_numpy()\n",
    "\n",
    "\n",
    "# Dividir os dados em conjuntos de treino e teste\n",
    "X_train, X_test, y_train, y_test = train_test_split(X, y, test_size=0.3, random_state=42, stratify=y)\n",
    "\n",
    "# Criar e treinar o modelo de Regressão Logística com o solver liblinear\n",
    "model = LogisticRegression(max_iter=2000, solver='liblinear', C=1.0)\n",
    "model.fit(X_train, y_train)\n",
    "\n",
    "# Fazer previsões no conjunto de teste\n",
    "y_pred = model.predict(X_test)\n",
    "\n",
    "# Avaliar o modelo\n",
    "accuracy = accuracy_score(y_test, y_pred)\n",
    "report = classification_report(y_test, y_pred)\n",
    "\n",
    "# Exibir a matriz de confusão\n",
    "conf_matrix = confusion_matrix(y_test, y_pred)\n",
    "print(\"Matriz de confusão:\")\n",
    "print(conf_matrix)\n",
    "\n",
    "# Validação cruzada\n",
    "cv_scores = cross_val_score(model, X, y, cv=5)\n",
    "\n",
    "print(f\"Accuracy: {accuracy}\")\n",
    "print(\"Classification Report:\")\n",
    "print(report)\n",
    "print(f\"Cross-Validation Scores: {cv_scores}\")\n",
    "print(f\"Mean Cross-Validation Score: {cv_scores.mean()}\")\n",
    "\n",
    "# Exibir o relatório de classificação\n",
    "class_report = classification_report(y_test, y_pred)\n",
    "print(\"Relatório de classificação:\")\n",
    "print(class_report)\n",
    "# Exibir uma versão mais visual da matriz de confusão sem a colorbar\n",
    "labels = np.unique(y_test)  # Obter os rótulos únicos\n",
    "disp = ConfusionMatrixDisplay(confusion_matrix=conf_matrix, display_labels=labels)\n",
    "fig, ax = plt.subplots(figsize=(3, 3))\n",
    "disp.plot(cmap=plt.cm.PuRd, ax=ax, colorbar=False)\n",
    "plt.yticks(rotation=90, ha='center', va='center', fontsize=11)\n",
    "plt.xticks(fontsize=11)\n",
    "# Remover os rótulos dos eixos\n",
    "ax.set_xlabel('')\n",
    "ax.set_ylabel('')\n",
    "plt.title('Confusion Matrix - Regression Logistic', fontsize=12)\n",
    "plt.show()"
   ]
  },
  {
   "attachments": {},
   "cell_type": "markdown",
   "metadata": {},
   "source": [
    "# Decision Tree"
   ]
  },
  {
   "cell_type": "code",
   "execution_count": null,
   "metadata": {},
   "outputs": [
    {
     "name": "stdout",
     "output_type": "stream",
     "text": [
      "Matriz de confusão:\n",
      "[[4 1]\n",
      " [0 9]]\n",
      "Accuracy: 0.9285714285714286\n",
      "Classification Report:\n",
      "              precision    recall  f1-score   support\n",
      "\n",
      "      evaded       1.00      0.80      0.89         5\n",
      "  not evaded       0.90      1.00      0.95         9\n",
      "\n",
      "    accuracy                           0.93        14\n",
      "   macro avg       0.95      0.90      0.92        14\n",
      "weighted avg       0.94      0.93      0.93        14\n",
      "\n"
     ]
    },
    {
     "data": {
      "image/png": "[encoded data removed]",
      "text/plain": [
       "<Figure size 300x300 with 1 Axes>"
      ]
     },
     "metadata": {},
     "output_type": "display_data"
    }
   ],
   "source": [
    "from sklearn.tree import DecisionTreeClassifier\n",
    "\n",
    "\n",
    "# Filtrar as classes com mais de uma instância\n",
    "class_counts = df_dados['status'].value_counts()\n",
    "classes_to_keep = class_counts[class_counts > 1].index\n",
    "df_filtered = df_dados[df_dados['status'].isin(classes_to_keep)]\n",
    "\n",
    "# Separar as variáveis independentes e dependentes\n",
    "X = df_filtered.drop(columns=['status']).to_numpy()\n",
    "y = df_filtered['status'].to_numpy()\n",
    "\n",
    "# Dividir os dados em conjuntos de treino e teste\n",
    "X_train, X_test, y_train, y_test = train_test_split(X, y, test_size=0.3, random_state=42, stratify=y)\n",
    "\n",
    "# Criar e treinar o modelo de Árvore de Decisão\n",
    "model = DecisionTreeClassifier(random_state=42)\n",
    "model.fit(X_train, y_train)\n",
    "\n",
    "# Fazer previsões no conjunto de teste\n",
    "y_pred = model.predict(X_test)\n",
    "\n",
    "# Exibir a matriz de confusão\n",
    "conf_matrix = confusion_matrix(y_test, y_pred)\n",
    "print(\"Matriz de confusão:\")\n",
    "print(conf_matrix)\n",
    "\n",
    "# Avaliar o modelo\n",
    "accuracy = accuracy_score(y_test, y_pred)\n",
    "report = classification_report(y_test, y_pred)\n",
    "\n",
    "print(f\"Accuracy: {accuracy}\")\n",
    "print(\"Classification Report:\")\n",
    "print(report)\n",
    "\n",
    "# Exibir uma versão mais visual da matriz de confusão sem a colorbar\n",
    "labels = np.unique(y_test)  # Obter os rótulos únicos\n",
    "disp = ConfusionMatrixDisplay(confusion_matrix=conf_matrix, display_labels=labels)\n",
    "fig, ax = plt.subplots(figsize=(3, 3))\n",
    "disp.plot(cmap=plt.cm.PuRd, ax=ax, colorbar=False)\n",
    "plt.yticks(rotation=90, ha='center', va='center', fontsize=11)\n",
    "plt.xticks(fontsize=11)\n",
    "# Remover os rótulos dos eixos\n",
    "ax.set_xlabel('')\n",
    "ax.set_ylabel('')\n",
    "plt.title('Confusion Matrix - Decision Tree', fontsize=12)\n",
    "plt.show()"
   ]
  },
  {
   "attachments": {},
   "cell_type": "markdown",
   "metadata": {},
   "source": [
    "# Random Forest"
   ]
  },
  {
   "cell_type": "code",
   "execution_count": null,
   "metadata": {},
   "outputs": [
    {
     "name": "stdout",
     "output_type": "stream",
     "text": [
      "Matriz de confusão:\n",
      "[[4 1]\n",
      " [0 9]]\n",
      "Acurácia: 0.9285714285714286\n",
      "Relatório de Classificação:\n",
      "              precision    recall  f1-score   support\n",
      "\n",
      "      evaded       1.00      0.80      0.89         5\n",
      "  not evaded       0.90      1.00      0.95         9\n",
      "\n",
      "    accuracy                           0.93        14\n",
      "   macro avg       0.95      0.90      0.92        14\n",
      "weighted avg       0.94      0.93      0.93        14\n",
      "\n"
     ]
    },
    {
     "data": {
      "image/png": "[encoded data removed]",
      "text/plain": [
       "<Figure size 300x300 with 1 Axes>"
      ]
     },
     "metadata": {},
     "output_type": "display_data"
    }
   ],
   "source": [
    "from sklearn.ensemble import RandomForestClassifier\n",
    "\n",
    "# Filtrar as classes com mais de uma instância\n",
    "class_counts = df_dados['status'].value_counts()\n",
    "classes_to_keep = class_counts[class_counts > 1].index\n",
    "df_filtered = df_dados[df_dados['status'].isin(classes_to_keep)]\n",
    "\n",
    "# Separar as variáveis independentes e dependentes\n",
    "x = df_filtered.drop(columns=['status']).to_numpy()\n",
    "y = df_filtered['status'].to_numpy()\n",
    "\n",
    "# Dividir os dados em conjunto de treinamento e teste\n",
    "x_train, x_test, y_train, y_test = train_test_split(x, y, test_size=0.3, random_state=42, stratify=y)\n",
    "\n",
    "# Treinar o modelo de Random Forests\n",
    "rf_model = RandomForestClassifier(n_estimators=100, random_state=42)\n",
    "rf_model.fit(x_train, y_train)\n",
    "\n",
    "# Fazer previsões\n",
    "y_pred = rf_model.predict(x_test)\n",
    "\n",
    "# Exibir a matriz de confusão\n",
    "conf_matrix = confusion_matrix(y_test, y_pred)\n",
    "print(\"Matriz de confusão:\")\n",
    "print(conf_matrix)\n",
    "\n",
    "# Avaliar o modelo\n",
    "accuracy = accuracy_score(y_test, y_pred)\n",
    "report = classification_report(y_test, y_pred)\n",
    "\n",
    "print(f'Acurácia: {accuracy}')\n",
    "print('Relatório de Classificação:')\n",
    "print(report)\n",
    "\n",
    "# Exibir uma versão mais visual da matriz de confusão sem a colorbar\n",
    "labels = np.unique(y_test)  # Obter os rótulos únicos\n",
    "disp = ConfusionMatrixDisplay(confusion_matrix=conf_matrix, display_labels=labels)\n",
    "fig, ax = plt.subplots(figsize=(3, 3))\n",
    "disp.plot(cmap=plt.cm.PuRd, ax=ax, colorbar=False)\n",
    "plt.yticks(rotation=90, ha='center', va='center',fontsize=11)\n",
    "plt.xticks(fontsize=11)\n",
    "# Remover os rótulos dos eixos\n",
    "ax.set_xlabel('')\n",
    "ax.set_ylabel('')\n",
    "plt.title('Confusion Matrix - Random Forest',fontsize=12)\n",
    "plt.show()\n"
   ]
  },
  {
   "attachments": {},
   "cell_type": "markdown",
   "metadata": {},
   "source": [
    "# Naive Bayes"
   ]
  },
  {
   "cell_type": "code",
   "execution_count": null,
   "metadata": {},
   "outputs": [
    {
     "name": "stdout",
     "output_type": "stream",
     "text": [
      "Matriz de confusão:\n",
      "[[4 1]\n",
      " [1 8]]\n",
      "Acurácia: 0.8571428571428571\n",
      "Relatório de Classificação:\n",
      "              precision    recall  f1-score   support\n",
      "\n",
      "      evaded       0.80      0.80      0.80         5\n",
      "  not evaded       0.89      0.89      0.89         9\n",
      "\n",
      "    accuracy                           0.86        14\n",
      "   macro avg       0.84      0.84      0.84        14\n",
      "weighted avg       0.86      0.86      0.86        14\n",
      "\n"
     ]
    },
    {
     "data": {
      "image/png": "[encoded data removed]",
      "text/plain": [
       "<Figure size 300x300 with 1 Axes>"
      ]
     },
     "metadata": {},
     "output_type": "display_data"
    }
   ],
   "source": [
    "from sklearn.naive_bayes import GaussianNB\n",
    "\n",
    "# Filtrar as classes com mais de uma instância\n",
    "class_counts = df_dados['status'].value_counts()\n",
    "classes_to_keep = class_counts[class_counts > 1].index\n",
    "df_filtered = df_dados[df_dados['status'].isin(classes_to_keep)]\n",
    "\n",
    "# Separar as variáveis independentes e dependentes\n",
    "x = df_filtered.drop(columns=['status']).to_numpy()\n",
    "y = df_filtered['status'].to_numpy()\n",
    "\n",
    "# Dividir os dados em conjunto de treinamento e teste\n",
    "x_train, x_test, y_train, y_test = train_test_split(x, y, test_size=0.3, random_state=42, stratify=y)\n",
    "\n",
    "# Treinar o modelo de Naive Bayes\n",
    "nb_model = GaussianNB()\n",
    "nb_model.fit(x_train, y_train)\n",
    "\n",
    "# Fazer previsões\n",
    "y_pred = nb_model.predict(x_test)\n",
    "\n",
    "# Exibir a matriz de confusão\n",
    "conf_matrix = confusion_matrix(y_test, y_pred)\n",
    "print(\"Matriz de confusão:\")\n",
    "print(conf_matrix)\n",
    "\n",
    "# Avaliar o modelo\n",
    "accuracy = accuracy_score(y_test, y_pred)\n",
    "report = classification_report(y_test, y_pred)\n",
    "\n",
    "print(f'Acurácia: {accuracy}')\n",
    "print('Relatório de Classificação:')\n",
    "print(report)\n",
    "\n",
    "# Exibir uma versão mais visual da matriz de confusão sem a colorbar\n",
    "labels = np.unique(y_test)  # Obter os rótulos únicos\n",
    "disp = ConfusionMatrixDisplay(confusion_matrix=conf_matrix, display_labels=labels)\n",
    "fig, ax = plt.subplots(figsize=(3, 3))\n",
    "disp.plot(cmap=plt.cm.PuRd, ax=ax, colorbar=False)\n",
    "plt.yticks(rotation=90, ha='center', va='center', fontsize=11)\n",
    "plt.xticks(fontsize=11)\n",
    "# Remover os rótulos dos eixos\n",
    "ax.set_xlabel('')\n",
    "ax.set_ylabel('')\n",
    "plt.title('Confusion Matrix - Naive Bayes', fontsize=12)\n",
    "plt.show()\n"
   ]
  },
  {
   "attachments": {},
   "cell_type": "markdown",
   "metadata": {},
   "source": [
    "# K-Nearest Neighbors"
   ]
  },
  {
   "cell_type": "code",
   "execution_count": null,
   "metadata": {},
   "outputs": [
    {
     "name": "stdout",
     "output_type": "stream",
     "text": [
      "Acurácia: 0.8571428571428571\n",
      "Relatório de Classificação:\n",
      "              precision    recall  f1-score   support\n",
      "\n",
      "      evaded       0.80      0.80      0.80         5\n",
      "  not evaded       0.89      0.89      0.89         9\n",
      "\n",
      "    accuracy                           0.86        14\n",
      "   macro avg       0.84      0.84      0.84        14\n",
      "weighted avg       0.86      0.86      0.86        14\n",
      "\n",
      "Matriz de Confusão:\n",
      "[[4 1]\n",
      " [1 8]]\n"
     ]
    },
    {
     "data": {
      "image/png": "[encoded data removed]",
      "text/plain": [
       "<Figure size 300x300 with 1 Axes>"
      ]
     },
     "metadata": {},
     "output_type": "display_data"
    }
   ],
   "source": [
    "from sklearn.neighbors import KNeighborsClassifier\n",
    "\n",
    "# Filtrar as classes com mais de uma instância\n",
    "class_counts = df_dados['status'].value_counts()\n",
    "classes_to_keep = class_counts[class_counts > 1].index\n",
    "df_filtered = df_dados[df_dados['status'].isin(classes_to_keep)]\n",
    "\n",
    "# Separar as variáveis independentes e dependentes\n",
    "x = df_filtered.drop(columns=['status']).to_numpy()\n",
    "y = df_filtered['status'].to_numpy()\n",
    "\n",
    "# Dividir os dados em conjunto de treinamento e teste\n",
    "x_train, x_test, y_train, y_test = train_test_split(x, y, test_size=0.3, random_state=42, stratify=y)\n",
    "\n",
    "# Treinar o modelo de K-NN\n",
    "knn_model = KNeighborsClassifier(n_neighbors=5)\n",
    "knn_model.fit(x_train, y_train)\n",
    "\n",
    "# Fazer previsões\n",
    "y_pred = knn_model.predict(x_test)\n",
    "\n",
    "# Avaliar o modelo\n",
    "accuracy = accuracy_score(y_test, y_pred)\n",
    "report = classification_report(y_test, y_pred)\n",
    "conf_matrix = confusion_matrix(y_test, y_pred)\n",
    "\n",
    "print(f'Acurácia: {accuracy}')\n",
    "print('Relatório de Classificação:')\n",
    "print(report)\n",
    "print('Matriz de Confusão:')\n",
    "print(conf_matrix)\n",
    "\n",
    "# Exibir uma versão mais visual da matriz de confusão sem a colorbar\n",
    "labels = np.unique(y_test)  # Obter os rótulos únicos\n",
    "disp = ConfusionMatrixDisplay(confusion_matrix=conf_matrix, display_labels=labels)\n",
    "fig, ax = plt.subplots(figsize=(3, 3))\n",
    "disp.plot(cmap=plt.cm.PuRd, ax=ax, colorbar=False)\n",
    "plt.yticks(rotation=90, ha='center', va='center',fontsize=11)\n",
    "plt.xticks(fontsize=11)\n",
    "# Remover os rótulos dos eixos\n",
    "ax.set_xlabel('')\n",
    "ax.set_ylabel('')\n",
    "plt.title('Confusion Matrix - K-NN', fontsize=12)\n",
    "plt.show()"
   ]
  },
  {
   "attachments": {},
   "cell_type": "markdown",
   "metadata": {},
   "source": [
    "# AdaBoost"
   ]
  },
  {
   "cell_type": "code",
   "execution_count": null,
   "metadata": {},
   "outputs": [
    {
     "name": "stdout",
     "output_type": "stream",
     "text": [
      "Acurácia: 0.857\n",
      "Relatório de Classificação:\n",
      "              precision    recall  f1-score   support\n",
      "\n",
      "      evaded       0.80      0.80      0.80         5\n",
      "  not evaded       0.89      0.89      0.89         9\n",
      "\n",
      "    accuracy                           0.86        14\n",
      "   macro avg       0.84      0.84      0.84        14\n",
      "weighted avg       0.86      0.86      0.86        14\n",
      "\n",
      "Matriz de Confusão:\n",
      "[[4 1]\n",
      " [1 8]]\n"
     ]
    },
    {
     "data": {
      "image/png": "[encoded data removed]",
      "text/plain": [
       "<Figure size 300x300 with 1 Axes>"
      ]
     },
     "metadata": {},
     "output_type": "display_data"
    }
   ],
   "source": [
    "from sklearn.ensemble import AdaBoostClassifier\n",
    "\n",
    "# Filtrar as classes com mais de uma instância\n",
    "class_counts = df_dados['status'].value_counts()\n",
    "classes_to_keep = class_counts[class_counts > 1].index\n",
    "df_filtered = df_dados[df_dados['status'].isin(classes_to_keep)]\n",
    "\n",
    "# Separar as variáveis independentes e dependentes\n",
    "x = df_filtered.drop(columns=['status']).to_numpy()\n",
    "y = df_filtered['status'].to_numpy()\n",
    "\n",
    "# Dividir os dados em conjunto de treinamento e teste\n",
    "x_train, x_test, y_train, y_test = train_test_split(x, y, test_size=0.3, random_state=42, stratify=y)\n",
    "\n",
    "# Treinar o modelo de AdaBoost com o algoritmo SAMME\n",
    "adaboost_model = AdaBoostClassifier(n_estimators=50, algorithm='SAMME', random_state=42)\n",
    "adaboost_model.fit(x_train, y_train)\n",
    "\n",
    "# Fazer previsões\n",
    "y_pred = adaboost_model.predict(x_test)\n",
    "\n",
    "# Avaliar o modelo\n",
    "accuracy = accuracy_score(y_test, y_pred)\n",
    "report = classification_report(y_test, y_pred)\n",
    "conf_matrix = confusion_matrix(y_test, y_pred)\n",
    "\n",
    "print(f'Acurácia: {accuracy:.3f}')\n",
    "print('Relatório de Classificação:')\n",
    "print(report)\n",
    "print('Matriz de Confusão:')\n",
    "print(conf_matrix)\n",
    "\n",
    "# Exibir uma versão mais visual da matriz de confusão sem a colorbar\n",
    "labels = np.unique(y_test)  # Obter os rótulos únicos\n",
    "disp = ConfusionMatrixDisplay(confusion_matrix=conf_matrix, display_labels=labels)\n",
    "fig, ax = plt.subplots(figsize=(3, 3))\n",
    "disp.plot(cmap=plt.cm.PuRd, ax=ax, colorbar=False)\n",
    "plt.yticks(rotation=90, ha='center', va='center', fontsize=11)\n",
    "plt.xticks(fontsize=11)\n",
    "# Remover os rótulos dos eixos\n",
    "ax.set_xlabel('')\n",
    "ax.set_ylabel('')\n",
    "plt.title('Confusion Matrix - AdaBoost', fontsize=12)\n",
    "plt.show()\n"
   ]
  },
  {
   "attachments": {},
   "cell_type": "markdown",
   "metadata": {},
   "source": [
    "# Neural Net"
   ]
  },
  {
   "cell_type": "code",
   "execution_count": null,
   "metadata": {},
   "outputs": [
    {
     "name": "stdout",
     "output_type": "stream",
     "text": [
      "Acurácia: 0.786\n",
      "Relatório de Classificação:\n",
      "              precision    recall  f1-score   support\n",
      "\n",
      "      evaded       1.00      0.40      0.57         5\n",
      "  not evaded       0.75      1.00      0.86         9\n",
      "\n",
      "    accuracy                           0.79        14\n",
      "   macro avg       0.88      0.70      0.71        14\n",
      "weighted avg       0.84      0.79      0.76        14\n",
      "\n",
      "Matriz de Confusão:\n",
      "[[2 3]\n",
      " [0 9]]\n"
     ]
    },
    {
     "data": {
      "image/png": "[encoded data removed]",
      "text/plain": [
       "<Figure size 300x300 with 1 Axes>"
      ]
     },
     "metadata": {},
     "output_type": "display_data"
    }
   ],
   "source": [
    "from sklearn.neural_network import MLPClassifier\n",
    "\n",
    "# Filtrar as classes com mais de uma instância\n",
    "class_counts = df_dados['status'].value_counts()\n",
    "classes_to_keep = class_counts[class_counts > 1].index\n",
    "df_filtered = df_dados[df_dados['status'].isin(classes_to_keep)]\n",
    "\n",
    "# Separar as variáveis independentes e dependentes\n",
    "x = df_filtered.drop(columns=['status']).to_numpy()\n",
    "y = df_filtered['status'].to_numpy()\n",
    "\n",
    "# Dividir os dados em conjunto de treinamento e teste\n",
    "x_train, x_test, y_train, y_test = train_test_split(x, y, test_size=0.3, random_state=42, stratify=y)\n",
    "\n",
    "\n",
    "# Definir e treinar o modelo de rede neural\n",
    "mlp_model = MLPClassifier(hidden_layer_sizes=(100,), max_iter=500, random_state=42)\n",
    "mlp_model.fit(x_train, y_train)\n",
    "\n",
    "# Fazer previsões\n",
    "y_pred = mlp_model.predict(x_test)\n",
    "\n",
    "# Avaliar o modelo\n",
    "accuracy = accuracy_score(y_test, y_pred)\n",
    "report = classification_report(y_test, y_pred)\n",
    "conf_matrix = confusion_matrix(y_test, y_pred)\n",
    "\n",
    "print(f'Acurácia: {accuracy:.3f}')\n",
    "print('Relatório de Classificação:')\n",
    "print(report)\n",
    "print('Matriz de Confusão:')\n",
    "print(conf_matrix)\n",
    "\n",
    "# Exibir uma versão mais visual da matriz de confusão sem a colorbar\n",
    "labels = np.unique(y_test)  # Obter os rótulos únicos\n",
    "disp = ConfusionMatrixDisplay(confusion_matrix=conf_matrix, display_labels=labels)\n",
    "fig, ax = plt.subplots(figsize=(3, 3))\n",
    "disp.plot(cmap=plt.cm.PuRd, ax=ax, colorbar=False)\n",
    "plt.yticks(rotation=90, ha='center', va='center', fontsize=11)\n",
    "plt.xticks(fontsize=11)\n",
    "# Remover os rótulos dos eixos\n",
    "ax.set_xlabel('')\n",
    "ax.set_ylabel('')\n",
    "plt.title('Confusion Matrix - Neural Net', fontsize=12)\n",
    "plt.show()"
   ]
  },
  {
   "attachments": {},
   "cell_type": "markdown",
   "metadata": {},
   "source": [
    "# QDA"
   ]
  },
  {
   "cell_type": "code",
   "execution_count": null,
   "metadata": {},
   "outputs": [
    {
     "name": "stdout",
     "output_type": "stream",
     "text": [
      "Acurácia: 0.857\n",
      "Relatório de Classificação:\n",
      "              precision    recall  f1-score   support\n",
      "\n",
      "      evaded       1.00      0.60      0.75         5\n",
      "  not evaded       0.82      1.00      0.90         9\n",
      "\n",
      "    accuracy                           0.86        14\n",
      "   macro avg       0.91      0.80      0.82        14\n",
      "weighted avg       0.88      0.86      0.85        14\n",
      "\n",
      "Matriz de Confusão:\n",
      "[[3 2]\n",
      " [0 9]]\n"
     ]
    },
    {
     "name": "stderr",
     "output_type": "stream",
     "text": [
      "/home/wanessa/.local/lib/python3.10/site-packages/sklearn/discriminant_analysis.py:935: UserWarning: Variables are collinear\n",
      "  warnings.warn(\"Variables are collinear\")\n"
     ]
    },
    {
     "data": {
      "image/png": "[encoded data removed]",
      "text/plain": [
       "<Figure size 300x300 with 1 Axes>"
      ]
     },
     "metadata": {},
     "output_type": "display_data"
    }
   ],
   "source": [
    "from sklearn.discriminant_analysis import QuadraticDiscriminantAnalysis\n",
    "\n",
    "# Filtrar as classes com mais de uma instância\n",
    "class_counts = df_dados['status'].value_counts()\n",
    "classes_to_keep = class_counts[class_counts > 1].index\n",
    "df_filtered = df_dados[df_dados['status'].isin(classes_to_keep)]\n",
    "\n",
    "# Separar as variáveis independentes e dependentes\n",
    "x = df_filtered.drop(columns=['status']).to_numpy()\n",
    "y = df_filtered['status'].to_numpy()\n",
    "\n",
    "# Dividir os dados em conjunto de treinamento e teste\n",
    "x_train, x_test, y_train, y_test = train_test_split(x, y, test_size=0.3, random_state=42, stratify=y)\n",
    "\n",
    "# Treinar o modelo de QDA\n",
    "qda_model = QuadraticDiscriminantAnalysis()\n",
    "qda_model.fit(x_train, y_train)\n",
    "\n",
    "# Fazer previsões\n",
    "y_pred = qda_model.predict(x_test)\n",
    "\n",
    "# Avaliar o modelo\n",
    "accuracy = accuracy_score(y_test, y_pred)\n",
    "report = classification_report(y_test, y_pred)\n",
    "conf_matrix = confusion_matrix(y_test, y_pred)\n",
    "\n",
    "print(f'Acurácia: {accuracy:.3f}')\n",
    "print('Relatório de Classificação:')\n",
    "print(report)\n",
    "print('Matriz de Confusão:')\n",
    "print(conf_matrix)\n",
    "\n",
    "# Exibir uma versão mais visual da matriz de confusão sem a colorbar\n",
    "labels = np.unique(y_test)  # Obter os rótulos únicos\n",
    "disp = ConfusionMatrixDisplay(confusion_matrix=conf_matrix, display_labels=labels)\n",
    "fig, ax = plt.subplots(figsize=(3, 3))\n",
    "disp.plot(cmap=plt.cm.PuRd, ax=ax, colorbar=False)\n",
    "plt.yticks(rotation=90, ha='center', va='center', fontsize=11)\n",
    "plt.xticks(fontsize=11)\n",
    "# Remover os rótulos dos eixos\n",
    "ax.set_xlabel('')\n",
    "ax.set_ylabel('')\n",
    "plt.title('Confusion Matrix - QDA', fontsize=12)\n",
    "plt.show()"
   ]
  },
  {
   "attachments": {},
   "cell_type": "markdown",
   "metadata": {},
   "source": [
    "# Gaussian Process"
   ]
  },
  {
   "cell_type": "code",
   "execution_count": null,
   "metadata": {},
   "outputs": [
    {
     "name": "stdout",
     "output_type": "stream",
     "text": [
      "Acurácia: 0.929\n",
      "Relatório de Classificação:\n",
      "              precision    recall  f1-score   support\n",
      "\n",
      "      evaded       1.00      0.80      0.89         5\n",
      "  not evaded       0.90      1.00      0.95         9\n",
      "\n",
      "    accuracy                           0.93        14\n",
      "   macro avg       0.95      0.90      0.92        14\n",
      "weighted avg       0.94      0.93      0.93        14\n",
      "\n",
      "Matriz de Confusão:\n",
      "[[4 1]\n",
      " [0 9]]\n"
     ]
    },
    {
     "data": {
      "image/png": "[encoded data removed]",
      "text/plain": [
       "<Figure size 300x300 with 1 Axes>"
      ]
     },
     "metadata": {},
     "output_type": "display_data"
    }
   ],
   "source": [
    "from sklearn.gaussian_process import GaussianProcessClassifier\n",
    "from sklearn.gaussian_process.kernels import RBF\n",
    "\n",
    "# Filtrar as classes com mais de uma instância\n",
    "class_counts = df_dados['status'].value_counts()\n",
    "classes_to_keep = class_counts[class_counts > 1].index\n",
    "df_filtered = df_dados[df_dados['status'].isin(classes_to_keep)]\n",
    "\n",
    "# Separar as variáveis independentes e dependentes\n",
    "x = df_filtered.drop(columns=['status']).to_numpy()\n",
    "y = df_filtered['status'].to_numpy()\n",
    "\n",
    "# Dividir os dados em conjunto de treinamento e teste\n",
    "x_train, x_test, y_train, y_test = train_test_split(x, y, test_size=0.3, random_state=42, stratify=y)\n",
    "\n",
    "# Definir o modelo de Gaussian Process com um kernel RBF (Radial Basis Function)\n",
    "kernel = 1.0 * RBF(1.0)\n",
    "gpc_model = GaussianProcessClassifier(kernel=kernel, random_state=42)\n",
    "\n",
    "# Treinar o modelo\n",
    "gpc_model.fit(x_train, y_train)\n",
    "\n",
    "# Fazer previsões\n",
    "y_pred = gpc_model.predict(x_test)\n",
    "\n",
    "# Avaliar o modelo\n",
    "accuracy = accuracy_score(y_test, y_pred)\n",
    "report = classification_report(y_test, y_pred)\n",
    "conf_matrix = confusion_matrix(y_test, y_pred)\n",
    "\n",
    "print(f'Acurácia: {accuracy:.3f}')\n",
    "print('Relatório de Classificação:')\n",
    "print(report)\n",
    "print('Matriz de Confusão:')\n",
    "print(conf_matrix)\n",
    "\n",
    "# Exibir uma versão mais visual da matriz de confusão sem a colorbar\n",
    "labels = np.unique(y_test)  # Obter os rótulos únicos\n",
    "disp = ConfusionMatrixDisplay(confusion_matrix=conf_matrix, display_labels=labels)\n",
    "fig, ax = plt.subplots(figsize=(3, 3))\n",
    "disp.plot(cmap=plt.cm.PuRd, ax=ax, colorbar=False)\n",
    "plt.yticks(rotation=90, ha='center', va='center', fontsize=11)\n",
    "plt.xticks(fontsize=11)\n",
    "# Remover os rótulos dos eixos\n",
    "ax.set_xlabel('')\n",
    "ax.set_ylabel('')\n",
    "plt.title('Confusion Matrix - Gaussian Process', fontsize=12)\n",
    "plt.show()\n"
   ]
  }
 ],
 "metadata": {
  "kernelspec": {
   "display_name": "Python 3",
   "language": "python",
   "name": "python3"
  },
  "language_info": {
   "codemirror_mode": {
    "name": "ipython",
    "version": 3
   },
   "file_extension": ".py",
   "mimetype": "text/x-python",
   "name": "python",
   "nbconvert_exporter": "python",
   "pygments_lexer": "ipython3",
   "version": "3.10.12"
  },
  "orig_nbformat": 4,
  "vscode": {
   "interpreter": {
    "hash": "916dbcbb3f70747c44a77c7bcd40155683ae19c65e1c03b4aa3499c5328201f1"
   }
  }
 },
 "nbformat": 4,
 "nbformat_minor": 2
}
