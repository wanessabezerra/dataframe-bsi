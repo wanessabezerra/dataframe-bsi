{
 "cells": [
  {
   "cell_type": "code",
   "execution_count": 70,
   "metadata": {},
   "outputs": [],
   "source": [
    "import pandas as pd\n",
    "import matplotlib.pyplot as plt\n",
    "import numpy as np\n",
    "\n",
    "from sklearn.model_selection import train_test_split, cross_val_score\n",
    "from sklearn.metrics import accuracy_score, confusion_matrix, classification_report, roc_curve, auc, ConfusionMatrixDisplay "
   ]
  },
  {
   "cell_type": "code",
   "execution_count": 71,
   "metadata": {},
   "outputs": [
    {
     "data": {
      "text/plain": [
       "status\n",
       "-1.0    410\n",
       " 1.0    121\n",
       "Name: count, dtype: int64"
      ]
     },
     "execution_count": 71,
     "metadata": {},
     "output_type": "execute_result"
    }
   ],
   "source": [
    "df_dados = pd.read_csv('df_total.csv', sep=',')\n",
    "df_dados['status'].value_counts()"
   ]
  },
  {
   "cell_type": "code",
   "execution_count": 72,
   "metadata": {},
   "outputs": [],
   "source": [
    "\n",
    "description = ['ch_cumprida',\n",
    "                    'ch_cumprida_dividida', 'ch_reprovacao',\n",
    "                    'taxa_reprovacao', 'semestre_total', 'semestre_dividido', 'matricula',\n",
    "                      ]\n",
    "description = df_dados[description]"
   ]
  },
  {
   "cell_type": "code",
   "execution_count": null,
   "metadata": {},
   "outputs": [],
   "source": []
  },
  {
   "cell_type": "code",
   "execution_count": 73,
   "metadata": {},
   "outputs": [
    {
     "data": {
      "text/html": [
       "<div>\n",
       "<style scoped>\n",
       "    .dataframe tbody tr th:only-of-type {\n",
       "        vertical-align: middle;\n",
       "    }\n",
       "\n",
       "    .dataframe tbody tr th {\n",
       "        vertical-align: top;\n",
       "    }\n",
       "\n",
       "    .dataframe thead th {\n",
       "        text-align: right;\n",
       "    }\n",
       "</style>\n",
       "<table border=\"1\" class=\"dataframe\">\n",
       "  <thead>\n",
       "    <tr style=\"text-align: right;\">\n",
       "      <th></th>\n",
       "      <th>ch_cumprida</th>\n",
       "      <th>ch_cumprida_dividida</th>\n",
       "      <th>ch_reprovacao</th>\n",
       "      <th>taxa_reprovacao</th>\n",
       "      <th>semestre_total</th>\n",
       "      <th>semestre_dividido</th>\n",
       "      <th>matricula</th>\n",
       "    </tr>\n",
       "  </thead>\n",
       "  <tbody>\n",
       "    <tr>\n",
       "      <th>count</th>\n",
       "      <td>531.000000</td>\n",
       "      <td>531.000000</td>\n",
       "      <td>531.000000</td>\n",
       "      <td>531.000000</td>\n",
       "      <td>531.000000</td>\n",
       "      <td>531.000000</td>\n",
       "      <td>531.000000</td>\n",
       "    </tr>\n",
       "    <tr>\n",
       "      <th>mean</th>\n",
       "      <td>1270.451977</td>\n",
       "      <td>0.694331</td>\n",
       "      <td>307.570621</td>\n",
       "      <td>0.323277</td>\n",
       "      <td>5.677966</td>\n",
       "      <td>0.708832</td>\n",
       "      <td>19.604520</td>\n",
       "    </tr>\n",
       "    <tr>\n",
       "      <th>std</th>\n",
       "      <td>803.969740</td>\n",
       "      <td>0.439295</td>\n",
       "      <td>283.643299</td>\n",
       "      <td>0.319611</td>\n",
       "      <td>3.898217</td>\n",
       "      <td>0.488408</td>\n",
       "      <td>12.663493</td>\n",
       "    </tr>\n",
       "    <tr>\n",
       "      <th>min</th>\n",
       "      <td>60.000000</td>\n",
       "      <td>0.030000</td>\n",
       "      <td>0.000000</td>\n",
       "      <td>0.000000</td>\n",
       "      <td>1.000000</td>\n",
       "      <td>0.120000</td>\n",
       "      <td>1.000000</td>\n",
       "    </tr>\n",
       "    <tr>\n",
       "      <th>25%</th>\n",
       "      <td>420.000000</td>\n",
       "      <td>0.230000</td>\n",
       "      <td>60.000000</td>\n",
       "      <td>0.065000</td>\n",
       "      <td>2.000000</td>\n",
       "      <td>0.250000</td>\n",
       "      <td>6.000000</td>\n",
       "    </tr>\n",
       "    <tr>\n",
       "      <th>50%</th>\n",
       "      <td>1230.000000</td>\n",
       "      <td>0.670000</td>\n",
       "      <td>270.000000</td>\n",
       "      <td>0.230000</td>\n",
       "      <td>5.000000</td>\n",
       "      <td>0.620000</td>\n",
       "      <td>18.000000</td>\n",
       "    </tr>\n",
       "    <tr>\n",
       "      <th>75%</th>\n",
       "      <td>1950.000000</td>\n",
       "      <td>1.070000</td>\n",
       "      <td>450.000000</td>\n",
       "      <td>0.460000</td>\n",
       "      <td>9.000000</td>\n",
       "      <td>1.120000</td>\n",
       "      <td>30.000000</td>\n",
       "    </tr>\n",
       "    <tr>\n",
       "      <th>max</th>\n",
       "      <td>3210.000000</td>\n",
       "      <td>1.750000</td>\n",
       "      <td>1620.000000</td>\n",
       "      <td>1.000000</td>\n",
       "      <td>16.000000</td>\n",
       "      <td>2.000000</td>\n",
       "      <td>50.000000</td>\n",
       "    </tr>\n",
       "  </tbody>\n",
       "</table>\n",
       "</div>"
      ],
      "text/plain": [
       "       ch_cumprida  ch_cumprida_dividida  ch_reprovacao  taxa_reprovacao  \\\n",
       "count   531.000000            531.000000     531.000000       531.000000   \n",
       "mean   1270.451977              0.694331     307.570621         0.323277   \n",
       "std     803.969740              0.439295     283.643299         0.319611   \n",
       "min      60.000000              0.030000       0.000000         0.000000   \n",
       "25%     420.000000              0.230000      60.000000         0.065000   \n",
       "50%    1230.000000              0.670000     270.000000         0.230000   \n",
       "75%    1950.000000              1.070000     450.000000         0.460000   \n",
       "max    3210.000000              1.750000    1620.000000         1.000000   \n",
       "\n",
       "       semestre_total  semestre_dividido   matricula  \n",
       "count      531.000000         531.000000  531.000000  \n",
       "mean         5.677966           0.708832   19.604520  \n",
       "std          3.898217           0.488408   12.663493  \n",
       "min          1.000000           0.120000    1.000000  \n",
       "25%          2.000000           0.250000    6.000000  \n",
       "50%          5.000000           0.620000   18.000000  \n",
       "75%          9.000000           1.120000   30.000000  \n",
       "max         16.000000           2.000000   50.000000  "
      ]
     },
     "execution_count": 73,
     "metadata": {},
     "output_type": "execute_result"
    }
   ],
   "source": [
    "description.describe()"
   ]
  },
  {
   "cell_type": "code",
   "execution_count": 74,
   "metadata": {},
   "outputs": [],
   "source": [
    "# Substituir -1 por 'evade' e 1 por 'not evade' na coluna 'status'\n",
    "df_dados['status'] = df_dados['status'].replace({-1: 'evadido', 1: 'não evadido'})"
   ]
  },
  {
   "attachments": {},
   "cell_type": "markdown",
   "metadata": {},
   "source": [
    "# SVM"
   ]
  },
  {
   "cell_type": "code",
   "execution_count": 75,
   "metadata": {},
   "outputs": [
    {
     "name": "stdout",
     "output_type": "stream",
     "text": [
      "Acurácia do classificador SVM: 0.88125\n",
      "Matriz de confusão:\n",
      "[[111  13]\n",
      " [  6  30]]\n",
      "Relatório de classificação:\n",
      "              precision    recall  f1-score   support\n",
      "\n",
      "     evadido       0.95      0.90      0.92       124\n",
      " não evadido       0.70      0.83      0.76        36\n",
      "\n",
      "    accuracy                           0.88       160\n",
      "   macro avg       0.82      0.86      0.84       160\n",
      "weighted avg       0.89      0.88      0.88       160\n",
      "\n"
     ]
    },
    {
     "data": {
      "image/png": "[encoded data removed]",
      "text/plain": [
       "<Figure size 300x300 with 1 Axes>"
      ]
     },
     "metadata": {},
     "output_type": "display_data"
    }
   ],
   "source": [
    "from sklearn.svm import SVC\n",
    "\n",
    "# Filtrar as classes com mais de uma instância\n",
    "class_counts = df_dados['status'].value_counts()\n",
    "classes_to_keep = class_counts[class_counts > 1].index\n",
    "df_filtered = df_dados[df_dados['status'].isin(classes_to_keep)]\n",
    "\n",
    "# Separar as variáveis independentes e dependentes\n",
    "x = df_filtered.drop(columns=['status']).to_numpy()\n",
    "y = df_filtered['status'].to_numpy()\n",
    "\n",
    "# Dividir os dados em conjuntos de treino e teste\n",
    "X_train, X_test, y_train, y_test = train_test_split(x, y, test_size=0.3, random_state=42, stratify=y)\n",
    "\n",
    "# Treinar o classificador SVM\n",
    "classifier = SVC(kernel='linear', C=1)\n",
    "classifier.fit(X_train, y_train)\n",
    "\n",
    "# Fazer previsões no conjunto de teste\n",
    "y_pred = classifier.predict(X_test)\n",
    "\n",
    "# Avaliar a precisão do classificador\n",
    "accuracy = accuracy_score(y_test, y_pred)\n",
    "print(\"Acurácia do classificador SVM:\", accuracy)\n",
    "\n",
    "# Exibir a matriz de confusão\n",
    "conf_matrix = confusion_matrix(y_test, y_pred)\n",
    "print(\"Matriz de confusão:\")\n",
    "print(conf_matrix)\n",
    "\n",
    "# Exibir o relatório de classificação\n",
    "class_report = classification_report(y_test, y_pred)\n",
    "print(\"Relatório de classificação:\")\n",
    "print(class_report)\n",
    "# Exibir uma versão mais visual da matriz de confusão sem a colorbar\n",
    "labels = np.unique(y_test)  # Obter os rótulos únicos\n",
    "disp = ConfusionMatrixDisplay(confusion_matrix=conf_matrix, display_labels=labels)\n",
    "fig, ax = plt.subplots(figsize=(3, 3))\n",
    "disp.plot(cmap=plt.cm.PuRd, ax=ax, colorbar=False)\n",
    "plt.yticks(rotation=90, ha='center', va='center', fontsize=11)\n",
    "plt.xticks(fontsize=11)\n",
    "# Remover os rótulos dos eixos\n",
    "ax.set_xlabel('')\n",
    "ax.set_ylabel('')\n",
    "plt.title('SVM - A', fontsize=12)\n",
    "plt.show()\n"
   ]
  },
  {
   "attachments": {},
   "cell_type": "markdown",
   "metadata": {},
   "source": [
    "# Regressão Logística "
   ]
  },
  {
   "cell_type": "code",
   "execution_count": 76,
   "metadata": {},
   "outputs": [
    {
     "name": "stdout",
     "output_type": "stream",
     "text": [
      "Matriz de confusão:\n",
      "[[111  13]\n",
      " [  8  28]]\n",
      "Accuracy: 0.86875\n",
      "Classification Report:\n",
      "              precision    recall  f1-score   support\n",
      "\n",
      "     evadido       0.93      0.90      0.91       124\n",
      " não evadido       0.68      0.78      0.73        36\n",
      "\n",
      "    accuracy                           0.87       160\n",
      "   macro avg       0.81      0.84      0.82       160\n",
      "weighted avg       0.88      0.87      0.87       160\n",
      "\n",
      "Cross-Validation Scores: [nan nan nan nan nan]\n",
      "Mean Cross-Validation Score: nan\n",
      "Relatório de classificação:\n",
      "              precision    recall  f1-score   support\n",
      "\n",
      "     evadido       0.93      0.90      0.91       124\n",
      " não evadido       0.68      0.78      0.73        36\n",
      "\n",
      "    accuracy                           0.87       160\n",
      "   macro avg       0.81      0.84      0.82       160\n",
      "weighted avg       0.88      0.87      0.87       160\n",
      "\n"
     ]
    },
    {
     "name": "stderr",
     "output_type": "stream",
     "text": [
      "/home/wanessa/.local/lib/python3.10/site-packages/sklearn/model_selection/_validation.py:1011: UserWarning: Scoring failed. The score on this train-test partition for these parameters will be set to nan. Details: \n",
      "Traceback (most recent call last):\n",
      "  File \"/home/wanessa/.local/lib/python3.10/site-packages/sklearn/metrics/_scorer.py\", line 137, in __call__\n",
      "    score = scorer._score(\n",
      "  File \"/home/wanessa/.local/lib/python3.10/site-packages/sklearn/metrics/_scorer.py\", line 345, in _score\n",
      "    y_pred = method_caller(\n",
      "  File \"/home/wanessa/.local/lib/python3.10/site-packages/sklearn/metrics/_scorer.py\", line 87, in _cached_call\n",
      "    result, _ = _get_response_values(\n",
      "  File \"/home/wanessa/.local/lib/python3.10/site-packages/sklearn/utils/_response.py\", line 203, in _get_response_values\n",
      "    raise ValueError(\n",
      "ValueError: pos_label=1 is not a valid label: It should be one of ['evadido' 'não evadido']\n",
      "\n",
      "  warnings.warn(\n",
      "/home/wanessa/.local/lib/python3.10/site-packages/sklearn/model_selection/_validation.py:1011: UserWarning: Scoring failed. The score on this train-test partition for these parameters will be set to nan. Details: \n",
      "Traceback (most recent call last):\n",
      "  File \"/home/wanessa/.local/lib/python3.10/site-packages/sklearn/metrics/_scorer.py\", line 137, in __call__\n",
      "    score = scorer._score(\n",
      "  File \"/home/wanessa/.local/lib/python3.10/site-packages/sklearn/metrics/_scorer.py\", line 345, in _score\n",
      "    y_pred = method_caller(\n",
      "  File \"/home/wanessa/.local/lib/python3.10/site-packages/sklearn/metrics/_scorer.py\", line 87, in _cached_call\n",
      "    result, _ = _get_response_values(\n",
      "  File \"/home/wanessa/.local/lib/python3.10/site-packages/sklearn/utils/_response.py\", line 203, in _get_response_values\n",
      "    raise ValueError(\n",
      "ValueError: pos_label=1 is not a valid label: It should be one of ['evadido' 'não evadido']\n",
      "\n",
      "  warnings.warn(\n",
      "/home/wanessa/.local/lib/python3.10/site-packages/sklearn/model_selection/_validation.py:1011: UserWarning: Scoring failed. The score on this train-test partition for these parameters will be set to nan. Details: \n",
      "Traceback (most recent call last):\n",
      "  File \"/home/wanessa/.local/lib/python3.10/site-packages/sklearn/metrics/_scorer.py\", line 137, in __call__\n",
      "    score = scorer._score(\n",
      "  File \"/home/wanessa/.local/lib/python3.10/site-packages/sklearn/metrics/_scorer.py\", line 345, in _score\n",
      "    y_pred = method_caller(\n",
      "  File \"/home/wanessa/.local/lib/python3.10/site-packages/sklearn/metrics/_scorer.py\", line 87, in _cached_call\n",
      "    result, _ = _get_response_values(\n",
      "  File \"/home/wanessa/.local/lib/python3.10/site-packages/sklearn/utils/_response.py\", line 203, in _get_response_values\n",
      "    raise ValueError(\n",
      "ValueError: pos_label=1 is not a valid label: It should be one of ['evadido' 'não evadido']\n",
      "\n",
      "  warnings.warn(\n",
      "/home/wanessa/.local/lib/python3.10/site-packages/sklearn/model_selection/_validation.py:1011: UserWarning: Scoring failed. The score on this train-test partition for these parameters will be set to nan. Details: \n",
      "Traceback (most recent call last):\n",
      "  File \"/home/wanessa/.local/lib/python3.10/site-packages/sklearn/metrics/_scorer.py\", line 137, in __call__\n",
      "    score = scorer._score(\n",
      "  File \"/home/wanessa/.local/lib/python3.10/site-packages/sklearn/metrics/_scorer.py\", line 345, in _score\n",
      "    y_pred = method_caller(\n",
      "  File \"/home/wanessa/.local/lib/python3.10/site-packages/sklearn/metrics/_scorer.py\", line 87, in _cached_call\n",
      "    result, _ = _get_response_values(\n",
      "  File \"/home/wanessa/.local/lib/python3.10/site-packages/sklearn/utils/_response.py\", line 203, in _get_response_values\n",
      "    raise ValueError(\n",
      "ValueError: pos_label=1 is not a valid label: It should be one of ['evadido' 'não evadido']\n",
      "\n",
      "  warnings.warn(\n",
      "/home/wanessa/.local/lib/python3.10/site-packages/sklearn/model_selection/_validation.py:1011: UserWarning: Scoring failed. The score on this train-test partition for these parameters will be set to nan. Details: \n",
      "Traceback (most recent call last):\n",
      "  File \"/home/wanessa/.local/lib/python3.10/site-packages/sklearn/metrics/_scorer.py\", line 137, in __call__\n",
      "    score = scorer._score(\n",
      "  File \"/home/wanessa/.local/lib/python3.10/site-packages/sklearn/metrics/_scorer.py\", line 345, in _score\n",
      "    y_pred = method_caller(\n",
      "  File \"/home/wanessa/.local/lib/python3.10/site-packages/sklearn/metrics/_scorer.py\", line 87, in _cached_call\n",
      "    result, _ = _get_response_values(\n",
      "  File \"/home/wanessa/.local/lib/python3.10/site-packages/sklearn/utils/_response.py\", line 203, in _get_response_values\n",
      "    raise ValueError(\n",
      "ValueError: pos_label=1 is not a valid label: It should be one of ['evadido' 'não evadido']\n",
      "\n",
      "  warnings.warn(\n"
     ]
    },
    {
     "data": {
      "image/png": "[encoded data removed]",
      "text/plain": [
       "<Figure size 300x300 with 1 Axes>"
      ]
     },
     "metadata": {},
     "output_type": "display_data"
    }
   ],
   "source": [
    "import pandas as pd\n",
    "from sklearn.linear_model import LogisticRegression\n",
    "from sklearn.model_selection import train_test_split\n",
    "from sklearn.metrics import accuracy_score, confusion_matrix, classification_report, f1_score\n",
    "\n",
    "\n",
    "# Filtrar as classes com mais de uma instância\n",
    "class_counts = df_dados['status'].value_counts()\n",
    "classes_to_keep = class_counts[class_counts > 1].index\n",
    "df_filtered = df_dados[df_dados['status'].isin(classes_to_keep)]\n",
    "\n",
    "# Separar as variáveis independentes e dependentes\n",
    "X = df_filtered.drop(columns=['status']).to_numpy()\n",
    "y = df_filtered['status'].to_numpy()\n",
    "\n",
    "\n",
    "# Dividir os dados em conjuntos de treino e teste\n",
    "X_train, X_test, y_train, y_test = train_test_split(X, y, test_size=0.3, random_state=42, stratify=y)\n",
    "\n",
    "# Criar e treinar o modelo de Regressão Logística com o solver liblinear\n",
    "model = LogisticRegression(max_iter=2000, solver='liblinear', C=1.0)\n",
    "model.fit(X_train, y_train)\n",
    "\n",
    "# Fazer previsões no conjunto de teste\n",
    "y_pred = model.predict(X_test)\n",
    "\n",
    "# Avaliar o modelo\n",
    "accuracy = accuracy_score(y_test, y_pred)\n",
    "report = classification_report(y_test, y_pred)\n",
    "\n",
    "# Exibir a matriz de confusão\n",
    "conf_matrix = confusion_matrix(y_test, y_pred)\n",
    "print(\"Matriz de confusão:\")\n",
    "print(conf_matrix)\n",
    "\n",
    "# Validação cruzada\n",
    "cv_scores = cross_val_score(model, X, y, cv=5, scoring='f1')\n",
    "\n",
    "print(f\"Accuracy: {accuracy}\")\n",
    "print(\"Classification Report:\")\n",
    "print(report)\n",
    "print(f\"Cross-Validation Scores: {cv_scores}\")\n",
    "print(f\"Mean Cross-Validation Score: {cv_scores.mean()}\")\n",
    "\n",
    "# Exibir o relatório de classificação\n",
    "class_report = classification_report(y_test, y_pred)\n",
    "print(\"Relatório de classificação:\")\n",
    "print(class_report)\n",
    "# Exibir uma versão mais visual da matriz de confusão sem a colorbar\n",
    "labels = np.unique(y_test)  # Obter os rótulos únicos\n",
    "disp = ConfusionMatrixDisplay(confusion_matrix=conf_matrix, display_labels=labels)\n",
    "fig, ax = plt.subplots(figsize=(3, 3))\n",
    "disp.plot(cmap=plt.cm.PuRd, ax=ax, colorbar=False)\n",
    "plt.yticks(rotation=90, ha='center', va='center', fontsize=11)\n",
    "plt.xticks(fontsize=11)\n",
    "# Remover os rótulos dos eixos\n",
    "ax.set_xlabel('')\n",
    "ax.set_ylabel('')\n",
    "plt.title('Regression Logistic - A', fontsize=12)\n",
    "plt.show()"
   ]
  },
  {
   "attachments": {},
   "cell_type": "markdown",
   "metadata": {},
   "source": [
    "# Decision Tree"
   ]
  },
  {
   "cell_type": "code",
   "execution_count": 77,
   "metadata": {},
   "outputs": [
    {
     "name": "stdout",
     "output_type": "stream",
     "text": [
      "Matriz de confusão:\n",
      "[[117   7]\n",
      " [  8  28]]\n",
      "Accuracy: 0.90625\n",
      "Classification Report:\n",
      "              precision    recall  f1-score   support\n",
      "\n",
      "     evadido       0.94      0.94      0.94       124\n",
      " não evadido       0.80      0.78      0.79        36\n",
      "\n",
      "    accuracy                           0.91       160\n",
      "   macro avg       0.87      0.86      0.86       160\n",
      "weighted avg       0.91      0.91      0.91       160\n",
      "\n"
     ]
    },
    {
     "data": {
      "image/png": "[encoded data removed]",
      "text/plain": [
       "<Figure size 300x300 with 1 Axes>"
      ]
     },
     "metadata": {},
     "output_type": "display_data"
    }
   ],
   "source": [
    "from sklearn.tree import DecisionTreeClassifier\n",
    "\n",
    "\n",
    "# Filtrar as classes com mais de uma instância\n",
    "class_counts = df_dados['status'].value_counts()\n",
    "classes_to_keep = class_counts[class_counts > 1].index\n",
    "df_filtered = df_dados[df_dados['status'].isin(classes_to_keep)]\n",
    "\n",
    "# Separar as variáveis independentes e dependentes\n",
    "X = df_filtered.drop(columns=['status']).to_numpy()\n",
    "y = df_filtered['status'].to_numpy()\n",
    "\n",
    "# Dividir os dados em conjuntos de treino e teste\n",
    "X_train, X_test, y_train, y_test = train_test_split(X, y, test_size=0.3, random_state=42, stratify=y)\n",
    "\n",
    "# Criar e treinar o modelo de Árvore de Decisão\n",
    "model = DecisionTreeClassifier(random_state=42)\n",
    "model.fit(X_train, y_train)\n",
    "\n",
    "# Fazer previsões no conjunto de teste\n",
    "y_pred = model.predict(X_test)\n",
    "\n",
    "# Exibir a matriz de confusão\n",
    "conf_matrix = confusion_matrix(y_test, y_pred)\n",
    "print(\"Matriz de confusão:\")\n",
    "print(conf_matrix)\n",
    "\n",
    "# Avaliar o modelo\n",
    "accuracy = accuracy_score(y_test, y_pred)\n",
    "report = classification_report(y_test, y_pred)\n",
    "\n",
    "print(f\"Accuracy: {accuracy}\")\n",
    "print(\"Classification Report:\")\n",
    "print(report)\n",
    "\n",
    "# Exibir uma versão mais visual da matriz de confusão sem a colorbar\n",
    "labels = np.unique(y_test)  # Obter os rótulos únicos\n",
    "disp = ConfusionMatrixDisplay(confusion_matrix=conf_matrix, display_labels=labels)\n",
    "fig, ax = plt.subplots(figsize=(3, 3))\n",
    "disp.plot(cmap=plt.cm.PuRd, ax=ax, colorbar=False)\n",
    "plt.yticks(rotation=90, ha='center', va='center', fontsize=11)\n",
    "plt.xticks(fontsize=11)\n",
    "# Remover os rótulos dos eixos\n",
    "ax.set_xlabel('')\n",
    "ax.set_ylabel('')\n",
    "plt.title('Árvore de Decisão - B', fontsize=12)\n",
    "plt.show()"
   ]
  },
  {
   "attachments": {},
   "cell_type": "markdown",
   "metadata": {},
   "source": [
    "# Random Forest"
   ]
  },
  {
   "cell_type": "code",
   "execution_count": 78,
   "metadata": {},
   "outputs": [
    {
     "name": "stdout",
     "output_type": "stream",
     "text": [
      "Matriz de confusão:\n",
      "[[116   8]\n",
      " [  5  31]]\n",
      "Acurácia: 0.91875\n",
      "Relatório de Classificação:\n",
      "              precision    recall  f1-score   support\n",
      "\n",
      "     evadido       0.96      0.94      0.95       124\n",
      " não evadido       0.79      0.86      0.83        36\n",
      "\n",
      "    accuracy                           0.92       160\n",
      "   macro avg       0.88      0.90      0.89       160\n",
      "weighted avg       0.92      0.92      0.92       160\n",
      "\n"
     ]
    },
    {
     "data": {
      "image/png": "[encoded data removed]",
      "text/plain": [
       "<Figure size 300x300 with 1 Axes>"
      ]
     },
     "metadata": {},
     "output_type": "display_data"
    }
   ],
   "source": [
    "from sklearn.ensemble import RandomForestClassifier\n",
    "\n",
    "# Filtrar as classes com mais de uma instância\n",
    "class_counts = df_dados['status'].value_counts()\n",
    "classes_to_keep = class_counts[class_counts > 1].index\n",
    "df_filtered = df_dados[df_dados['status'].isin(classes_to_keep)]\n",
    "\n",
    "# Separar as variáveis independentes e dependentes\n",
    "x = df_filtered.drop(columns=['status']).to_numpy()\n",
    "y = df_filtered['status'].to_numpy()\n",
    "\n",
    "# Dividir os dados em conjunto de treinamento e teste\n",
    "x_train, x_test, y_train, y_test = train_test_split(x, y, test_size=0.3, random_state=42, stratify=y)\n",
    "\n",
    "# Treinar o modelo de Random Forests\n",
    "rf_model = RandomForestClassifier(n_estimators=100, random_state=42)\n",
    "rf_model.fit(x_train, y_train)\n",
    "\n",
    "# Fazer previsões\n",
    "y_pred = rf_model.predict(x_test)\n",
    "\n",
    "# Exibir a matriz de confusão\n",
    "conf_matrix = confusion_matrix(y_test, y_pred)\n",
    "print(\"Matriz de confusão:\")\n",
    "print(conf_matrix)\n",
    "\n",
    "# Avaliar o modelo\n",
    "accuracy = accuracy_score(y_test, y_pred)\n",
    "report = classification_report(y_test, y_pred)\n",
    "\n",
    "print(f'Acurácia: {accuracy}')\n",
    "print('Relatório de Classificação:')\n",
    "print(report)\n",
    "\n",
    "# Exibir uma versão mais visual da matriz de confusão sem a colorbar\n",
    "labels = np.unique(y_test)  # Obter os rótulos únicos\n",
    "disp = ConfusionMatrixDisplay(confusion_matrix=conf_matrix, display_labels=labels)\n",
    "fig, ax = plt.subplots(figsize=(3, 3))\n",
    "disp.plot(cmap=plt.cm.PuRd, ax=ax, colorbar=False)\n",
    "plt.yticks(rotation=90, ha='center', va='center',fontsize=11)\n",
    "plt.xticks(fontsize=11)\n",
    "# Remover os rótulos dos eixos\n",
    "ax.set_xlabel('')\n",
    "ax.set_ylabel('')\n",
    "plt.title('Random Forest - A',fontsize=12)\n",
    "plt.show()\n"
   ]
  },
  {
   "attachments": {},
   "cell_type": "markdown",
   "metadata": {},
   "source": [
    "# Naive Bayes"
   ]
  },
  {
   "cell_type": "code",
   "execution_count": 79,
   "metadata": {},
   "outputs": [
    {
     "name": "stdout",
     "output_type": "stream",
     "text": [
      "Matriz de confusão:\n",
      "[[91 33]\n",
      " [ 1 35]]\n",
      "Acurácia: 0.7875\n",
      "Relatório de Classificação:\n",
      "              precision    recall  f1-score   support\n",
      "\n",
      "     evadido       0.99      0.73      0.84       124\n",
      " não evadido       0.51      0.97      0.67        36\n",
      "\n",
      "    accuracy                           0.79       160\n",
      "   macro avg       0.75      0.85      0.76       160\n",
      "weighted avg       0.88      0.79      0.80       160\n",
      "\n"
     ]
    },
    {
     "data": {
      "image/png": "[encoded data removed]",
      "text/plain": [
       "<Figure size 300x300 with 1 Axes>"
      ]
     },
     "metadata": {},
     "output_type": "display_data"
    }
   ],
   "source": [
    "from sklearn.naive_bayes import GaussianNB\n",
    "\n",
    "# Filtrar as classes com mais de uma instância\n",
    "class_counts = df_dados['status'].value_counts()\n",
    "classes_to_keep = class_counts[class_counts > 1].index\n",
    "df_filtered = df_dados[df_dados['status'].isin(classes_to_keep)]\n",
    "\n",
    "# Separar as variáveis independentes e dependentes\n",
    "x = df_filtered.drop(columns=['status']).to_numpy()\n",
    "y = df_filtered['status'].to_numpy()\n",
    "\n",
    "# Dividir os dados em conjunto de treinamento e teste\n",
    "x_train, x_test, y_train, y_test = train_test_split(x, y, test_size=0.3, random_state=42, stratify=y)\n",
    "\n",
    "# Treinar o modelo de Naive Bayes\n",
    "nb_model = GaussianNB()\n",
    "nb_model.fit(x_train, y_train)\n",
    "\n",
    "# Fazer previsões\n",
    "y_pred = nb_model.predict(x_test)\n",
    "\n",
    "# Exibir a matriz de confusão\n",
    "conf_matrix = confusion_matrix(y_test, y_pred)\n",
    "print(\"Matriz de confusão:\")\n",
    "print(conf_matrix)\n",
    "\n",
    "# Avaliar o modelo\n",
    "accuracy = accuracy_score(y_test, y_pred)\n",
    "report = classification_report(y_test, y_pred)\n",
    "\n",
    "print(f'Acurácia: {accuracy}')\n",
    "print('Relatório de Classificação:')\n",
    "print(report)\n",
    "\n",
    "# Exibir uma versão mais visual da matriz de confusão sem a colorbar\n",
    "labels = np.unique(y_test)  # Obter os rótulos únicos\n",
    "disp = ConfusionMatrixDisplay(confusion_matrix=conf_matrix, display_labels=labels)\n",
    "fig, ax = plt.subplots(figsize=(3, 3))\n",
    "disp.plot(cmap=plt.cm.PuRd, ax=ax, colorbar=False)\n",
    "plt.yticks(rotation=90, ha='center', va='center', fontsize=11)\n",
    "plt.xticks(fontsize=11)\n",
    "# Remover os rótulos dos eixos\n",
    "ax.set_xlabel('')\n",
    "ax.set_ylabel('')\n",
    "plt.title('Naive Bayes - B', fontsize=12)\n",
    "plt.show()\n"
   ]
  },
  {
   "attachments": {},
   "cell_type": "markdown",
   "metadata": {},
   "source": [
    "# K-Nearest Neighbors"
   ]
  },
  {
   "cell_type": "code",
   "execution_count": 80,
   "metadata": {},
   "outputs": [
    {
     "name": "stdout",
     "output_type": "stream",
     "text": [
      "Acurácia: 0.875\n",
      "Relatório de Classificação:\n",
      "              precision    recall  f1-score   support\n",
      "\n",
      "     evadido       0.93      0.91      0.92       124\n",
      " não evadido       0.71      0.75      0.73        36\n",
      "\n",
      "    accuracy                           0.88       160\n",
      "   macro avg       0.82      0.83      0.82       160\n",
      "weighted avg       0.88      0.88      0.88       160\n",
      "\n",
      "Matriz de Confusão:\n",
      "[[113  11]\n",
      " [  9  27]]\n"
     ]
    },
    {
     "data": {
      "image/png": "[encoded data removed]",
      "text/plain": [
       "<Figure size 300x300 with 1 Axes>"
      ]
     },
     "metadata": {},
     "output_type": "display_data"
    }
   ],
   "source": [
    "from sklearn.neighbors import KNeighborsClassifier\n",
    "\n",
    "# Filtrar as classes com mais de uma instância\n",
    "class_counts = df_dados['status'].value_counts()\n",
    "classes_to_keep = class_counts[class_counts > 1].index\n",
    "df_filtered = df_dados[df_dados['status'].isin(classes_to_keep)]\n",
    "\n",
    "# Separar as variáveis independentes e dependentes\n",
    "x = df_filtered.drop(columns=['status']).to_numpy()\n",
    "y = df_filtered['status'].to_numpy()\n",
    "\n",
    "# Dividir os dados em conjunto de treinamento e teste\n",
    "x_train, x_test, y_train, y_test = train_test_split(x, y, test_size=0.3, random_state=42, stratify=y)\n",
    "\n",
    "# Treinar o modelo de K-NN\n",
    "knn_model = KNeighborsClassifier(n_neighbors=5)\n",
    "knn_model.fit(x_train, y_train)\n",
    "\n",
    "# Fazer previsões\n",
    "y_pred = knn_model.predict(x_test)\n",
    "\n",
    "# Avaliar o modelo\n",
    "accuracy = accuracy_score(y_test, y_pred)\n",
    "report = classification_report(y_test, y_pred)\n",
    "conf_matrix = confusion_matrix(y_test, y_pred)\n",
    "\n",
    "print(f'Acurácia: {accuracy}')\n",
    "print('Relatório de Classificação:')\n",
    "print(report)\n",
    "print('Matriz de Confusão:')\n",
    "print(conf_matrix)\n",
    "\n",
    "# Exibir uma versão mais visual da matriz de confusão sem a colorbar\n",
    "labels = np.unique(y_test)  # Obter os rótulos únicos\n",
    "disp = ConfusionMatrixDisplay(confusion_matrix=conf_matrix, display_labels=labels)\n",
    "fig, ax = plt.subplots(figsize=(3, 3))\n",
    "disp.plot(cmap=plt.cm.PuRd, ax=ax, colorbar=False)\n",
    "plt.yticks(rotation=90, ha='center', va='center',fontsize=11)\n",
    "plt.xticks(fontsize=11)\n",
    "# Remover os rótulos dos eixos\n",
    "ax.set_xlabel('')\n",
    "ax.set_ylabel('')\n",
    "plt.title('K-NN - A', fontsize=12)\n",
    "plt.show()"
   ]
  },
  {
   "attachments": {},
   "cell_type": "markdown",
   "metadata": {},
   "source": [
    "# AdaBoost"
   ]
  },
  {
   "cell_type": "code",
   "execution_count": 81,
   "metadata": {},
   "outputs": [
    {
     "name": "stdout",
     "output_type": "stream",
     "text": [
      "Acurácia: 0.894\n",
      "Relatório de Classificação:\n",
      "              precision    recall  f1-score   support\n",
      "\n",
      "     evadido       0.95      0.91      0.93       124\n",
      " não evadido       0.73      0.83      0.78        36\n",
      "\n",
      "    accuracy                           0.89       160\n",
      "   macro avg       0.84      0.87      0.85       160\n",
      "weighted avg       0.90      0.89      0.90       160\n",
      "\n",
      "Matriz de Confusão:\n",
      "[[113  11]\n",
      " [  6  30]]\n"
     ]
    },
    {
     "data": {
      "image/png": "[encoded data removed]",
      "text/plain": [
       "<Figure size 300x300 with 1 Axes>"
      ]
     },
     "metadata": {},
     "output_type": "display_data"
    }
   ],
   "source": [
    "from sklearn.ensemble import AdaBoostClassifier\n",
    "\n",
    "# Filtrar as classes com mais de uma instância\n",
    "class_counts = df_dados['status'].value_counts()\n",
    "classes_to_keep = class_counts[class_counts > 1].index\n",
    "df_filtered = df_dados[df_dados['status'].isin(classes_to_keep)]\n",
    "\n",
    "# Separar as variáveis independentes e dependentes\n",
    "x = df_filtered.drop(columns=['status']).to_numpy()\n",
    "y = df_filtered['status'].to_numpy()\n",
    "\n",
    "# Dividir os dados em conjunto de treinamento e teste\n",
    "x_train, x_test, y_train, y_test = train_test_split(x, y, test_size=0.3, random_state=42, stratify=y)\n",
    "\n",
    "# Treinar o modelo de AdaBoost com o algoritmo SAMME\n",
    "adaboost_model = AdaBoostClassifier(n_estimators=50, algorithm='SAMME', random_state=42)\n",
    "adaboost_model.fit(x_train, y_train)\n",
    "\n",
    "# Fazer previsões\n",
    "y_pred = adaboost_model.predict(x_test)\n",
    "\n",
    "# Avaliar o modelo\n",
    "accuracy = accuracy_score(y_test, y_pred)\n",
    "report = classification_report(y_test, y_pred)\n",
    "conf_matrix = confusion_matrix(y_test, y_pred)\n",
    "\n",
    "print(f'Acurácia: {accuracy:.3f}')\n",
    "print('Relatório de Classificação:')\n",
    "print(report)\n",
    "print('Matriz de Confusão:')\n",
    "print(conf_matrix)\n",
    "\n",
    "# Exibir uma versão mais visual da matriz de confusão sem a colorbar\n",
    "labels = np.unique(y_test)  # Obter os rótulos únicos\n",
    "disp = ConfusionMatrixDisplay(confusion_matrix=conf_matrix, display_labels=labels)\n",
    "fig, ax = plt.subplots(figsize=(3, 3))\n",
    "disp.plot(cmap=plt.cm.PuRd, ax=ax, colorbar=False)\n",
    "plt.yticks(rotation=90, ha='center', va='center', fontsize=11)\n",
    "plt.xticks(fontsize=11)\n",
    "# Remover os rótulos dos eixos\n",
    "ax.set_xlabel('')\n",
    "ax.set_ylabel('')\n",
    "plt.title('AdaBoost - B', fontsize=12)\n",
    "plt.show()\n"
   ]
  },
  {
   "attachments": {},
   "cell_type": "markdown",
   "metadata": {},
   "source": [
    "# Neural Net"
   ]
  },
  {
   "cell_type": "code",
   "execution_count": 82,
   "metadata": {},
   "outputs": [
    {
     "name": "stdout",
     "output_type": "stream",
     "text": [
      "Acurácia: 0.887\n",
      "Relatório de Classificação:\n",
      "              precision    recall  f1-score   support\n",
      "\n",
      "     evadido       0.98      0.87      0.92       124\n",
      " não evadido       0.68      0.94      0.79        36\n",
      "\n",
      "    accuracy                           0.89       160\n",
      "   macro avg       0.83      0.91      0.86       160\n",
      "weighted avg       0.91      0.89      0.89       160\n",
      "\n",
      "Matriz de Confusão:\n",
      "[[108  16]\n",
      " [  2  34]]\n"
     ]
    },
    {
     "data": {
      "image/png": "[encoded data removed]",
      "text/plain": [
       "<Figure size 300x300 with 1 Axes>"
      ]
     },
     "metadata": {},
     "output_type": "display_data"
    }
   ],
   "source": [
    "from sklearn.neural_network import MLPClassifier\n",
    "\n",
    "# Filtrar as classes com mais de uma instância\n",
    "class_counts = df_dados['status'].value_counts()\n",
    "classes_to_keep = class_counts[class_counts > 1].index\n",
    "df_filtered = df_dados[df_dados['status'].isin(classes_to_keep)]\n",
    "\n",
    "# Separar as variáveis independentes e dependentes\n",
    "x = df_filtered.drop(columns=['status']).to_numpy()\n",
    "y = df_filtered['status'].to_numpy()\n",
    "\n",
    "# Dividir os dados em conjunto de treinamento e teste\n",
    "x_train, x_test, y_train, y_test = train_test_split(x, y, test_size=0.3, random_state=42, stratify=y)\n",
    "\n",
    "\n",
    "# Definir e treinar o modelo de rede neural\n",
    "mlp_model = MLPClassifier(hidden_layer_sizes=(100,), max_iter=500, random_state=42)\n",
    "mlp_model.fit(x_train, y_train)\n",
    "\n",
    "# Fazer previsões\n",
    "y_pred = mlp_model.predict(x_test)\n",
    "\n",
    "# Avaliar o modelo\n",
    "accuracy = accuracy_score(y_test, y_pred)\n",
    "report = classification_report(y_test, y_pred)\n",
    "conf_matrix = confusion_matrix(y_test, y_pred)\n",
    "\n",
    "print(f'Acurácia: {accuracy:.3f}')\n",
    "print('Relatório de Classificação:')\n",
    "print(report)\n",
    "print('Matriz de Confusão:')\n",
    "print(conf_matrix)\n",
    "\n",
    "# Exibir uma versão mais visual da matriz de confusão sem a colorbar\n",
    "labels = np.unique(y_test)  # Obter os rótulos únicos\n",
    "disp = ConfusionMatrixDisplay(confusion_matrix=conf_matrix, display_labels=labels)\n",
    "fig, ax = plt.subplots(figsize=(3, 3))\n",
    "disp.plot(cmap=plt.cm.PuRd, ax=ax, colorbar=False)\n",
    "plt.yticks(rotation=90, ha='center', va='center', fontsize=11)\n",
    "plt.xticks(fontsize=11)\n",
    "# Remover os rótulos dos eixos\n",
    "ax.set_xlabel('')\n",
    "ax.set_ylabel('')\n",
    "plt.title('Neural Net - A', fontsize=12)\n",
    "plt.show()"
   ]
  },
  {
   "attachments": {},
   "cell_type": "markdown",
   "metadata": {},
   "source": [
    "# QDA"
   ]
  },
  {
   "cell_type": "code",
   "execution_count": 83,
   "metadata": {},
   "outputs": [
    {
     "name": "stdout",
     "output_type": "stream",
     "text": [
      "Acurácia: 0.919\n",
      "Relatório de Classificação:\n",
      "              precision    recall  f1-score   support\n",
      "\n",
      "     evadido       0.99      0.90      0.95       124\n",
      " não evadido       0.74      0.97      0.84        36\n",
      "\n",
      "    accuracy                           0.92       160\n",
      "   macro avg       0.87      0.94      0.89       160\n",
      "weighted avg       0.94      0.92      0.92       160\n",
      "\n",
      "Matriz de Confusão:\n",
      "[[112  12]\n",
      " [  1  35]]\n"
     ]
    },
    {
     "data": {
      "image/png": "[encoded data removed]",
      "text/plain": [
       "<Figure size 300x300 with 1 Axes>"
      ]
     },
     "metadata": {},
     "output_type": "display_data"
    }
   ],
   "source": [
    "from sklearn.discriminant_analysis import QuadraticDiscriminantAnalysis\n",
    "\n",
    "# Filtrar as classes com mais de uma instância\n",
    "class_counts = df_dados['status'].value_counts()\n",
    "classes_to_keep = class_counts[class_counts > 1].index\n",
    "df_filtered = df_dados[df_dados['status'].isin(classes_to_keep)]\n",
    "\n",
    "# Separar as variáveis independentes e dependentes\n",
    "x = df_filtered.drop(columns=['status']).to_numpy()\n",
    "y = df_filtered['status'].to_numpy()\n",
    "\n",
    "# Dividir os dados em conjunto de treinamento e teste\n",
    "x_train, x_test, y_train, y_test = train_test_split(x, y, test_size=0.3, random_state=42, stratify=y)\n",
    "\n",
    "# Treinar o modelo de QDA\n",
    "qda_model = QuadraticDiscriminantAnalysis()\n",
    "qda_model.fit(x_train, y_train)\n",
    "\n",
    "# Fazer previsões\n",
    "y_pred = qda_model.predict(x_test)\n",
    "\n",
    "# Avaliar o modelo\n",
    "accuracy = accuracy_score(y_test, y_pred)\n",
    "report = classification_report(y_test, y_pred)\n",
    "conf_matrix = confusion_matrix(y_test, y_pred)\n",
    "\n",
    "print(f'Acurácia: {accuracy:.3f}')\n",
    "print('Relatório de Classificação:')\n",
    "print(report)\n",
    "print('Matriz de Confusão:')\n",
    "print(conf_matrix)\n",
    "\n",
    "# Exibir uma versão mais visual da matriz de confusão sem a colorbar\n",
    "labels = np.unique(y_test)  # Obter os rótulos únicos\n",
    "disp = ConfusionMatrixDisplay(confusion_matrix=conf_matrix, display_labels=labels)\n",
    "fig, ax = plt.subplots(figsize=(3, 3))\n",
    "disp.plot(cmap=plt.cm.PuRd, ax=ax, colorbar=False)\n",
    "plt.yticks(rotation=90, ha='center', va='center', fontsize=11)\n",
    "plt.xticks(fontsize=11)\n",
    "# Remover os rótulos dos eixos\n",
    "ax.set_xlabel('')\n",
    "ax.set_ylabel('')\n",
    "plt.title('QDA - A', fontsize=12)\n",
    "plt.show()"
   ]
  },
  {
   "attachments": {},
   "cell_type": "markdown",
   "metadata": {},
   "source": [
    "# Gaussian Process"
   ]
  },
  {
   "cell_type": "code",
   "execution_count": 84,
   "metadata": {},
   "outputs": [
    {
     "name": "stdout",
     "output_type": "stream",
     "text": [
      "Acurácia: 0.875\n",
      "Relatório de Classificação:\n",
      "              precision    recall  f1-score   support\n",
      "\n",
      "     evadido       0.95      0.89      0.92       124\n",
      " não evadido       0.68      0.83      0.75        36\n",
      "\n",
      "    accuracy                           0.88       160\n",
      "   macro avg       0.82      0.86      0.83       160\n",
      "weighted avg       0.89      0.88      0.88       160\n",
      "\n",
      "Matriz de Confusão:\n",
      "[[110  14]\n",
      " [  6  30]]\n"
     ]
    },
    {
     "data": {
      "image/png": "[encoded data removed]",
      "text/plain": [
       "<Figure size 300x300 with 1 Axes>"
      ]
     },
     "metadata": {},
     "output_type": "display_data"
    }
   ],
   "source": [
    "from sklearn.gaussian_process import GaussianProcessClassifier\n",
    "from sklearn.gaussian_process.kernels import RBF\n",
    "\n",
    "# Filtrar as classes com mais de uma instância\n",
    "class_counts = df_dados['status'].value_counts()\n",
    "classes_to_keep = class_counts[class_counts > 1].index\n",
    "df_filtered = df_dados[df_dados['status'].isin(classes_to_keep)]\n",
    "\n",
    "# Separar as variáveis independentes e dependentes\n",
    "x = df_filtered.drop(columns=['status']).to_numpy()\n",
    "y = df_filtered['status'].to_numpy()\n",
    "\n",
    "# Dividir os dados em conjunto de treinamento e teste\n",
    "x_train, x_test, y_train, y_test = train_test_split(x, y, test_size=0.3, random_state=42, stratify=y)\n",
    "\n",
    "# Definir o modelo de Gaussian Process com um kernel RBF (Radial Basis Function)\n",
    "kernel = 1.0 * RBF(1.0)\n",
    "gpc_model = GaussianProcessClassifier(kernel=kernel, random_state=42)\n",
    "\n",
    "# Treinar o modelo\n",
    "gpc_model.fit(x_train, y_train)\n",
    "\n",
    "# Fazer previsões\n",
    "y_pred = gpc_model.predict(x_test)\n",
    "\n",
    "# Avaliar o modelo\n",
    "accuracy = accuracy_score(y_test, y_pred)\n",
    "report = classification_report(y_test, y_pred)\n",
    "conf_matrix = confusion_matrix(y_test, y_pred)\n",
    "\n",
    "print(f'Acurácia: {accuracy:.3f}')\n",
    "print('Relatório de Classificação:')\n",
    "print(report)\n",
    "print('Matriz de Confusão:')\n",
    "print(conf_matrix)\n",
    "\n",
    "# Exibir uma versão mais visual da matriz de confusão sem a colorbar\n",
    "labels = np.unique(y_test)  # Obter os rótulos únicos\n",
    "disp = ConfusionMatrixDisplay(confusion_matrix=conf_matrix, display_labels=labels)\n",
    "fig, ax = plt.subplots(figsize=(3, 3))\n",
    "disp.plot(cmap=plt.cm.PuRd, ax=ax, colorbar=False)\n",
    "plt.yticks(rotation=90, ha='center', va='center', fontsize=11)\n",
    "plt.xticks(fontsize=11)\n",
    "# Remover os rótulos dos eixos\n",
    "ax.set_xlabel('')\n",
    "ax.set_ylabel('')\n",
    "plt.title('Gaussian Process - B', fontsize=12)\n",
    "plt.show()\n"
   ]
  }
 ],
 "metadata": {
  "kernelspec": {
   "display_name": "Python 3",
   "language": "python",
   "name": "python3"
  },
  "language_info": {
   "codemirror_mode": {
    "name": "ipython",
    "version": 3
   },
   "file_extension": ".py",
   "mimetype": "text/x-python",
   "name": "python",
   "nbconvert_exporter": "python",
   "pygments_lexer": "ipython3",
   "version": "3.10.12"
  },
  "orig_nbformat": 4,
  "vscode": {
   "interpreter": {
    "hash": "916dbcbb3f70747c44a77c7bcd40155683ae19c65e1c03b4aa3499c5328201f1"
   }
  }
 },
 "nbformat": 4,
 "nbformat_minor": 2
}
