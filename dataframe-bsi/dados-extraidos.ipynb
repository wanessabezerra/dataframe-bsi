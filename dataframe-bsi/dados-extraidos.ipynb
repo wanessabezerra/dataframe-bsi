{
 "cells": [
  {
   "attachments": {},
   "cell_type": "markdown",
   "metadata": {},
   "source": [
    "# Extraindo Dados\n",
    "___"
   ]
  },
  {
   "attachments": {},
   "cell_type": "markdown",
   "metadata": {},
   "source": [
    "Esse arquivo tem o objetivo de extrair dados do dataframe BSI e criar uma tabela que contenha os seguintes dados:\n",
    "\n",
    "- o identificador do discente; \n",
    "- o sexo do discente;\n",
    "- o ano em que o discente ingressou na instituição;\n",
    "- o ano e período da última matrícula realizada pelo discente;\n",
    "- total de sementres cursados pelo discente;\n",
    "- um calcúlo de semestres cursados dividido pelo o número de semestre ideal do curso;\n",
    "- a carga horária cumprida pelo discente;\n",
    "- a carga horária cumprida pelo discente dividida pela carga horaria ideal;\n",
    "- tempo relativo que o discente evadiu ou concluiu o curso;\n",
    "- status atual do discente;\n",
    "- número total de faltas de cada discente na disciplina que ele cursou;\n",
    "- nota de cada discente nas disciplinas que ele cursou;\n",
    "- média final de cada discente nas disciplinas que ele cursou;\n",
    "- quantidade de vezes que o discente se matriculou nas disciplinas;\n",
    "- quantidade de vezes que o discente se matriculou em cada disciplina;\n",
    "- quantidade de vezes que o discente foi aprovado em cada disciplina;\n",
    "- quantidade de vezes que o discente foi reprovado em cada disciplina."
   ]
  },
  {
   "attachments": {},
   "cell_type": "markdown",
   "metadata": {},
   "source": [
    "Importando o Pandas e o Csv."
   ]
  },
  {
   "cell_type": "code",
   "execution_count": 309,
   "metadata": {},
   "outputs": [],
   "source": [
    "import pandas as pd\n",
    "import numpy as np\n",
    "import csv"
   ]
  },
  {
   "attachments": {},
   "cell_type": "markdown",
   "metadata": {},
   "source": [
    "Leitura do arquivo em csv e carregamento desses dados em um DataFrame usando o ponto e vírgula como separador."
   ]
  },
  {
   "cell_type": "code",
   "execution_count": 310,
   "metadata": {},
   "outputs": [],
   "source": [
    "df_dados = pd.read_csv('dataframe-bsi-2009-2022.csv', sep=';')"
   ]
  },
  {
   "attachments": {},
   "cell_type": "markdown",
   "metadata": {},
   "source": [
    "Ampliando a vizualização das colunas no vscode."
   ]
  },
  {
   "cell_type": "code",
   "execution_count": 311,
   "metadata": {},
   "outputs": [],
   "source": [
    "pd.set_option('display.max_columns', 310)"
   ]
  },
  {
   "attachments": {},
   "cell_type": "markdown",
   "metadata": {},
   "source": [
    "# Tratamento de Dados"
   ]
  },
  {
   "attachments": {},
   "cell_type": "markdown",
   "metadata": {},
   "source": [
    "Listando as colunas do dataframe."
   ]
  },
  {
   "cell_type": "code",
   "execution_count": 312,
   "metadata": {},
   "outputs": [
    {
     "data": {
      "text/plain": [
       "Index(['discente', 'unidade', 'nota', 'media_final', 'frequencia', 'descricao',\n",
       "       'ano', 'id_componente', 'nome', 'ch_total', 'sexo', 'ano_nascimento',\n",
       "       'ano_ingresso', 'status'],\n",
       "      dtype='object')"
      ]
     },
     "execution_count": 312,
     "metadata": {},
     "output_type": "execute_result"
    }
   ],
   "source": [
    "df_dados.columns"
   ]
  },
  {
   "attachments": {},
   "cell_type": "markdown",
   "metadata": {},
   "source": [
    "Transformando a coluna *media_final* no tipo float."
   ]
  },
  {
   "cell_type": "code",
   "execution_count": 313,
   "metadata": {},
   "outputs": [],
   "source": [
    "df_dados['media_final']=df_dados['media_final'].apply(lambda x: str(x).replace(',' , '.'))\n",
    "df_dados['media_final'] = df_dados['media_final'].astype('float64')"
   ]
  },
  {
   "attachments": {},
   "cell_type": "markdown",
   "metadata": {},
   "source": [
    "Transformando a coluna *nota* no tipo float."
   ]
  },
  {
   "cell_type": "code",
   "execution_count": 314,
   "metadata": {},
   "outputs": [],
   "source": [
    "df_dados['nota']=df_dados['nota'].apply(lambda x: str(x).replace(',' , '.'))\n",
    "df_dados['nota'] = df_dados['nota'].astype('float64')"
   ]
  },
  {
   "attachments": {},
   "cell_type": "markdown",
   "metadata": {},
   "source": [
    "Informações sobre o tipo de cada coluna do dataframe."
   ]
  },
  {
   "cell_type": "code",
   "execution_count": 315,
   "metadata": {},
   "outputs": [
    {
     "name": "stdout",
     "output_type": "stream",
     "text": [
      "<class 'pandas.core.frame.DataFrame'>\n",
      "RangeIndex: 54584 entries, 0 to 54583\n",
      "Data columns (total 14 columns):\n",
      " #   Column          Non-Null Count  Dtype  \n",
      "---  ------          --------------  -----  \n",
      " 0   discente        54584 non-null  object \n",
      " 1   unidade         50972 non-null  float64\n",
      " 2   nota            48321 non-null  float64\n",
      " 3   media_final     47687 non-null  float64\n",
      " 4   frequencia      50471 non-null  float64\n",
      " 5   descricao       54584 non-null  object \n",
      " 6   ano             54584 non-null  int64  \n",
      " 7   id_componente   54584 non-null  int64  \n",
      " 8   nome            54584 non-null  object \n",
      " 9   ch_total        54584 non-null  int64  \n",
      " 10  sexo            54584 non-null  int64  \n",
      " 11  ano_nascimento  54584 non-null  int64  \n",
      " 12  ano_ingresso    54584 non-null  int64  \n",
      " 13  status          54584 non-null  object \n",
      "dtypes: float64(4), int64(6), object(4)\n",
      "memory usage: 5.8+ MB\n"
     ]
    }
   ],
   "source": [
    "df_dados.info()"
   ]
  },
  {
   "attachments": {},
   "cell_type": "markdown",
   "metadata": {},
   "source": [
    "Listando os dados NaN."
   ]
  },
  {
   "cell_type": "code",
   "execution_count": 316,
   "metadata": {},
   "outputs": [
    {
     "data": {
      "text/plain": [
       "discente             0\n",
       "unidade           3612\n",
       "nota              6263\n",
       "media_final       6897\n",
       "frequencia        4113\n",
       "descricao            0\n",
       "ano                  0\n",
       "id_componente        0\n",
       "nome                 0\n",
       "ch_total             0\n",
       "sexo                 0\n",
       "ano_nascimento       0\n",
       "ano_ingresso         0\n",
       "status               0\n",
       "dtype: int64"
      ]
     },
     "execution_count": 316,
     "metadata": {},
     "output_type": "execute_result"
    }
   ],
   "source": [
    "df_dados.isnull().sum()"
   ]
  },
  {
   "attachments": {},
   "cell_type": "markdown",
   "metadata": {},
   "source": [
    "Preenchendo os dados NaN da coluna *unidade* com 1."
   ]
  },
  {
   "cell_type": "code",
   "execution_count": 317,
   "metadata": {},
   "outputs": [],
   "source": [
    "df_dados.loc[:, 'unidade'] = df_dados['unidade'].fillna(1)"
   ]
  },
  {
   "attachments": {},
   "cell_type": "markdown",
   "metadata": {},
   "source": [
    "Substituir valores 0 por -1 nas colunas *nota*, *media_final* e *frequencia*."
   ]
  },
  {
   "cell_type": "code",
   "execution_count": 318,
   "metadata": {},
   "outputs": [],
   "source": [
    "df_dados[['nota', 'media_final']] = df_dados[['nota', 'media_final']].replace(0, -1)"
   ]
  },
  {
   "attachments": {},
   "cell_type": "markdown",
   "metadata": {},
   "source": [
    "Apagando da coluna *descricao* a condição *INDEFERIDO* e *EXCLUIDA*."
   ]
  },
  {
   "cell_type": "code",
   "execution_count": 319,
   "metadata": {},
   "outputs": [],
   "source": [
    "df_dados = df_dados[~df_dados['descricao'].isin(['INDEFERIDO', 'EXCLUIDA'])]"
   ]
  },
  {
   "attachments": {},
   "cell_type": "markdown",
   "metadata": {},
   "source": [
    "Verificar os valores faltosos na coluna *nota* com base na condição da coluna *descricao*."
   ]
  },
  {
   "cell_type": "code",
   "execution_count": 320,
   "metadata": {},
   "outputs": [],
   "source": [
    "condicao_cancelado = df_dados['descricao'] == 'CANCELADO'\n",
    "df_dados.loc[condicao_cancelado, 'nota'] = -2\n",
    "\n",
    "condicao_trancado = df_dados['descricao'] == 'TRANCADO'\n",
    "df_dados.loc[condicao_trancado, 'nota'] = -4\n",
    "\n",
    "condicao_desistencia = df_dados['descricao'] == 'DESISTENCIA'\n",
    "df_dados.loc[condicao_desistencia, 'nota'] = -7"
   ]
  },
  {
   "attachments": {},
   "cell_type": "markdown",
   "metadata": {},
   "source": [
    "Verificar os valores faltosos na coluna *media_final* com base na condição da coluna *descricao*."
   ]
  },
  {
   "cell_type": "code",
   "execution_count": 321,
   "metadata": {},
   "outputs": [],
   "source": [
    "condicao_cancelado = df_dados['descricao'] == 'CANCELADO'\n",
    "df_dados.loc[condicao_cancelado, 'media_final'] = -2\n",
    "\n",
    "condicao_trancado = df_dados['descricao'] == 'TRANCADO'\n",
    "df_dados.loc[condicao_trancado, 'media_final'] = -4\n",
    "\n",
    "condicao_desistencia = df_dados['descricao'] == 'DESISTENCIA'\n",
    "df_dados.loc[condicao_desistencia, 'media_final'] = -7"
   ]
  },
  {
   "attachments": {},
   "cell_type": "markdown",
   "metadata": {},
   "source": [
    "Verificar os valores faltosos na coluna *frequencia* com base na condição da coluna *descricao*."
   ]
  },
  {
   "cell_type": "code",
   "execution_count": 322,
   "metadata": {},
   "outputs": [],
   "source": [
    "condicao_cancelado = df_dados['descricao'] == 'CANCELADO'\n",
    "df_dados.loc[condicao_cancelado, 'frequencia'] = -2\n",
    "\n",
    "condicao_trancado = df_dados['descricao'] == 'TRANCADO'\n",
    "df_dados.loc[condicao_trancado, 'frequencia'] = -4\n",
    "\n",
    "condicao_desistencia = df_dados['descricao'] == 'DESISTENCIA'\n",
    "df_dados.loc[condicao_desistencia, 'frequencia'] = -7"
   ]
  },
  {
   "attachments": {},
   "cell_type": "markdown",
   "metadata": {},
   "source": [
    "Contando os valores dos dados da coluna *descricao*."
   ]
  },
  {
   "cell_type": "code",
   "execution_count": 323,
   "metadata": {},
   "outputs": [
    {
     "data": {
      "text/plain": [
       "descricao\n",
       "APROVADO                            28307\n",
       "APROVADO POR NOTA                    8178\n",
       "REPROVADO                            5790\n",
       "REPROVADO POR MÉDIA E POR FALTAS     3804\n",
       "CANCELADO                            2730\n",
       "TRANCADO                             1913\n",
       "DESISTENCIA                           457\n",
       "REPROVADO POR FALTAS                  138\n",
       "REPROVADO POR NOTA                     99\n",
       "REPROVADO POR NOTA E FALTA             42\n",
       "Name: count, dtype: int64"
      ]
     },
     "execution_count": 323,
     "metadata": {},
     "output_type": "execute_result"
    }
   ],
   "source": [
    "df_dados.descricao.value_counts()"
   ]
  },
  {
   "attachments": {},
   "cell_type": "markdown",
   "metadata": {},
   "source": [
    "Criar uma função para mapear a classificação da coluna *descricao*."
   ]
  },
  {
   "cell_type": "code",
   "execution_count": 324,
   "metadata": {},
   "outputs": [],
   "source": [
    "def mapear_classificacao(descricao):\n",
    "    mapeamento = {\n",
    "        'APROVADO': 2,\n",
    "        'APROVADO POR NOTA': 1,\n",
    "        'REPROVADO': -1,\n",
    "        'REPROVADO POR FALTAS': -1,\n",
    "        'REPROVADO POR NOTA': -1,\n",
    "        'REPROVADO POR MÉDIA E POR FALTAS': -2,\n",
    "        'REPROVADO POR NOTA E FALTA': -2,\n",
    "        'CANCELADO': -3,\n",
    "        'EXCLUIDA': -3,\n",
    "        'TRANCADO': -3,\n",
    "        'DESISTENCIA': -4,\n",
    "    }\n",
    "    return mapeamento.get(descricao, None)"
   ]
  },
  {
   "attachments": {},
   "cell_type": "markdown",
   "metadata": {},
   "source": [
    "Aplicar a função de mapeamento e criar a coluna *classificacao*."
   ]
  },
  {
   "cell_type": "code",
   "execution_count": 325,
   "metadata": {},
   "outputs": [],
   "source": [
    "df_dados.loc[:, 'classificacao'] = df_dados['descricao'].map(mapear_classificacao)"
   ]
  },
  {
   "attachments": {},
   "cell_type": "markdown",
   "metadata": {},
   "source": [
    "Fazendo um recorte da nossa análise, vamos começar por disciplinas obrigatórias do Bacharelado em Sistemas da Informação (BSI):"
   ]
  },
  {
   "cell_type": "code",
   "execution_count": 326,
   "metadata": {},
   "outputs": [],
   "source": [
    "lista_obrigatórias = [\n",
    "                'ALGORITMOS E LÓGICA DE PROGRAMAÇÃO',\n",
    "                'INTRODUÇÃO À INFORMÁTICA',\n",
    "                'FUNDAMENTOS DE MATEMÁTICA',\n",
    "                'LÓGICA',\n",
    "                'TEORIA GERAL DA ADMINISTRAÇÃO',\n",
    "                'PROGRAMAÇÃO',\n",
    "                'CÁLCULO DIFERENCIAL E INTEGRAL',\n",
    "                'TEORIA GERAL DOS SISTEMAS',\n",
    "                'PROGRAMAÇÃO ORIENTADA A OBJETOS I',\n",
    "                'ESTRUTURA DE DADOS',\n",
    "                'ÁLGEBRA LINEAR',\n",
    "                'ORGANIZAÇÃO, SISTEMAS E MÉTODOS',\n",
    "                'FUNDAMENTOS DE SISTEMAS DE INFORMAÇÃO',\n",
    "                'PROGRAMAÇÃO WEB',\n",
    "                'ARQUITETURA DE COMPUTADORES',\n",
    "                'PROBABILIDADE E ESTATÍSTICA',\n",
    "                'BANCO DE DADOS',\n",
    "                'ENGENHARIA DE SOFTWARE I',\n",
    "                'PROGRAMAÇÃO ORIENTADA A OBJETOS II',\n",
    "                'SISTEMAS OPERACIONAIS',\n",
    "                'PROJETO E ADMINISTRAÇÃO DE BANCO DE DADOS',\n",
    "                'ENGENHARIA DE SOFTWARE II',\n",
    "                'REDES DE COMPUTADORES',\n",
    "                'EMPREENDEDORISMO EM INFORMÁTICA',\n",
    "                'GESTÃO DE PROJETO DE SOFTWARE',\n",
    "                'PROGRAMAÇÃO VISUAL',\n",
    "                'MATEMÁTICA FINANCEIRA',\n",
    "                'SISTEMAS DE APOIO À DECISÃO',\n",
    "                'ÉTICA',\n",
    "                ]\n",
    "condição_nome = f\"nome in {lista_obrigatórias}\"\n",
    "df_dados_filtrado = df_dados.query(condição_nome)"
   ]
  },
  {
   "attachments": {},
   "cell_type": "markdown",
   "metadata": {},
   "source": [
    "## Extraindo dados"
   ]
  },
  {
   "cell_type": "code",
   "execution_count": 327,
   "metadata": {},
   "outputs": [
    {
     "data": {
      "text/plain": [
       "Index(['discente', 'unidade', 'nota', 'media_final', 'frequencia', 'descricao',\n",
       "       'ano', 'id_componente', 'nome', 'ch_total', 'sexo', 'ano_nascimento',\n",
       "       'ano_ingresso', 'status', 'classificacao'],\n",
       "      dtype='object')"
      ]
     },
     "execution_count": 327,
     "metadata": {},
     "output_type": "execute_result"
    }
   ],
   "source": [
    "df_dados_filtrado.columns"
   ]
  },
  {
   "attachments": {},
   "cell_type": "markdown",
   "metadata": {},
   "source": [
    "### Colunas com as **Disciplinas**"
   ]
  },
  {
   "attachments": {},
   "cell_type": "markdown",
   "metadata": {},
   "source": [
    "Filtrar os dados onde a coluna **unidade** foi preenchida com 1."
   ]
  },
  {
   "cell_type": "code",
   "execution_count": 328,
   "metadata": {},
   "outputs": [],
   "source": [
    "filtrando_unidade = df_dados_filtrado[df_dados_filtrado['unidade'] == 1]"
   ]
  },
  {
   "attachments": {},
   "cell_type": "markdown",
   "metadata": {},
   "source": [
    "Calculando a quantidade de vezes que cada discente cursou cada *disciplina*."
   ]
  },
  {
   "cell_type": "code",
   "execution_count": 329,
   "metadata": {},
   "outputs": [],
   "source": [
    "quantidade_disciplinas = filtrando_unidade.groupby(['discente', 'nome']).size().reset_index(name='quantidade')\n"
   ]
  },
  {
   "attachments": {},
   "cell_type": "markdown",
   "metadata": {},
   "source": [
    "Pivotando as *disciplinas*."
   ]
  },
  {
   "cell_type": "code",
   "execution_count": 330,
   "metadata": {},
   "outputs": [],
   "source": [
    "tabela_final = quantidade_disciplinas.pivot(index='discente', columns='nome', values='quantidade').reset_index()"
   ]
  },
  {
   "cell_type": "code",
   "execution_count": 331,
   "metadata": {},
   "outputs": [],
   "source": [
    "tabela_final.replace(0, -1, inplace=True)"
   ]
  },
  {
   "attachments": {},
   "cell_type": "markdown",
   "metadata": {},
   "source": [
    "Substituir NaN por 0 usando fillna."
   ]
  },
  {
   "cell_type": "code",
   "execution_count": 332,
   "metadata": {},
   "outputs": [],
   "source": [
    "tabela_final = tabela_final.fillna(0)"
   ]
  },
  {
   "attachments": {},
   "cell_type": "markdown",
   "metadata": {},
   "source": [
    "### Coluna com o **Ano de Ingresso**"
   ]
  },
  {
   "attachments": {},
   "cell_type": "markdown",
   "metadata": {},
   "source": [
    "Adicionando o *ano_ingresso* para cada discente."
   ]
  },
  {
   "cell_type": "code",
   "execution_count": 333,
   "metadata": {},
   "outputs": [],
   "source": [
    "ano_ingresso_discente = df_dados_filtrado.drop_duplicates(subset=['discente'])[['discente', 'ano_ingresso']]\n",
    "tabela_final = tabela_final.merge(ano_ingresso_discente, on='discente', how='left')"
   ]
  },
  {
   "attachments": {},
   "cell_type": "markdown",
   "metadata": {},
   "source": [
    "### Coluna com o **Sexo** do Discente"
   ]
  },
  {
   "attachments": {},
   "cell_type": "markdown",
   "metadata": {},
   "source": [
    "Definir a opção global para permitir o downcasting silencioso"
   ]
  },
  {
   "cell_type": "code",
   "execution_count": 334,
   "metadata": {},
   "outputs": [],
   "source": [
    "pd.set_option('future.no_silent_downcasting', True)"
   ]
  },
  {
   "attachments": {},
   "cell_type": "markdown",
   "metadata": {},
   "source": [
    "Adicionar as colunas *mulher* e *homem* usando o método assign para evitar SettingWithCopyWarning."
   ]
  },
  {
   "cell_type": "code",
   "execution_count": 335,
   "metadata": {},
   "outputs": [],
   "source": [
    "df_dados_filtrado = df_dados_filtrado.assign(\n",
    "    mulher=df_dados_filtrado['sexo'].map({0: 0, 1: 1}),\n",
    "    homem=df_dados_filtrado['sexo'].map({0: 1, 1: 0})\n",
    ")"
   ]
  },
  {
   "attachments": {},
   "cell_type": "markdown",
   "metadata": {},
   "source": [
    "Criar DataFrames com discente e as novas colunas."
   ]
  },
  {
   "cell_type": "code",
   "execution_count": 336,
   "metadata": {},
   "outputs": [],
   "source": [
    "sexo_discente = df_dados_filtrado.drop_duplicates(subset=['discente'])[['discente', 'mulher', 'homem']]"
   ]
  },
  {
   "attachments": {},
   "cell_type": "markdown",
   "metadata": {},
   "source": [
    "Mesclar com tabela_final."
   ]
  },
  {
   "cell_type": "code",
   "execution_count": 337,
   "metadata": {},
   "outputs": [],
   "source": [
    "tabela_final = tabela_final.merge(sexo_discente, on='discente', how='left')\n"
   ]
  },
  {
   "attachments": {},
   "cell_type": "markdown",
   "metadata": {},
   "source": [
    "### Coluna com o **Status** do Discente"
   ]
  },
  {
   "attachments": {},
   "cell_type": "markdown",
   "metadata": {},
   "source": [
    "Alterando o conteúdo da coluna *status*."
   ]
  },
  {
   "cell_type": "code",
   "execution_count": 338,
   "metadata": {},
   "outputs": [],
   "source": [
    "df_dados_filtrado['status'] = df_dados_filtrado['status'].replace({\n",
    "    'CANCELADO': -1, \n",
    "    'ATIVO': 1, 'ATIVO - FORMANDO': 1, 'TRANCADO': 1,\n",
    "    'FORMADO': 1,'CONCLUÍDO': 1})"
   ]
  },
  {
   "cell_type": "code",
   "execution_count": 339,
   "metadata": {},
   "outputs": [
    {
     "data": {
      "text/plain": [
       "status\n",
       "1     19732\n",
       "-1    18358\n",
       "Name: count, dtype: int64"
      ]
     },
     "execution_count": 339,
     "metadata": {},
     "output_type": "execute_result"
    }
   ],
   "source": [
    "status_data = df_dados_filtrado['status'].value_counts()\n",
    "status_data"
   ]
  },
  {
   "cell_type": "code",
   "execution_count": 340,
   "metadata": {},
   "outputs": [],
   "source": [
    "df_dados_filtrado = df_dados_filtrado[df_dados_filtrado['status'] != 0]"
   ]
  },
  {
   "cell_type": "code",
   "execution_count": 341,
   "metadata": {},
   "outputs": [
    {
     "data": {
      "text/plain": [
       "status\n",
       "1     19732\n",
       "-1    18358\n",
       "Name: count, dtype: int64"
      ]
     },
     "execution_count": 341,
     "metadata": {},
     "output_type": "execute_result"
    }
   ],
   "source": [
    "status_data = df_dados_filtrado['status'].value_counts()\n",
    "status_data"
   ]
  },
  {
   "attachments": {},
   "cell_type": "markdown",
   "metadata": {},
   "source": [
    "Adicionando o *status* para cada discente.\n"
   ]
  },
  {
   "cell_type": "code",
   "execution_count": 342,
   "metadata": {},
   "outputs": [],
   "source": [
    "status_discente = df_dados_filtrado.drop_duplicates(subset=['discente'])[['discente', 'status']]\n",
    "tabela_final = tabela_final.merge(status_discente, on='discente', how='left')"
   ]
  },
  {
   "attachments": {},
   "cell_type": "markdown",
   "metadata": {},
   "source": [
    "### Coluna com o **classificacao** da Descrição"
   ]
  },
  {
   "attachments": {},
   "cell_type": "markdown",
   "metadata": {},
   "source": [
    "Adicionando o *classificacao* para cada discente."
   ]
  },
  {
   "cell_type": "code",
   "execution_count": 343,
   "metadata": {},
   "outputs": [],
   "source": [
    "classificacao_descricao = df_dados_filtrado.drop_duplicates(subset=['discente'])[['discente', 'classificacao']]\n",
    "tabela_final = tabela_final.merge(classificacao_descricao, on='discente', how='left')"
   ]
  },
  {
   "attachments": {},
   "cell_type": "markdown",
   "metadata": {},
   "source": [
    "### Coluna com a **Carga Horária Cumprida**"
   ]
  },
  {
   "cell_type": "code",
   "execution_count": 344,
   "metadata": {},
   "outputs": [],
   "source": [
    "filtrando_unidade = df_dados_filtrado[df_dados_filtrado['unidade'] == 1]"
   ]
  },
  {
   "attachments": {},
   "cell_type": "markdown",
   "metadata": {},
   "source": [
    "Agrupando por discente e somando a *carga horária*."
   ]
  },
  {
   "cell_type": "code",
   "execution_count": 345,
   "metadata": {},
   "outputs": [],
   "source": [
    "df_carga_horaria_cumprida = filtrando_unidade.groupby('discente')['ch_total'].sum().reset_index()"
   ]
  },
  {
   "attachments": {},
   "cell_type": "markdown",
   "metadata": {},
   "source": [
    "Adicionando a *carga horária cumprida* de cada discente e renomeando a coluna."
   ]
  },
  {
   "cell_type": "code",
   "execution_count": 346,
   "metadata": {},
   "outputs": [],
   "source": [
    "df_carga_horaria_cumprida.rename(columns={'ch_total': 'ch_cumprida'}, inplace=True)\n",
    "tabela_final = tabela_final.merge(df_carga_horaria_cumprida, on='discente', how='left')"
   ]
  },
  {
   "attachments": {},
   "cell_type": "markdown",
   "metadata": {},
   "source": [
    "Dividindo a *carga horária cumprida* do discente pela carga horária das disciplinas obrigatórias."
   ]
  },
  {
   "cell_type": "code",
   "execution_count": 347,
   "metadata": {},
   "outputs": [],
   "source": [
    "tabela_final['ch_cumprida_dividida'] = tabela_final['ch_cumprida'] / 1830"
   ]
  },
  {
   "attachments": {},
   "cell_type": "markdown",
   "metadata": {},
   "source": [
    "### Coluna com a **Carga Horária Cumprida** com **Reprovação**"
   ]
  },
  {
   "attachments": {},
   "cell_type": "markdown",
   "metadata": {},
   "source": [
    "Filtrando dados pela unidade."
   ]
  },
  {
   "cell_type": "code",
   "execution_count": 348,
   "metadata": {},
   "outputs": [],
   "source": [
    "filtrando_unidade = df_dados_filtrado[df_dados_filtrado['unidade'] == 1]"
   ]
  },
  {
   "attachments": {},
   "cell_type": "markdown",
   "metadata": {},
   "source": [
    "Filtrar as disciplinas *reprovadas*."
   ]
  },
  {
   "cell_type": "code",
   "execution_count": 349,
   "metadata": {},
   "outputs": [],
   "source": [
    "reprovadas_status = [\n",
    "    'REPROVADO',\n",
    "    'REPROVADO POR NOTA',\n",
    "    'REPROVADO POR FALTAS',\n",
    "    'REPROVADO POR NOTA E FALTA',\n",
    "    'REPROVADO POR MÉDIA E POR FALTAS'\n",
    "]"
   ]
  },
  {
   "cell_type": "code",
   "execution_count": 350,
   "metadata": {},
   "outputs": [],
   "source": [
    "df_reprovadas = filtrando_unidade[filtrando_unidade['descricao'].isin(reprovadas_status)]"
   ]
  },
  {
   "attachments": {},
   "cell_type": "markdown",
   "metadata": {},
   "source": [
    "Agrupar por discente e somar a *carga horária das disciplinas reprovadas*."
   ]
  },
  {
   "cell_type": "code",
   "execution_count": 351,
   "metadata": {},
   "outputs": [],
   "source": [
    "ch_reprovacao = df_reprovadas.groupby('discente')['ch_total'].sum().reset_index()"
   ]
  },
  {
   "attachments": {},
   "cell_type": "markdown",
   "metadata": {},
   "source": [
    "Renomear a coluna resultante."
   ]
  },
  {
   "cell_type": "code",
   "execution_count": 352,
   "metadata": {},
   "outputs": [],
   "source": [
    "ch_reprovacao.columns = ['discente', 'ch_reprovacao']"
   ]
  },
  {
   "attachments": {},
   "cell_type": "markdown",
   "metadata": {},
   "source": [
    "Adicionando a *carga horária de reprovação* de cada discente."
   ]
  },
  {
   "cell_type": "code",
   "execution_count": 353,
   "metadata": {},
   "outputs": [],
   "source": [
    "tabela_final = tabela_final.merge(ch_reprovacao, on='discente', how='left')\n",
    "df_dados_filtrado = df_dados_filtrado.merge(ch_reprovacao, on='discente', how='left')"
   ]
  },
  {
   "attachments": {},
   "cell_type": "markdown",
   "metadata": {},
   "source": [
    "### Coluna com **taxa de reprovação**"
   ]
  },
  {
   "cell_type": "code",
   "execution_count": 354,
   "metadata": {},
   "outputs": [],
   "source": [
    "tabela_final['taxa_reprovacao'] = tabela_final['ch_reprovacao'] / tabela_final['ch_cumprida'] "
   ]
  },
  {
   "attachments": {},
   "cell_type": "markdown",
   "metadata": {},
   "source": [
    "### Coluna com o **Semestre**"
   ]
  },
  {
   "attachments": {},
   "cell_type": "markdown",
   "metadata": {},
   "source": [
    "Função para calcular o *semestre* com base no *ano de ingresso* e o *ano cursado.*"
   ]
  },
  {
   "cell_type": "code",
   "execution_count": 355,
   "metadata": {},
   "outputs": [],
   "source": [
    "def calcular_semestre(ano_ingresso, ano_cursado):\n",
    "    try:\n",
    "\n",
    "        # Convertendo os anos para strings e ajustando para o formato correto\n",
    "        ano_ingresso_str = str(ano_ingresso) + '1' if len(str(ano_ingresso)) == 4 else str(ano_ingresso)\n",
    "        ano_cursado_str = str(ano_cursado) + '1' if len(str(ano_cursado)) == 4 else str(ano_cursado)\n",
    "        \n",
    "        ano_ingresso_num = int(ano_ingresso_str[:4])\n",
    "        semestre_ingresso = int(ano_ingresso_str[4])\n",
    "        \n",
    "        ano_cursado_num = int(ano_cursado_str[:4])\n",
    "        semestre_cursado = int(ano_cursado_str[4])\n",
    "        \n",
    "        anos_passados = (ano_cursado_num - ano_ingresso_num) * 2\n",
    "        semestres_passados = anos_passados + (semestre_cursado - semestre_ingresso)\n",
    "        \n",
    "        return semestres_passados + 1  # +1 porque o semestre de ingresso é contado como o primeiro\n",
    "    except (IndexError, ValueError):\n",
    "        return pd.NA  # Retorna NA se houver um problema com o formato dos anos"
   ]
  },
  {
   "attachments": {},
   "cell_type": "markdown",
   "metadata": {},
   "source": [
    "Substituir valores específicos na coluna *ano*"
   ]
  },
  {
   "cell_type": "code",
   "execution_count": 356,
   "metadata": {},
   "outputs": [],
   "source": [
    "df_dados_filtrado.loc[df_dados_filtrado['ano'] == 20205, 'ano'] = 20203\n",
    "df_dados_filtrado.loc[df_dados_filtrado['ano'] == 20206, 'ano'] = 20204"
   ]
  },
  {
   "attachments": {},
   "cell_type": "markdown",
   "metadata": {},
   "source": [
    "Corrigir os valores das colunas *ano_ingresso* e *ano*."
   ]
  },
  {
   "cell_type": "code",
   "execution_count": 357,
   "metadata": {},
   "outputs": [],
   "source": [
    "df_dados_filtrado['ano_ingresso'] = df_dados_filtrado['ano_ingresso'].astype(str)\n",
    "df_dados_filtrado['ano'] = df_dados_filtrado['ano'].astype(str)"
   ]
  },
  {
   "attachments": {},
   "cell_type": "markdown",
   "metadata": {},
   "source": [
    "Aplicar a função para criar a coluna *semestre*."
   ]
  },
  {
   "cell_type": "code",
   "execution_count": 358,
   "metadata": {},
   "outputs": [],
   "source": [
    "df_dados_filtrado['semestre'] = df_dados_filtrado.apply(\n",
    "    lambda x: calcular_semestre(x['ano_ingresso'], x['ano']), axis=1\n",
    ")"
   ]
  },
  {
   "cell_type": "code",
   "execution_count": 359,
   "metadata": {},
   "outputs": [],
   "source": [
    "# Agrupar por discente e disciplina e coletar os semestres\n",
    "semestres_por_disciplina = df_dados_filtrado.groupby(['discente', 'nome'])['semestre'].apply(lambda x: ', '.join(map(str, x.unique()))).reset_index()\n",
    "\n",
    "# Renomear a coluna para algo mais descritivo\n",
    "semestres_por_disciplina.rename(columns={'semestre': 'semestres_cursados'}, inplace=True)"
   ]
  },
  {
   "cell_type": "code",
   "execution_count": 360,
   "metadata": {},
   "outputs": [],
   "source": [
    "# Supondo que tabela_final já existe e tem as colunas 'discente' e 'disciplina'\n",
    "df_dados_filtrado = df_dados_filtrado.merge(semestres_por_disciplina, on=['discente' , 'nome'], how='left') "
   ]
  },
  {
   "cell_type": "code",
   "execution_count": 361,
   "metadata": {},
   "outputs": [],
   "source": [
    "semestres = df_dados_filtrado[['discente', 'semestre']].drop_duplicates(\"discente\")\n",
    "tabela_final = tabela_final.merge(semestres, on='discente', how='left')\n"
   ]
  },
  {
   "attachments": {},
   "cell_type": "markdown",
   "metadata": {},
   "source": [
    "### Coluna com o Total de **Semestre Cursado**"
   ]
  },
  {
   "attachments": {},
   "cell_type": "markdown",
   "metadata": {},
   "source": [
    "Identificar *semestres* únicos cursados por cada discente."
   ]
  },
  {
   "cell_type": "code",
   "execution_count": 362,
   "metadata": {},
   "outputs": [],
   "source": [
    "semestres_unicos_por_discente = df_dados_filtrado.groupby('discente')['ano'].nunique().reset_index()\n",
    "semestres_unicos_por_discente.rename(columns={'ano' : 'semestre_total'}, inplace=True)"
   ]
  },
  {
   "attachments": {},
   "cell_type": "markdown",
   "metadata": {},
   "source": [
    "Adicionando a quantidade de *semestres* cursados por cada discente."
   ]
  },
  {
   "cell_type": "code",
   "execution_count": 363,
   "metadata": {},
   "outputs": [],
   "source": [
    "tabela_final = tabela_final.merge(semestres_unicos_por_discente, on='discente', how='left')"
   ]
  },
  {
   "attachments": {},
   "cell_type": "markdown",
   "metadata": {},
   "source": [
    "Dividindo a quantidade de *semestres cursados* pela quantidade de *semestres estimados* no curso."
   ]
  },
  {
   "cell_type": "code",
   "execution_count": 364,
   "metadata": {},
   "outputs": [],
   "source": [
    "tabela_final['semestre_dividido'] = tabela_final['semestre_total'] / 8"
   ]
  },
  {
   "attachments": {},
   "cell_type": "markdown",
   "metadata": {},
   "source": [
    "### Coluna com o **Último Período** Matrículado"
   ]
  },
  {
   "attachments": {},
   "cell_type": "markdown",
   "metadata": {},
   "source": [
    "Encontrar o *último período* que cada aluno estudou no curso."
   ]
  },
  {
   "cell_type": "code",
   "execution_count": 365,
   "metadata": {},
   "outputs": [],
   "source": [
    "ultimo_periodo = df_dados_filtrado.groupby('discente')['ano'].max().reset_index()\n",
    "ultimo_periodo.rename(columns={'ano': 'ultimo_periodo'}, inplace=True)"
   ]
  },
  {
   "attachments": {},
   "cell_type": "markdown",
   "metadata": {},
   "source": [
    "Adicionando as informações do *último período* de cada discente."
   ]
  },
  {
   "cell_type": "code",
   "execution_count": 366,
   "metadata": {},
   "outputs": [],
   "source": [
    "tabela_final = tabela_final.merge(ultimo_periodo, on='discente', how='left')"
   ]
  },
  {
   "attachments": {},
   "cell_type": "markdown",
   "metadata": {},
   "source": [
    "### Coluna com a quantidade de vezes que o discente se **Matriculou**"
   ]
  },
  {
   "attachments": {},
   "cell_type": "markdown",
   "metadata": {},
   "source": [
    "Soma dos valores das colunas para contabilizar a *matrícula* por discente."
   ]
  },
  {
   "cell_type": "code",
   "execution_count": 367,
   "metadata": {},
   "outputs": [],
   "source": [
    "matricula =      tabela_final['ALGORITMOS E LÓGICA DE PROGRAMAÇÃO'] + \\\n",
    "                 tabela_final['INTRODUÇÃO À INFORMÁTICA'] + \\\n",
    "                 tabela_final['FUNDAMENTOS DE MATEMÁTICA'] + \\\n",
    "                 tabela_final['LÓGICA'] + \\\n",
    "                 tabela_final['TEORIA GERAL DA ADMINISTRAÇÃO'] + \\\n",
    "                 tabela_final['PROGRAMAÇÃO'] + \\\n",
    "                 tabela_final['CÁLCULO DIFERENCIAL E INTEGRAL'] + \\\n",
    "                 tabela_final['TEORIA GERAL DOS SISTEMAS'] + \\\n",
    "                 tabela_final['PROGRAMAÇÃO ORIENTADA A OBJETOS I'] + \\\n",
    "                 tabela_final['ESTRUTURA DE DADOS'] + \\\n",
    "                 tabela_final['ÁLGEBRA LINEAR'] + \\\n",
    "                 tabela_final['ORGANIZAÇÃO, SISTEMAS E MÉTODOS'] + \\\n",
    "                 tabela_final['FUNDAMENTOS DE SISTEMAS DE INFORMAÇÃO'] + \\\n",
    "                 tabela_final['PROGRAMAÇÃO WEB'] + \\\n",
    "                 tabela_final['ARQUITETURA DE COMPUTADORES'] + \\\n",
    "                 tabela_final['PROBABILIDADE E ESTATÍSTICA'] + \\\n",
    "                 tabela_final['BANCO DE DADOS'] + \\\n",
    "                 tabela_final['ENGENHARIA DE SOFTWARE I'] + \\\n",
    "                 tabela_final['PROGRAMAÇÃO ORIENTADA A OBJETOS II'] + \\\n",
    "                 tabela_final['SISTEMAS OPERACIONAIS'] + \\\n",
    "                 tabela_final['PROJETO E ADMINISTRAÇÃO DE BANCO DE DADOS'] + \\\n",
    "                 tabela_final['ENGENHARIA DE SOFTWARE II'] + \\\n",
    "                 tabela_final['REDES DE COMPUTADORES'] + \\\n",
    "                 tabela_final['EMPREENDEDORISMO EM INFORMÁTICA'] + \\\n",
    "                 tabela_final['GESTÃO DE PROJETO DE SOFTWARE'] + \\\n",
    "                 tabela_final['PROGRAMAÇÃO VISUAL'] + \\\n",
    "                 tabela_final['MATEMÁTICA FINANCEIRA'] + \\\n",
    "                 tabela_final['SISTEMAS DE APOIO À DECISÃO'] + \\\n",
    "                 tabela_final['ÉTICA']"
   ]
  },
  {
   "attachments": {},
   "cell_type": "markdown",
   "metadata": {},
   "source": [
    "Adicionando a coluna *matrícula* na tabela."
   ]
  },
  {
   "cell_type": "code",
   "execution_count": 368,
   "metadata": {},
   "outputs": [],
   "source": [
    "tabela_final['matricula'] = matricula"
   ]
  },
  {
   "cell_type": "code",
   "execution_count": 369,
   "metadata": {},
   "outputs": [],
   "source": [
    "dados_da_coluna = tabela_final['matricula']"
   ]
  },
  {
   "attachments": {},
   "cell_type": "markdown",
   "metadata": {},
   "source": [
    "### Coluna com o **Tempo Relativo** que o discente passou no curso"
   ]
  },
  {
   "attachments": {},
   "cell_type": "markdown",
   "metadata": {},
   "source": [
    "Converter a coluna *ch_cumprida_dividida* para tipo numérico."
   ]
  },
  {
   "cell_type": "code",
   "execution_count": 370,
   "metadata": {},
   "outputs": [],
   "source": [
    "tabela_final['semestre_dividido'] = pd.to_numeric(tabela_final['semestre_dividido'], errors='coerce')"
   ]
  },
  {
   "attachments": {},
   "cell_type": "markdown",
   "metadata": {},
   "source": [
    "Converter a coluna *status* para tipo numérico."
   ]
  },
  {
   "cell_type": "code",
   "execution_count": 371,
   "metadata": {},
   "outputs": [],
   "source": [
    "tabela_final['status'] = pd.to_numeric(tabela_final['status'], errors='coerce')"
   ]
  },
  {
   "attachments": {},
   "cell_type": "markdown",
   "metadata": {},
   "source": [
    "Multiplicar os valores da coluna *ch_cumprida_dividida* pela coluna *status*."
   ]
  },
  {
   "cell_type": "code",
   "execution_count": 372,
   "metadata": {},
   "outputs": [],
   "source": [
    "tabela_final['tempo_relativo'] = tabela_final['semestre_dividido'] * tabela_final['status']"
   ]
  },
  {
   "cell_type": "code",
   "execution_count": 373,
   "metadata": {},
   "outputs": [],
   "source": [
    "tabela_final = tabela_final[tabela_final['tempo_relativo'] != 0]"
   ]
  },
  {
   "attachments": {},
   "cell_type": "markdown",
   "metadata": {},
   "source": [
    "### Coluna com a quantidade de vezes que o discente foi **Aprovado**"
   ]
  },
  {
   "attachments": {},
   "cell_type": "markdown",
   "metadata": {},
   "source": [
    "Filtrando dados pela unidade."
   ]
  },
  {
   "cell_type": "code",
   "execution_count": 374,
   "metadata": {},
   "outputs": [],
   "source": [
    "filtrando_unidade = df_dados_filtrado[df_dados_filtrado['unidade'] == 1]"
   ]
  },
  {
   "attachments": {},
   "cell_type": "markdown",
   "metadata": {},
   "source": [
    "Listar todas as disciplinas."
   ]
  },
  {
   "cell_type": "code",
   "execution_count": 375,
   "metadata": {},
   "outputs": [],
   "source": [
    "disciplinas = df_dados_filtrado['nome'].unique()"
   ]
  },
  {
   "attachments": {},
   "cell_type": "markdown",
   "metadata": {},
   "source": [
    "Criar uma tabela de *aprovações*."
   ]
  },
  {
   "cell_type": "code",
   "execution_count": 376,
   "metadata": {},
   "outputs": [],
   "source": [
    "aprovacoes = filtrando_unidade[filtrando_unidade['descricao'].isin([\n",
    "    'APROVADO',\n",
    "    'APROVADO POR NOTA',\n",
    "])]"
   ]
  },
  {
   "attachments": {},
   "cell_type": "markdown",
   "metadata": {},
   "source": [
    "Agrupar por discente e nome da disciplina para contar as *aprovações*."
   ]
  },
  {
   "cell_type": "code",
   "execution_count": 377,
   "metadata": {},
   "outputs": [],
   "source": [
    "aprovacoes_count = aprovacoes.groupby(['discente', 'nome']).size().unstack(fill_value=0)"
   ]
  },
  {
   "attachments": {},
   "cell_type": "markdown",
   "metadata": {},
   "source": [
    "Renomear as colunas para incluir *_APROVADO*."
   ]
  },
  {
   "cell_type": "code",
   "execution_count": 378,
   "metadata": {},
   "outputs": [],
   "source": [
    "aprovacoes_count.columns = [f\"{disciplina}_APROVADO\" for disciplina in aprovacoes_count.columns]"
   ]
  },
  {
   "attachments": {},
   "cell_type": "markdown",
   "metadata": {},
   "source": [
    "Mesclar as *aprovações* de volta ao DataFrame original."
   ]
  },
  {
   "cell_type": "code",
   "execution_count": 379,
   "metadata": {},
   "outputs": [],
   "source": [
    "# Criar `df_final` removendo duplicatas em 'discente' e juntando com `aprovacoes_count`\n",
    "df_final = df_dados_filtrado.drop_duplicates('discente').set_index('discente').join(aprovacoes_count, on='discente').fillna(0).reset_index()\n",
    "\n",
    "# Selecionar as colunas de df_final que não estão presentes em tabela_final\n",
    "colunas_para_juntar = [col for col in df_final.columns if col not in tabela_final.columns or col == 'discente']\n",
    "\n",
    "# Selecionar apenas as colunas necessárias\n",
    "df_final_rename = df_final[colunas_para_juntar]\n",
    "\n",
    "# Realizar a junção com tabela_final\n",
    "tabela_final = tabela_final.merge(df_final_rename, on='discente', how='left')"
   ]
  },
  {
   "attachments": {},
   "cell_type": "markdown",
   "metadata": {},
   "source": [
    "### Coluna com a quantidade de vezes que o discente foi **Reprovado**"
   ]
  },
  {
   "attachments": {},
   "cell_type": "markdown",
   "metadata": {},
   "source": [
    "Listar todas as disciplinas."
   ]
  },
  {
   "cell_type": "code",
   "execution_count": 380,
   "metadata": {},
   "outputs": [],
   "source": [
    "disciplinas = df_dados_filtrado['nome'].unique()"
   ]
  },
  {
   "cell_type": "markdown",
   "metadata": {},
   "source": [
    "Criar uma tabela de *reprovações* com o filtro da 1 unidade."
   ]
  },
  {
   "cell_type": "code",
   "execution_count": 381,
   "metadata": {},
   "outputs": [],
   "source": [
    "reprovacoes = filtrando_unidade[filtrando_unidade['descricao'].isin([\n",
    "    'REPROVADO',\n",
    "    'REPROVADO POR NOTA',\n",
    "    'REPROVADO POR FALTAS',\n",
    "    'REPROVADO POR NOTA E FALTA',\n",
    "    'REPROVADO POR MÉDIA E POR FALTAS'\n",
    "])]"
   ]
  },
  {
   "attachments": {},
   "cell_type": "markdown",
   "metadata": {},
   "source": [
    "Agrupar por discente e nome da disciplina para contar as *reprovações*."
   ]
  },
  {
   "cell_type": "code",
   "execution_count": 382,
   "metadata": {},
   "outputs": [],
   "source": [
    "reprovacoes_count = reprovacoes.groupby(['discente', 'nome']).size().unstack(fill_value=0)"
   ]
  },
  {
   "attachments": {},
   "cell_type": "markdown",
   "metadata": {},
   "source": [
    "Renomear as colunas para incluir *_REPROVADO*."
   ]
  },
  {
   "cell_type": "code",
   "execution_count": 383,
   "metadata": {},
   "outputs": [],
   "source": [
    "reprovacoes_count.columns = [f\"{disciplina}_REPROVADO\" for disciplina in reprovacoes_count.columns]"
   ]
  },
  {
   "attachments": {},
   "cell_type": "markdown",
   "metadata": {},
   "source": [
    "Mesclar as *reprovações* de volta ao DataFrame original."
   ]
  },
  {
   "cell_type": "code",
   "execution_count": 384,
   "metadata": {},
   "outputs": [],
   "source": [
    "# Criar `df_final` removendo duplicatas em 'discente' e juntando com `reprovacoes_count`\n",
    "df_final = df_dados_filtrado.drop_duplicates('discente').set_index('discente').join(reprovacoes_count, on='discente').fillna(0).reset_index()\n",
    "\n",
    "# Selecionar as colunas de df_final que não estão presentes em tabela_final\n",
    "colunas_para_juntar = [col for col in df_final.columns if col not in tabela_final.columns or col == 'discente']\n",
    "\n",
    "# Selecionar apenas as colunas necessárias\n",
    "df_final_rename = df_final[colunas_para_juntar]\n",
    "\n",
    "# Realizar a junção com tabela_final\n",
    "tabela_final = tabela_final.merge(df_final_rename, on='discente', how='left')"
   ]
  },
  {
   "attachments": {},
   "cell_type": "markdown",
   "metadata": {},
   "source": [
    "## Pivoteamento"
   ]
  },
  {
   "cell_type": "markdown",
   "metadata": {},
   "source": [
    "Pivoteando *Faltas*."
   ]
  },
  {
   "cell_type": "code",
   "execution_count": 385,
   "metadata": {},
   "outputs": [],
   "source": [
    "df_pivot_f = df_dados_filtrado.pivot_table(index='discente', columns='nome', values='frequencia')\n",
    "df_pivot_f = df_pivot_f.add_suffix('_FALTAS')\n"
   ]
  },
  {
   "cell_type": "markdown",
   "metadata": {},
   "source": [
    "Pivoteando *Notas*"
   ]
  },
  {
   "cell_type": "code",
   "execution_count": 386,
   "metadata": {},
   "outputs": [],
   "source": [
    "\n",
    "df_pivot_nota = df_dados_filtrado.pivot_table(index='discente', columns= ['nome','unidade'], values='nota', aggfunc=lambda x: x.iloc[-1])\n",
    "df_pivot_nota.columns = df_pivot_nota.columns.set_levels(\n",
    "    [level + '_NOTA_' for level in df_pivot_nota.columns.levels[0]],  # Aplicando o sufixo aos nomes do nível 'nome'\n",
    "    level=0  # Indicando que estamos modificando o primeiro nível (nome)\n",
    ")"
   ]
  },
  {
   "cell_type": "markdown",
   "metadata": {},
   "source": [
    "Achate as colunas juntando diferentes níveis."
   ]
  },
  {
   "cell_type": "code",
   "execution_count": 387,
   "metadata": {},
   "outputs": [],
   "source": [
    "df_pivot_nota.columns = [''.join(map(str, col)).strip() for col in df_pivot_nota.columns.values]"
   ]
  },
  {
   "cell_type": "markdown",
   "metadata": {},
   "source": [
    "Criação da tabela pivô com o último valor de *media_final*."
   ]
  },
  {
   "cell_type": "code",
   "execution_count": 388,
   "metadata": {},
   "outputs": [],
   "source": [
    "df_pivot_mf = df_dados_filtrado.pivot_table(index='discente', columns='nome', values='media_final', aggfunc=lambda x: x.iloc[-1])\n",
    "df_pivot_mf = df_pivot_mf.add_suffix('_MEDIA_FINAL_1.0')"
   ]
  },
  {
   "cell_type": "markdown",
   "metadata": {},
   "source": [
    "Criação da tabela pivô com a média da *media_final*."
   ]
  },
  {
   "cell_type": "code",
   "execution_count": 389,
   "metadata": {},
   "outputs": [],
   "source": [
    "df_pivot_mf_2 = df_dados_filtrado.pivot_table(index='discente', columns='nome', values='media_final', aggfunc='mean')\n",
    "df_pivot_mf_2 = df_pivot_mf_2.add_suffix('_MEDIA_FINAL_2.0')"
   ]
  },
  {
   "cell_type": "markdown",
   "metadata": {},
   "source": [
    "Criação da tabela pivô com o último valor de semestre"
   ]
  },
  {
   "cell_type": "code",
   "execution_count": 390,
   "metadata": {},
   "outputs": [],
   "source": [
    "\n",
    "df_pivot_sem = filtrando_unidade.pivot_table(index='discente', \n",
    "                                                   columns='nome', \n",
    "                                                   values='semestre', \n",
    "                                                   aggfunc=lambda x: x.iloc[-1] if len(x) > 0 else np.nan)\n",
    "df_pivot_sem = df_pivot_sem.add_suffix('_SEMESTRE')"
   ]
  },
  {
   "cell_type": "markdown",
   "metadata": {},
   "source": [
    "Juntando as tabelas anteriores com merge."
   ]
  },
  {
   "cell_type": "code",
   "execution_count": 391,
   "metadata": {},
   "outputs": [],
   "source": [
    "df_merged_1 = pd.merge(df_pivot_f, df_pivot_nota, on='discente')\n",
    "df_merged_2 = pd.merge(df_merged_1, df_pivot_mf, on='discente')\n",
    "df_merged_3 = pd.merge(df_merged_2, df_pivot_mf_2, on='discente')\n",
    "df_merged_4 = pd.merge(df_merged_3, df_pivot_sem, on='discente')\n",
    "df_merged_5 = pd.merge(df_merged_4, tabela_final, on='discente')\n"
   ]
  },
  {
   "attachments": {},
   "cell_type": "markdown",
   "metadata": {},
   "source": [
    "Substituir todos os valores 0 por -1."
   ]
  },
  {
   "cell_type": "code",
   "execution_count": 392,
   "metadata": {},
   "outputs": [],
   "source": [
    "df_merged_4.replace(0, -1, inplace=True)"
   ]
  },
  {
   "attachments": {},
   "cell_type": "markdown",
   "metadata": {},
   "source": [
    "Substituindo NaN por 0 nas colunas."
   ]
  },
  {
   "cell_type": "code",
   "execution_count": 393,
   "metadata": {},
   "outputs": [],
   "source": [
    "df_merged_5 = df_merged_5.fillna(0)\n"
   ]
  },
  {
   "attachments": {},
   "cell_type": "markdown",
   "metadata": {},
   "source": [
    "Arredondando todas as colunas para 1 casa decimal."
   ]
  },
  {
   "cell_type": "code",
   "execution_count": 394,
   "metadata": {},
   "outputs": [],
   "source": [
    "df_merged_5 = df_merged_5.round(2)"
   ]
  },
  {
   "cell_type": "markdown",
   "metadata": {},
   "source": [
    "# Selecionando e Organizando Colunas "
   ]
  },
  {
   "attachments": {},
   "cell_type": "markdown",
   "metadata": {},
   "source": [
    "Mudando a ordem das colunas."
   ]
  },
  {
   "cell_type": "code",
   "execution_count": 395,
   "metadata": {},
   "outputs": [],
   "source": [
    "colunas_ordenadas = ['ano_ingresso', 'ultimo_periodo', 'homem', 'mulher', 'ch_cumprida',\n",
    "                    'ch_cumprida_dividida', 'ch_reprovacao',\n",
    "                    'taxa_reprovacao', 'semestre_total', 'semestre_dividido', 'matricula',\n",
    "                    'ALGORITMOS E LÓGICA DE PROGRAMAÇÃO',\n",
    "                    'ALGORITMOS E LÓGICA DE PROGRAMAÇÃO_SEMESTRE',\n",
    "                    'ALGORITMOS E LÓGICA DE PROGRAMAÇÃO_APROVADO',\n",
    "                    'ALGORITMOS E LÓGICA DE PROGRAMAÇÃO_REPROVADO',\n",
    "                    'ALGORITMOS E LÓGICA DE PROGRAMAÇÃO_FALTAS',\n",
    "                    'ALGORITMOS E LÓGICA DE PROGRAMAÇÃO_NOTA_1.0',\n",
    "                    'ALGORITMOS E LÓGICA DE PROGRAMAÇÃO_NOTA_2.0',\n",
    "                    'ALGORITMOS E LÓGICA DE PROGRAMAÇÃO_NOTA_3.0',\n",
    "                    'ALGORITMOS E LÓGICA DE PROGRAMAÇÃO_MEDIA_FINAL_1.0',\n",
    "                    'ALGORITMOS E LÓGICA DE PROGRAMAÇÃO_MEDIA_FINAL_2.0',\n",
    "                    'INTRODUÇÃO À INFORMÁTICA',\n",
    "                    'INTRODUÇÃO À INFORMÁTICA_SEMESTRE',\n",
    "                    'INTRODUÇÃO À INFORMÁTICA_APROVADO',\n",
    "                    'INTRODUÇÃO À INFORMÁTICA_REPROVADO',\n",
    "                    'INTRODUÇÃO À INFORMÁTICA_FALTAS',\n",
    "                    'INTRODUÇÃO À INFORMÁTICA_NOTA_1.0',\n",
    "                    'INTRODUÇÃO À INFORMÁTICA_NOTA_2.0',\n",
    "                    'INTRODUÇÃO À INFORMÁTICA_NOTA_3.0',\n",
    "                    'INTRODUÇÃO À INFORMÁTICA_MEDIA_FINAL_1.0',\n",
    "                    'INTRODUÇÃO À INFORMÁTICA_MEDIA_FINAL_2.0',\n",
    "                    'FUNDAMENTOS DE MATEMÁTICA',\n",
    "                    'FUNDAMENTOS DE MATEMÁTICA_SEMESTRE',\n",
    "                    'FUNDAMENTOS DE MATEMÁTICA_APROVADO',\n",
    "                    'FUNDAMENTOS DE MATEMÁTICA_REPROVADO',\n",
    "                    'FUNDAMENTOS DE MATEMÁTICA_FALTAS',\n",
    "                    'FUNDAMENTOS DE MATEMÁTICA_NOTA_1.0',\n",
    "                    'FUNDAMENTOS DE MATEMÁTICA_NOTA_2.0',\n",
    "                    'FUNDAMENTOS DE MATEMÁTICA_NOTA_3.0',\n",
    "                    'FUNDAMENTOS DE MATEMÁTICA_MEDIA_FINAL_1.0',\n",
    "                    'FUNDAMENTOS DE MATEMÁTICA_MEDIA_FINAL_2.0',\n",
    "                    'LÓGICA',\n",
    "                    'LÓGICA_SEMESTRE',\n",
    "                    'LÓGICA_APROVADO',\n",
    "                    'LÓGICA_REPROVADO',\n",
    "                    'LÓGICA_FALTAS',\n",
    "                    'LÓGICA_NOTA_1.0',\n",
    "                    'LÓGICA_NOTA_2.0',\n",
    "                    'LÓGICA_NOTA_3.0',\n",
    "                    'LÓGICA_MEDIA_FINAL_1.0',\n",
    "                    'LÓGICA_MEDIA_FINAL_2.0',\n",
    "                    'TEORIA GERAL DA ADMINISTRAÇÃO',\n",
    "                    'TEORIA GERAL DA ADMINISTRAÇÃO_SEMESTRE',\n",
    "                    'TEORIA GERAL DA ADMINISTRAÇÃO_APROVADO',\n",
    "                    'TEORIA GERAL DA ADMINISTRAÇÃO_REPROVADO',\n",
    "                    'TEORIA GERAL DA ADMINISTRAÇÃO_FALTAS',\n",
    "                    'TEORIA GERAL DA ADMINISTRAÇÃO_NOTA_1.0',\n",
    "                    'TEORIA GERAL DA ADMINISTRAÇÃO_NOTA_2.0',\n",
    "                    'TEORIA GERAL DA ADMINISTRAÇÃO_NOTA_3.0',\n",
    "                    'TEORIA GERAL DA ADMINISTRAÇÃO_MEDIA_FINAL_1.0',\n",
    "                    'TEORIA GERAL DA ADMINISTRAÇÃO_MEDIA_FINAL_2.0',\n",
    "                    'PROGRAMAÇÃO',\n",
    "                    'PROGRAMAÇÃO_SEMESTRE',\n",
    "                    'PROGRAMAÇÃO_APROVADO',\n",
    "                    'PROGRAMAÇÃO_REPROVADO',\n",
    "                    'PROGRAMAÇÃO_FALTAS',\n",
    "                    'PROGRAMAÇÃO_NOTA_1.0',\n",
    "                    'PROGRAMAÇÃO_NOTA_2.0',\n",
    "                    'PROGRAMAÇÃO_NOTA_3.0',\n",
    "                    'PROGRAMAÇÃO_MEDIA_FINAL_1.0',\n",
    "                    'PROGRAMAÇÃO_MEDIA_FINAL_2.0',\n",
    "                    'CÁLCULO DIFERENCIAL E INTEGRAL',\n",
    "                    'CÁLCULO DIFERENCIAL E INTEGRAL_SEMESTRE',\n",
    "                    'CÁLCULO DIFERENCIAL E INTEGRAL_APROVADO',\n",
    "                    'CÁLCULO DIFERENCIAL E INTEGRAL_REPROVADO',\n",
    "                    'CÁLCULO DIFERENCIAL E INTEGRAL_FALTAS',\n",
    "                    'CÁLCULO DIFERENCIAL E INTEGRAL_NOTA_1.0',\n",
    "                    'CÁLCULO DIFERENCIAL E INTEGRAL_NOTA_2.0',\n",
    "                    'CÁLCULO DIFERENCIAL E INTEGRAL_NOTA_3.0',\n",
    "                    'CÁLCULO DIFERENCIAL E INTEGRAL_MEDIA_FINAL_1.0',\n",
    "                    'CÁLCULO DIFERENCIAL E INTEGRAL_MEDIA_FINAL_2.0',\n",
    "                    'TEORIA GERAL DOS SISTEMAS',\n",
    "                    'TEORIA GERAL DOS SISTEMAS_SEMESTRE',\n",
    "                    'TEORIA GERAL DOS SISTEMAS_APROVADO',\n",
    "                    'TEORIA GERAL DOS SISTEMAS_REPROVADO',\n",
    "                    'TEORIA GERAL DOS SISTEMAS_FALTAS',\n",
    "                    'TEORIA GERAL DOS SISTEMAS_NOTA_1.0',\n",
    "                    'TEORIA GERAL DOS SISTEMAS_NOTA_2.0',\n",
    "                    'TEORIA GERAL DOS SISTEMAS_NOTA_3.0',\n",
    "                    'TEORIA GERAL DOS SISTEMAS_MEDIA_FINAL_1.0',\n",
    "                    'TEORIA GERAL DOS SISTEMAS_MEDIA_FINAL_2.0',\n",
    "                    'PROGRAMAÇÃO ORIENTADA A OBJETOS I',\n",
    "                    'PROGRAMAÇÃO ORIENTADA A OBJETOS I_SEMESTRE',\n",
    "                    'PROGRAMAÇÃO ORIENTADA A OBJETOS I_APROVADO',\n",
    "                    'PROGRAMAÇÃO ORIENTADA A OBJETOS I_REPROVADO',\n",
    "                    'PROGRAMAÇÃO ORIENTADA A OBJETOS I_FALTAS',\n",
    "                    'PROGRAMAÇÃO ORIENTADA A OBJETOS I_NOTA_1.0',\n",
    "                    'PROGRAMAÇÃO ORIENTADA A OBJETOS I_NOTA_2.0',\n",
    "                    'PROGRAMAÇÃO ORIENTADA A OBJETOS I_NOTA_3.0',\n",
    "                    'PROGRAMAÇÃO ORIENTADA A OBJETOS I_MEDIA_FINAL_1.0',\n",
    "                    'PROGRAMAÇÃO ORIENTADA A OBJETOS I_MEDIA_FINAL_2.0',\n",
    "                    'ESTRUTURA DE DADOS',\n",
    "                    'ESTRUTURA DE DADOS_SEMESTRE',\n",
    "                    'ESTRUTURA DE DADOS_APROVADO',\n",
    "                    'ESTRUTURA DE DADOS_REPROVADO',\n",
    "                    'ESTRUTURA DE DADOS_FALTAS',\n",
    "                    'ESTRUTURA DE DADOS_NOTA_1.0',\n",
    "                    'ESTRUTURA DE DADOS_NOTA_2.0',\n",
    "                    'ESTRUTURA DE DADOS_NOTA_3.0',\n",
    "                    'ESTRUTURA DE DADOS_MEDIA_FINAL_1.0',\n",
    "                    'ESTRUTURA DE DADOS_MEDIA_FINAL_2.0',\n",
    "                    'ÁLGEBRA LINEAR',\n",
    "                    'ÁLGEBRA LINEAR_SEMESTRE',\n",
    "                    'ÁLGEBRA LINEAR_APROVADO',\n",
    "                    'ÁLGEBRA LINEAR_REPROVADO',\n",
    "                    'ÁLGEBRA LINEAR_FALTAS',\n",
    "                    'ÁLGEBRA LINEAR_NOTA_1.0',\n",
    "                    'ÁLGEBRA LINEAR_NOTA_2.0',\n",
    "                    'ÁLGEBRA LINEAR_NOTA_3.0',\n",
    "                    'ÁLGEBRA LINEAR_MEDIA_FINAL_1.0',\n",
    "                    'ÁLGEBRA LINEAR_MEDIA_FINAL_2.0',\n",
    "                    'ORGANIZAÇÃO, SISTEMAS E MÉTODOS',\n",
    "                    'ORGANIZAÇÃO, SISTEMAS E MÉTODOS_SEMESTRE',\n",
    "                    'ORGANIZAÇÃO, SISTEMAS E MÉTODOS_APROVADO',\n",
    "                    'ORGANIZAÇÃO, SISTEMAS E MÉTODOS_REPROVADO',\n",
    "                    'ORGANIZAÇÃO, SISTEMAS E MÉTODOS_FALTAS',\n",
    "                    'ORGANIZAÇÃO, SISTEMAS E MÉTODOS_NOTA_1.0',\n",
    "                    'ORGANIZAÇÃO, SISTEMAS E MÉTODOS_NOTA_2.0',\n",
    "                    'ORGANIZAÇÃO, SISTEMAS E MÉTODOS_NOTA_3.0',\n",
    "                    'ORGANIZAÇÃO, SISTEMAS E MÉTODOS_MEDIA_FINAL_1.0',\n",
    "                    'ORGANIZAÇÃO, SISTEMAS E MÉTODOS_MEDIA_FINAL_2.0',\n",
    "                    'FUNDAMENTOS DE SISTEMAS DE INFORMAÇÃO',\n",
    "                    'FUNDAMENTOS DE SISTEMAS DE INFORMAÇÃO_SEMESTRE',\n",
    "                    'FUNDAMENTOS DE SISTEMAS DE INFORMAÇÃO_APROVADO',\n",
    "                    'FUNDAMENTOS DE SISTEMAS DE INFORMAÇÃO_REPROVADO',\n",
    "                    'FUNDAMENTOS DE SISTEMAS DE INFORMAÇÃO_FALTAS',\n",
    "                    'FUNDAMENTOS DE SISTEMAS DE INFORMAÇÃO_NOTA_1.0',\n",
    "                    'FUNDAMENTOS DE SISTEMAS DE INFORMAÇÃO_NOTA_2.0',\n",
    "                    'FUNDAMENTOS DE SISTEMAS DE INFORMAÇÃO_NOTA_3.0',\n",
    "                    'FUNDAMENTOS DE SISTEMAS DE INFORMAÇÃO_MEDIA_FINAL_1.0',\n",
    "                    'FUNDAMENTOS DE SISTEMAS DE INFORMAÇÃO_MEDIA_FINAL_2.0',\n",
    "                    'PROGRAMAÇÃO WEB',\n",
    "                    'PROGRAMAÇÃO WEB_SEMESTRE',\n",
    "                    'PROGRAMAÇÃO WEB_APROVADO',\n",
    "                    'PROGRAMAÇÃO WEB_REPROVADO',\n",
    "                    'PROGRAMAÇÃO WEB_FALTAS',\n",
    "                    'PROGRAMAÇÃO WEB_NOTA_1.0',\n",
    "                    'PROGRAMAÇÃO WEB_NOTA_2.0',\n",
    "                    'PROGRAMAÇÃO WEB_NOTA_3.0',\n",
    "                    'PROGRAMAÇÃO WEB_MEDIA_FINAL_1.0',\n",
    "                    'PROGRAMAÇÃO WEB_MEDIA_FINAL_2.0',\n",
    "                    'ARQUITETURA DE COMPUTADORES',\n",
    "                    'ARQUITETURA DE COMPUTADORES_SEMESTRE',\n",
    "                    'ARQUITETURA DE COMPUTADORES_APROVADO',\n",
    "                    'ARQUITETURA DE COMPUTADORES_REPROVADO',\n",
    "                    'ARQUITETURA DE COMPUTADORES_FALTAS',\n",
    "                    'ARQUITETURA DE COMPUTADORES_NOTA_1.0',\n",
    "                    'ARQUITETURA DE COMPUTADORES_NOTA_2.0',\n",
    "                    'ARQUITETURA DE COMPUTADORES_NOTA_3.0',\n",
    "                    'ARQUITETURA DE COMPUTADORES_MEDIA_FINAL_1.0',\n",
    "                    'ARQUITETURA DE COMPUTADORES_MEDIA_FINAL_2.0',\n",
    "                    'PROBABILIDADE E ESTATÍSTICA',\n",
    "                    'PROBABILIDADE E ESTATÍSTICA_SEMESTRE',\n",
    "                    'PROBABILIDADE E ESTATÍSTICA_APROVADO',\n",
    "                    'PROBABILIDADE E ESTATÍSTICA_REPROVADO',\n",
    "                    'PROBABILIDADE E ESTATÍSTICA_FALTAS',\n",
    "                    'PROBABILIDADE E ESTATÍSTICA_NOTA_1.0',\n",
    "                    'PROBABILIDADE E ESTATÍSTICA_NOTA_2.0',\n",
    "                    'PROBABILIDADE E ESTATÍSTICA_NOTA_3.0',\n",
    "                    'PROBABILIDADE E ESTATÍSTICA_MEDIA_FINAL_1.0',\n",
    "                    'PROBABILIDADE E ESTATÍSTICA_MEDIA_FINAL_2.0',\n",
    "                    'BANCO DE DADOS',\n",
    "                    'BANCO DE DADOS_SEMESTRE',\n",
    "                    'BANCO DE DADOS_APROVADO',\n",
    "                    'BANCO DE DADOS_REPROVADO',\n",
    "                    'BANCO DE DADOS_FALTAS',\n",
    "                    'BANCO DE DADOS_NOTA_1.0',\n",
    "                    'BANCO DE DADOS_NOTA_2.0',\n",
    "                    'BANCO DE DADOS_NOTA_3.0',\n",
    "                    'BANCO DE DADOS_MEDIA_FINAL_1.0',\n",
    "                    'BANCO DE DADOS_MEDIA_FINAL_2.0',\n",
    "                    'ENGENHARIA DE SOFTWARE I',\n",
    "                    'ENGENHARIA DE SOFTWARE I_SEMESTRE',\n",
    "                    'ENGENHARIA DE SOFTWARE I_APROVADO',\n",
    "                    'ENGENHARIA DE SOFTWARE I_REPROVADO',\n",
    "                    'ENGENHARIA DE SOFTWARE I_FALTAS',\n",
    "                    'ENGENHARIA DE SOFTWARE I_NOTA_1.0',\n",
    "                    'ENGENHARIA DE SOFTWARE I_NOTA_2.0',\n",
    "                    'ENGENHARIA DE SOFTWARE I_NOTA_3.0',\n",
    "                    'ENGENHARIA DE SOFTWARE I_MEDIA_FINAL_1.0',\n",
    "                    'ENGENHARIA DE SOFTWARE I_MEDIA_FINAL_2.0',\n",
    "                    'PROGRAMAÇÃO ORIENTADA A OBJETOS II',\n",
    "                    'PROGRAMAÇÃO ORIENTADA A OBJETOS II_SEMESTRE',\n",
    "                    'PROGRAMAÇÃO ORIENTADA A OBJETOS II_APROVADO',\n",
    "                    'PROGRAMAÇÃO ORIENTADA A OBJETOS II_REPROVADO',\n",
    "                    'PROGRAMAÇÃO ORIENTADA A OBJETOS II_FALTAS',\n",
    "                    'PROGRAMAÇÃO ORIENTADA A OBJETOS II_NOTA_1.0',\n",
    "                    'PROGRAMAÇÃO ORIENTADA A OBJETOS II_NOTA_2.0',\n",
    "                    'PROGRAMAÇÃO ORIENTADA A OBJETOS II_NOTA_3.0',\n",
    "                    'PROGRAMAÇÃO ORIENTADA A OBJETOS II_MEDIA_FINAL_1.0',\n",
    "                    'PROGRAMAÇÃO ORIENTADA A OBJETOS II_MEDIA_FINAL_2.0',\n",
    "                    'SISTEMAS OPERACIONAIS',\n",
    "                    'SISTEMAS OPERACIONAIS_SEMESTRE',\n",
    "                    'SISTEMAS OPERACIONAIS_APROVADO',\n",
    "                    'SISTEMAS OPERACIONAIS_REPROVADO',\n",
    "                    'SISTEMAS OPERACIONAIS_FALTAS',\n",
    "                    'SISTEMAS OPERACIONAIS_NOTA_1.0',\n",
    "                    'SISTEMAS OPERACIONAIS_NOTA_2.0',\n",
    "                    'SISTEMAS OPERACIONAIS_NOTA_3.0',\n",
    "                    'SISTEMAS OPERACIONAIS_MEDIA_FINAL_1.0',\n",
    "                    'SISTEMAS OPERACIONAIS_MEDIA_FINAL_2.0',\n",
    "                    'PROJETO E ADMINISTRAÇÃO DE BANCO DE DADOS',\n",
    "                    'PROJETO E ADMINISTRAÇÃO DE BANCO DE DADOS_SEMESTRE',\n",
    "                    'PROJETO E ADMINISTRAÇÃO DE BANCO DE DADOS_APROVADO',\n",
    "                    'PROJETO E ADMINISTRAÇÃO DE BANCO DE DADOS_REPROVADO',\n",
    "                    'PROJETO E ADMINISTRAÇÃO DE BANCO DE DADOS_FALTAS',\n",
    "                    'PROJETO E ADMINISTRAÇÃO DE BANCO DE DADOS_NOTA_1.0',\n",
    "                    'PROJETO E ADMINISTRAÇÃO DE BANCO DE DADOS_NOTA_2.0',\n",
    "                    'PROJETO E ADMINISTRAÇÃO DE BANCO DE DADOS_NOTA_3.0',\n",
    "                    'PROJETO E ADMINISTRAÇÃO DE BANCO DE DADOS_MEDIA_FINAL_1.0',\n",
    "                    'PROJETO E ADMINISTRAÇÃO DE BANCO DE DADOS_MEDIA_FINAL_2.0',\n",
    "                    'ENGENHARIA DE SOFTWARE II',\n",
    "                    'ENGENHARIA DE SOFTWARE II_SEMESTRE',\n",
    "                    'ENGENHARIA DE SOFTWARE II_APROVADO',\n",
    "                    'ENGENHARIA DE SOFTWARE II_REPROVADO',\n",
    "                    'ENGENHARIA DE SOFTWARE II_FALTAS',\n",
    "                    'ENGENHARIA DE SOFTWARE II_NOTA_1.0',\n",
    "                    'ENGENHARIA DE SOFTWARE II_NOTA_2.0',\n",
    "                    'ENGENHARIA DE SOFTWARE II_NOTA_3.0',\n",
    "                    'ENGENHARIA DE SOFTWARE II_MEDIA_FINAL_1.0',\n",
    "                    'ENGENHARIA DE SOFTWARE II_MEDIA_FINAL_2.0',\n",
    "                    'REDES DE COMPUTADORES',\n",
    "                    'REDES DE COMPUTADORES_SEMESTRE',\n",
    "                    'REDES DE COMPUTADORES_APROVADO',\n",
    "                    'REDES DE COMPUTADORES_REPROVADO',\n",
    "                    'REDES DE COMPUTADORES_FALTAS',\n",
    "                    'REDES DE COMPUTADORES_NOTA_1.0',\n",
    "                    'REDES DE COMPUTADORES_NOTA_2.0',\n",
    "                    'REDES DE COMPUTADORES_NOTA_3.0',\n",
    "                    'REDES DE COMPUTADORES_MEDIA_FINAL_1.0',\n",
    "                    'REDES DE COMPUTADORES_MEDIA_FINAL_2.0',\n",
    "                    'EMPREENDEDORISMO EM INFORMÁTICA',\n",
    "                    'EMPREENDEDORISMO EM INFORMÁTICA_SEMESTRE',\n",
    "                    'EMPREENDEDORISMO EM INFORMÁTICA_APROVADO',\n",
    "                    'EMPREENDEDORISMO EM INFORMÁTICA_REPROVADO',\n",
    "                    'EMPREENDEDORISMO EM INFORMÁTICA_FALTAS',\n",
    "                    'EMPREENDEDORISMO EM INFORMÁTICA_NOTA_1.0',\n",
    "                    'EMPREENDEDORISMO EM INFORMÁTICA_NOTA_2.0',\n",
    "                    'EMPREENDEDORISMO EM INFORMÁTICA_NOTA_3.0',\n",
    "                    'EMPREENDEDORISMO EM INFORMÁTICA_MEDIA_FINAL_1.0',\n",
    "                    'EMPREENDEDORISMO EM INFORMÁTICA_MEDIA_FINAL_2.0',\n",
    "                    'GESTÃO DE PROJETO DE SOFTWARE',\n",
    "                    'GESTÃO DE PROJETO DE SOFTWARE_SEMESTRE',\n",
    "                    'GESTÃO DE PROJETO DE SOFTWARE_APROVADO',\n",
    "                    'GESTÃO DE PROJETO DE SOFTWARE_REPROVADO',\n",
    "                    'GESTÃO DE PROJETO DE SOFTWARE_FALTAS',\n",
    "                    'GESTÃO DE PROJETO DE SOFTWARE_NOTA_1.0',\n",
    "                    'GESTÃO DE PROJETO DE SOFTWARE_NOTA_2.0',\n",
    "                    'GESTÃO DE PROJETO DE SOFTWARE_NOTA_3.0',\n",
    "                    'GESTÃO DE PROJETO DE SOFTWARE_MEDIA_FINAL_1.0',\n",
    "                    'GESTÃO DE PROJETO DE SOFTWARE_MEDIA_FINAL_2.0',\n",
    "                    'PROGRAMAÇÃO VISUAL',\n",
    "                    'PROGRAMAÇÃO VISUAL_SEMESTRE',\n",
    "                    'PROGRAMAÇÃO VISUAL_APROVADO',\n",
    "                    'PROGRAMAÇÃO VISUAL_REPROVADO',\n",
    "                    'PROGRAMAÇÃO VISUAL_FALTAS',\n",
    "                    'PROGRAMAÇÃO VISUAL_NOTA_1.0',\n",
    "                    'PROGRAMAÇÃO VISUAL_NOTA_2.0',\n",
    "                    'PROGRAMAÇÃO VISUAL_NOTA_3.0',\n",
    "                    'PROGRAMAÇÃO VISUAL_MEDIA_FINAL_1.0',\n",
    "                    'PROGRAMAÇÃO VISUAL_MEDIA_FINAL_2.0',\n",
    "                    'MATEMÁTICA FINANCEIRA',\n",
    "                    'MATEMÁTICA FINANCEIRA_SEMESTRE',\n",
    "                    'MATEMÁTICA FINANCEIRA_APROVADO',\n",
    "                    'MATEMÁTICA FINANCEIRA_REPROVADO',\n",
    "                    'MATEMÁTICA FINANCEIRA_FALTAS',\n",
    "                    'MATEMÁTICA FINANCEIRA_NOTA_1.0',\n",
    "                    'MATEMÁTICA FINANCEIRA_NOTA_2.0',\n",
    "                    'MATEMÁTICA FINANCEIRA_NOTA_3.0',\n",
    "                    'MATEMÁTICA FINANCEIRA_MEDIA_FINAL_1.0',\n",
    "                    'MATEMÁTICA FINANCEIRA_MEDIA_FINAL_2.0',\n",
    "                    'SISTEMAS DE APOIO À DECISÃO',\n",
    "                    'SISTEMAS DE APOIO À DECISÃO_SEMESTRE',\n",
    "                    'SISTEMAS DE APOIO À DECISÃO_APROVADO',\n",
    "                    'SISTEMAS DE APOIO À DECISÃO_REPROVADO',\n",
    "                    'SISTEMAS DE APOIO À DECISÃO_FALTAS',\n",
    "                    'SISTEMAS DE APOIO À DECISÃO_NOTA_1.0',\n",
    "                    'SISTEMAS DE APOIO À DECISÃO_NOTA_2.0',\n",
    "                    'SISTEMAS DE APOIO À DECISÃO_NOTA_3.0',\n",
    "                    'SISTEMAS DE APOIO À DECISÃO_MEDIA_FINAL_1.0',\n",
    "                    'SISTEMAS DE APOIO À DECISÃO_MEDIA_FINAL_2.0',\n",
    "                    'ÉTICA',\n",
    "                    'ÉTICA_SEMESTRE',\n",
    "                    'ÉTICA_APROVADO',\n",
    "                    'ÉTICA_REPROVADO',\n",
    "                    'ÉTICA_FALTAS',\n",
    "                    'ÉTICA_NOTA_1.0',\n",
    "                    'ÉTICA_NOTA_2.0',\n",
    "                    'ÉTICA_NOTA_3.0',\n",
    "                    'ÉTICA_MEDIA_FINAL_1.0',\n",
    "                    'ÉTICA_MEDIA_FINAL_2.0',\n",
    "                    'tempo_relativo',\n",
    "                    'status'\n",
    "                      ]\n",
    "df_merged_5 = df_merged_5[colunas_ordenadas]"
   ]
  },
  {
   "attachments": {},
   "cell_type": "markdown",
   "metadata": {},
   "source": [
    "# Salvando DataFrames"
   ]
  },
  {
   "attachments": {},
   "cell_type": "markdown",
   "metadata": {},
   "source": [
    "Para salvar o DataFrame no formato CSV com a separação por ',' e garantir que os dados numéricos estejam no formato correto."
   ]
  },
  {
   "cell_type": "code",
   "execution_count": 396,
   "metadata": {},
   "outputs": [],
   "source": [
    "df_merged_5.to_csv('df_bsi.csv', index=False, sep=',', quoting=csv.QUOTE_NONNUMERIC)"
   ]
  },
  {
   "cell_type": "code",
   "execution_count": 397,
   "metadata": {},
   "outputs": [],
   "source": [
    "df_dados_filtrado.to_csv('df_filtrado.csv', index=False, sep=',', quoting=csv.QUOTE_NONNUMERIC)"
   ]
  },
  {
   "cell_type": "code",
   "execution_count": 398,
   "metadata": {},
   "outputs": [],
   "source": [
    "tabela_final.to_csv('tabela_final.csv', index=False, sep=',', quoting=csv.QUOTE_NONNUMERIC)"
   ]
  }
 ],
 "metadata": {
  "kernelspec": {
   "display_name": "Python 3",
   "language": "python",
   "name": "python3"
  },
  "language_info": {
   "codemirror_mode": {
    "name": "ipython",
    "version": 3
   },
   "file_extension": ".py",
   "mimetype": "text/x-python",
   "name": "python",
   "nbconvert_exporter": "python",
   "pygments_lexer": "ipython3",
   "version": "3.10.12"
  },
  "orig_nbformat": 4,
  "vscode": {
   "interpreter": {
    "hash": "916dbcbb3f70747c44a77c7bcd40155683ae19c65e1c03b4aa3499c5328201f1"
   }
  }
 },
 "nbformat": 4,
 "nbformat_minor": 2
}
