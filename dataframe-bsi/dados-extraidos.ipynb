{
 "cells": [
  {
   "attachments": {},
   "cell_type": "markdown",
   "metadata": {},
   "source": [
    "# Extraindo Dados"
   ]
  },
  {
   "attachments": {},
   "cell_type": "markdown",
   "metadata": {},
   "source": [
    "Desenvolvendo uma tabela que contenha os seguintes dados: \n",
    "- o identificador do discente; \n",
    "- o sexo do discente;\n",
    "- o ano em que o discente ingressou na instituição;\n",
    "- o ano e período da última matrícula realizada pelo discente;\n",
    "- os sementres cursados pelo discente;\n",
    "- um calcúlo de semestres cursados dividido pelo o numero de semestre ideal do curso;\n",
    "- a carga horária cumprida pelo discente;\n",
    "- a carga horária cumprida pelo discente dividida pela carga horaria ideal;\n",
    "- tempo relativo que o discente evadiu ou concluiu o curso;\n",
    "- status atual do discente;\n",
    "- quantidade de vezes que o discente se matriculou nas disciplinas;\n",
    "- quantidade de vezes que o discente se matriculou em cada disciplina;\n",
    "- quantidade de vezes que o discente foi aprovado em cada disciplina;\n",
    "- quantidade de vezes que o discente foi reprovado em cada disciplina."
   ]
  },
  {
   "attachments": {},
   "cell_type": "markdown",
   "metadata": {},
   "source": [
    "Importando o Pandas e o Csv."
   ]
  },
  {
   "cell_type": "code",
   "execution_count": 154,
   "metadata": {},
   "outputs": [],
   "source": [
    "import pandas as pd\n",
    "import csv"
   ]
  },
  {
   "attachments": {},
   "cell_type": "markdown",
   "metadata": {},
   "source": [
    "Leitura do arquivo em csv e carregamento desses dados em um DataFrame usando o ponto e vírgula como separador."
   ]
  },
  {
   "cell_type": "code",
   "execution_count": 155,
   "metadata": {},
   "outputs": [],
   "source": [
    "df_dados = pd.read_csv('dataframe-bsi-2009-2022.csv', sep=';')"
   ]
  },
  {
   "attachments": {},
   "cell_type": "markdown",
   "metadata": {},
   "source": [
    "Listando as colunas do dataframe."
   ]
  },
  {
   "cell_type": "code",
   "execution_count": 156,
   "metadata": {},
   "outputs": [
    {
     "data": {
      "text/plain": [
       "Index(['discente', 'unidade', 'media_final', 'descricao', 'ano',\n",
       "       'id_componente', 'nome', 'ch_total', 'sexo', 'ano_nascimento',\n",
       "       'ano_ingresso', 'status'],\n",
       "      dtype='object')"
      ]
     },
     "execution_count": 156,
     "metadata": {},
     "output_type": "execute_result"
    }
   ],
   "source": [
    "df_dados.columns"
   ]
  },
  {
   "attachments": {},
   "cell_type": "markdown",
   "metadata": {},
   "source": [
    "# Filtros"
   ]
  },
  {
   "attachments": {},
   "cell_type": "markdown",
   "metadata": {},
   "source": [
    "Fazendo um recorte da nossa análise, vamos começar por disciplinas obrigatórias do Bacharelado em Sistemas da Informação (BSI):"
   ]
  },
  {
   "cell_type": "code",
   "execution_count": 157,
   "metadata": {},
   "outputs": [],
   "source": [
    "lista_obrigatórias = [\n",
    "                'ALGORITMOS E LÓGICA DE PROGRAMAÇÃO',\n",
    "                'INTRODUÇÃO À INFORMÁTICA',\n",
    "                'FUNDAMENTOS DE MATEMÁTICA',\n",
    "                'LÓGICA',\n",
    "                'TEORIA GERAL DA ADMINISTRAÇÃO',\n",
    "                'PROGRAMAÇÃO',\n",
    "                'CÁLCULO DIFERENCIAL E INTEGRAL',\n",
    "                'TEORIA GERAL DOS SISTEMAS',\n",
    "                'PROGRAMAÇÃO ORIENTADA A OBJETOS I',\n",
    "                'ESTRUTURA DE DADOS',\n",
    "                'ÁLGEBRA LINEAR',\n",
    "                'ORGANIZAÇÃO, SISTEMAS E MÉTODOS',\n",
    "                'FUNDAMENTOS DE SISTEMAS DE INFORMAÇÃO',\n",
    "                'PROGRAMAÇÃO WEB',\n",
    "                'ARQUITETURA DE COMPUTADORES',\n",
    "                'PROBABILIDADE E ESTATÍSTICA',\n",
    "                'BANCO DE DADOS',\n",
    "                'ENGENHARIA DE SOFTWARE I',\n",
    "                'PROGRAMAÇÃO ORIENTADA A OBJETOS II',\n",
    "                'SISTEMAS OPERACIONAIS',\n",
    "                'PROJETO E ADMINISTRAÇÃO DE BANCO DE DADOS',\n",
    "                'ENGENHARIA DE SOFTWARE II',\n",
    "                'REDES DE COMPUTADORES',\n",
    "                'EMPREENDEDORISMO EM INFORMÁTICA',\n",
    "                'GESTÃO DE PROJETO DE SOFTWARE',\n",
    "                'PROGRAMAÇÃO VISUAL',\n",
    "                'MATEMÁTICA FINANCEIRA',\n",
    "                'SISTEMAS DE APOIO À DECISÃO',\n",
    "                'ÉTICA',\n",
    "                ]\n",
    "condição_nome = f\"nome in {lista_obrigatórias}\"\n",
    "df_dados_filtrado = df_dados.query(condição_nome)"
   ]
  },
  {
   "attachments": {},
   "cell_type": "markdown",
   "metadata": {},
   "source": [
    "Listando os dados NaN."
   ]
  },
  {
   "cell_type": "code",
   "execution_count": 158,
   "metadata": {},
   "outputs": [
    {
     "data": {
      "text/plain": [
       "discente             0\n",
       "unidade           2034\n",
       "media_final       4449\n",
       "descricao            0\n",
       "ano                  0\n",
       "id_componente        0\n",
       "nome                 0\n",
       "ch_total             0\n",
       "sexo                 0\n",
       "ano_nascimento       0\n",
       "ano_ingresso         0\n",
       "status               0\n",
       "dtype: int64"
      ]
     },
     "execution_count": 158,
     "metadata": {},
     "output_type": "execute_result"
    }
   ],
   "source": [
    "df_dados_filtrado.isnull().sum()"
   ]
  },
  {
   "attachments": {},
   "cell_type": "markdown",
   "metadata": {},
   "source": [
    "Preenchendo os dados NaN da coluna **unidade** com 1."
   ]
  },
  {
   "cell_type": "code",
   "execution_count": 159,
   "metadata": {},
   "outputs": [],
   "source": [
    "df_dados_filtrado.loc[:, 'unidade'] = df_dados_filtrado['unidade'].fillna(1)"
   ]
  },
  {
   "attachments": {},
   "cell_type": "markdown",
   "metadata": {},
   "source": [
    "Filtrar os dados onde a coluna **unidade** foi preenchida com 1."
   ]
  },
  {
   "cell_type": "code",
   "execution_count": 160,
   "metadata": {},
   "outputs": [],
   "source": [
    "df_dados_filtrado = df_dados_filtrado[df_dados_filtrado['unidade'] == 1]"
   ]
  },
  {
   "attachments": {},
   "cell_type": "markdown",
   "metadata": {},
   "source": [
    "Renomeando dados da coluna descrição."
   ]
  },
  {
   "cell_type": "code",
   "execution_count": 161,
   "metadata": {},
   "outputs": [],
   "source": [
    "df_dados_filtrado = df_dados_filtrado.replace({'descricao':\n",
    "               {'APROVADO POR NOTA':'APROVADO',\n",
    "                'REPROVADO POR FALTAS':'REPROVADO',\n",
    "                'REPROVADO POR MÉDIA E POR FALTAS':'REPROVADO',\n",
    "                'REPROVADO POR NOTA E FALTA':'REPROVADO',\n",
    "                'REPROVADO POR NOTA':'REPROVADO',\n",
    "                }}, regex=True)"
   ]
  },
  {
   "attachments": {},
   "cell_type": "markdown",
   "metadata": {},
   "source": [
    "Contando os valores dos dados da coluna descrição."
   ]
  },
  {
   "cell_type": "code",
   "execution_count": 162,
   "metadata": {},
   "outputs": [
    {
     "data": {
      "text/plain": [
       "descricao\n",
       "APROVADO       8390\n",
       "REPROVADO      2771\n",
       "EXCLUIDA       1118\n",
       "CANCELADO       898\n",
       "TRANCADO        591\n",
       "INDEFERIDO      397\n",
       "DESISTENCIA     178\n",
       "Name: count, dtype: int64"
      ]
     },
     "execution_count": 162,
     "metadata": {},
     "output_type": "execute_result"
    }
   ],
   "source": [
    "df_dados_filtrado.descricao.value_counts()"
   ]
  },
  {
   "attachments": {},
   "cell_type": "markdown",
   "metadata": {},
   "source": [
    "## Extraindo dados"
   ]
  },
  {
   "attachments": {},
   "cell_type": "markdown",
   "metadata": {},
   "source": [
    "### Colunas com as Disciplinas"
   ]
  },
  {
   "attachments": {},
   "cell_type": "markdown",
   "metadata": {},
   "source": [
    "Calculando a quantidade de vezes que cada discente cursou cada *disciplina*."
   ]
  },
  {
   "cell_type": "code",
   "execution_count": 163,
   "metadata": {},
   "outputs": [],
   "source": [
    "quantidade_disciplinas = df_dados_filtrado.groupby(['discente', 'nome']).size().reset_index(name='quantidade')\n"
   ]
  },
  {
   "attachments": {},
   "cell_type": "markdown",
   "metadata": {},
   "source": [
    "Pivotando as *disciplinas*."
   ]
  },
  {
   "cell_type": "code",
   "execution_count": 164,
   "metadata": {},
   "outputs": [],
   "source": [
    "tabela_final = quantidade_disciplinas.pivot(index='discente', columns='nome', values='quantidade').reset_index()"
   ]
  },
  {
   "attachments": {},
   "cell_type": "markdown",
   "metadata": {},
   "source": [
    "### Coluna com o Ano de Ingresso"
   ]
  },
  {
   "attachments": {},
   "cell_type": "markdown",
   "metadata": {},
   "source": [
    "Adicionando o *ano_ingresso* para cada discente."
   ]
  },
  {
   "cell_type": "code",
   "execution_count": 165,
   "metadata": {},
   "outputs": [],
   "source": [
    "ano_ingresso_discente = df_dados_filtrado.drop_duplicates(subset=['discente'])[['discente', 'ano_ingresso']]\n",
    "tabela_final = tabela_final.merge(ano_ingresso_discente, on='discente', how='left')"
   ]
  },
  {
   "attachments": {},
   "cell_type": "markdown",
   "metadata": {},
   "source": [
    "### Coluna com o Sexo do Discente"
   ]
  },
  {
   "attachments": {},
   "cell_type": "markdown",
   "metadata": {},
   "source": [
    "Definir a opção global para permitir o downcasting silencioso"
   ]
  },
  {
   "cell_type": "code",
   "execution_count": 166,
   "metadata": {},
   "outputs": [],
   "source": [
    "pd.set_option('future.no_silent_downcasting', True)"
   ]
  },
  {
   "attachments": {},
   "cell_type": "markdown",
   "metadata": {},
   "source": [
    "Alterando o conteúdo da coluna *sexo*."
   ]
  },
  {
   "cell_type": "code",
   "execution_count": 167,
   "metadata": {},
   "outputs": [],
   "source": [
    "df_dados_filtrado['sexo'] = df_dados_filtrado['sexo'].replace({'M': 0, 'F': 1})\n",
    "df_dados_filtrado = df_dados_filtrado.infer_objects(copy=False)"
   ]
  },
  {
   "attachments": {},
   "cell_type": "markdown",
   "metadata": {},
   "source": [
    "Adicionando a coluna *sexo*."
   ]
  },
  {
   "cell_type": "code",
   "execution_count": 168,
   "metadata": {},
   "outputs": [],
   "source": [
    "sexo_discente = df_dados_filtrado.drop_duplicates(subset=['discente'])[['discente', 'sexo']]\n",
    "tabela_final = tabela_final.merge(sexo_discente, on='discente', how='left')"
   ]
  },
  {
   "attachments": {},
   "cell_type": "markdown",
   "metadata": {},
   "source": [
    "### Coluna com o Status do Discente"
   ]
  },
  {
   "attachments": {},
   "cell_type": "markdown",
   "metadata": {},
   "source": [
    "Alterando o conteúdo da coluna *status*."
   ]
  },
  {
   "cell_type": "code",
   "execution_count": 169,
   "metadata": {},
   "outputs": [],
   "source": [
    "df_dados_filtrado['status'] = df_dados_filtrado['status'].replace({'CANCELADO': -1, 'ATIVO': -1, 'ATIVO - FORMANDO': -1,'FORMADO': 1,'CONCLUÍDO': 1})"
   ]
  },
  {
   "attachments": {},
   "cell_type": "markdown",
   "metadata": {},
   "source": [
    "Adicionando o *status* para cada discente."
   ]
  },
  {
   "cell_type": "code",
   "execution_count": 170,
   "metadata": {},
   "outputs": [],
   "source": [
    "status_discente = df_dados_filtrado.drop_duplicates(subset=['discente'])[['discente', 'status']]\n",
    "tabela_final = tabela_final.merge(status_discente, on='discente', how='left')"
   ]
  },
  {
   "attachments": {},
   "cell_type": "markdown",
   "metadata": {},
   "source": [
    "### Coluna com a Carga Horária Cumprida"
   ]
  },
  {
   "attachments": {},
   "cell_type": "markdown",
   "metadata": {},
   "source": [
    "Agrupando por discente e somando a *carga horária*."
   ]
  },
  {
   "cell_type": "code",
   "execution_count": 171,
   "metadata": {},
   "outputs": [],
   "source": [
    "df_carga_horaria_cumprida = df_dados_filtrado.groupby('discente')['ch_total'].sum().reset_index()\n",
    "df_carga_horaria_cumprida.rename(columns={'ch_total': 'ch_cumprida'}, inplace=True)"
   ]
  },
  {
   "attachments": {},
   "cell_type": "markdown",
   "metadata": {},
   "source": [
    "Adicionando a *carga horária cumprida* de cada discente."
   ]
  },
  {
   "cell_type": "code",
   "execution_count": 172,
   "metadata": {},
   "outputs": [],
   "source": [
    "tabela_final = tabela_final.merge(df_carga_horaria_cumprida, on='discente', how='left')"
   ]
  },
  {
   "attachments": {},
   "cell_type": "markdown",
   "metadata": {},
   "source": [
    "Dividindo a *carga horária cumprida* do discente pela carga horária das disciplinas obrigatórias."
   ]
  },
  {
   "cell_type": "code",
   "execution_count": 173,
   "metadata": {},
   "outputs": [],
   "source": [
    "tabela_final['ch_cumprida_dividida'] = tabela_final['ch_cumprida'] / 1830"
   ]
  },
  {
   "attachments": {},
   "cell_type": "markdown",
   "metadata": {},
   "source": [
    "### Coluna com a Carga Horária Cumprida com Reprovação"
   ]
  },
  {
   "attachments": {},
   "cell_type": "markdown",
   "metadata": {},
   "source": [
    "Filtrar as disciplinas *reprovadas*."
   ]
  },
  {
   "cell_type": "code",
   "execution_count": 174,
   "metadata": {},
   "outputs": [],
   "source": [
    "df_reprovadas = df_dados_filtrado[df_dados_filtrado['descricao'] == 'REPROVADO']"
   ]
  },
  {
   "attachments": {},
   "cell_type": "markdown",
   "metadata": {},
   "source": [
    "Agrupar por discente e somar a *carga horária das disciplinas reprovadas*."
   ]
  },
  {
   "cell_type": "code",
   "execution_count": 175,
   "metadata": {},
   "outputs": [],
   "source": [
    "ch_reprovacao = df_reprovadas.groupby('discente')['ch_total'].sum().reset_index()"
   ]
  },
  {
   "attachments": {},
   "cell_type": "markdown",
   "metadata": {},
   "source": [
    "Renomear a coluna resultante."
   ]
  },
  {
   "cell_type": "code",
   "execution_count": 176,
   "metadata": {},
   "outputs": [],
   "source": [
    "ch_reprovacao.columns = ['discente', 'ch_reprovacao']"
   ]
  },
  {
   "attachments": {},
   "cell_type": "markdown",
   "metadata": {},
   "source": [
    "Adicionando a *carga horária de reprovação* de cada discente."
   ]
  },
  {
   "cell_type": "code",
   "execution_count": 177,
   "metadata": {},
   "outputs": [],
   "source": [
    "tabela_final = tabela_final.merge(ch_reprovacao, on='discente', how='left')"
   ]
  },
  {
   "attachments": {},
   "cell_type": "markdown",
   "metadata": {},
   "source": [
    "Substituindo NaN por 0 nas colunas."
   ]
  },
  {
   "cell_type": "code",
   "execution_count": 178,
   "metadata": {},
   "outputs": [],
   "source": [
    "tabela_final = tabela_final.fillna(0)"
   ]
  },
  {
   "attachments": {},
   "cell_type": "markdown",
   "metadata": {},
   "source": [
    "### Coluna com taxa de reprovação"
   ]
  },
  {
   "cell_type": "code",
   "execution_count": 179,
   "metadata": {},
   "outputs": [
    {
     "data": {
      "text/html": [
       "<div>\n",
       "<style scoped>\n",
       "    .dataframe tbody tr th:only-of-type {\n",
       "        vertical-align: middle;\n",
       "    }\n",
       "\n",
       "    .dataframe tbody tr th {\n",
       "        vertical-align: top;\n",
       "    }\n",
       "\n",
       "    .dataframe thead th {\n",
       "        text-align: right;\n",
       "    }\n",
       "</style>\n",
       "<table border=\"1\" class=\"dataframe\">\n",
       "  <thead>\n",
       "    <tr style=\"text-align: right;\">\n",
       "      <th></th>\n",
       "      <th>discente</th>\n",
       "      <th>ALGORITMOS E LÓGICA DE PROGRAMAÇÃO</th>\n",
       "      <th>ARQUITETURA DE COMPUTADORES</th>\n",
       "      <th>BANCO DE DADOS</th>\n",
       "      <th>CÁLCULO DIFERENCIAL E INTEGRAL</th>\n",
       "      <th>EMPREENDEDORISMO EM INFORMÁTICA</th>\n",
       "      <th>ENGENHARIA DE SOFTWARE I</th>\n",
       "      <th>ENGENHARIA DE SOFTWARE II</th>\n",
       "      <th>ESTRUTURA DE DADOS</th>\n",
       "      <th>FUNDAMENTOS DE MATEMÁTICA</th>\n",
       "      <th>...</th>\n",
       "      <th>TEORIA GERAL DOS SISTEMAS</th>\n",
       "      <th>ÁLGEBRA LINEAR</th>\n",
       "      <th>ÉTICA</th>\n",
       "      <th>ano_ingresso</th>\n",
       "      <th>sexo</th>\n",
       "      <th>status</th>\n",
       "      <th>ch_cumprida</th>\n",
       "      <th>ch_cumprida_dividida</th>\n",
       "      <th>ch_reprovacao</th>\n",
       "      <th>taxa_reprovacao</th>\n",
       "    </tr>\n",
       "  </thead>\n",
       "  <tbody>\n",
       "    <tr>\n",
       "      <th>0</th>\n",
       "      <td>001cea3c82e2010681f2cdeab21e5ecf</td>\n",
       "      <td>1.0</td>\n",
       "      <td>0.0</td>\n",
       "      <td>0.0</td>\n",
       "      <td>0.0</td>\n",
       "      <td>0.0</td>\n",
       "      <td>0.0</td>\n",
       "      <td>0.0</td>\n",
       "      <td>0.0</td>\n",
       "      <td>1.0</td>\n",
       "      <td>...</td>\n",
       "      <td>0.0</td>\n",
       "      <td>0.0</td>\n",
       "      <td>0.0</td>\n",
       "      <td>2018</td>\n",
       "      <td>0</td>\n",
       "      <td>-1</td>\n",
       "      <td>330</td>\n",
       "      <td>0.180328</td>\n",
       "      <td>0.0</td>\n",
       "      <td>0.000000</td>\n",
       "    </tr>\n",
       "    <tr>\n",
       "      <th>1</th>\n",
       "      <td>005c14d7c07bf7980b60c703f99c5ee7</td>\n",
       "      <td>1.0</td>\n",
       "      <td>2.0</td>\n",
       "      <td>1.0</td>\n",
       "      <td>1.0</td>\n",
       "      <td>0.0</td>\n",
       "      <td>1.0</td>\n",
       "      <td>0.0</td>\n",
       "      <td>3.0</td>\n",
       "      <td>3.0</td>\n",
       "      <td>...</td>\n",
       "      <td>1.0</td>\n",
       "      <td>2.0</td>\n",
       "      <td>1.0</td>\n",
       "      <td>2018</td>\n",
       "      <td>0</td>\n",
       "      <td>-1</td>\n",
       "      <td>2340</td>\n",
       "      <td>1.278689</td>\n",
       "      <td>960.0</td>\n",
       "      <td>0.410256</td>\n",
       "    </tr>\n",
       "    <tr>\n",
       "      <th>2</th>\n",
       "      <td>0107fd69d8cd7e3d30dede96fb68bfe5</td>\n",
       "      <td>2.0</td>\n",
       "      <td>0.0</td>\n",
       "      <td>0.0</td>\n",
       "      <td>0.0</td>\n",
       "      <td>0.0</td>\n",
       "      <td>0.0</td>\n",
       "      <td>0.0</td>\n",
       "      <td>0.0</td>\n",
       "      <td>1.0</td>\n",
       "      <td>...</td>\n",
       "      <td>1.0</td>\n",
       "      <td>0.0</td>\n",
       "      <td>1.0</td>\n",
       "      <td>2011</td>\n",
       "      <td>0</td>\n",
       "      <td>-1</td>\n",
       "      <td>870</td>\n",
       "      <td>0.475410</td>\n",
       "      <td>270.0</td>\n",
       "      <td>0.310345</td>\n",
       "    </tr>\n",
       "    <tr>\n",
       "      <th>3</th>\n",
       "      <td>014789363f7940922e71e710ee9d22bc</td>\n",
       "      <td>2.0</td>\n",
       "      <td>3.0</td>\n",
       "      <td>1.0</td>\n",
       "      <td>0.0</td>\n",
       "      <td>1.0</td>\n",
       "      <td>1.0</td>\n",
       "      <td>1.0</td>\n",
       "      <td>2.0</td>\n",
       "      <td>3.0</td>\n",
       "      <td>...</td>\n",
       "      <td>1.0</td>\n",
       "      <td>1.0</td>\n",
       "      <td>1.0</td>\n",
       "      <td>2016</td>\n",
       "      <td>0</td>\n",
       "      <td>1</td>\n",
       "      <td>2430</td>\n",
       "      <td>1.327869</td>\n",
       "      <td>540.0</td>\n",
       "      <td>0.222222</td>\n",
       "    </tr>\n",
       "    <tr>\n",
       "      <th>4</th>\n",
       "      <td>014f0dec46fe7a9c5836527662e1df10</td>\n",
       "      <td>1.0</td>\n",
       "      <td>0.0</td>\n",
       "      <td>1.0</td>\n",
       "      <td>0.0</td>\n",
       "      <td>0.0</td>\n",
       "      <td>0.0</td>\n",
       "      <td>0.0</td>\n",
       "      <td>0.0</td>\n",
       "      <td>1.0</td>\n",
       "      <td>...</td>\n",
       "      <td>0.0</td>\n",
       "      <td>0.0</td>\n",
       "      <td>0.0</td>\n",
       "      <td>2020</td>\n",
       "      <td>0</td>\n",
       "      <td>-1</td>\n",
       "      <td>630</td>\n",
       "      <td>0.344262</td>\n",
       "      <td>0.0</td>\n",
       "      <td>0.000000</td>\n",
       "    </tr>\n",
       "    <tr>\n",
       "      <th>...</th>\n",
       "      <td>...</td>\n",
       "      <td>...</td>\n",
       "      <td>...</td>\n",
       "      <td>...</td>\n",
       "      <td>...</td>\n",
       "      <td>...</td>\n",
       "      <td>...</td>\n",
       "      <td>...</td>\n",
       "      <td>...</td>\n",
       "      <td>...</td>\n",
       "      <td>...</td>\n",
       "      <td>...</td>\n",
       "      <td>...</td>\n",
       "      <td>...</td>\n",
       "      <td>...</td>\n",
       "      <td>...</td>\n",
       "      <td>...</td>\n",
       "      <td>...</td>\n",
       "      <td>...</td>\n",
       "      <td>...</td>\n",
       "      <td>...</td>\n",
       "    </tr>\n",
       "    <tr>\n",
       "      <th>677</th>\n",
       "      <td>fe802d8d85de6f842749468401d1146c</td>\n",
       "      <td>2.0</td>\n",
       "      <td>0.0</td>\n",
       "      <td>0.0</td>\n",
       "      <td>0.0</td>\n",
       "      <td>0.0</td>\n",
       "      <td>0.0</td>\n",
       "      <td>0.0</td>\n",
       "      <td>0.0</td>\n",
       "      <td>2.0</td>\n",
       "      <td>...</td>\n",
       "      <td>1.0</td>\n",
       "      <td>0.0</td>\n",
       "      <td>0.0</td>\n",
       "      <td>2022</td>\n",
       "      <td>0</td>\n",
       "      <td>-1</td>\n",
       "      <td>540</td>\n",
       "      <td>0.295082</td>\n",
       "      <td>270.0</td>\n",
       "      <td>0.500000</td>\n",
       "    </tr>\n",
       "    <tr>\n",
       "      <th>678</th>\n",
       "      <td>fe87dfa176a74fc10a5cb701b9fb5dd4</td>\n",
       "      <td>0.0</td>\n",
       "      <td>0.0</td>\n",
       "      <td>0.0</td>\n",
       "      <td>0.0</td>\n",
       "      <td>0.0</td>\n",
       "      <td>0.0</td>\n",
       "      <td>2.0</td>\n",
       "      <td>0.0</td>\n",
       "      <td>0.0</td>\n",
       "      <td>...</td>\n",
       "      <td>0.0</td>\n",
       "      <td>0.0</td>\n",
       "      <td>0.0</td>\n",
       "      <td>2016</td>\n",
       "      <td>0</td>\n",
       "      <td>1</td>\n",
       "      <td>420</td>\n",
       "      <td>0.229508</td>\n",
       "      <td>0.0</td>\n",
       "      <td>0.000000</td>\n",
       "    </tr>\n",
       "    <tr>\n",
       "      <th>679</th>\n",
       "      <td>fec9ed6026d55ecdf514c640312c3d08</td>\n",
       "      <td>1.0</td>\n",
       "      <td>1.0</td>\n",
       "      <td>1.0</td>\n",
       "      <td>1.0</td>\n",
       "      <td>0.0</td>\n",
       "      <td>1.0</td>\n",
       "      <td>0.0</td>\n",
       "      <td>1.0</td>\n",
       "      <td>1.0</td>\n",
       "      <td>...</td>\n",
       "      <td>1.0</td>\n",
       "      <td>1.0</td>\n",
       "      <td>0.0</td>\n",
       "      <td>2020</td>\n",
       "      <td>0</td>\n",
       "      <td>-1</td>\n",
       "      <td>1470</td>\n",
       "      <td>0.803279</td>\n",
       "      <td>0.0</td>\n",
       "      <td>0.000000</td>\n",
       "    </tr>\n",
       "    <tr>\n",
       "      <th>680</th>\n",
       "      <td>ff56f2c5048dae0797fd3e851572b80c</td>\n",
       "      <td>4.0</td>\n",
       "      <td>1.0</td>\n",
       "      <td>1.0</td>\n",
       "      <td>1.0</td>\n",
       "      <td>1.0</td>\n",
       "      <td>1.0</td>\n",
       "      <td>1.0</td>\n",
       "      <td>2.0</td>\n",
       "      <td>6.0</td>\n",
       "      <td>...</td>\n",
       "      <td>2.0</td>\n",
       "      <td>1.0</td>\n",
       "      <td>0.0</td>\n",
       "      <td>2014</td>\n",
       "      <td>0</td>\n",
       "      <td>1</td>\n",
       "      <td>3390</td>\n",
       "      <td>1.852459</td>\n",
       "      <td>630.0</td>\n",
       "      <td>0.185841</td>\n",
       "    </tr>\n",
       "    <tr>\n",
       "      <th>681</th>\n",
       "      <td>ffe447b2fe2058d45d5f756349a26f45</td>\n",
       "      <td>1.0</td>\n",
       "      <td>0.0</td>\n",
       "      <td>0.0</td>\n",
       "      <td>0.0</td>\n",
       "      <td>0.0</td>\n",
       "      <td>0.0</td>\n",
       "      <td>0.0</td>\n",
       "      <td>0.0</td>\n",
       "      <td>0.0</td>\n",
       "      <td>...</td>\n",
       "      <td>0.0</td>\n",
       "      <td>0.0</td>\n",
       "      <td>0.0</td>\n",
       "      <td>2012</td>\n",
       "      <td>0</td>\n",
       "      <td>-1</td>\n",
       "      <td>210</td>\n",
       "      <td>0.114754</td>\n",
       "      <td>210.0</td>\n",
       "      <td>1.000000</td>\n",
       "    </tr>\n",
       "  </tbody>\n",
       "</table>\n",
       "<p>682 rows × 37 columns</p>\n",
       "</div>"
      ],
      "text/plain": [
       "                             discente  ALGORITMOS E LÓGICA DE PROGRAMAÇÃO  \\\n",
       "0    001cea3c82e2010681f2cdeab21e5ecf                                 1.0   \n",
       "1    005c14d7c07bf7980b60c703f99c5ee7                                 1.0   \n",
       "2    0107fd69d8cd7e3d30dede96fb68bfe5                                 2.0   \n",
       "3    014789363f7940922e71e710ee9d22bc                                 2.0   \n",
       "4    014f0dec46fe7a9c5836527662e1df10                                 1.0   \n",
       "..                                ...                                 ...   \n",
       "677  fe802d8d85de6f842749468401d1146c                                 2.0   \n",
       "678  fe87dfa176a74fc10a5cb701b9fb5dd4                                 0.0   \n",
       "679  fec9ed6026d55ecdf514c640312c3d08                                 1.0   \n",
       "680  ff56f2c5048dae0797fd3e851572b80c                                 4.0   \n",
       "681  ffe447b2fe2058d45d5f756349a26f45                                 1.0   \n",
       "\n",
       "     ARQUITETURA DE COMPUTADORES  BANCO DE DADOS  \\\n",
       "0                            0.0             0.0   \n",
       "1                            2.0             1.0   \n",
       "2                            0.0             0.0   \n",
       "3                            3.0             1.0   \n",
       "4                            0.0             1.0   \n",
       "..                           ...             ...   \n",
       "677                          0.0             0.0   \n",
       "678                          0.0             0.0   \n",
       "679                          1.0             1.0   \n",
       "680                          1.0             1.0   \n",
       "681                          0.0             0.0   \n",
       "\n",
       "     CÁLCULO DIFERENCIAL E INTEGRAL  EMPREENDEDORISMO EM INFORMÁTICA  \\\n",
       "0                               0.0                              0.0   \n",
       "1                               1.0                              0.0   \n",
       "2                               0.0                              0.0   \n",
       "3                               0.0                              1.0   \n",
       "4                               0.0                              0.0   \n",
       "..                              ...                              ...   \n",
       "677                             0.0                              0.0   \n",
       "678                             0.0                              0.0   \n",
       "679                             1.0                              0.0   \n",
       "680                             1.0                              1.0   \n",
       "681                             0.0                              0.0   \n",
       "\n",
       "     ENGENHARIA DE SOFTWARE I  ENGENHARIA DE SOFTWARE II  ESTRUTURA DE DADOS  \\\n",
       "0                         0.0                        0.0                 0.0   \n",
       "1                         1.0                        0.0                 3.0   \n",
       "2                         0.0                        0.0                 0.0   \n",
       "3                         1.0                        1.0                 2.0   \n",
       "4                         0.0                        0.0                 0.0   \n",
       "..                        ...                        ...                 ...   \n",
       "677                       0.0                        0.0                 0.0   \n",
       "678                       0.0                        2.0                 0.0   \n",
       "679                       1.0                        0.0                 1.0   \n",
       "680                       1.0                        1.0                 2.0   \n",
       "681                       0.0                        0.0                 0.0   \n",
       "\n",
       "     FUNDAMENTOS DE MATEMÁTICA  ...  TEORIA GERAL DOS SISTEMAS  \\\n",
       "0                          1.0  ...                        0.0   \n",
       "1                          3.0  ...                        1.0   \n",
       "2                          1.0  ...                        1.0   \n",
       "3                          3.0  ...                        1.0   \n",
       "4                          1.0  ...                        0.0   \n",
       "..                         ...  ...                        ...   \n",
       "677                        2.0  ...                        1.0   \n",
       "678                        0.0  ...                        0.0   \n",
       "679                        1.0  ...                        1.0   \n",
       "680                        6.0  ...                        2.0   \n",
       "681                        0.0  ...                        0.0   \n",
       "\n",
       "     ÁLGEBRA LINEAR  ÉTICA  ano_ingresso  sexo  status  ch_cumprida  \\\n",
       "0               0.0    0.0          2018     0      -1          330   \n",
       "1               2.0    1.0          2018     0      -1         2340   \n",
       "2               0.0    1.0          2011     0      -1          870   \n",
       "3               1.0    1.0          2016     0       1         2430   \n",
       "4               0.0    0.0          2020     0      -1          630   \n",
       "..              ...    ...           ...   ...     ...          ...   \n",
       "677             0.0    0.0          2022     0      -1          540   \n",
       "678             0.0    0.0          2016     0       1          420   \n",
       "679             1.0    0.0          2020     0      -1         1470   \n",
       "680             1.0    0.0          2014     0       1         3390   \n",
       "681             0.0    0.0          2012     0      -1          210   \n",
       "\n",
       "     ch_cumprida_dividida  ch_reprovacao  taxa_reprovacao  \n",
       "0                0.180328            0.0         0.000000  \n",
       "1                1.278689          960.0         0.410256  \n",
       "2                0.475410          270.0         0.310345  \n",
       "3                1.327869          540.0         0.222222  \n",
       "4                0.344262            0.0         0.000000  \n",
       "..                    ...            ...              ...  \n",
       "677              0.295082          270.0         0.500000  \n",
       "678              0.229508            0.0         0.000000  \n",
       "679              0.803279            0.0         0.000000  \n",
       "680              1.852459          630.0         0.185841  \n",
       "681              0.114754          210.0         1.000000  \n",
       "\n",
       "[682 rows x 37 columns]"
      ]
     },
     "execution_count": 179,
     "metadata": {},
     "output_type": "execute_result"
    }
   ],
   "source": [
    "tabela_final['taxa_reprovacao'] = tabela_final['ch_reprovacao'] / tabela_final['ch_cumprida'] \n",
    "tabela_final"
   ]
  },
  {
   "attachments": {},
   "cell_type": "markdown",
   "metadata": {},
   "source": [
    "### Coluna com o Semestre Cursado"
   ]
  },
  {
   "attachments": {},
   "cell_type": "markdown",
   "metadata": {},
   "source": [
    "Identificar *semestres* únicos cursados por cada discente."
   ]
  },
  {
   "cell_type": "code",
   "execution_count": 180,
   "metadata": {},
   "outputs": [],
   "source": [
    "semestres_unicos_por_discente = df_dados_filtrado.groupby('discente')['ano'].nunique().reset_index()\n",
    "semestres_unicos_por_discente.rename(columns={'ano' : 'semestre'}, inplace=True)"
   ]
  },
  {
   "attachments": {},
   "cell_type": "markdown",
   "metadata": {},
   "source": [
    "Adicionando a quantidade de *semestres* cursados por cada discente."
   ]
  },
  {
   "cell_type": "code",
   "execution_count": 181,
   "metadata": {},
   "outputs": [],
   "source": [
    "tabela_final = tabela_final.merge(semestres_unicos_por_discente, on='discente', how='left')"
   ]
  },
  {
   "attachments": {},
   "cell_type": "markdown",
   "metadata": {},
   "source": [
    "Dividindo a quantidade de *semestres cursados* pela quantidade de *semestres estimados* no curso."
   ]
  },
  {
   "cell_type": "code",
   "execution_count": 182,
   "metadata": {},
   "outputs": [],
   "source": [
    "tabela_final['semestre_dividido'] = tabela_final['semestre'] / 8"
   ]
  },
  {
   "attachments": {},
   "cell_type": "markdown",
   "metadata": {},
   "source": [
    "### Coluna com o Último Período Matrículado"
   ]
  },
  {
   "attachments": {},
   "cell_type": "markdown",
   "metadata": {},
   "source": [
    "Encontrar o *último período* que cada aluno estudou no curso."
   ]
  },
  {
   "cell_type": "code",
   "execution_count": 183,
   "metadata": {},
   "outputs": [],
   "source": [
    "ultimo_periodo = df_dados_filtrado.groupby('discente')['ano'].max().reset_index()\n",
    "ultimo_periodo.rename(columns={'ano': 'ultimo_periodo'}, inplace=True)"
   ]
  },
  {
   "attachments": {},
   "cell_type": "markdown",
   "metadata": {},
   "source": [
    "Adicionando as informações do *último período* de cada discente."
   ]
  },
  {
   "cell_type": "code",
   "execution_count": 184,
   "metadata": {},
   "outputs": [],
   "source": [
    "tabela_final = tabela_final.merge(ultimo_periodo, on='discente', how='left')"
   ]
  },
  {
   "attachments": {},
   "cell_type": "markdown",
   "metadata": {},
   "source": [
    "### Coluna com a quantidade de vezes que o discente se Matriculou"
   ]
  },
  {
   "attachments": {},
   "cell_type": "markdown",
   "metadata": {},
   "source": [
    "Soma dos valores das colunas para contabilizar a *matrícula* por discente."
   ]
  },
  {
   "cell_type": "code",
   "execution_count": 185,
   "metadata": {},
   "outputs": [],
   "source": [
    "matricula =      tabela_final['ALGORITMOS E LÓGICA DE PROGRAMAÇÃO'] + \\\n",
    "                 tabela_final['INTRODUÇÃO À INFORMÁTICA'] + \\\n",
    "                 tabela_final['FUNDAMENTOS DE MATEMÁTICA'] + \\\n",
    "                 tabela_final['LÓGICA'] + \\\n",
    "                 tabela_final['TEORIA GERAL DA ADMINISTRAÇÃO'] + \\\n",
    "                 tabela_final['PROGRAMAÇÃO'] + \\\n",
    "                 tabela_final['CÁLCULO DIFERENCIAL E INTEGRAL'] + \\\n",
    "                 tabela_final['TEORIA GERAL DOS SISTEMAS'] + \\\n",
    "                 tabela_final['PROGRAMAÇÃO ORIENTADA A OBJETOS I'] + \\\n",
    "                 tabela_final['ESTRUTURA DE DADOS'] + \\\n",
    "                 tabela_final['ÁLGEBRA LINEAR'] + \\\n",
    "                 tabela_final['ORGANIZAÇÃO, SISTEMAS E MÉTODOS'] + \\\n",
    "                 tabela_final['FUNDAMENTOS DE SISTEMAS DE INFORMAÇÃO'] + \\\n",
    "                 tabela_final['PROGRAMAÇÃO WEB'] + \\\n",
    "                 tabela_final['ARQUITETURA DE COMPUTADORES'] + \\\n",
    "                 tabela_final['PROBABILIDADE E ESTATÍSTICA'] + \\\n",
    "                 tabela_final['BANCO DE DADOS'] + \\\n",
    "                 tabela_final['ENGENHARIA DE SOFTWARE I'] + \\\n",
    "                 tabela_final['PROGRAMAÇÃO ORIENTADA A OBJETOS II'] + \\\n",
    "                 tabela_final['SISTEMAS OPERACIONAIS'] + \\\n",
    "                 tabela_final['PROJETO E ADMINISTRAÇÃO DE BANCO DE DADOS'] + \\\n",
    "                 tabela_final['ENGENHARIA DE SOFTWARE II'] + \\\n",
    "                 tabela_final['REDES DE COMPUTADORES'] + \\\n",
    "                 tabela_final['EMPREENDEDORISMO EM INFORMÁTICA'] + \\\n",
    "                 tabela_final['GESTÃO DE PROJETO DE SOFTWARE'] + \\\n",
    "                 tabela_final['PROGRAMAÇÃO VISUAL'] + \\\n",
    "                 tabela_final['MATEMÁTICA FINANCEIRA'] + \\\n",
    "                 tabela_final['SISTEMAS DE APOIO À DECISÃO'] + \\\n",
    "                 tabela_final['ÉTICA']"
   ]
  },
  {
   "attachments": {},
   "cell_type": "markdown",
   "metadata": {},
   "source": [
    "Adicionando a coluna *matrícula* na tabela."
   ]
  },
  {
   "cell_type": "code",
   "execution_count": 186,
   "metadata": {},
   "outputs": [],
   "source": [
    "tabela_final['matricula'] = matricula"
   ]
  },
  {
   "attachments": {},
   "cell_type": "markdown",
   "metadata": {},
   "source": [
    "### Coluna com o Tempo Relativo que o discente passou no curso"
   ]
  },
  {
   "attachments": {},
   "cell_type": "markdown",
   "metadata": {},
   "source": [
    "Converter a coluna *ch_cumprida_dividida* para tipo numérico."
   ]
  },
  {
   "cell_type": "code",
   "execution_count": 187,
   "metadata": {},
   "outputs": [],
   "source": [
    "tabela_final['semestre_dividido'] = pd.to_numeric(tabela_final['semestre_dividido'], errors='coerce')"
   ]
  },
  {
   "attachments": {},
   "cell_type": "markdown",
   "metadata": {},
   "source": [
    "Converter a coluna *status* para tipo numérico."
   ]
  },
  {
   "cell_type": "code",
   "execution_count": 188,
   "metadata": {},
   "outputs": [],
   "source": [
    "tabela_final['status'] = pd.to_numeric(tabela_final['status'], errors='coerce')"
   ]
  },
  {
   "attachments": {},
   "cell_type": "markdown",
   "metadata": {},
   "source": [
    "Multiplicar os valores da coluna *ch_cumprida_dividida* pela coluna *status*."
   ]
  },
  {
   "cell_type": "code",
   "execution_count": 189,
   "metadata": {},
   "outputs": [],
   "source": [
    "tabela_final['tempo_relativo'] = tabela_final['semestre_dividido'] * tabela_final['status']"
   ]
  },
  {
   "attachments": {},
   "cell_type": "markdown",
   "metadata": {},
   "source": [
    "### Coluna com a quantidade de vezes que o discente foi Aprovado"
   ]
  },
  {
   "attachments": {},
   "cell_type": "markdown",
   "metadata": {},
   "source": [
    "Listar todas as disciplinas."
   ]
  },
  {
   "cell_type": "code",
   "execution_count": 190,
   "metadata": {},
   "outputs": [],
   "source": [
    "disciplinas = df_dados_filtrado['nome'].unique()"
   ]
  },
  {
   "attachments": {},
   "cell_type": "markdown",
   "metadata": {},
   "source": [
    "Criar uma tabela de *aprovações*."
   ]
  },
  {
   "cell_type": "code",
   "execution_count": 191,
   "metadata": {},
   "outputs": [],
   "source": [
    "aprovacoes = df_dados_filtrado[df_dados_filtrado['descricao'] == 'APROVADO']"
   ]
  },
  {
   "attachments": {},
   "cell_type": "markdown",
   "metadata": {},
   "source": [
    "Agrupar por discente e nome da disciplina para contar as *aprovações*."
   ]
  },
  {
   "cell_type": "code",
   "execution_count": 192,
   "metadata": {},
   "outputs": [],
   "source": [
    "aprovacoes_count = aprovacoes.groupby(['discente', 'nome']).size().unstack(fill_value=0)"
   ]
  },
  {
   "attachments": {},
   "cell_type": "markdown",
   "metadata": {},
   "source": [
    "Renomear as colunas para incluir *_APROVADO*."
   ]
  },
  {
   "cell_type": "code",
   "execution_count": 193,
   "metadata": {},
   "outputs": [],
   "source": [
    "aprovacoes_count.columns = [f\"{disciplina}_APROVADO\" for disciplina in aprovacoes_count.columns]"
   ]
  },
  {
   "attachments": {},
   "cell_type": "markdown",
   "metadata": {},
   "source": [
    "Mesclar as *aprovações* de volta ao DataFrame original."
   ]
  },
  {
   "cell_type": "code",
   "execution_count": 194,
   "metadata": {},
   "outputs": [],
   "source": [
    "df_final = df_dados_filtrado.drop_duplicates('discente').set_index('discente').join(aprovacoes_count, on='discente').fillna(0).reset_index()\n",
    "tabela_final = tabela_final.merge(df_final, on='discente', how='left')"
   ]
  },
  {
   "attachments": {},
   "cell_type": "markdown",
   "metadata": {},
   "source": [
    "### Coluna com a quantidade de vezes que o discente foi Reprovado"
   ]
  },
  {
   "attachments": {},
   "cell_type": "markdown",
   "metadata": {},
   "source": [
    "Listar todas as disciplinas."
   ]
  },
  {
   "cell_type": "code",
   "execution_count": 195,
   "metadata": {},
   "outputs": [],
   "source": [
    "disciplinas = df_dados_filtrado['nome'].unique()"
   ]
  },
  {
   "attachments": {},
   "cell_type": "markdown",
   "metadata": {},
   "source": [
    "Criar uma tabela de *reprovações*."
   ]
  },
  {
   "cell_type": "code",
   "execution_count": 196,
   "metadata": {},
   "outputs": [],
   "source": [
    "reprovacoes = df_dados_filtrado[df_dados_filtrado['descricao'] == 'REPROVADO']"
   ]
  },
  {
   "attachments": {},
   "cell_type": "markdown",
   "metadata": {},
   "source": [
    "Agrupar por discente e nome da disciplina para contar as *reprovações*."
   ]
  },
  {
   "cell_type": "code",
   "execution_count": 197,
   "metadata": {},
   "outputs": [],
   "source": [
    "reprovacoes_count = reprovacoes.groupby(['discente', 'nome']).size().unstack(fill_value=0)"
   ]
  },
  {
   "attachments": {},
   "cell_type": "markdown",
   "metadata": {},
   "source": [
    "Renomear as colunas para incluir *_REPROVADO*."
   ]
  },
  {
   "cell_type": "code",
   "execution_count": 198,
   "metadata": {},
   "outputs": [],
   "source": [
    "reprovacoes_count.columns = [f\"{disciplina}_REPROVADO\" for disciplina in reprovacoes_count.columns]"
   ]
  },
  {
   "attachments": {},
   "cell_type": "markdown",
   "metadata": {},
   "source": [
    "Mesclar as *reprovações* de volta ao DataFrame original."
   ]
  },
  {
   "cell_type": "code",
   "execution_count": 199,
   "metadata": {},
   "outputs": [],
   "source": [
    "df_final_reprovacao = df_dados_filtrado.drop_duplicates('discente').set_index('discente').join(reprovacoes_count, on='discente').fillna(0).reset_index()\n",
    "tabela_final = tabela_final.merge(df_final_reprovacao, on='discente', how='left')"
   ]
  },
  {
   "attachments": {},
   "cell_type": "markdown",
   "metadata": {},
   "source": [
    "Mudando a ordem das colunas."
   ]
  },
  {
   "cell_type": "code",
   "execution_count": 200,
   "metadata": {},
   "outputs": [],
   "source": [
    "colunas_ordenadas = ['discente', 'sexo', 'ano_ingresso', 'ultimo_periodo', 'ch_cumprida',\n",
    "                    'ch_cumprida_dividida', 'ch_reprovacao',\n",
    "                    'taxa_reprovacao', 'semestre', 'semestre_dividido', 'tempo_relativo', 'status', 'matricula',\n",
    "                    'ALGORITMOS E LÓGICA DE PROGRAMAÇÃO',\n",
    "                    'ALGORITMOS E LÓGICA DE PROGRAMAÇÃO_APROVADO',\n",
    "                    'ALGORITMOS E LÓGICA DE PROGRAMAÇÃO_REPROVADO',\n",
    "                    'INTRODUÇÃO À INFORMÁTICA',\n",
    "                    'INTRODUÇÃO À INFORMÁTICA_APROVADO',\n",
    "                    'INTRODUÇÃO À INFORMÁTICA_REPROVADO',\n",
    "                    'FUNDAMENTOS DE MATEMÁTICA',\n",
    "                    'FUNDAMENTOS DE MATEMÁTICA_APROVADO',\n",
    "                    'FUNDAMENTOS DE MATEMÁTICA_REPROVADO',\n",
    "                    'LÓGICA',\n",
    "                    'LÓGICA_APROVADO',\n",
    "                    'LÓGICA_REPROVADO',\n",
    "                    'TEORIA GERAL DA ADMINISTRAÇÃO',\n",
    "                    'TEORIA GERAL DA ADMINISTRAÇÃO_APROVADO',\n",
    "                    'TEORIA GERAL DA ADMINISTRAÇÃO_REPROVADO',\n",
    "                    'PROGRAMAÇÃO',\n",
    "                    'PROGRAMAÇÃO_APROVADO',\n",
    "                    'PROGRAMAÇÃO_REPROVADO',\n",
    "                    'CÁLCULO DIFERENCIAL E INTEGRAL',\n",
    "                    'CÁLCULO DIFERENCIAL E INTEGRAL_APROVADO',\n",
    "                    'CÁLCULO DIFERENCIAL E INTEGRAL_REPROVADO',\n",
    "                    'TEORIA GERAL DOS SISTEMAS',\n",
    "                    'TEORIA GERAL DOS SISTEMAS_APROVADO',\n",
    "                    'TEORIA GERAL DOS SISTEMAS_REPROVADO',\n",
    "                    'PROGRAMAÇÃO ORIENTADA A OBJETOS I',\n",
    "                    'PROGRAMAÇÃO ORIENTADA A OBJETOS I_APROVADO',\n",
    "                    'PROGRAMAÇÃO ORIENTADA A OBJETOS I_REPROVADO',\n",
    "                    'ESTRUTURA DE DADOS',\n",
    "                    'ESTRUTURA DE DADOS_APROVADO',\n",
    "                    'ESTRUTURA DE DADOS_REPROVADO',\n",
    "                    'ÁLGEBRA LINEAR',\n",
    "                    'ÁLGEBRA LINEAR_APROVADO',\n",
    "                    'ÁLGEBRA LINEAR_REPROVADO',\n",
    "                    'ORGANIZAÇÃO, SISTEMAS E MÉTODOS',\n",
    "                    'ORGANIZAÇÃO, SISTEMAS E MÉTODOS_APROVADO',\n",
    "                    'ORGANIZAÇÃO, SISTEMAS E MÉTODOS_REPROVADO',\n",
    "                    'FUNDAMENTOS DE SISTEMAS DE INFORMAÇÃO',\n",
    "                    'FUNDAMENTOS DE SISTEMAS DE INFORMAÇÃO_APROVADO',\n",
    "                    'FUNDAMENTOS DE SISTEMAS DE INFORMAÇÃO_REPROVADO',\n",
    "                    'PROGRAMAÇÃO WEB',\n",
    "                    'PROGRAMAÇÃO WEB_APROVADO',\n",
    "                    'PROGRAMAÇÃO WEB_REPROVADO',\n",
    "                    'ARQUITETURA DE COMPUTADORES',\n",
    "                    'ARQUITETURA DE COMPUTADORES_APROVADO',\n",
    "                    'ARQUITETURA DE COMPUTADORES_REPROVADO',\n",
    "                    'PROBABILIDADE E ESTATÍSTICA',\n",
    "                    'PROBABILIDADE E ESTATÍSTICA_APROVADO',\n",
    "                    'PROBABILIDADE E ESTATÍSTICA_REPROVADO',\n",
    "                    'BANCO DE DADOS',\n",
    "                    'BANCO DE DADOS_APROVADO',\n",
    "                    'BANCO DE DADOS_REPROVADO',\n",
    "                    'ENGENHARIA DE SOFTWARE I',\n",
    "                    'ENGENHARIA DE SOFTWARE I_APROVADO',\n",
    "                    'ENGENHARIA DE SOFTWARE I_REPROVADO',\n",
    "                    'PROGRAMAÇÃO ORIENTADA A OBJETOS II',\n",
    "                    'PROGRAMAÇÃO ORIENTADA A OBJETOS II_APROVADO',\n",
    "                    'PROGRAMAÇÃO ORIENTADA A OBJETOS II_REPROVADO',\n",
    "                    'SISTEMAS OPERACIONAIS',\n",
    "                    'SISTEMAS OPERACIONAIS_APROVADO',\n",
    "                    'SISTEMAS OPERACIONAIS_REPROVADO',\n",
    "                    'PROJETO E ADMINISTRAÇÃO DE BANCO DE DADOS',\n",
    "                    'PROJETO E ADMINISTRAÇÃO DE BANCO DE DADOS_APROVADO',\n",
    "                    'PROJETO E ADMINISTRAÇÃO DE BANCO DE DADOS_REPROVADO',\n",
    "                    'ENGENHARIA DE SOFTWARE II',\n",
    "                    'ENGENHARIA DE SOFTWARE II_APROVADO',\n",
    "                    'ENGENHARIA DE SOFTWARE II_REPROVADO',\n",
    "                    'REDES DE COMPUTADORES',\n",
    "                    'REDES DE COMPUTADORES_APROVADO',\n",
    "                    'REDES DE COMPUTADORES_REPROVADO',\n",
    "                    'EMPREENDEDORISMO EM INFORMÁTICA',\n",
    "                    'EMPREENDEDORISMO EM INFORMÁTICA_APROVADO',\n",
    "                    'EMPREENDEDORISMO EM INFORMÁTICA_REPROVADO',\n",
    "                    'GESTÃO DE PROJETO DE SOFTWARE',\n",
    "                    'GESTÃO DE PROJETO DE SOFTWARE_APROVADO',\n",
    "                    'GESTÃO DE PROJETO DE SOFTWARE_REPROVADO',\n",
    "                    'PROGRAMAÇÃO VISUAL',\n",
    "                    'PROGRAMAÇÃO VISUAL_APROVADO',\n",
    "                    'PROGRAMAÇÃO VISUAL_REPROVADO',\n",
    "                    'MATEMÁTICA FINANCEIRA',\n",
    "                    'MATEMÁTICA FINANCEIRA_APROVADO',\n",
    "                    'MATEMÁTICA FINANCEIRA_REPROVADO',\n",
    "                    'SISTEMAS DE APOIO À DECISÃO',\n",
    "                    'SISTEMAS DE APOIO À DECISÃO_APROVADO',\n",
    "                    'SISTEMAS DE APOIO À DECISÃO_REPROVADO',\n",
    "                    'ÉTICA',\n",
    "                    'ÉTICA_APROVADO',\n",
    "                    'ÉTICA_REPROVADO']\n"
   ]
  },
  {
   "attachments": {},
   "cell_type": "markdown",
   "metadata": {},
   "source": [
    "Reordenando as colunas."
   ]
  },
  {
   "cell_type": "code",
   "execution_count": 201,
   "metadata": {},
   "outputs": [
    {
     "data": {
      "text/html": [
       "<div>\n",
       "<style scoped>\n",
       "    .dataframe tbody tr th:only-of-type {\n",
       "        vertical-align: middle;\n",
       "    }\n",
       "\n",
       "    .dataframe tbody tr th {\n",
       "        vertical-align: top;\n",
       "    }\n",
       "\n",
       "    .dataframe thead th {\n",
       "        text-align: right;\n",
       "    }\n",
       "</style>\n",
       "<table border=\"1\" class=\"dataframe\">\n",
       "  <thead>\n",
       "    <tr style=\"text-align: right;\">\n",
       "      <th></th>\n",
       "      <th>discente</th>\n",
       "      <th>sexo</th>\n",
       "      <th>ano_ingresso</th>\n",
       "      <th>ultimo_periodo</th>\n",
       "      <th>ch_cumprida</th>\n",
       "      <th>ch_cumprida_dividida</th>\n",
       "      <th>ch_reprovacao</th>\n",
       "      <th>taxa_reprovacao</th>\n",
       "      <th>semestre</th>\n",
       "      <th>semestre_dividido</th>\n",
       "      <th>...</th>\n",
       "      <th>PROGRAMAÇÃO VISUAL_REPROVADO</th>\n",
       "      <th>MATEMÁTICA FINANCEIRA</th>\n",
       "      <th>MATEMÁTICA FINANCEIRA_APROVADO</th>\n",
       "      <th>MATEMÁTICA FINANCEIRA_REPROVADO</th>\n",
       "      <th>SISTEMAS DE APOIO À DECISÃO</th>\n",
       "      <th>SISTEMAS DE APOIO À DECISÃO_APROVADO</th>\n",
       "      <th>SISTEMAS DE APOIO À DECISÃO_REPROVADO</th>\n",
       "      <th>ÉTICA</th>\n",
       "      <th>ÉTICA_APROVADO</th>\n",
       "      <th>ÉTICA_REPROVADO</th>\n",
       "    </tr>\n",
       "  </thead>\n",
       "  <tbody>\n",
       "    <tr>\n",
       "      <th>0</th>\n",
       "      <td>001cea3c82e2010681f2cdeab21e5ecf</td>\n",
       "      <td>0</td>\n",
       "      <td>2018</td>\n",
       "      <td>20181</td>\n",
       "      <td>330</td>\n",
       "      <td>0.180328</td>\n",
       "      <td>0.0</td>\n",
       "      <td>0.000000</td>\n",
       "      <td>1</td>\n",
       "      <td>0.125</td>\n",
       "      <td>...</td>\n",
       "      <td>0.0</td>\n",
       "      <td>0.0</td>\n",
       "      <td>0.0</td>\n",
       "      <td>0.0</td>\n",
       "      <td>0.0</td>\n",
       "      <td>0.0</td>\n",
       "      <td>0.0</td>\n",
       "      <td>0.0</td>\n",
       "      <td>0.0</td>\n",
       "      <td>0.0</td>\n",
       "    </tr>\n",
       "    <tr>\n",
       "      <th>1</th>\n",
       "      <td>005c14d7c07bf7980b60c703f99c5ee7</td>\n",
       "      <td>0</td>\n",
       "      <td>2018</td>\n",
       "      <td>20221</td>\n",
       "      <td>2340</td>\n",
       "      <td>1.278689</td>\n",
       "      <td>960.0</td>\n",
       "      <td>0.410256</td>\n",
       "      <td>10</td>\n",
       "      <td>1.250</td>\n",
       "      <td>...</td>\n",
       "      <td>0.0</td>\n",
       "      <td>2.0</td>\n",
       "      <td>1.0</td>\n",
       "      <td>0.0</td>\n",
       "      <td>0.0</td>\n",
       "      <td>0.0</td>\n",
       "      <td>0.0</td>\n",
       "      <td>1.0</td>\n",
       "      <td>1.0</td>\n",
       "      <td>0.0</td>\n",
       "    </tr>\n",
       "    <tr>\n",
       "      <th>2</th>\n",
       "      <td>0107fd69d8cd7e3d30dede96fb68bfe5</td>\n",
       "      <td>0</td>\n",
       "      <td>2011</td>\n",
       "      <td>20121</td>\n",
       "      <td>870</td>\n",
       "      <td>0.475410</td>\n",
       "      <td>270.0</td>\n",
       "      <td>0.310345</td>\n",
       "      <td>3</td>\n",
       "      <td>0.375</td>\n",
       "      <td>...</td>\n",
       "      <td>0.0</td>\n",
       "      <td>0.0</td>\n",
       "      <td>0.0</td>\n",
       "      <td>0.0</td>\n",
       "      <td>0.0</td>\n",
       "      <td>0.0</td>\n",
       "      <td>0.0</td>\n",
       "      <td>1.0</td>\n",
       "      <td>0.0</td>\n",
       "      <td>0.0</td>\n",
       "    </tr>\n",
       "    <tr>\n",
       "      <th>3</th>\n",
       "      <td>014789363f7940922e71e710ee9d22bc</td>\n",
       "      <td>0</td>\n",
       "      <td>2016</td>\n",
       "      <td>20206</td>\n",
       "      <td>2430</td>\n",
       "      <td>1.327869</td>\n",
       "      <td>540.0</td>\n",
       "      <td>0.222222</td>\n",
       "      <td>11</td>\n",
       "      <td>1.375</td>\n",
       "      <td>...</td>\n",
       "      <td>0.0</td>\n",
       "      <td>2.0</td>\n",
       "      <td>1.0</td>\n",
       "      <td>0.0</td>\n",
       "      <td>1.0</td>\n",
       "      <td>1.0</td>\n",
       "      <td>0.0</td>\n",
       "      <td>1.0</td>\n",
       "      <td>1.0</td>\n",
       "      <td>0.0</td>\n",
       "    </tr>\n",
       "    <tr>\n",
       "      <th>4</th>\n",
       "      <td>014f0dec46fe7a9c5836527662e1df10</td>\n",
       "      <td>0</td>\n",
       "      <td>2020</td>\n",
       "      <td>20206</td>\n",
       "      <td>630</td>\n",
       "      <td>0.344262</td>\n",
       "      <td>0.0</td>\n",
       "      <td>0.000000</td>\n",
       "      <td>3</td>\n",
       "      <td>0.375</td>\n",
       "      <td>...</td>\n",
       "      <td>0.0</td>\n",
       "      <td>0.0</td>\n",
       "      <td>0.0</td>\n",
       "      <td>0.0</td>\n",
       "      <td>0.0</td>\n",
       "      <td>0.0</td>\n",
       "      <td>0.0</td>\n",
       "      <td>0.0</td>\n",
       "      <td>0.0</td>\n",
       "      <td>0.0</td>\n",
       "    </tr>\n",
       "    <tr>\n",
       "      <th>...</th>\n",
       "      <td>...</td>\n",
       "      <td>...</td>\n",
       "      <td>...</td>\n",
       "      <td>...</td>\n",
       "      <td>...</td>\n",
       "      <td>...</td>\n",
       "      <td>...</td>\n",
       "      <td>...</td>\n",
       "      <td>...</td>\n",
       "      <td>...</td>\n",
       "      <td>...</td>\n",
       "      <td>...</td>\n",
       "      <td>...</td>\n",
       "      <td>...</td>\n",
       "      <td>...</td>\n",
       "      <td>...</td>\n",
       "      <td>...</td>\n",
       "      <td>...</td>\n",
       "      <td>...</td>\n",
       "      <td>...</td>\n",
       "      <td>...</td>\n",
       "    </tr>\n",
       "    <tr>\n",
       "      <th>677</th>\n",
       "      <td>fe802d8d85de6f842749468401d1146c</td>\n",
       "      <td>0</td>\n",
       "      <td>2022</td>\n",
       "      <td>20222</td>\n",
       "      <td>540</td>\n",
       "      <td>0.295082</td>\n",
       "      <td>270.0</td>\n",
       "      <td>0.500000</td>\n",
       "      <td>2</td>\n",
       "      <td>0.250</td>\n",
       "      <td>...</td>\n",
       "      <td>0.0</td>\n",
       "      <td>0.0</td>\n",
       "      <td>0.0</td>\n",
       "      <td>0.0</td>\n",
       "      <td>0.0</td>\n",
       "      <td>0.0</td>\n",
       "      <td>0.0</td>\n",
       "      <td>0.0</td>\n",
       "      <td>0.0</td>\n",
       "      <td>0.0</td>\n",
       "    </tr>\n",
       "    <tr>\n",
       "      <th>678</th>\n",
       "      <td>fe87dfa176a74fc10a5cb701b9fb5dd4</td>\n",
       "      <td>0</td>\n",
       "      <td>2016</td>\n",
       "      <td>20206</td>\n",
       "      <td>420</td>\n",
       "      <td>0.229508</td>\n",
       "      <td>0.0</td>\n",
       "      <td>0.000000</td>\n",
       "      <td>3</td>\n",
       "      <td>0.375</td>\n",
       "      <td>...</td>\n",
       "      <td>0.0</td>\n",
       "      <td>0.0</td>\n",
       "      <td>0.0</td>\n",
       "      <td>0.0</td>\n",
       "      <td>0.0</td>\n",
       "      <td>0.0</td>\n",
       "      <td>0.0</td>\n",
       "      <td>0.0</td>\n",
       "      <td>0.0</td>\n",
       "      <td>0.0</td>\n",
       "    </tr>\n",
       "    <tr>\n",
       "      <th>679</th>\n",
       "      <td>fec9ed6026d55ecdf514c640312c3d08</td>\n",
       "      <td>0</td>\n",
       "      <td>2020</td>\n",
       "      <td>20222</td>\n",
       "      <td>1470</td>\n",
       "      <td>0.803279</td>\n",
       "      <td>0.0</td>\n",
       "      <td>0.000000</td>\n",
       "      <td>7</td>\n",
       "      <td>0.875</td>\n",
       "      <td>...</td>\n",
       "      <td>0.0</td>\n",
       "      <td>0.0</td>\n",
       "      <td>0.0</td>\n",
       "      <td>0.0</td>\n",
       "      <td>0.0</td>\n",
       "      <td>0.0</td>\n",
       "      <td>0.0</td>\n",
       "      <td>0.0</td>\n",
       "      <td>0.0</td>\n",
       "      <td>0.0</td>\n",
       "    </tr>\n",
       "    <tr>\n",
       "      <th>680</th>\n",
       "      <td>ff56f2c5048dae0797fd3e851572b80c</td>\n",
       "      <td>0</td>\n",
       "      <td>2014</td>\n",
       "      <td>20192</td>\n",
       "      <td>3390</td>\n",
       "      <td>1.852459</td>\n",
       "      <td>630.0</td>\n",
       "      <td>0.185841</td>\n",
       "      <td>12</td>\n",
       "      <td>1.500</td>\n",
       "      <td>...</td>\n",
       "      <td>0.0</td>\n",
       "      <td>1.0</td>\n",
       "      <td>1.0</td>\n",
       "      <td>0.0</td>\n",
       "      <td>1.0</td>\n",
       "      <td>1.0</td>\n",
       "      <td>0.0</td>\n",
       "      <td>0.0</td>\n",
       "      <td>0.0</td>\n",
       "      <td>0.0</td>\n",
       "    </tr>\n",
       "    <tr>\n",
       "      <th>681</th>\n",
       "      <td>ffe447b2fe2058d45d5f756349a26f45</td>\n",
       "      <td>0</td>\n",
       "      <td>2012</td>\n",
       "      <td>20121</td>\n",
       "      <td>210</td>\n",
       "      <td>0.114754</td>\n",
       "      <td>210.0</td>\n",
       "      <td>1.000000</td>\n",
       "      <td>1</td>\n",
       "      <td>0.125</td>\n",
       "      <td>...</td>\n",
       "      <td>0.0</td>\n",
       "      <td>0.0</td>\n",
       "      <td>0.0</td>\n",
       "      <td>0.0</td>\n",
       "      <td>0.0</td>\n",
       "      <td>0.0</td>\n",
       "      <td>0.0</td>\n",
       "      <td>0.0</td>\n",
       "      <td>0.0</td>\n",
       "      <td>0.0</td>\n",
       "    </tr>\n",
       "  </tbody>\n",
       "</table>\n",
       "<p>682 rows × 100 columns</p>\n",
       "</div>"
      ],
      "text/plain": [
       "                             discente  sexo  ano_ingresso  ultimo_periodo  \\\n",
       "0    001cea3c82e2010681f2cdeab21e5ecf     0          2018           20181   \n",
       "1    005c14d7c07bf7980b60c703f99c5ee7     0          2018           20221   \n",
       "2    0107fd69d8cd7e3d30dede96fb68bfe5     0          2011           20121   \n",
       "3    014789363f7940922e71e710ee9d22bc     0          2016           20206   \n",
       "4    014f0dec46fe7a9c5836527662e1df10     0          2020           20206   \n",
       "..                                ...   ...           ...             ...   \n",
       "677  fe802d8d85de6f842749468401d1146c     0          2022           20222   \n",
       "678  fe87dfa176a74fc10a5cb701b9fb5dd4     0          2016           20206   \n",
       "679  fec9ed6026d55ecdf514c640312c3d08     0          2020           20222   \n",
       "680  ff56f2c5048dae0797fd3e851572b80c     0          2014           20192   \n",
       "681  ffe447b2fe2058d45d5f756349a26f45     0          2012           20121   \n",
       "\n",
       "     ch_cumprida  ch_cumprida_dividida  ch_reprovacao  taxa_reprovacao  \\\n",
       "0            330              0.180328            0.0         0.000000   \n",
       "1           2340              1.278689          960.0         0.410256   \n",
       "2            870              0.475410          270.0         0.310345   \n",
       "3           2430              1.327869          540.0         0.222222   \n",
       "4            630              0.344262            0.0         0.000000   \n",
       "..           ...                   ...            ...              ...   \n",
       "677          540              0.295082          270.0         0.500000   \n",
       "678          420              0.229508            0.0         0.000000   \n",
       "679         1470              0.803279            0.0         0.000000   \n",
       "680         3390              1.852459          630.0         0.185841   \n",
       "681          210              0.114754          210.0         1.000000   \n",
       "\n",
       "     semestre  semestre_dividido  ...  PROGRAMAÇÃO VISUAL_REPROVADO  \\\n",
       "0           1              0.125  ...                           0.0   \n",
       "1          10              1.250  ...                           0.0   \n",
       "2           3              0.375  ...                           0.0   \n",
       "3          11              1.375  ...                           0.0   \n",
       "4           3              0.375  ...                           0.0   \n",
       "..        ...                ...  ...                           ...   \n",
       "677         2              0.250  ...                           0.0   \n",
       "678         3              0.375  ...                           0.0   \n",
       "679         7              0.875  ...                           0.0   \n",
       "680        12              1.500  ...                           0.0   \n",
       "681         1              0.125  ...                           0.0   \n",
       "\n",
       "    MATEMÁTICA FINANCEIRA  MATEMÁTICA FINANCEIRA_APROVADO  \\\n",
       "0                     0.0                             0.0   \n",
       "1                     2.0                             1.0   \n",
       "2                     0.0                             0.0   \n",
       "3                     2.0                             1.0   \n",
       "4                     0.0                             0.0   \n",
       "..                    ...                             ...   \n",
       "677                   0.0                             0.0   \n",
       "678                   0.0                             0.0   \n",
       "679                   0.0                             0.0   \n",
       "680                   1.0                             1.0   \n",
       "681                   0.0                             0.0   \n",
       "\n",
       "     MATEMÁTICA FINANCEIRA_REPROVADO  SISTEMAS DE APOIO À DECISÃO  \\\n",
       "0                                0.0                          0.0   \n",
       "1                                0.0                          0.0   \n",
       "2                                0.0                          0.0   \n",
       "3                                0.0                          1.0   \n",
       "4                                0.0                          0.0   \n",
       "..                               ...                          ...   \n",
       "677                              0.0                          0.0   \n",
       "678                              0.0                          0.0   \n",
       "679                              0.0                          0.0   \n",
       "680                              0.0                          1.0   \n",
       "681                              0.0                          0.0   \n",
       "\n",
       "     SISTEMAS DE APOIO À DECISÃO_APROVADO  \\\n",
       "0                                     0.0   \n",
       "1                                     0.0   \n",
       "2                                     0.0   \n",
       "3                                     1.0   \n",
       "4                                     0.0   \n",
       "..                                    ...   \n",
       "677                                   0.0   \n",
       "678                                   0.0   \n",
       "679                                   0.0   \n",
       "680                                   1.0   \n",
       "681                                   0.0   \n",
       "\n",
       "     SISTEMAS DE APOIO À DECISÃO_REPROVADO  ÉTICA  ÉTICA_APROVADO  \\\n",
       "0                                      0.0    0.0             0.0   \n",
       "1                                      0.0    1.0             1.0   \n",
       "2                                      0.0    1.0             0.0   \n",
       "3                                      0.0    1.0             1.0   \n",
       "4                                      0.0    0.0             0.0   \n",
       "..                                     ...    ...             ...   \n",
       "677                                    0.0    0.0             0.0   \n",
       "678                                    0.0    0.0             0.0   \n",
       "679                                    0.0    0.0             0.0   \n",
       "680                                    0.0    0.0             0.0   \n",
       "681                                    0.0    0.0             0.0   \n",
       "\n",
       "     ÉTICA_REPROVADO  \n",
       "0                0.0  \n",
       "1                0.0  \n",
       "2                0.0  \n",
       "3                0.0  \n",
       "4                0.0  \n",
       "..               ...  \n",
       "677              0.0  \n",
       "678              0.0  \n",
       "679              0.0  \n",
       "680              0.0  \n",
       "681              0.0  \n",
       "\n",
       "[682 rows x 100 columns]"
      ]
     },
     "execution_count": 201,
     "metadata": {},
     "output_type": "execute_result"
    }
   ],
   "source": [
    "tabela_final = tabela_final[colunas_ordenadas]\n",
    "tabela_final"
   ]
  },
  {
   "attachments": {},
   "cell_type": "markdown",
   "metadata": {},
   "source": [
    "Para salvar o DataFrame no formato CSV com a separação por ';' e garantir que os dados numéricos estejam no formato correto."
   ]
  },
  {
   "cell_type": "code",
   "execution_count": 202,
   "metadata": {},
   "outputs": [],
   "source": [
    "tabela_final.to_csv('tabela_final.csv', index=False, sep=';', quoting=csv.QUOTE_NONNUMERIC)"
   ]
  }
 ],
 "metadata": {
  "kernelspec": {
   "display_name": "Python 3",
   "language": "python",
   "name": "python3"
  },
  "language_info": {
   "codemirror_mode": {
    "name": "ipython",
    "version": 3
   },
   "file_extension": ".py",
   "mimetype": "text/x-python",
   "name": "python",
   "nbconvert_exporter": "python",
   "pygments_lexer": "ipython3",
   "version": "3.10.12 (main, Nov 20 2023, 15:14:05) [GCC 11.4.0]"
  },
  "orig_nbformat": 4,
  "vscode": {
   "interpreter": {
    "hash": "916dbcbb3f70747c44a77c7bcd40155683ae19c65e1c03b4aa3499c5328201f1"
   }
  }
 },
 "nbformat": 4,
 "nbformat_minor": 2
}
