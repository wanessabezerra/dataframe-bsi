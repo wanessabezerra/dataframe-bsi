{
 "cells": [
  {
   "attachments": {},
   "cell_type": "markdown",
   "metadata": {},
   "source": [
    "Desenvolvendo uma tabela que contenha os seguintes dados: \n",
    "- o identificador do discente; \n",
    "- o sexo do discente;\n",
    "- o ano em que o discente ingressou na instituição;\n",
    "- o ano e período da última matrícula realizada pelo discente;\n",
    "- total de sementres cursados pelo discente;\n",
    "- um calcúlo de semestres cursados dividido pelo o número de semestre ideal do curso;\n",
    "- a carga horária cumprida pelo discente;\n",
    "- a carga horária cumprida pelo discente dividida pela carga horaria ideal;\n",
    "- tempo relativo que o discente evadiu ou concluiu o curso;\n",
    "- status atual do discente;\n",
    "- número total de faltas de cada discente na disciplina que ele cursou;\n",
    "- nota de cada discente nas disciplinas que ele cursou;\n",
    "- média final de cada discente nas disciplinas que ele cursou;\n",
    "- quantidade de vezes que o discente se matriculou nas disciplinas;\n",
    "- quantidade de vezes que o discente se matriculou em cada disciplina;\n",
    "- quantidade de vezes que o discente foi aprovado em cada disciplina;\n",
    "- quantidade de vezes que o discente foi reprovado em cada disciplina."
   ]
  },
  {
   "attachments": {},
   "cell_type": "markdown",
   "metadata": {},
   "source": [
    "# Extraindo Dados\n",
    "___"
   ]
  },
  {
   "attachments": {},
   "cell_type": "markdown",
   "metadata": {},
   "source": [
    "Importando o Pandas e o Csv."
   ]
  },
  {
   "cell_type": "code",
   "execution_count": 396,
   "metadata": {},
   "outputs": [],
   "source": [
    "import pandas as pd\n",
    "import csv"
   ]
  },
  {
   "attachments": {},
   "cell_type": "markdown",
   "metadata": {},
   "source": [
    "Leitura do arquivo em csv e carregamento desses dados em um DataFrame usando o ponto e vírgula como separador."
   ]
  },
  {
   "cell_type": "code",
   "execution_count": 397,
   "metadata": {},
   "outputs": [],
   "source": [
    "df_dados = pd.read_csv('dataframe-bsi-2009-2022.csv', sep=';')"
   ]
  },
  {
   "attachments": {},
   "cell_type": "markdown",
   "metadata": {},
   "source": [
    "Listando as colunas do dataframe."
   ]
  },
  {
   "cell_type": "code",
   "execution_count": 398,
   "metadata": {},
   "outputs": [
    {
     "data": {
      "text/plain": [
       "Index(['discente', 'unidade', 'nota', 'media_final', 'numero_total_faltas',\n",
       "       'descricao', 'ano', 'id_componente', 'nome', 'ch_total', 'sexo',\n",
       "       'ano_nascimento', 'ano_ingresso', 'status'],\n",
       "      dtype='object')"
      ]
     },
     "execution_count": 398,
     "metadata": {},
     "output_type": "execute_result"
    }
   ],
   "source": [
    "df_dados.columns"
   ]
  },
  {
   "cell_type": "code",
   "execution_count": 399,
   "metadata": {},
   "outputs": [],
   "source": [
    "# Verificar os valores faltosos na coluna 'media_final' com base na condição da coluna 'descricao'\n",
    "condicao_cancelado = df_dados['descricao'] == 'CANCELADO'\n",
    "df_dados.loc[condicao_cancelado, 'media_final'] = -2"
   ]
  },
  {
   "cell_type": "code",
   "execution_count": 400,
   "metadata": {},
   "outputs": [],
   "source": [
    "# Verificar os valores faltosos na coluna 'media_final' com base na condição da coluna 'descricao'\n",
    "condicao_excluida = df_dados['descricao'] == 'EXCLUIDA'\n",
    "df_dados.loc[condicao_excluida, 'media_final'] = -3"
   ]
  },
  {
   "cell_type": "code",
   "execution_count": 401,
   "metadata": {},
   "outputs": [],
   "source": [
    "# Verificar os valores faltosos na coluna 'media_final' com base na condição da coluna 'descricao'\n",
    "condicao_trancado = df_dados['descricao'] == 'TRANCADO'\n",
    "df_dados.loc[condicao_trancado, 'media_final'] = -5"
   ]
  },
  {
   "cell_type": "code",
   "execution_count": 402,
   "metadata": {},
   "outputs": [],
   "source": [
    "# Verificar os valores faltosos na coluna 'media_final' com base na condição da coluna 'descricao'\n",
    "condicao_trancado = df_dados['descricao'] == 'INDEFERIDO'\n",
    "df_dados.loc[condicao_trancado, 'media_final'] = -4"
   ]
  },
  {
   "cell_type": "code",
   "execution_count": 403,
   "metadata": {},
   "outputs": [],
   "source": [
    "# Verificar os valores faltosos na coluna 'media_final' com base na condição da coluna 'descricao'\n",
    "condicao_desistencia = df_dados['descricao'] == 'DESISTENCIA'\n",
    "df_dados.loc[condicao_desistencia, 'media_final'] = -8"
   ]
  },
  {
   "attachments": {},
   "cell_type": "markdown",
   "metadata": {},
   "source": [
    "# Filtros"
   ]
  },
  {
   "attachments": {},
   "cell_type": "markdown",
   "metadata": {},
   "source": [
    "Fazendo um recorte da nossa análise, vamos começar por disciplinas obrigatórias do Bacharelado em Sistemas da Informação (BSI):"
   ]
  },
  {
   "cell_type": "code",
   "execution_count": 404,
   "metadata": {},
   "outputs": [],
   "source": [
    "lista_obrigatórias = [\n",
    "                'ALGORITMOS E LÓGICA DE PROGRAMAÇÃO',\n",
    "                'INTRODUÇÃO À INFORMÁTICA',\n",
    "                'FUNDAMENTOS DE MATEMÁTICA',\n",
    "                'LÓGICA',\n",
    "                'TEORIA GERAL DA ADMINISTRAÇÃO',\n",
    "                'PROGRAMAÇÃO',\n",
    "                'CÁLCULO DIFERENCIAL E INTEGRAL',\n",
    "                'TEORIA GERAL DOS SISTEMAS',\n",
    "                'PROGRAMAÇÃO ORIENTADA A OBJETOS I',\n",
    "                'ESTRUTURA DE DADOS',\n",
    "                'ÁLGEBRA LINEAR',\n",
    "                'ORGANIZAÇÃO, SISTEMAS E MÉTODOS',\n",
    "                'FUNDAMENTOS DE SISTEMAS DE INFORMAÇÃO',\n",
    "                'PROGRAMAÇÃO WEB',\n",
    "                'ARQUITETURA DE COMPUTADORES',\n",
    "                'PROBABILIDADE E ESTATÍSTICA',\n",
    "                'BANCO DE DADOS',\n",
    "                'ENGENHARIA DE SOFTWARE I',\n",
    "                'PROGRAMAÇÃO ORIENTADA A OBJETOS II',\n",
    "                'SISTEMAS OPERACIONAIS',\n",
    "                'PROJETO E ADMINISTRAÇÃO DE BANCO DE DADOS',\n",
    "                'ENGENHARIA DE SOFTWARE II',\n",
    "                'REDES DE COMPUTADORES',\n",
    "                'EMPREENDEDORISMO EM INFORMÁTICA',\n",
    "                'GESTÃO DE PROJETO DE SOFTWARE',\n",
    "                'PROGRAMAÇÃO VISUAL',\n",
    "                'MATEMÁTICA FINANCEIRA',\n",
    "                'SISTEMAS DE APOIO À DECISÃO',\n",
    "                'ÉTICA',\n",
    "                ]\n",
    "condição_nome = f\"nome in {lista_obrigatórias}\"\n",
    "df_dados_filtrado = df_dados.query(condição_nome)"
   ]
  },
  {
   "attachments": {},
   "cell_type": "markdown",
   "metadata": {},
   "source": [
    "Listando os dados NaN."
   ]
  },
  {
   "cell_type": "code",
   "execution_count": 405,
   "metadata": {},
   "outputs": [
    {
     "data": {
      "text/plain": [
       "discente                  0\n",
       "unidade                2058\n",
       "nota                   3979\n",
       "media_final               0\n",
       "numero_total_faltas    2340\n",
       "descricao                 0\n",
       "ano                       0\n",
       "id_componente             0\n",
       "nome                      0\n",
       "ch_total                  0\n",
       "sexo                      0\n",
       "ano_nascimento            0\n",
       "ano_ingresso              0\n",
       "status                    0\n",
       "dtype: int64"
      ]
     },
     "execution_count": 405,
     "metadata": {},
     "output_type": "execute_result"
    }
   ],
   "source": [
    "df_dados_filtrado.isnull().sum()"
   ]
  },
  {
   "attachments": {},
   "cell_type": "markdown",
   "metadata": {},
   "source": [
    "Preenchendo os dados NaN da coluna **unidade** com 1."
   ]
  },
  {
   "cell_type": "code",
   "execution_count": 406,
   "metadata": {},
   "outputs": [],
   "source": [
    "#df_dados_filtrado.loc[:, 'unidade'] = df_dados_filtrado['unidade'].fillna(1)"
   ]
  },
  {
   "attachments": {},
   "cell_type": "markdown",
   "metadata": {},
   "source": [
    "Filtrar os dados onde a coluna **unidade** foi preenchida com 1."
   ]
  },
  {
   "cell_type": "code",
   "execution_count": 407,
   "metadata": {},
   "outputs": [],
   "source": [
    "#df_dados_filtrado = df_dados_filtrado[df_dados_filtrado['unidade'] == 1]"
   ]
  },
  {
   "attachments": {},
   "cell_type": "markdown",
   "metadata": {},
   "source": [
    "Renomeando dados da coluna descrição."
   ]
  },
  {
   "cell_type": "code",
   "execution_count": 408,
   "metadata": {},
   "outputs": [
    {
     "data": {
      "text/plain": [
       "\"df_dados_filtrado = df_dados_filtrado.replace({'descricao':\\n               {'APROVADO POR NOTA':'APROVADO',\\n                'REPROVADO POR FALTAS':'REPROVADO',\\n                'REPROVADO POR MÉDIA E POR FALTAS':'REPROVADO',\\n                'REPROVADO POR NOTA E FALTA':'REPROVADO',\\n                'REPROVADO POR NOTA':'REPROVADO',\\n                }}, regex=True)\""
      ]
     },
     "execution_count": 408,
     "metadata": {},
     "output_type": "execute_result"
    }
   ],
   "source": [
    "'''df_dados_filtrado = df_dados_filtrado.replace({'descricao':\n",
    "               {'APROVADO POR NOTA':'APROVADO',\n",
    "                'REPROVADO POR FALTAS':'REPROVADO',\n",
    "                'REPROVADO POR MÉDIA E POR FALTAS':'REPROVADO',\n",
    "                'REPROVADO POR NOTA E FALTA':'REPROVADO',\n",
    "                'REPROVADO POR NOTA':'REPROVADO',\n",
    "                }}, regex=True)'''"
   ]
  },
  {
   "cell_type": "code",
   "execution_count": 409,
   "metadata": {},
   "outputs": [
    {
     "name": "stdout",
     "output_type": "stream",
     "text": [
      "                               discente  unidade  nota media_final  \\\n",
      "0      bad4e0ec61e635f382e7e32c32d5ad11      1.0   0,0         0,0   \n",
      "1      bad4e0ec61e635f382e7e32c32d5ad11      2.0   0,0         0,0   \n",
      "2      bad4e0ec61e635f382e7e32c32d5ad11      3.0   0,0         0,0   \n",
      "3      bee926721a5b23a098fdfb850bf8d5b5      1.0   0,0         0,0   \n",
      "4      bee926721a5b23a098fdfb850bf8d5b5      2.0   0,0         0,0   \n",
      "...                                 ...      ...   ...         ...   \n",
      "54576  22f4aed4a073c5e9515a8669e9c102f3      2.0   6,9         5,2   \n",
      "54577  22f4aed4a073c5e9515a8669e9c102f3      3.0   5,0         5,2   \n",
      "54581  943463d2de8c6a60ec5f5d959ba7f1ac      1.0  10,0        10,0   \n",
      "54582  943463d2de8c6a60ec5f5d959ba7f1ac      2.0  10,0        10,0   \n",
      "54583  943463d2de8c6a60ec5f5d959ba7f1ac      3.0  10,0        10,0   \n",
      "\n",
      "       numero_total_faltas             descricao    ano  id_componente  \\\n",
      "0                     44.0  REPROVADO POR FALTAS  20091        2037000   \n",
      "1                     44.0  REPROVADO POR FALTAS  20091        2037000   \n",
      "2                     44.0  REPROVADO POR FALTAS  20091        2037000   \n",
      "3                     52.0  REPROVADO POR FALTAS  20091        2037000   \n",
      "4                     52.0  REPROVADO POR FALTAS  20091        2037000   \n",
      "...                    ...                   ...    ...            ...   \n",
      "54576                  0.0     APROVADO POR NOTA  20222          62764   \n",
      "54577                  0.0     APROVADO POR NOTA  20222          62764   \n",
      "54581                  0.0              APROVADO  20222        2054400   \n",
      "54582                  0.0              APROVADO  20222        2054400   \n",
      "54583                  0.0              APROVADO  20222        2054400   \n",
      "\n",
      "                                     nome  ch_total sexo  ano_nascimento  \\\n",
      "0      ALGORITMOS E LÓGICA DE PROGRAMAÇÃO        90    F            1991   \n",
      "1      ALGORITMOS E LÓGICA DE PROGRAMAÇÃO        90    F            1991   \n",
      "2      ALGORITMOS E LÓGICA DE PROGRAMAÇÃO        90    F            1991   \n",
      "3      ALGORITMOS E LÓGICA DE PROGRAMAÇÃO        90    M            1983   \n",
      "4      ALGORITMOS E LÓGICA DE PROGRAMAÇÃO        90    M            1983   \n",
      "...                                   ...       ...  ...             ...   \n",
      "54576                  PROGRAMAÇÃO VISUAL        60    M            1984   \n",
      "54577                  PROGRAMAÇÃO VISUAL        60    M            1984   \n",
      "54581               MATEMÁTICA FINANCEIRA        60    M            1999   \n",
      "54582               MATEMÁTICA FINANCEIRA        60    M            1999   \n",
      "54583               MATEMÁTICA FINANCEIRA        60    M            1999   \n",
      "\n",
      "       ano_ingresso            status  classificacao  \n",
      "0              2009         CANCELADO             -1  \n",
      "1              2009         CANCELADO             -1  \n",
      "2              2009         CANCELADO             -1  \n",
      "3              2009         CANCELADO             -1  \n",
      "4              2009         CANCELADO             -1  \n",
      "...             ...               ...            ...  \n",
      "54576          2019  ATIVO - FORMANDO              1  \n",
      "54577          2019  ATIVO - FORMANDO              1  \n",
      "54581          2018         CONCLUÍDO              2  \n",
      "54582          2018         CONCLUÍDO              2  \n",
      "54583          2018         CONCLUÍDO              2  \n",
      "\n",
      "[39993 rows x 15 columns]\n"
     ]
    },
    {
     "name": "stderr",
     "output_type": "stream",
     "text": [
      "/tmp/ipykernel_7183/1346963640.py:20: SettingWithCopyWarning: \n",
      "A value is trying to be set on a copy of a slice from a DataFrame.\n",
      "Try using .loc[row_indexer,col_indexer] = value instead\n",
      "\n",
      "See the caveats in the documentation: https://pandas.pydata.org/pandas-docs/stable/user_guide/indexing.html#returning-a-view-versus-a-copy\n",
      "  df_dados_filtrado.loc[:, 'classificacao'] = df_dados_filtrado['descricao'].map(mapear_classificacao)\n"
     ]
    }
   ],
   "source": [
    "# Criar uma função para mapear a classificação\n",
    "def mapear_classificacao(descricao):\n",
    "    mapeamento = {\n",
    "        'APROVADO': 2,\n",
    "        'APROVADO POR NOTA': 1,\n",
    "        'REPROVADO': -1,\n",
    "        'REPROVADO POR MÉDIA E POR FALTAS': -2,\n",
    "        'CANCELADO': 0,\n",
    "        'EXCLUIDA': 0,\n",
    "        'TRANCADO': 0,\n",
    "        'INDEFERIDO': 0,\n",
    "        'DESISTENCIA': -3,\n",
    "        'REPROVADO POR FALTAS': -1,\n",
    "        'REPROVADO POR NOTA': -1,\n",
    "        'REPROVADO POR NOTA E FALTA': -2,\n",
    "    }\n",
    "    return mapeamento.get(descricao, None)\n",
    "\n",
    "# Aplicar a função de mapeamento e criar a coluna 'classificacao'\n",
    "df_dados_filtrado.loc[:, 'classificacao'] = df_dados_filtrado['descricao'].map(mapear_classificacao)\n",
    "\n",
    "# Exibir o DataFrame resultante\n",
    "print(df_dados_filtrado)\n"
   ]
  },
  {
   "attachments": {},
   "cell_type": "markdown",
   "metadata": {},
   "source": [
    "Contando os valores dos dados da coluna descrição."
   ]
  },
  {
   "cell_type": "code",
   "execution_count": 410,
   "metadata": {},
   "outputs": [
    {
     "data": {
      "text/plain": [
       "descricao\n",
       "APROVADO                            19059\n",
       "APROVADO POR NOTA                    6933\n",
       "REPROVADO                            5193\n",
       "REPROVADO POR MÉDIA E POR FALTAS     3066\n",
       "CANCELADO                            2032\n",
       "EXCLUIDA                             1501\n",
       "TRANCADO                             1360\n",
       "INDEFERIDO                            402\n",
       "DESISTENCIA                           216\n",
       "REPROVADO POR FALTAS                  123\n",
       "REPROVADO POR NOTA                     81\n",
       "REPROVADO POR NOTA E FALTA             27\n",
       "Name: count, dtype: int64"
      ]
     },
     "execution_count": 410,
     "metadata": {},
     "output_type": "execute_result"
    }
   ],
   "source": [
    "df_dados_filtrado.descricao.value_counts()"
   ]
  },
  {
   "attachments": {},
   "cell_type": "markdown",
   "metadata": {},
   "source": [
    "## Extraindo dados"
   ]
  },
  {
   "attachments": {},
   "cell_type": "markdown",
   "metadata": {},
   "source": [
    "### Colunas com as **Disciplinas**"
   ]
  },
  {
   "attachments": {},
   "cell_type": "markdown",
   "metadata": {},
   "source": [
    "Calculando a quantidade de vezes que cada discente cursou cada *disciplina*."
   ]
  },
  {
   "cell_type": "code",
   "execution_count": 411,
   "metadata": {},
   "outputs": [],
   "source": [
    "quantidade_disciplinas = df_dados_filtrado.groupby(['discente', 'nome']).size().reset_index(name='quantidade')\n"
   ]
  },
  {
   "attachments": {},
   "cell_type": "markdown",
   "metadata": {},
   "source": [
    "Pivotando as *disciplinas*."
   ]
  },
  {
   "cell_type": "code",
   "execution_count": 412,
   "metadata": {},
   "outputs": [],
   "source": [
    "tabela_final = quantidade_disciplinas.pivot(index='discente', columns='nome', values='quantidade').reset_index()"
   ]
  },
  {
   "attachments": {},
   "cell_type": "markdown",
   "metadata": {},
   "source": [
    "### Coluna com o **Ano de Ingresso**"
   ]
  },
  {
   "attachments": {},
   "cell_type": "markdown",
   "metadata": {},
   "source": [
    "Adicionando o *ano_ingresso* para cada discente."
   ]
  },
  {
   "cell_type": "code",
   "execution_count": 413,
   "metadata": {},
   "outputs": [],
   "source": [
    "ano_ingresso_discente = df_dados_filtrado.drop_duplicates(subset=['discente'])[['discente', 'ano_ingresso']]\n",
    "tabela_final = tabela_final.merge(ano_ingresso_discente, on='discente', how='left')"
   ]
  },
  {
   "attachments": {},
   "cell_type": "markdown",
   "metadata": {},
   "source": [
    "### Coluna com o **Sexo** do Discente"
   ]
  },
  {
   "attachments": {},
   "cell_type": "markdown",
   "metadata": {},
   "source": [
    "Definir a opção global para permitir o downcasting silencioso"
   ]
  },
  {
   "cell_type": "code",
   "execution_count": 414,
   "metadata": {},
   "outputs": [],
   "source": [
    "pd.set_option('future.no_silent_downcasting', True)"
   ]
  },
  {
   "attachments": {},
   "cell_type": "markdown",
   "metadata": {},
   "source": [
    "Alterando o conteúdo da coluna *sexo*."
   ]
  },
  {
   "cell_type": "code",
   "execution_count": 415,
   "metadata": {},
   "outputs": [
    {
     "name": "stderr",
     "output_type": "stream",
     "text": [
      "/tmp/ipykernel_7183/3799681914.py:1: SettingWithCopyWarning: \n",
      "A value is trying to be set on a copy of a slice from a DataFrame.\n",
      "Try using .loc[row_indexer,col_indexer] = value instead\n",
      "\n",
      "See the caveats in the documentation: https://pandas.pydata.org/pandas-docs/stable/user_guide/indexing.html#returning-a-view-versus-a-copy\n",
      "  df_dados_filtrado['sexo'] = df_dados_filtrado['sexo'].replace({'M': 0, 'F': 1})\n"
     ]
    }
   ],
   "source": [
    "df_dados_filtrado['sexo'] = df_dados_filtrado['sexo'].replace({'M': 0, 'F': 1})\n",
    "df_dados_filtrado = df_dados_filtrado.infer_objects(copy=False)"
   ]
  },
  {
   "attachments": {},
   "cell_type": "markdown",
   "metadata": {},
   "source": [
    "Adicionando a coluna *sexo*."
   ]
  },
  {
   "cell_type": "code",
   "execution_count": 416,
   "metadata": {},
   "outputs": [],
   "source": [
    "sexo_discente = df_dados_filtrado.drop_duplicates(subset=['discente'])[['discente', 'sexo']]\n",
    "tabela_final = tabela_final.merge(sexo_discente, on='discente', how='left')"
   ]
  },
  {
   "attachments": {},
   "cell_type": "markdown",
   "metadata": {},
   "source": [
    "### Coluna com o **Status** do Discente"
   ]
  },
  {
   "attachments": {},
   "cell_type": "markdown",
   "metadata": {},
   "source": [
    "Alterando o conteúdo da coluna *status*."
   ]
  },
  {
   "cell_type": "code",
   "execution_count": 417,
   "metadata": {},
   "outputs": [],
   "source": [
    "df_dados_filtrado['status'] = df_dados_filtrado['status'].replace({'CANCELADO': -1, 'ATIVO': 0, 'ATIVO - FORMANDO': 0,'FORMADO': 1,'CONCLUÍDO': 1})"
   ]
  },
  {
   "attachments": {},
   "cell_type": "markdown",
   "metadata": {},
   "source": [
    "Adicionando o *status* para cada discente."
   ]
  },
  {
   "cell_type": "code",
   "execution_count": 418,
   "metadata": {},
   "outputs": [],
   "source": [
    "status_discente = df_dados_filtrado.drop_duplicates(subset=['discente'])[['discente', 'status']]\n",
    "tabela_final = tabela_final.merge(status_discente, on='discente', how='left')"
   ]
  },
  {
   "cell_type": "code",
   "execution_count": 419,
   "metadata": {},
   "outputs": [
    {
     "data": {
      "text/html": [
       "<div>\n",
       "<style scoped>\n",
       "    .dataframe tbody tr th:only-of-type {\n",
       "        vertical-align: middle;\n",
       "    }\n",
       "\n",
       "    .dataframe tbody tr th {\n",
       "        vertical-align: top;\n",
       "    }\n",
       "\n",
       "    .dataframe thead th {\n",
       "        text-align: right;\n",
       "    }\n",
       "</style>\n",
       "<table border=\"1\" class=\"dataframe\">\n",
       "  <thead>\n",
       "    <tr style=\"text-align: right;\">\n",
       "      <th></th>\n",
       "      <th>discente</th>\n",
       "      <th>ALGORITMOS E LÓGICA DE PROGRAMAÇÃO</th>\n",
       "      <th>ARQUITETURA DE COMPUTADORES</th>\n",
       "      <th>BANCO DE DADOS</th>\n",
       "      <th>CÁLCULO DIFERENCIAL E INTEGRAL</th>\n",
       "      <th>EMPREENDEDORISMO EM INFORMÁTICA</th>\n",
       "      <th>ENGENHARIA DE SOFTWARE I</th>\n",
       "      <th>ENGENHARIA DE SOFTWARE II</th>\n",
       "      <th>ESTRUTURA DE DADOS</th>\n",
       "      <th>FUNDAMENTOS DE MATEMÁTICA</th>\n",
       "      <th>...</th>\n",
       "      <th>TEORIA GERAL DA ADMINISTRAÇÃO</th>\n",
       "      <th>TEORIA GERAL DOS SISTEMAS</th>\n",
       "      <th>ÁLGEBRA LINEAR</th>\n",
       "      <th>ÉTICA</th>\n",
       "      <th>ano_ingresso</th>\n",
       "      <th>sexo</th>\n",
       "      <th>status</th>\n",
       "      <th>nota_1</th>\n",
       "      <th>nota_2</th>\n",
       "      <th>nota_3</th>\n",
       "    </tr>\n",
       "  </thead>\n",
       "  <tbody>\n",
       "    <tr>\n",
       "      <th>0</th>\n",
       "      <td>001cea3c82e2010681f2cdeab21e5ecf</td>\n",
       "      <td>1.0</td>\n",
       "      <td>NaN</td>\n",
       "      <td>NaN</td>\n",
       "      <td>NaN</td>\n",
       "      <td>NaN</td>\n",
       "      <td>NaN</td>\n",
       "      <td>NaN</td>\n",
       "      <td>NaN</td>\n",
       "      <td>1.0</td>\n",
       "      <td>...</td>\n",
       "      <td>1.0</td>\n",
       "      <td>NaN</td>\n",
       "      <td>NaN</td>\n",
       "      <td>NaN</td>\n",
       "      <td>2018</td>\n",
       "      <td>0</td>\n",
       "      <td>-1</td>\n",
       "      <td>&lt;NA&gt;</td>\n",
       "      <td>&lt;NA&gt;</td>\n",
       "      <td>&lt;NA&gt;</td>\n",
       "    </tr>\n",
       "    <tr>\n",
       "      <th>1</th>\n",
       "      <td>001cea3c82e2010681f2cdeab21e5ecf</td>\n",
       "      <td>1.0</td>\n",
       "      <td>NaN</td>\n",
       "      <td>NaN</td>\n",
       "      <td>NaN</td>\n",
       "      <td>NaN</td>\n",
       "      <td>NaN</td>\n",
       "      <td>NaN</td>\n",
       "      <td>NaN</td>\n",
       "      <td>1.0</td>\n",
       "      <td>...</td>\n",
       "      <td>1.0</td>\n",
       "      <td>NaN</td>\n",
       "      <td>NaN</td>\n",
       "      <td>NaN</td>\n",
       "      <td>2018</td>\n",
       "      <td>0</td>\n",
       "      <td>-1</td>\n",
       "      <td>&lt;NA&gt;</td>\n",
       "      <td>&lt;NA&gt;</td>\n",
       "      <td>&lt;NA&gt;</td>\n",
       "    </tr>\n",
       "    <tr>\n",
       "      <th>2</th>\n",
       "      <td>001cea3c82e2010681f2cdeab21e5ecf</td>\n",
       "      <td>1.0</td>\n",
       "      <td>NaN</td>\n",
       "      <td>NaN</td>\n",
       "      <td>NaN</td>\n",
       "      <td>NaN</td>\n",
       "      <td>NaN</td>\n",
       "      <td>NaN</td>\n",
       "      <td>NaN</td>\n",
       "      <td>1.0</td>\n",
       "      <td>...</td>\n",
       "      <td>1.0</td>\n",
       "      <td>NaN</td>\n",
       "      <td>NaN</td>\n",
       "      <td>NaN</td>\n",
       "      <td>2018</td>\n",
       "      <td>0</td>\n",
       "      <td>-1</td>\n",
       "      <td>&lt;NA&gt;</td>\n",
       "      <td>&lt;NA&gt;</td>\n",
       "      <td>&lt;NA&gt;</td>\n",
       "    </tr>\n",
       "    <tr>\n",
       "      <th>3</th>\n",
       "      <td>001cea3c82e2010681f2cdeab21e5ecf</td>\n",
       "      <td>1.0</td>\n",
       "      <td>NaN</td>\n",
       "      <td>NaN</td>\n",
       "      <td>NaN</td>\n",
       "      <td>NaN</td>\n",
       "      <td>NaN</td>\n",
       "      <td>NaN</td>\n",
       "      <td>NaN</td>\n",
       "      <td>1.0</td>\n",
       "      <td>...</td>\n",
       "      <td>1.0</td>\n",
       "      <td>NaN</td>\n",
       "      <td>NaN</td>\n",
       "      <td>NaN</td>\n",
       "      <td>2018</td>\n",
       "      <td>0</td>\n",
       "      <td>-1</td>\n",
       "      <td>&lt;NA&gt;</td>\n",
       "      <td>&lt;NA&gt;</td>\n",
       "      <td>&lt;NA&gt;</td>\n",
       "    </tr>\n",
       "    <tr>\n",
       "      <th>4</th>\n",
       "      <td>001cea3c82e2010681f2cdeab21e5ecf</td>\n",
       "      <td>1.0</td>\n",
       "      <td>NaN</td>\n",
       "      <td>NaN</td>\n",
       "      <td>NaN</td>\n",
       "      <td>NaN</td>\n",
       "      <td>NaN</td>\n",
       "      <td>NaN</td>\n",
       "      <td>NaN</td>\n",
       "      <td>1.0</td>\n",
       "      <td>...</td>\n",
       "      <td>1.0</td>\n",
       "      <td>NaN</td>\n",
       "      <td>NaN</td>\n",
       "      <td>NaN</td>\n",
       "      <td>2018</td>\n",
       "      <td>0</td>\n",
       "      <td>-1</td>\n",
       "      <td>&lt;NA&gt;</td>\n",
       "      <td>&lt;NA&gt;</td>\n",
       "      <td>&lt;NA&gt;</td>\n",
       "    </tr>\n",
       "    <tr>\n",
       "      <th>...</th>\n",
       "      <td>...</td>\n",
       "      <td>...</td>\n",
       "      <td>...</td>\n",
       "      <td>...</td>\n",
       "      <td>...</td>\n",
       "      <td>...</td>\n",
       "      <td>...</td>\n",
       "      <td>...</td>\n",
       "      <td>...</td>\n",
       "      <td>...</td>\n",
       "      <td>...</td>\n",
       "      <td>...</td>\n",
       "      <td>...</td>\n",
       "      <td>...</td>\n",
       "      <td>...</td>\n",
       "      <td>...</td>\n",
       "      <td>...</td>\n",
       "      <td>...</td>\n",
       "      <td>...</td>\n",
       "      <td>...</td>\n",
       "      <td>...</td>\n",
       "    </tr>\n",
       "    <tr>\n",
       "      <th>39988</th>\n",
       "      <td>ffe447b2fe2058d45d5f756349a26f45</td>\n",
       "      <td>3.0</td>\n",
       "      <td>NaN</td>\n",
       "      <td>NaN</td>\n",
       "      <td>NaN</td>\n",
       "      <td>NaN</td>\n",
       "      <td>NaN</td>\n",
       "      <td>NaN</td>\n",
       "      <td>NaN</td>\n",
       "      <td>NaN</td>\n",
       "      <td>...</td>\n",
       "      <td>3.0</td>\n",
       "      <td>NaN</td>\n",
       "      <td>NaN</td>\n",
       "      <td>NaN</td>\n",
       "      <td>2012</td>\n",
       "      <td>0</td>\n",
       "      <td>-1</td>\n",
       "      <td>&lt;NA&gt;</td>\n",
       "      <td>0,0</td>\n",
       "      <td>&lt;NA&gt;</td>\n",
       "    </tr>\n",
       "    <tr>\n",
       "      <th>39989</th>\n",
       "      <td>ffe447b2fe2058d45d5f756349a26f45</td>\n",
       "      <td>3.0</td>\n",
       "      <td>NaN</td>\n",
       "      <td>NaN</td>\n",
       "      <td>NaN</td>\n",
       "      <td>NaN</td>\n",
       "      <td>NaN</td>\n",
       "      <td>NaN</td>\n",
       "      <td>NaN</td>\n",
       "      <td>NaN</td>\n",
       "      <td>...</td>\n",
       "      <td>3.0</td>\n",
       "      <td>NaN</td>\n",
       "      <td>NaN</td>\n",
       "      <td>NaN</td>\n",
       "      <td>2012</td>\n",
       "      <td>0</td>\n",
       "      <td>-1</td>\n",
       "      <td>&lt;NA&gt;</td>\n",
       "      <td>&lt;NA&gt;</td>\n",
       "      <td>0,0</td>\n",
       "    </tr>\n",
       "    <tr>\n",
       "      <th>39990</th>\n",
       "      <td>ffe447b2fe2058d45d5f756349a26f45</td>\n",
       "      <td>3.0</td>\n",
       "      <td>NaN</td>\n",
       "      <td>NaN</td>\n",
       "      <td>NaN</td>\n",
       "      <td>NaN</td>\n",
       "      <td>NaN</td>\n",
       "      <td>NaN</td>\n",
       "      <td>NaN</td>\n",
       "      <td>NaN</td>\n",
       "      <td>...</td>\n",
       "      <td>3.0</td>\n",
       "      <td>NaN</td>\n",
       "      <td>NaN</td>\n",
       "      <td>NaN</td>\n",
       "      <td>2012</td>\n",
       "      <td>0</td>\n",
       "      <td>-1</td>\n",
       "      <td>0,0</td>\n",
       "      <td>&lt;NA&gt;</td>\n",
       "      <td>&lt;NA&gt;</td>\n",
       "    </tr>\n",
       "    <tr>\n",
       "      <th>39991</th>\n",
       "      <td>ffe447b2fe2058d45d5f756349a26f45</td>\n",
       "      <td>3.0</td>\n",
       "      <td>NaN</td>\n",
       "      <td>NaN</td>\n",
       "      <td>NaN</td>\n",
       "      <td>NaN</td>\n",
       "      <td>NaN</td>\n",
       "      <td>NaN</td>\n",
       "      <td>NaN</td>\n",
       "      <td>NaN</td>\n",
       "      <td>...</td>\n",
       "      <td>3.0</td>\n",
       "      <td>NaN</td>\n",
       "      <td>NaN</td>\n",
       "      <td>NaN</td>\n",
       "      <td>2012</td>\n",
       "      <td>0</td>\n",
       "      <td>-1</td>\n",
       "      <td>&lt;NA&gt;</td>\n",
       "      <td>0,0</td>\n",
       "      <td>&lt;NA&gt;</td>\n",
       "    </tr>\n",
       "    <tr>\n",
       "      <th>39992</th>\n",
       "      <td>ffe447b2fe2058d45d5f756349a26f45</td>\n",
       "      <td>3.0</td>\n",
       "      <td>NaN</td>\n",
       "      <td>NaN</td>\n",
       "      <td>NaN</td>\n",
       "      <td>NaN</td>\n",
       "      <td>NaN</td>\n",
       "      <td>NaN</td>\n",
       "      <td>NaN</td>\n",
       "      <td>NaN</td>\n",
       "      <td>...</td>\n",
       "      <td>3.0</td>\n",
       "      <td>NaN</td>\n",
       "      <td>NaN</td>\n",
       "      <td>NaN</td>\n",
       "      <td>2012</td>\n",
       "      <td>0</td>\n",
       "      <td>-1</td>\n",
       "      <td>&lt;NA&gt;</td>\n",
       "      <td>&lt;NA&gt;</td>\n",
       "      <td>0,0</td>\n",
       "    </tr>\n",
       "  </tbody>\n",
       "</table>\n",
       "<p>39993 rows × 36 columns</p>\n",
       "</div>"
      ],
      "text/plain": [
       "                               discente  ALGORITMOS E LÓGICA DE PROGRAMAÇÃO  \\\n",
       "0      001cea3c82e2010681f2cdeab21e5ecf                                 1.0   \n",
       "1      001cea3c82e2010681f2cdeab21e5ecf                                 1.0   \n",
       "2      001cea3c82e2010681f2cdeab21e5ecf                                 1.0   \n",
       "3      001cea3c82e2010681f2cdeab21e5ecf                                 1.0   \n",
       "4      001cea3c82e2010681f2cdeab21e5ecf                                 1.0   \n",
       "...                                 ...                                 ...   \n",
       "39988  ffe447b2fe2058d45d5f756349a26f45                                 3.0   \n",
       "39989  ffe447b2fe2058d45d5f756349a26f45                                 3.0   \n",
       "39990  ffe447b2fe2058d45d5f756349a26f45                                 3.0   \n",
       "39991  ffe447b2fe2058d45d5f756349a26f45                                 3.0   \n",
       "39992  ffe447b2fe2058d45d5f756349a26f45                                 3.0   \n",
       "\n",
       "       ARQUITETURA DE COMPUTADORES  BANCO DE DADOS  \\\n",
       "0                              NaN             NaN   \n",
       "1                              NaN             NaN   \n",
       "2                              NaN             NaN   \n",
       "3                              NaN             NaN   \n",
       "4                              NaN             NaN   \n",
       "...                            ...             ...   \n",
       "39988                          NaN             NaN   \n",
       "39989                          NaN             NaN   \n",
       "39990                          NaN             NaN   \n",
       "39991                          NaN             NaN   \n",
       "39992                          NaN             NaN   \n",
       "\n",
       "       CÁLCULO DIFERENCIAL E INTEGRAL  EMPREENDEDORISMO EM INFORMÁTICA  \\\n",
       "0                                 NaN                              NaN   \n",
       "1                                 NaN                              NaN   \n",
       "2                                 NaN                              NaN   \n",
       "3                                 NaN                              NaN   \n",
       "4                                 NaN                              NaN   \n",
       "...                               ...                              ...   \n",
       "39988                             NaN                              NaN   \n",
       "39989                             NaN                              NaN   \n",
       "39990                             NaN                              NaN   \n",
       "39991                             NaN                              NaN   \n",
       "39992                             NaN                              NaN   \n",
       "\n",
       "       ENGENHARIA DE SOFTWARE I  ENGENHARIA DE SOFTWARE II  \\\n",
       "0                           NaN                        NaN   \n",
       "1                           NaN                        NaN   \n",
       "2                           NaN                        NaN   \n",
       "3                           NaN                        NaN   \n",
       "4                           NaN                        NaN   \n",
       "...                         ...                        ...   \n",
       "39988                       NaN                        NaN   \n",
       "39989                       NaN                        NaN   \n",
       "39990                       NaN                        NaN   \n",
       "39991                       NaN                        NaN   \n",
       "39992                       NaN                        NaN   \n",
       "\n",
       "       ESTRUTURA DE DADOS  FUNDAMENTOS DE MATEMÁTICA  ...  \\\n",
       "0                     NaN                        1.0  ...   \n",
       "1                     NaN                        1.0  ...   \n",
       "2                     NaN                        1.0  ...   \n",
       "3                     NaN                        1.0  ...   \n",
       "4                     NaN                        1.0  ...   \n",
       "...                   ...                        ...  ...   \n",
       "39988                 NaN                        NaN  ...   \n",
       "39989                 NaN                        NaN  ...   \n",
       "39990                 NaN                        NaN  ...   \n",
       "39991                 NaN                        NaN  ...   \n",
       "39992                 NaN                        NaN  ...   \n",
       "\n",
       "       TEORIA GERAL DA ADMINISTRAÇÃO  TEORIA GERAL DOS SISTEMAS  \\\n",
       "0                                1.0                        NaN   \n",
       "1                                1.0                        NaN   \n",
       "2                                1.0                        NaN   \n",
       "3                                1.0                        NaN   \n",
       "4                                1.0                        NaN   \n",
       "...                              ...                        ...   \n",
       "39988                            3.0                        NaN   \n",
       "39989                            3.0                        NaN   \n",
       "39990                            3.0                        NaN   \n",
       "39991                            3.0                        NaN   \n",
       "39992                            3.0                        NaN   \n",
       "\n",
       "       ÁLGEBRA LINEAR  ÉTICA  ano_ingresso  sexo  status  nota_1  nota_2  \\\n",
       "0                 NaN    NaN          2018     0      -1    <NA>    <NA>   \n",
       "1                 NaN    NaN          2018     0      -1    <NA>    <NA>   \n",
       "2                 NaN    NaN          2018     0      -1    <NA>    <NA>   \n",
       "3                 NaN    NaN          2018     0      -1    <NA>    <NA>   \n",
       "4                 NaN    NaN          2018     0      -1    <NA>    <NA>   \n",
       "...               ...    ...           ...   ...     ...     ...     ...   \n",
       "39988             NaN    NaN          2012     0      -1    <NA>     0,0   \n",
       "39989             NaN    NaN          2012     0      -1    <NA>    <NA>   \n",
       "39990             NaN    NaN          2012     0      -1     0,0    <NA>   \n",
       "39991             NaN    NaN          2012     0      -1    <NA>     0,0   \n",
       "39992             NaN    NaN          2012     0      -1    <NA>    <NA>   \n",
       "\n",
       "       nota_3  \n",
       "0        <NA>  \n",
       "1        <NA>  \n",
       "2        <NA>  \n",
       "3        <NA>  \n",
       "4        <NA>  \n",
       "...       ...  \n",
       "39988    <NA>  \n",
       "39989     0,0  \n",
       "39990    <NA>  \n",
       "39991    <NA>  \n",
       "39992     0,0  \n",
       "\n",
       "[39993 rows x 36 columns]"
      ]
     },
     "execution_count": 419,
     "metadata": {},
     "output_type": "execute_result"
    }
   ],
   "source": [
    "# Criar cópia do DataFrame para evitar o aviso SettingWithCopyWarning\n",
    "df_dados_filtrado = df_dados_filtrado.copy()\n",
    "\n",
    "# Inicializar a nova coluna com valores padrão\n",
    "df_dados_filtrado['nota_1'] = pd.NA\n",
    "df_dados_filtrado['nota_2'] = pd.NA\n",
    "df_dados_filtrado['nota_3'] = pd.NA\n",
    "\n",
    "# Preencher as novas colunas com os valores das notas correspondentes à unidade\n",
    "df_dados_filtrado.loc[df_dados_filtrado['unidade'] == 1, 'nota_1'] = df_dados_filtrado['nota']\n",
    "df_dados_filtrado.loc[df_dados_filtrado['unidade'] == 2, 'nota_2'] = df_dados_filtrado['nota']\n",
    "df_dados_filtrado.loc[df_dados_filtrado['unidade'] == 3, 'nota_3'] = df_dados_filtrado['nota']\n",
    "\n",
    "# Mesclar as colunas de notas na tabela final\n",
    "tabela_final = tabela_final.merge(df_dados_filtrado[['discente', 'nota_1', 'nota_2', 'nota_3']], on='discente', how='left')\n",
    "tabela_final"
   ]
  },
  {
   "attachments": {},
   "cell_type": "markdown",
   "metadata": {},
   "source": [
    "### Coluna com a **Carga Horária Cumprida**"
   ]
  },
  {
   "attachments": {},
   "cell_type": "markdown",
   "metadata": {},
   "source": [
    "Agrupando por discente e somando a *carga horária*."
   ]
  },
  {
   "cell_type": "code",
   "execution_count": 420,
   "metadata": {},
   "outputs": [],
   "source": [
    "df_carga_horaria_cumprida = df_dados_filtrado.groupby('discente')['ch_total'].sum().reset_index()\n",
    "df_carga_horaria_cumprida.rename(columns={'ch_total': 'ch_cumprida'}, inplace=True)"
   ]
  },
  {
   "attachments": {},
   "cell_type": "markdown",
   "metadata": {},
   "source": [
    "Adicionando a *carga horária cumprida* de cada discente."
   ]
  },
  {
   "cell_type": "code",
   "execution_count": 421,
   "metadata": {},
   "outputs": [],
   "source": [
    "tabela_final = tabela_final.merge(df_carga_horaria_cumprida, on='discente', how='left')"
   ]
  },
  {
   "attachments": {},
   "cell_type": "markdown",
   "metadata": {},
   "source": [
    "Dividindo a *carga horária cumprida* do discente pela carga horária das disciplinas obrigatórias."
   ]
  },
  {
   "cell_type": "code",
   "execution_count": 422,
   "metadata": {},
   "outputs": [],
   "source": [
    "tabela_final['ch_cumprida_dividida'] = tabela_final['ch_cumprida'] / 1830"
   ]
  },
  {
   "attachments": {},
   "cell_type": "markdown",
   "metadata": {},
   "source": [
    "### Coluna com a **Carga Horária Cumprida** com **Reprovação**"
   ]
  },
  {
   "attachments": {},
   "cell_type": "markdown",
   "metadata": {},
   "source": [
    "Filtrar as disciplinas *reprovadas*."
   ]
  },
  {
   "cell_type": "code",
   "execution_count": 423,
   "metadata": {},
   "outputs": [],
   "source": [
    "df_reprovadas = df_dados_filtrado[df_dados_filtrado['descricao'] == 'REPROVADO']"
   ]
  },
  {
   "attachments": {},
   "cell_type": "markdown",
   "metadata": {},
   "source": [
    "Agrupar por discente e somar a *carga horária das disciplinas reprovadas*."
   ]
  },
  {
   "cell_type": "code",
   "execution_count": 424,
   "metadata": {},
   "outputs": [],
   "source": [
    "ch_reprovacao = df_reprovadas.groupby('discente')['ch_total'].sum().reset_index()"
   ]
  },
  {
   "attachments": {},
   "cell_type": "markdown",
   "metadata": {},
   "source": [
    "Renomear a coluna resultante."
   ]
  },
  {
   "cell_type": "code",
   "execution_count": 425,
   "metadata": {},
   "outputs": [],
   "source": [
    "ch_reprovacao.columns = ['discente', 'ch_reprovacao']"
   ]
  },
  {
   "attachments": {},
   "cell_type": "markdown",
   "metadata": {},
   "source": [
    "Adicionando a *carga horária de reprovação* de cada discente."
   ]
  },
  {
   "cell_type": "code",
   "execution_count": 426,
   "metadata": {},
   "outputs": [],
   "source": [
    "tabela_final = tabela_final.merge(ch_reprovacao, on='discente', how='left')"
   ]
  },
  {
   "attachments": {},
   "cell_type": "markdown",
   "metadata": {},
   "source": [
    "Substituindo NaN por 0 nas colunas."
   ]
  },
  {
   "cell_type": "code",
   "execution_count": 427,
   "metadata": {},
   "outputs": [],
   "source": [
    "tabela_final = tabela_final.fillna(0)"
   ]
  },
  {
   "attachments": {},
   "cell_type": "markdown",
   "metadata": {},
   "source": [
    "### Coluna com **taxa de reprovação**"
   ]
  },
  {
   "cell_type": "code",
   "execution_count": 428,
   "metadata": {},
   "outputs": [
    {
     "data": {
      "text/html": [
       "<div>\n",
       "<style scoped>\n",
       "    .dataframe tbody tr th:only-of-type {\n",
       "        vertical-align: middle;\n",
       "    }\n",
       "\n",
       "    .dataframe tbody tr th {\n",
       "        vertical-align: top;\n",
       "    }\n",
       "\n",
       "    .dataframe thead th {\n",
       "        text-align: right;\n",
       "    }\n",
       "</style>\n",
       "<table border=\"1\" class=\"dataframe\">\n",
       "  <thead>\n",
       "    <tr style=\"text-align: right;\">\n",
       "      <th></th>\n",
       "      <th>discente</th>\n",
       "      <th>ALGORITMOS E LÓGICA DE PROGRAMAÇÃO</th>\n",
       "      <th>ARQUITETURA DE COMPUTADORES</th>\n",
       "      <th>BANCO DE DADOS</th>\n",
       "      <th>CÁLCULO DIFERENCIAL E INTEGRAL</th>\n",
       "      <th>EMPREENDEDORISMO EM INFORMÁTICA</th>\n",
       "      <th>ENGENHARIA DE SOFTWARE I</th>\n",
       "      <th>ENGENHARIA DE SOFTWARE II</th>\n",
       "      <th>ESTRUTURA DE DADOS</th>\n",
       "      <th>FUNDAMENTOS DE MATEMÁTICA</th>\n",
       "      <th>...</th>\n",
       "      <th>ano_ingresso</th>\n",
       "      <th>sexo</th>\n",
       "      <th>status</th>\n",
       "      <th>nota_1</th>\n",
       "      <th>nota_2</th>\n",
       "      <th>nota_3</th>\n",
       "      <th>ch_cumprida</th>\n",
       "      <th>ch_cumprida_dividida</th>\n",
       "      <th>ch_reprovacao</th>\n",
       "      <th>taxa_reprovacao</th>\n",
       "    </tr>\n",
       "  </thead>\n",
       "  <tbody>\n",
       "    <tr>\n",
       "      <th>0</th>\n",
       "      <td>001cea3c82e2010681f2cdeab21e5ecf</td>\n",
       "      <td>1.0</td>\n",
       "      <td>0.0</td>\n",
       "      <td>0.0</td>\n",
       "      <td>0.0</td>\n",
       "      <td>0.0</td>\n",
       "      <td>0.0</td>\n",
       "      <td>0.0</td>\n",
       "      <td>0.0</td>\n",
       "      <td>1.0</td>\n",
       "      <td>...</td>\n",
       "      <td>2018</td>\n",
       "      <td>0</td>\n",
       "      <td>-1</td>\n",
       "      <td>0</td>\n",
       "      <td>0</td>\n",
       "      <td>0</td>\n",
       "      <td>330</td>\n",
       "      <td>0.180328</td>\n",
       "      <td>0.0</td>\n",
       "      <td>0.0</td>\n",
       "    </tr>\n",
       "    <tr>\n",
       "      <th>1</th>\n",
       "      <td>001cea3c82e2010681f2cdeab21e5ecf</td>\n",
       "      <td>1.0</td>\n",
       "      <td>0.0</td>\n",
       "      <td>0.0</td>\n",
       "      <td>0.0</td>\n",
       "      <td>0.0</td>\n",
       "      <td>0.0</td>\n",
       "      <td>0.0</td>\n",
       "      <td>0.0</td>\n",
       "      <td>1.0</td>\n",
       "      <td>...</td>\n",
       "      <td>2018</td>\n",
       "      <td>0</td>\n",
       "      <td>-1</td>\n",
       "      <td>0</td>\n",
       "      <td>0</td>\n",
       "      <td>0</td>\n",
       "      <td>330</td>\n",
       "      <td>0.180328</td>\n",
       "      <td>0.0</td>\n",
       "      <td>0.0</td>\n",
       "    </tr>\n",
       "    <tr>\n",
       "      <th>2</th>\n",
       "      <td>001cea3c82e2010681f2cdeab21e5ecf</td>\n",
       "      <td>1.0</td>\n",
       "      <td>0.0</td>\n",
       "      <td>0.0</td>\n",
       "      <td>0.0</td>\n",
       "      <td>0.0</td>\n",
       "      <td>0.0</td>\n",
       "      <td>0.0</td>\n",
       "      <td>0.0</td>\n",
       "      <td>1.0</td>\n",
       "      <td>...</td>\n",
       "      <td>2018</td>\n",
       "      <td>0</td>\n",
       "      <td>-1</td>\n",
       "      <td>0</td>\n",
       "      <td>0</td>\n",
       "      <td>0</td>\n",
       "      <td>330</td>\n",
       "      <td>0.180328</td>\n",
       "      <td>0.0</td>\n",
       "      <td>0.0</td>\n",
       "    </tr>\n",
       "    <tr>\n",
       "      <th>3</th>\n",
       "      <td>001cea3c82e2010681f2cdeab21e5ecf</td>\n",
       "      <td>1.0</td>\n",
       "      <td>0.0</td>\n",
       "      <td>0.0</td>\n",
       "      <td>0.0</td>\n",
       "      <td>0.0</td>\n",
       "      <td>0.0</td>\n",
       "      <td>0.0</td>\n",
       "      <td>0.0</td>\n",
       "      <td>1.0</td>\n",
       "      <td>...</td>\n",
       "      <td>2018</td>\n",
       "      <td>0</td>\n",
       "      <td>-1</td>\n",
       "      <td>0</td>\n",
       "      <td>0</td>\n",
       "      <td>0</td>\n",
       "      <td>330</td>\n",
       "      <td>0.180328</td>\n",
       "      <td>0.0</td>\n",
       "      <td>0.0</td>\n",
       "    </tr>\n",
       "    <tr>\n",
       "      <th>4</th>\n",
       "      <td>001cea3c82e2010681f2cdeab21e5ecf</td>\n",
       "      <td>1.0</td>\n",
       "      <td>0.0</td>\n",
       "      <td>0.0</td>\n",
       "      <td>0.0</td>\n",
       "      <td>0.0</td>\n",
       "      <td>0.0</td>\n",
       "      <td>0.0</td>\n",
       "      <td>0.0</td>\n",
       "      <td>1.0</td>\n",
       "      <td>...</td>\n",
       "      <td>2018</td>\n",
       "      <td>0</td>\n",
       "      <td>-1</td>\n",
       "      <td>0</td>\n",
       "      <td>0</td>\n",
       "      <td>0</td>\n",
       "      <td>330</td>\n",
       "      <td>0.180328</td>\n",
       "      <td>0.0</td>\n",
       "      <td>0.0</td>\n",
       "    </tr>\n",
       "    <tr>\n",
       "      <th>...</th>\n",
       "      <td>...</td>\n",
       "      <td>...</td>\n",
       "      <td>...</td>\n",
       "      <td>...</td>\n",
       "      <td>...</td>\n",
       "      <td>...</td>\n",
       "      <td>...</td>\n",
       "      <td>...</td>\n",
       "      <td>...</td>\n",
       "      <td>...</td>\n",
       "      <td>...</td>\n",
       "      <td>...</td>\n",
       "      <td>...</td>\n",
       "      <td>...</td>\n",
       "      <td>...</td>\n",
       "      <td>...</td>\n",
       "      <td>...</td>\n",
       "      <td>...</td>\n",
       "      <td>...</td>\n",
       "      <td>...</td>\n",
       "      <td>...</td>\n",
       "    </tr>\n",
       "    <tr>\n",
       "      <th>39988</th>\n",
       "      <td>ffe447b2fe2058d45d5f756349a26f45</td>\n",
       "      <td>3.0</td>\n",
       "      <td>0.0</td>\n",
       "      <td>0.0</td>\n",
       "      <td>0.0</td>\n",
       "      <td>0.0</td>\n",
       "      <td>0.0</td>\n",
       "      <td>0.0</td>\n",
       "      <td>0.0</td>\n",
       "      <td>0.0</td>\n",
       "      <td>...</td>\n",
       "      <td>2012</td>\n",
       "      <td>0</td>\n",
       "      <td>-1</td>\n",
       "      <td>0</td>\n",
       "      <td>0,0</td>\n",
       "      <td>0</td>\n",
       "      <td>630</td>\n",
       "      <td>0.344262</td>\n",
       "      <td>0.0</td>\n",
       "      <td>0.0</td>\n",
       "    </tr>\n",
       "    <tr>\n",
       "      <th>39989</th>\n",
       "      <td>ffe447b2fe2058d45d5f756349a26f45</td>\n",
       "      <td>3.0</td>\n",
       "      <td>0.0</td>\n",
       "      <td>0.0</td>\n",
       "      <td>0.0</td>\n",
       "      <td>0.0</td>\n",
       "      <td>0.0</td>\n",
       "      <td>0.0</td>\n",
       "      <td>0.0</td>\n",
       "      <td>0.0</td>\n",
       "      <td>...</td>\n",
       "      <td>2012</td>\n",
       "      <td>0</td>\n",
       "      <td>-1</td>\n",
       "      <td>0</td>\n",
       "      <td>0</td>\n",
       "      <td>0,0</td>\n",
       "      <td>630</td>\n",
       "      <td>0.344262</td>\n",
       "      <td>0.0</td>\n",
       "      <td>0.0</td>\n",
       "    </tr>\n",
       "    <tr>\n",
       "      <th>39990</th>\n",
       "      <td>ffe447b2fe2058d45d5f756349a26f45</td>\n",
       "      <td>3.0</td>\n",
       "      <td>0.0</td>\n",
       "      <td>0.0</td>\n",
       "      <td>0.0</td>\n",
       "      <td>0.0</td>\n",
       "      <td>0.0</td>\n",
       "      <td>0.0</td>\n",
       "      <td>0.0</td>\n",
       "      <td>0.0</td>\n",
       "      <td>...</td>\n",
       "      <td>2012</td>\n",
       "      <td>0</td>\n",
       "      <td>-1</td>\n",
       "      <td>0,0</td>\n",
       "      <td>0</td>\n",
       "      <td>0</td>\n",
       "      <td>630</td>\n",
       "      <td>0.344262</td>\n",
       "      <td>0.0</td>\n",
       "      <td>0.0</td>\n",
       "    </tr>\n",
       "    <tr>\n",
       "      <th>39991</th>\n",
       "      <td>ffe447b2fe2058d45d5f756349a26f45</td>\n",
       "      <td>3.0</td>\n",
       "      <td>0.0</td>\n",
       "      <td>0.0</td>\n",
       "      <td>0.0</td>\n",
       "      <td>0.0</td>\n",
       "      <td>0.0</td>\n",
       "      <td>0.0</td>\n",
       "      <td>0.0</td>\n",
       "      <td>0.0</td>\n",
       "      <td>...</td>\n",
       "      <td>2012</td>\n",
       "      <td>0</td>\n",
       "      <td>-1</td>\n",
       "      <td>0</td>\n",
       "      <td>0,0</td>\n",
       "      <td>0</td>\n",
       "      <td>630</td>\n",
       "      <td>0.344262</td>\n",
       "      <td>0.0</td>\n",
       "      <td>0.0</td>\n",
       "    </tr>\n",
       "    <tr>\n",
       "      <th>39992</th>\n",
       "      <td>ffe447b2fe2058d45d5f756349a26f45</td>\n",
       "      <td>3.0</td>\n",
       "      <td>0.0</td>\n",
       "      <td>0.0</td>\n",
       "      <td>0.0</td>\n",
       "      <td>0.0</td>\n",
       "      <td>0.0</td>\n",
       "      <td>0.0</td>\n",
       "      <td>0.0</td>\n",
       "      <td>0.0</td>\n",
       "      <td>...</td>\n",
       "      <td>2012</td>\n",
       "      <td>0</td>\n",
       "      <td>-1</td>\n",
       "      <td>0</td>\n",
       "      <td>0</td>\n",
       "      <td>0,0</td>\n",
       "      <td>630</td>\n",
       "      <td>0.344262</td>\n",
       "      <td>0.0</td>\n",
       "      <td>0.0</td>\n",
       "    </tr>\n",
       "  </tbody>\n",
       "</table>\n",
       "<p>39993 rows × 40 columns</p>\n",
       "</div>"
      ],
      "text/plain": [
       "                               discente  ALGORITMOS E LÓGICA DE PROGRAMAÇÃO  \\\n",
       "0      001cea3c82e2010681f2cdeab21e5ecf                                 1.0   \n",
       "1      001cea3c82e2010681f2cdeab21e5ecf                                 1.0   \n",
       "2      001cea3c82e2010681f2cdeab21e5ecf                                 1.0   \n",
       "3      001cea3c82e2010681f2cdeab21e5ecf                                 1.0   \n",
       "4      001cea3c82e2010681f2cdeab21e5ecf                                 1.0   \n",
       "...                                 ...                                 ...   \n",
       "39988  ffe447b2fe2058d45d5f756349a26f45                                 3.0   \n",
       "39989  ffe447b2fe2058d45d5f756349a26f45                                 3.0   \n",
       "39990  ffe447b2fe2058d45d5f756349a26f45                                 3.0   \n",
       "39991  ffe447b2fe2058d45d5f756349a26f45                                 3.0   \n",
       "39992  ffe447b2fe2058d45d5f756349a26f45                                 3.0   \n",
       "\n",
       "       ARQUITETURA DE COMPUTADORES  BANCO DE DADOS  \\\n",
       "0                              0.0             0.0   \n",
       "1                              0.0             0.0   \n",
       "2                              0.0             0.0   \n",
       "3                              0.0             0.0   \n",
       "4                              0.0             0.0   \n",
       "...                            ...             ...   \n",
       "39988                          0.0             0.0   \n",
       "39989                          0.0             0.0   \n",
       "39990                          0.0             0.0   \n",
       "39991                          0.0             0.0   \n",
       "39992                          0.0             0.0   \n",
       "\n",
       "       CÁLCULO DIFERENCIAL E INTEGRAL  EMPREENDEDORISMO EM INFORMÁTICA  \\\n",
       "0                                 0.0                              0.0   \n",
       "1                                 0.0                              0.0   \n",
       "2                                 0.0                              0.0   \n",
       "3                                 0.0                              0.0   \n",
       "4                                 0.0                              0.0   \n",
       "...                               ...                              ...   \n",
       "39988                             0.0                              0.0   \n",
       "39989                             0.0                              0.0   \n",
       "39990                             0.0                              0.0   \n",
       "39991                             0.0                              0.0   \n",
       "39992                             0.0                              0.0   \n",
       "\n",
       "       ENGENHARIA DE SOFTWARE I  ENGENHARIA DE SOFTWARE II  \\\n",
       "0                           0.0                        0.0   \n",
       "1                           0.0                        0.0   \n",
       "2                           0.0                        0.0   \n",
       "3                           0.0                        0.0   \n",
       "4                           0.0                        0.0   \n",
       "...                         ...                        ...   \n",
       "39988                       0.0                        0.0   \n",
       "39989                       0.0                        0.0   \n",
       "39990                       0.0                        0.0   \n",
       "39991                       0.0                        0.0   \n",
       "39992                       0.0                        0.0   \n",
       "\n",
       "       ESTRUTURA DE DADOS  FUNDAMENTOS DE MATEMÁTICA  ...  ano_ingresso  sexo  \\\n",
       "0                     0.0                        1.0  ...          2018     0   \n",
       "1                     0.0                        1.0  ...          2018     0   \n",
       "2                     0.0                        1.0  ...          2018     0   \n",
       "3                     0.0                        1.0  ...          2018     0   \n",
       "4                     0.0                        1.0  ...          2018     0   \n",
       "...                   ...                        ...  ...           ...   ...   \n",
       "39988                 0.0                        0.0  ...          2012     0   \n",
       "39989                 0.0                        0.0  ...          2012     0   \n",
       "39990                 0.0                        0.0  ...          2012     0   \n",
       "39991                 0.0                        0.0  ...          2012     0   \n",
       "39992                 0.0                        0.0  ...          2012     0   \n",
       "\n",
       "       status  nota_1  nota_2  nota_3  ch_cumprida  ch_cumprida_dividida  \\\n",
       "0          -1       0       0       0          330              0.180328   \n",
       "1          -1       0       0       0          330              0.180328   \n",
       "2          -1       0       0       0          330              0.180328   \n",
       "3          -1       0       0       0          330              0.180328   \n",
       "4          -1       0       0       0          330              0.180328   \n",
       "...       ...     ...     ...     ...          ...                   ...   \n",
       "39988      -1       0     0,0       0          630              0.344262   \n",
       "39989      -1       0       0     0,0          630              0.344262   \n",
       "39990      -1     0,0       0       0          630              0.344262   \n",
       "39991      -1       0     0,0       0          630              0.344262   \n",
       "39992      -1       0       0     0,0          630              0.344262   \n",
       "\n",
       "       ch_reprovacao  taxa_reprovacao  \n",
       "0                0.0              0.0  \n",
       "1                0.0              0.0  \n",
       "2                0.0              0.0  \n",
       "3                0.0              0.0  \n",
       "4                0.0              0.0  \n",
       "...              ...              ...  \n",
       "39988            0.0              0.0  \n",
       "39989            0.0              0.0  \n",
       "39990            0.0              0.0  \n",
       "39991            0.0              0.0  \n",
       "39992            0.0              0.0  \n",
       "\n",
       "[39993 rows x 40 columns]"
      ]
     },
     "execution_count": 428,
     "metadata": {},
     "output_type": "execute_result"
    }
   ],
   "source": [
    "tabela_final['taxa_reprovacao'] = tabela_final['ch_reprovacao'] / tabela_final['ch_cumprida'] \n",
    "tabela_final"
   ]
  },
  {
   "attachments": {},
   "cell_type": "markdown",
   "metadata": {},
   "source": [
    "### Coluna com o **Semestre**"
   ]
  },
  {
   "attachments": {},
   "cell_type": "markdown",
   "metadata": {},
   "source": [
    "Função para calcular o *semestre* com base no *ano de ingresso* e o *ano cursado.*"
   ]
  },
  {
   "cell_type": "code",
   "execution_count": 429,
   "metadata": {},
   "outputs": [],
   "source": [
    "def calcular_semestre(ano_ingresso, ano_cursado):\n",
    "    try:\n",
    "        # Convertendo os anos para strings e ajustando para o formato correto\n",
    "        ano_ingresso_str = str(ano_ingresso) + '1' if len(str(ano_ingresso)) == 4 else str(ano_ingresso)\n",
    "        ano_cursado_str = str(ano_cursado) + '1' if len(str(ano_cursado)) == 4 else str(ano_cursado)\n",
    "        \n",
    "        ano_ingresso_num = int(ano_ingresso_str[:4])\n",
    "        semestre_ingresso = int(ano_ingresso_str[4])\n",
    "        \n",
    "        ano_cursado_num = int(ano_cursado_str[:4])\n",
    "        semestre_cursado = int(ano_cursado_str[4])\n",
    "        \n",
    "        anos_passados = (ano_cursado_num - ano_ingresso_num) * 2\n",
    "        semestres_passados = anos_passados + (semestre_cursado - semestre_ingresso)\n",
    "        \n",
    "        return semestres_passados + 1  # +1 porque o semestre de ingresso é contado como o primeiro\n",
    "    except (IndexError, ValueError):\n",
    "        return pd.NA  # Retorna NA se houver um problema com o formato dos anos"
   ]
  },
  {
   "attachments": {},
   "cell_type": "markdown",
   "metadata": {},
   "source": [
    "Corrigir os valores das colunas *ano_ingresso* e *ano*."
   ]
  },
  {
   "cell_type": "code",
   "execution_count": 430,
   "metadata": {},
   "outputs": [],
   "source": [
    "df_dados_filtrado['ano_ingresso'] = df_dados_filtrado['ano_ingresso'].astype(str)\n",
    "df_dados_filtrado['ano'] = df_dados_filtrado['ano'].astype(str)"
   ]
  },
  {
   "attachments": {},
   "cell_type": "markdown",
   "metadata": {},
   "source": [
    "Aplicar a função para criar a coluna *semestre*."
   ]
  },
  {
   "cell_type": "code",
   "execution_count": 431,
   "metadata": {},
   "outputs": [],
   "source": [
    "df_dados_filtrado['semestre'] = df_dados_filtrado.apply(\n",
    "    lambda x: calcular_semestre(x['ano_ingresso'], x['ano']), axis=1\n",
    ")"
   ]
  },
  {
   "cell_type": "code",
   "execution_count": 432,
   "metadata": {},
   "outputs": [],
   "source": [
    "###### Adicionar a tabela_final"
   ]
  },
  {
   "attachments": {},
   "cell_type": "markdown",
   "metadata": {},
   "source": [
    "### Coluna com o Total de **Semestre Cursado**"
   ]
  },
  {
   "attachments": {},
   "cell_type": "markdown",
   "metadata": {},
   "source": [
    "Identificar *semestres* únicos cursados por cada discente."
   ]
  },
  {
   "cell_type": "code",
   "execution_count": 433,
   "metadata": {},
   "outputs": [],
   "source": [
    "semestres_unicos_por_discente = df_dados_filtrado.groupby('discente')['ano'].nunique().reset_index()\n",
    "semestres_unicos_por_discente.rename(columns={'ano' : 'semestre'}, inplace=True)"
   ]
  },
  {
   "attachments": {},
   "cell_type": "markdown",
   "metadata": {},
   "source": [
    "Adicionando a quantidade de *semestres* cursados por cada discente."
   ]
  },
  {
   "cell_type": "code",
   "execution_count": 434,
   "metadata": {},
   "outputs": [],
   "source": [
    "tabela_final = tabela_final.merge(semestres_unicos_por_discente, on='discente', how='left')"
   ]
  },
  {
   "attachments": {},
   "cell_type": "markdown",
   "metadata": {},
   "source": [
    "Dividindo a quantidade de *semestres cursados* pela quantidade de *semestres estimados* no curso."
   ]
  },
  {
   "cell_type": "code",
   "execution_count": 435,
   "metadata": {},
   "outputs": [],
   "source": [
    "tabela_final['semestre_dividido'] = tabela_final['semestre'] / 8"
   ]
  },
  {
   "attachments": {},
   "cell_type": "markdown",
   "metadata": {},
   "source": [
    "### Coluna com o **Último Período** Matrículado"
   ]
  },
  {
   "attachments": {},
   "cell_type": "markdown",
   "metadata": {},
   "source": [
    "Encontrar o *último período* que cada aluno estudou no curso."
   ]
  },
  {
   "cell_type": "code",
   "execution_count": 436,
   "metadata": {},
   "outputs": [],
   "source": [
    "ultimo_periodo = df_dados_filtrado.groupby('discente')['ano'].max().reset_index()\n",
    "ultimo_periodo.rename(columns={'ano': 'ultimo_periodo'}, inplace=True)"
   ]
  },
  {
   "attachments": {},
   "cell_type": "markdown",
   "metadata": {},
   "source": [
    "Adicionando as informações do *último período* de cada discente."
   ]
  },
  {
   "cell_type": "code",
   "execution_count": 437,
   "metadata": {},
   "outputs": [],
   "source": [
    "tabela_final = tabela_final.merge(ultimo_periodo, on='discente', how='left')"
   ]
  },
  {
   "cell_type": "code",
   "execution_count": 438,
   "metadata": {},
   "outputs": [],
   "source": [
    "# Função para calcular o semestre com base no ano de ingresso e o ano cursado\n",
    "def calcular_semestre(ano_ingresso, ano_cursado):\n",
    "    try:\n",
    "        # Convertendo os anos para strings e ajustando para o formato correto\n",
    "        ano_ingresso_str = str(ano_ingresso) + '1' if len(str(ano_ingresso)) == 4 else str(ano_ingresso)\n",
    "        ano_cursado_str = str(ano_cursado) + '1' if len(str(ano_cursado)) == 4 else str(ano_cursado)\n",
    "        \n",
    "        ano_ingresso_num = int(ano_ingresso_str[:4])\n",
    "        semestre_ingresso = int(ano_ingresso_str[4])\n",
    "        \n",
    "        ano_cursado_num = int(ano_cursado_str[:4])\n",
    "        semestre_cursado = int(ano_cursado_str[4])\n",
    "        \n",
    "        anos_passados = (ano_cursado_num - ano_ingresso_num) * 2\n",
    "        semestres_passados = anos_passados + (semestre_cursado - semestre_ingresso)\n",
    "        \n",
    "        return semestres_passados + 1  # +1 porque o semestre de ingresso é contado como o primeiro\n",
    "    except (IndexError, ValueError):\n",
    "        return pd.NA  # Retorna NA se houver um problema com o formato dos anos\n",
    "\n",
    "# Corrigir os valores das colunas 'ano_ingresso' e 'ano'\n",
    "df_dados_filtrado['ano_ingresso'] = df_dados_filtrado['ano_ingresso'].astype(str)\n",
    "df_dados_filtrado['ano'] = df_dados_filtrado['ano'].astype(str)\n",
    "\n",
    "# Aplicar a função para criar a coluna 'semestre'\n",
    "df_dados_filtrado['semestre'] = df_dados_filtrado.apply(\n",
    "    lambda x: calcular_semestre(x['ano_ingresso'], x['ano']), axis=1\n",
    ")"
   ]
  },
  {
   "attachments": {},
   "cell_type": "markdown",
   "metadata": {},
   "source": [
    "### Coluna com a quantidade de vezes que o discente se **Matriculou**"
   ]
  },
  {
   "attachments": {},
   "cell_type": "markdown",
   "metadata": {},
   "source": [
    "Soma dos valores das colunas para contabilizar a *matrícula* por discente."
   ]
  },
  {
   "cell_type": "code",
   "execution_count": 439,
   "metadata": {},
   "outputs": [],
   "source": [
    "matricula =      tabela_final['ALGORITMOS E LÓGICA DE PROGRAMAÇÃO'] + \\\n",
    "                 tabela_final['INTRODUÇÃO À INFORMÁTICA'] + \\\n",
    "                 tabela_final['FUNDAMENTOS DE MATEMÁTICA'] + \\\n",
    "                 tabela_final['LÓGICA'] + \\\n",
    "                 tabela_final['TEORIA GERAL DA ADMINISTRAÇÃO'] + \\\n",
    "                 tabela_final['PROGRAMAÇÃO'] + \\\n",
    "                 tabela_final['CÁLCULO DIFERENCIAL E INTEGRAL'] + \\\n",
    "                 tabela_final['TEORIA GERAL DOS SISTEMAS'] + \\\n",
    "                 tabela_final['PROGRAMAÇÃO ORIENTADA A OBJETOS I'] + \\\n",
    "                 tabela_final['ESTRUTURA DE DADOS'] + \\\n",
    "                 tabela_final['ÁLGEBRA LINEAR'] + \\\n",
    "                 tabela_final['ORGANIZAÇÃO, SISTEMAS E MÉTODOS'] + \\\n",
    "                 tabela_final['FUNDAMENTOS DE SISTEMAS DE INFORMAÇÃO'] + \\\n",
    "                 tabela_final['PROGRAMAÇÃO WEB'] + \\\n",
    "                 tabela_final['ARQUITETURA DE COMPUTADORES'] + \\\n",
    "                 tabela_final['PROBABILIDADE E ESTATÍSTICA'] + \\\n",
    "                 tabela_final['BANCO DE DADOS'] + \\\n",
    "                 tabela_final['ENGENHARIA DE SOFTWARE I'] + \\\n",
    "                 tabela_final['PROGRAMAÇÃO ORIENTADA A OBJETOS II'] + \\\n",
    "                 tabela_final['SISTEMAS OPERACIONAIS'] + \\\n",
    "                 tabela_final['PROJETO E ADMINISTRAÇÃO DE BANCO DE DADOS'] + \\\n",
    "                 tabela_final['ENGENHARIA DE SOFTWARE II'] + \\\n",
    "                 tabela_final['REDES DE COMPUTADORES'] + \\\n",
    "                 tabela_final['EMPREENDEDORISMO EM INFORMÁTICA'] + \\\n",
    "                 tabela_final['GESTÃO DE PROJETO DE SOFTWARE'] + \\\n",
    "                 tabela_final['PROGRAMAÇÃO VISUAL'] + \\\n",
    "                 tabela_final['MATEMÁTICA FINANCEIRA'] + \\\n",
    "                 tabela_final['SISTEMAS DE APOIO À DECISÃO'] + \\\n",
    "                 tabela_final['ÉTICA']"
   ]
  },
  {
   "attachments": {},
   "cell_type": "markdown",
   "metadata": {},
   "source": [
    "Adicionando a coluna *matrícula* na tabela."
   ]
  },
  {
   "cell_type": "code",
   "execution_count": 440,
   "metadata": {},
   "outputs": [],
   "source": [
    "tabela_final['matricula'] = matricula"
   ]
  },
  {
   "attachments": {},
   "cell_type": "markdown",
   "metadata": {},
   "source": [
    "### Coluna com o **Tempo Relativo** que o discente passou no curso"
   ]
  },
  {
   "attachments": {},
   "cell_type": "markdown",
   "metadata": {},
   "source": [
    "Converter a coluna *ch_cumprida_dividida* para tipo numérico."
   ]
  },
  {
   "cell_type": "code",
   "execution_count": 441,
   "metadata": {},
   "outputs": [],
   "source": [
    "tabela_final['semestre_dividido'] = pd.to_numeric(tabela_final['semestre_dividido'], errors='coerce')"
   ]
  },
  {
   "attachments": {},
   "cell_type": "markdown",
   "metadata": {},
   "source": [
    "Converter a coluna *status* para tipo numérico."
   ]
  },
  {
   "cell_type": "code",
   "execution_count": 442,
   "metadata": {},
   "outputs": [],
   "source": [
    "tabela_final['status'] = pd.to_numeric(tabela_final['status'], errors='coerce')"
   ]
  },
  {
   "attachments": {},
   "cell_type": "markdown",
   "metadata": {},
   "source": [
    "Multiplicar os valores da coluna *ch_cumprida_dividida* pela coluna *status*."
   ]
  },
  {
   "cell_type": "code",
   "execution_count": 443,
   "metadata": {},
   "outputs": [],
   "source": [
    "tabela_final['tempo_relativo'] = tabela_final['semestre_dividido'] * tabela_final['status']"
   ]
  },
  {
   "attachments": {},
   "cell_type": "markdown",
   "metadata": {},
   "source": [
    "### Coluna com a quantidade de vezes que o discente foi **Aprovado**"
   ]
  },
  {
   "attachments": {},
   "cell_type": "markdown",
   "metadata": {},
   "source": [
    "Listar todas as disciplinas."
   ]
  },
  {
   "cell_type": "code",
   "execution_count": 444,
   "metadata": {},
   "outputs": [],
   "source": [
    "disciplinas = df_dados_filtrado['nome'].unique()"
   ]
  },
  {
   "attachments": {},
   "cell_type": "markdown",
   "metadata": {},
   "source": [
    "Criar uma tabela de *aprovações*."
   ]
  },
  {
   "cell_type": "code",
   "execution_count": 445,
   "metadata": {},
   "outputs": [],
   "source": [
    "aprovacoes = df_dados_filtrado[df_dados_filtrado['descricao'] == 'APROVADO']"
   ]
  },
  {
   "attachments": {},
   "cell_type": "markdown",
   "metadata": {},
   "source": [
    "Agrupar por discente e nome da disciplina para contar as *aprovações*."
   ]
  },
  {
   "cell_type": "code",
   "execution_count": 446,
   "metadata": {},
   "outputs": [],
   "source": [
    "aprovacoes_count = aprovacoes.groupby(['discente', 'nome']).size().unstack(fill_value=0)"
   ]
  },
  {
   "attachments": {},
   "cell_type": "markdown",
   "metadata": {},
   "source": [
    "Renomear as colunas para incluir *_APROVADO*."
   ]
  },
  {
   "cell_type": "code",
   "execution_count": 447,
   "metadata": {},
   "outputs": [],
   "source": [
    "aprovacoes_count.columns = [f\"{disciplina}_APROVADO\" for disciplina in aprovacoes_count.columns]"
   ]
  },
  {
   "attachments": {},
   "cell_type": "markdown",
   "metadata": {},
   "source": [
    "Mesclar as *aprovações* de volta ao DataFrame original."
   ]
  },
  {
   "cell_type": "code",
   "execution_count": 448,
   "metadata": {},
   "outputs": [],
   "source": [
    "df_final = df_dados_filtrado.drop_duplicates('discente').set_index('discente').join(aprovacoes_count, on='discente').fillna(0).reset_index()\n",
    "tabela_final = tabela_final.merge(df_final, on='discente', how='left')"
   ]
  },
  {
   "attachments": {},
   "cell_type": "markdown",
   "metadata": {},
   "source": [
    "### Coluna com a quantidade de vezes que o discente foi **Reprovado**"
   ]
  },
  {
   "attachments": {},
   "cell_type": "markdown",
   "metadata": {},
   "source": [
    "Listar todas as disciplinas."
   ]
  },
  {
   "cell_type": "code",
   "execution_count": 449,
   "metadata": {},
   "outputs": [],
   "source": [
    "disciplinas = df_dados_filtrado['nome'].unique()"
   ]
  },
  {
   "attachments": {},
   "cell_type": "markdown",
   "metadata": {},
   "source": [
    "Criar uma tabela de *reprovações*."
   ]
  },
  {
   "cell_type": "code",
   "execution_count": 450,
   "metadata": {},
   "outputs": [],
   "source": [
    "reprovacoes = df_dados_filtrado[df_dados_filtrado['descricao'].isin([\n",
    "    'REPROVADO',\n",
    "    'REPROVADO POR NOTA',\n",
    "    'REPROVADO POR FALTAS',\n",
    "    'REPROVADO POR NOTA E FALTA',\n",
    "    'REPROVADO POR MÉDIA E POR FALTAS'\n",
    "])]"
   ]
  },
  {
   "attachments": {},
   "cell_type": "markdown",
   "metadata": {},
   "source": [
    "Agrupar por discente e nome da disciplina para contar as *reprovações*."
   ]
  },
  {
   "cell_type": "code",
   "execution_count": 451,
   "metadata": {},
   "outputs": [],
   "source": [
    "reprovacoes_count = reprovacoes.groupby(['discente', 'nome']).size().unstack(fill_value=0)"
   ]
  },
  {
   "attachments": {},
   "cell_type": "markdown",
   "metadata": {},
   "source": [
    "Renomear as colunas para incluir *_REPROVADO*."
   ]
  },
  {
   "cell_type": "code",
   "execution_count": 452,
   "metadata": {},
   "outputs": [],
   "source": [
    "reprovacoes_count.columns = [f\"{disciplina}_REPROVADO\" for disciplina in reprovacoes_count.columns]"
   ]
  },
  {
   "attachments": {},
   "cell_type": "markdown",
   "metadata": {},
   "source": [
    "Mesclar as *reprovações* de volta ao DataFrame original."
   ]
  },
  {
   "cell_type": "code",
   "execution_count": 453,
   "metadata": {},
   "outputs": [],
   "source": [
    "df_final_reprovacao = df_dados_filtrado.drop_duplicates('discente').set_index('discente').join(reprovacoes_count, on='discente').fillna(0).reset_index()\n",
    "tabela_final = tabela_final.merge(df_final_reprovacao, on='discente', how='left')"
   ]
  },
  {
   "cell_type": "code",
   "execution_count": 454,
   "metadata": {},
   "outputs": [
    {
     "name": "stdout",
     "output_type": "stream",
     "text": [
      "                             discente\n",
      "0    001cea3c82e2010681f2cdeab21e5ecf\n",
      "1    005c14d7c07bf7980b60c703f99c5ee7\n",
      "2    0107fd69d8cd7e3d30dede96fb68bfe5\n",
      "3    014789363f7940922e71e710ee9d22bc\n",
      "4    014f0dec46fe7a9c5836527662e1df10\n",
      "..                                ...\n",
      "680  fe802d8d85de6f842749468401d1146c\n",
      "681  fe87dfa176a74fc10a5cb701b9fb5dd4\n",
      "682  fec9ed6026d55ecdf514c640312c3d08\n",
      "683  ff56f2c5048dae0797fd3e851572b80c\n",
      "684  ffe447b2fe2058d45d5f756349a26f45\n",
      "\n",
      "[685 rows x 1 columns]\n"
     ]
    }
   ],
   "source": [
    "disciplinas = df_dados_filtrado['nome'].unique()\n",
    "\n",
    "# Filtrar as disciplinas existentes no DataFrame\n",
    "disciplinas_existentes = [disciplina for disciplina in disciplinas if disciplina in df_dados_filtrado.columns]\n",
    "\n",
    "# Calcular o total de faltas para cada disciplina por aluno\n",
    "df_total_faltas = df_dados_filtrado.groupby('discente')[disciplinas_existentes].sum().reset_index()\n",
    "\n",
    "# Exibir o DataFrame resultante para verificação\n",
    "print(df_total_faltas)\n",
    "\n",
    "# Mesclar com o DataFrame original (se necessário)\n",
    "df_resultado = df_dados_filtrado.merge(df_total_faltas, on='discente', suffixes=('', '_total_faltas'))\n",
    "\n",
    "df_resultado.to_csv('df_dados_faltas.csv', index=False, sep=',', quoting=csv.QUOTE_NONNUMERIC)"
   ]
  },
  {
   "cell_type": "code",
   "execution_count": 455,
   "metadata": {},
   "outputs": [
    {
     "data": {
      "text/plain": [
       "Index(['discente', 'ALGORITMOS E LÓGICA DE PROGRAMAÇÃO',\n",
       "       'ARQUITETURA DE COMPUTADORES', 'BANCO DE DADOS',\n",
       "       'CÁLCULO DIFERENCIAL E INTEGRAL', 'EMPREENDEDORISMO EM INFORMÁTICA',\n",
       "       'ENGENHARIA DE SOFTWARE I', 'ENGENHARIA DE SOFTWARE II',\n",
       "       'ESTRUTURA DE DADOS', 'FUNDAMENTOS DE MATEMÁTICA',\n",
       "       ...\n",
       "       'PROGRAMAÇÃO VISUAL_MEDIA', 'PROGRAMAÇÃO WEB_MEDIA',\n",
       "       'PROJETO E ADMINISTRAÇÃO DE BANCO DE DADOS_MEDIA',\n",
       "       'REDES DE COMPUTADORES_MEDIA', 'SISTEMAS DE APOIO À DECISÃO_MEDIA',\n",
       "       'SISTEMAS OPERACIONAIS_MEDIA', 'TEORIA GERAL DA ADMINISTRAÇÃO_MEDIA',\n",
       "       'TEORIA GERAL DOS SISTEMAS_MEDIA', 'ÁLGEBRA LINEAR_MEDIA',\n",
       "       'ÉTICA_MEDIA'],\n",
       "      dtype='object', length=168)"
      ]
     },
     "execution_count": 455,
     "metadata": {},
     "output_type": "execute_result"
    }
   ],
   "source": [
    "# Converter a coluna 'media_final' para tipo numérico se necessário\n",
    "df_dados_filtrado['media_final'] = pd.to_numeric(df_dados_filtrado['media_final'], errors='coerce')\n",
    "\n",
    "# Preencher os valores NaN em 'media_final' com 0\n",
    "df_dados_filtrado['media_final'] = df_dados_filtrado['media_final'].fillna(0)\n",
    "\n",
    "# Calcular a média final de cada disciplina por discente\n",
    "media_final_disciplinas = df_dados_filtrado.groupby(['discente', 'nome'])['media_final'].mean().reset_index()\n",
    "\n",
    "# Pivotar as médias finais\n",
    "media_final_pivot = media_final_disciplinas.pivot(index='discente', columns='nome', values='media_final').reset_index()\n",
    "\n",
    "# Renomear as colunas pivotadas para incluir '_MEDIA'\n",
    "media_final_pivot.columns = [f\"{col}_MEDIA\" if col != 'discente' else col for col in media_final_pivot.columns]\n",
    "\n",
    "# Mesclar as médias finais ao DataFrame tabela_final\n",
    "tabela_final = tabela_final.merge(media_final_pivot, on='discente', how='left')\n",
    "\n",
    "# Preencher os valores NaN resultantes da pivotagem com 0\n",
    "tabela_final = tabela_final.fillna(0)\n",
    "\n",
    "# Listar as colunas que foram adicionadas para confirmar a inclusão\n",
    "tabela_final.columns"
   ]
  },
  {
   "cell_type": "code",
   "execution_count": 456,
   "metadata": {},
   "outputs": [],
   "source": [
    "tabela_final.to_csv('tabelateste.csv', index=False, sep=';', quoting=csv.QUOTE_NONNUMERIC)"
   ]
  },
  {
   "attachments": {},
   "cell_type": "markdown",
   "metadata": {},
   "source": [
    "Mudando a ordem das colunas."
   ]
  },
  {
   "cell_type": "code",
   "execution_count": null,
   "metadata": {},
   "outputs": [
    {
     "data": {
      "text/plain": [
       "\"colunas_ordenadas = ['discente', 'sexo', 'ano_ingresso', 'ultimo_periodo', 'ch_cumprida',\\n                    'ch_cumprida_dividida', 'ch_reprovacao',\\n                    'taxa_reprovacao', 'semestre', 'semestre_dividido', 'tempo_relativo', 'status', 'matricula',\\n                    'ALGORITMOS E LÓGICA DE PROGRAMAÇÃO',\\n                    'ALGORITMOS E LÓGICA DE PROGRAMAÇÃO_APROVADO',\\n                    'ALGORITMOS E LÓGICA DE PROGRAMAÇÃO_REPROVADO',\\n                    'ALGORITMOS E LÓGICA DE PROGRAMAÇÃO_FREQUENCIA',\\n                    'ALGORITMOS E LÓGICA DE PROGRAMAÇÃO_NOTA_1',\\n                    'ALGORITMOS E LÓGICA DE PROGRAMAÇÃO_NOTA_2',\\n                    'ALGORITMOS E LÓGICA DE PROGRAMAÇÃO_NOTA_3',\\n                    'ALGORITMOS E LÓGICA DE PROGRAMAÇÃO_MEDIA_FINAL_1',\\n                    'ALGORITMOS E LÓGICA DE PROGRAMAÇÃO_MEDIA_FINAL_2',\\n                    'INTRODUÇÃO À INFORMÁTICA',\\n                    'INTRODUÇÃO À INFORMÁTICA_APROVADO',\\n                    'INTRODUÇÃO À INFORMÁTICA_REPROVADO',\\n                    'INTRODUÇÃO À INFORMÁTICA_FREQUENCIA',\\n                    'INTRODUÇÃO À INFORMÁTICA_NOTA_1',\\n                    'INTRODUÇÃO À INFORMÁTICA_NOTA_2',\\n                    'INTRODUÇÃO À INFORMÁTICA_NOTA_3',\\n                    'INTRODUÇÃO À INFORMÁTICA_MEDIA_FINAL_1',\\n                    'INTRODUÇÃO À INFORMÁTICA_MEDIA_FINAL_2',\\n                    'FUNDAMENTOS DE MATEMÁTICA',\\n                    'FUNDAMENTOS DE MATEMÁTICA_APROVADO',\\n                    'FUNDAMENTOS DE MATEMÁTICA_REPROVADO',\\n                    'PROGRAMAÇÃO_FREQUENCIA',\\n                    'PROGRAMAÇÃO_NOTA_1',\\n                    'PROGRAMAÇÃO_NOTA_2',\\n                    'PROGRAMAÇÃO_NOTA_3',\\n                    'PROGRAMAÇÃO_MEDIA_FINAL_1',\\n                    'PROGRAMAÇÃO_MEDIA_FINAL_2',\\n                    'LÓGICA',\\n                    'LÓGICA_APROVADO',\\n                    'LÓGICA_REPROVADO',\\n                    'PROGRAMAÇÃO_FREQUENCIA',\\n                    'PROGRAMAÇÃO_NOTA_1',\\n                    'PROGRAMAÇÃO_NOTA_2',\\n                    'PROGRAMAÇÃO_NOTA_3',\\n                    'PROGRAMAÇÃO_MEDIA_FINAL_1',\\n                    'PROGRAMAÇÃO_MEDIA_FINAL_2',\\n                    'TEORIA GERAL DA ADMINISTRAÇÃO',\\n                    'TEORIA GERAL DA ADMINISTRAÇÃO_APROVADO',\\n                    'TEORIA GERAL DA ADMINISTRAÇÃO_REPROVADO',\\n                    'TEORIA GERAL DA ADMINISTRAÇÃO_FREQUENCIA',\\n                    'TEORIA GERAL DA ADMINISTRAÇÃO_NOTA_1',\\n                    'TEORIA GERAL DA ADMINISTRAÇÃO_NOTA_2',\\n                    'TEORIA GERAL DA ADMINISTRAÇÃO_NOTA_3',\\n                    'TEORIA GERAL DA ADMINISTRAÇÃO_MEDIA_FINAL_1',\\n                    'TEORIA GERAL DA ADMINISTRAÇÃO_MEDIA_FINAL_2',\\n                    'PROGRAMAÇÃO',\\n                    'PROGRAMAÇÃO_APROVADO',\\n                    'PROGRAMAÇÃO_REPROVADO',\\n                    'PROGRAMAÇÃO_FREQUENCIA',\\n                    'PROGRAMAÇÃO_NOTA_1',\\n                    'PROGRAMAÇÃO_NOTA_2',\\n                    'PROGRAMAÇÃO_NOTA_3',\\n                    'PROGRAMAÇÃO_MEDIA_FINAL_1',\\n                    'PROGRAMAÇÃO_MEDIA_FINAL_2',\\n                    'CÁLCULO DIFERENCIAL E INTEGRAL',\\n                    'CÁLCULO DIFERENCIAL E INTEGRAL_APROVADO',\\n                    'CÁLCULO DIFERENCIAL E INTEGRAL_REPROVADO',\\n                    'PROGRAMAÇÃO_FREQUENCIA',\\n                    'PROGRAMAÇÃO_NOTA_1',\\n                    'PROGRAMAÇÃO_NOTA_2',\\n                    'PROGRAMAÇÃO_NOTA_3',\\n                    'PROGRAMAÇÃO_MEDIA_FINAL_1',\\n                    'PROGRAMAÇÃO_MEDIA_FINAL_2',\\n                    'TEORIA GERAL DOS SISTEMAS',\\n                    'TEORIA GERAL DOS SISTEMAS_APROVADO',\\n                    'TEORIA GERAL DOS SISTEMAS_REPROVADO',\\n                    'PROGRAMAÇÃO_FREQUENCIA',\\n                    'PROGRAMAÇÃO_NOTA_1',\\n                    'PROGRAMAÇÃO_NOTA_2',\\n                    'PROGRAMAÇÃO_NOTA_3',\\n                    'PROGRAMAÇÃO_MEDIA_FINAL_1',\\n                    'PROGRAMAÇÃO_MEDIA_FINAL_2',\\n                    'PROGRAMAÇÃO ORIENTADA A OBJETOS I',\\n                    'PROGRAMAÇÃO ORIENTADA A OBJETOS I_APROVADO',\\n                    'PROGRAMAÇÃO ORIENTADA A OBJETOS I_REPROVADO',\\n                    'PROGRAMAÇÃO_FREQUENCIA',\\n                    'PROGRAMAÇÃO_NOTA_1',\\n                    'PROGRAMAÇÃO_NOTA_2',\\n                    'PROGRAMAÇÃO_NOTA_3',\\n                    'PROGRAMAÇÃO_MEDIA_FINAL_1',\\n                    'PROGRAMAÇÃO_MEDIA_FINAL_2',\\n                    'ESTRUTURA DE DADOS',\\n                    'ESTRUTURA DE DADOS_APROVADO',\\n                    'ESTRUTURA DE DADOS_REPROVADO',\\n                    'PROGRAMAÇÃO_FREQUENCIA',\\n                    'PROGRAMAÇÃO_NOTA_1',\\n                    'PROGRAMAÇÃO_NOTA_2',\\n                    'PROGRAMAÇÃO_NOTA_3',\\n                    'PROGRAMAÇÃO_MEDIA_FINAL_1',\\n                    'PROGRAMAÇÃO_MEDIA_FINAL_2',\\n                    'ÁLGEBRA LINEAR',\\n                    'ÁLGEBRA LINEAR_APROVADO',\\n                    'ÁLGEBRA LINEAR_REPROVADO',\\n                    'PROGRAMAÇÃO_FREQUENCIA',\\n                    'PROGRAMAÇÃO_NOTA_1',\\n                    'PROGRAMAÇÃO_NOTA_2',\\n                    'PROGRAMAÇÃO_NOTA_3',\\n                    'PROGRAMAÇÃO_MEDIA_FINAL_1',\\n                    'PROGRAMAÇÃO_MEDIA_FINAL_2',\\n                    'ORGANIZAÇÃO, SISTEMAS E MÉTODOS',\\n                    'ORGANIZAÇÃO, SISTEMAS E MÉTODOS_APROVADO',\\n                    'ORGANIZAÇÃO, SISTEMAS E MÉTODOS_REPROVADO',\\n                    'PROGRAMAÇÃO_FREQUENCIA',\\n                    'PROGRAMAÇÃO_NOTA_1',\\n                    'PROGRAMAÇÃO_NOTA_2',\\n                    'PROGRAMAÇÃO_NOTA_3',\\n                    'PROGRAMAÇÃO_MEDIA_FINAL_1',\\n                    'PROGRAMAÇÃO_MEDIA_FINAL_2',\\n                    'FUNDAMENTOS DE SISTEMAS DE INFORMAÇÃO',\\n                    'FUNDAMENTOS DE SISTEMAS DE INFORMAÇÃO_APROVADO',\\n                    'FUNDAMENTOS DE SISTEMAS DE INFORMAÇÃO_REPROVADO',\\n                    'PROGRAMAÇÃO_FREQUENCIA',\\n                    'PROGRAMAÇÃO_NOTA_1',\\n                    'PROGRAMAÇÃO_NOTA_2',\\n                    'PROGRAMAÇÃO_NOTA_3',\\n                    'PROGRAMAÇÃO_MEDIA_FINAL_1',\\n                    'PROGRAMAÇÃO_MEDIA_FINAL_2',\\n                    'PROGRAMAÇÃO WEB',\\n                    'PROGRAMAÇÃO WEB_APROVADO',\\n                    'PROGRAMAÇÃO WEB_REPROVADO',\\n                    'PROGRAMAÇÃO_FREQUENCIA',\\n                    'PROGRAMAÇÃO_NOTA_1',\\n                    'PROGRAMAÇÃO_NOTA_2',\\n                    'PROGRAMAÇÃO_NOTA_3',\\n                    'PROGRAMAÇÃO_MEDIA_FINAL_1',\\n                    'PROGRAMAÇÃO_MEDIA_FINAL_2',\\n                    'ARQUITETURA DE COMPUTADORES',\\n                    'ARQUITETURA DE COMPUTADORES_APROVADO',\\n                    'ARQUITETURA DE COMPUTADORES_REPROVADO',\\n                    'PROGRAMAÇÃO_FREQUENCIA',\\n                    'PROGRAMAÇÃO_NOTA_1',\\n                    'PROGRAMAÇÃO_NOTA_2',\\n                    'PROGRAMAÇÃO_NOTA_3',\\n                    'PROGRAMAÇÃO_MEDIA_FINAL_1',\\n                    'PROGRAMAÇÃO_MEDIA_FINAL_2',\\n                    'PROBABILIDADE E ESTATÍSTICA',\\n                    'PROBABILIDADE E ESTATÍSTICA_APROVADO',\\n                    'PROBABILIDADE E ESTATÍSTICA_REPROVADO',\\n                    'PROGRAMAÇÃO_FREQUENCIA',\\n                    'PROGRAMAÇÃO_NOTA_1',\\n                    'PROGRAMAÇÃO_NOTA_2',\\n                    'PROGRAMAÇÃO_NOTA_3',\\n                    'PROGRAMAÇÃO_MEDIA_FINAL_1',\\n                    'PROGRAMAÇÃO_MEDIA_FINAL_2',\\n                    'BANCO DE DADOS',\\n                    'BANCO DE DADOS_APROVADO',\\n                    'BANCO DE DADOS_REPROVADO',\\n                    'PROGRAMAÇÃO_FREQUENCIA',\\n                    'PROGRAMAÇÃO_NOTA_1',\\n                    'PROGRAMAÇÃO_NOTA_2',\\n                    'PROGRAMAÇÃO_NOTA_3',\\n                    'PROGRAMAÇÃO_MEDIA_FINAL_1',\\n                    'PROGRAMAÇÃO_MEDIA_FINAL_2',\\n                    'ENGENHARIA DE SOFTWARE I',\\n                    'ENGENHARIA DE SOFTWARE I_APROVADO',\\n                    'ENGENHARIA DE SOFTWARE I_REPROVADO',\\n                    'PROGRAMAÇÃO ORIENTADA A OBJETOS II',\\n                    'PROGRAMAÇÃO ORIENTADA A OBJETOS II_APROVADO',\\n                    'PROGRAMAÇÃO ORIENTADA A OBJETOS II_REPROVADO',\\n                    'PROGRAMAÇÃO_FREQUENCIA',\\n                    'PROGRAMAÇÃO_NOTA_1',\\n                    'PROGRAMAÇÃO_NOTA_2',\\n                    'PROGRAMAÇÃO_NOTA_3',\\n                    'PROGRAMAÇÃO_MEDIA_FINAL_1',\\n                    'PROGRAMAÇÃO_MEDIA_FINAL_2',\\n                    'SISTEMAS OPERACIONAIS',\\n                    'SISTEMAS OPERACIONAIS_APROVADO',\\n                    'SISTEMAS OPERACIONAIS_REPROVADO',\\n                    'PROGRAMAÇÃO_FREQUENCIA',\\n                    'PROGRAMAÇÃO_NOTA_1',\\n                    'PROGRAMAÇÃO_NOTA_2',\\n                    'PROGRAMAÇÃO_NOTA_3',\\n                    'PROGRAMAÇÃO_MEDIA_FINAL_1',\\n                    'PROGRAMAÇÃO_MEDIA_FINAL_2',\\n                    'PROJETO E ADMINISTRAÇÃO DE BANCO DE DADOS',\\n                    'PROJETO E ADMINISTRAÇÃO DE BANCO DE DADOS_APROVADO',\\n                    'PROJETO E ADMINISTRAÇÃO DE BANCO DE DADOS_REPROVADO',\\n                    'PROGRAMAÇÃO_FREQUENCIA',\\n                    'PROGRAMAÇÃO_NOTA_1',\\n                    'PROGRAMAÇÃO_NOTA_2',\\n                    'PROGRAMAÇÃO_NOTA_3',\\n                    'PROGRAMAÇÃO_MEDIA_FINAL_1',\\n                    'PROGRAMAÇÃO_MEDIA_FINAL_2',\\n                    'ENGENHARIA DE SOFTWARE II',\\n                    'ENGENHARIA DE SOFTWARE II_APROVADO',\\n                    'ENGENHARIA DE SOFTWARE II_REPROVADO',\\n                    'PROGRAMAÇÃO_FREQUENCIA',\\n                    'PROGRAMAÇÃO_NOTA_1',\\n                    'PROGRAMAÇÃO_NOTA_2',\\n                    'PROGRAMAÇÃO_NOTA_3',\\n                    'PROGRAMAÇÃO_MEDIA_FINAL_1',\\n                    'PROGRAMAÇÃO_MEDIA_FINAL_2',\\n                    'REDES DE COMPUTADORES',\\n                    'REDES DE COMPUTADORES_APROVADO',\\n                    'REDES DE COMPUTADORES_REPROVADO',\\n                    'PROGRAMAÇÃO_FREQUENCIA',\\n                    'PROGRAMAÇÃO_NOTA_1',\\n                    'PROGRAMAÇÃO_NOTA_2',\\n                    'PROGRAMAÇÃO_NOTA_3',\\n                    'PROGRAMAÇÃO_MEDIA_FINAL_1',\\n                    'PROGRAMAÇÃO_MEDIA_FINAL_2',\\n                    'EMPREENDEDORISMO EM INFORMÁTICA',\\n                    'EMPREENDEDORISMO EM INFORMÁTICA_APROVADO',\\n                    'EMPREENDEDORISMO EM INFORMÁTICA_REPROVADO',\\n                    'PROGRAMAÇÃO_FREQUENCIA',\\n                    'PROGRAMAÇÃO_NOTA_1',\\n                    'PROGRAMAÇÃO_NOTA_2',\\n                    'PROGRAMAÇÃO_NOTA_3',\\n                    'PROGRAMAÇÃO_MEDIA_FINAL_1',\\n                    'PROGRAMAÇÃO_MEDIA_FINAL_2',\\n                    'GESTÃO DE PROJETO DE SOFTWARE',\\n                    'GESTÃO DE PROJETO DE SOFTWARE_APROVADO',\\n                    'GESTÃO DE PROJETO DE SOFTWARE_REPROVADO',\\n                    'PROGRAMAÇÃO_FREQUENCIA',\\n                    'PROGRAMAÇÃO_NOTA_1',\\n                    'PROGRAMAÇÃO_NOTA_2',\\n                    'PROGRAMAÇÃO_NOTA_3',\\n                    'PROGRAMAÇÃO_MEDIA_FINAL_1',\\n                    'PROGRAMAÇÃO_MEDIA_FINAL_2',\\n                    'PROGRAMAÇÃO VISUAL',\\n                    'PROGRAMAÇÃO VISUAL_APROVADO',\\n                    'PROGRAMAÇÃO VISUAL_REPROVADO',\\n                    'PROGRAMAÇÃO_FREQUENCIA',\\n                    'PROGRAMAÇÃO_NOTA_1',\\n                    'PROGRAMAÇÃO_NOTA_2',\\n                    'PROGRAMAÇÃO_NOTA_3',\\n                    'PROGRAMAÇÃO_MEDIA_FINAL_1',\\n                    'PROGRAMAÇÃO_MEDIA_FINAL_2',\\n                    'MATEMÁTICA FINANCEIRA',\\n                    'MATEMÁTICA FINANCEIRA_APROVADO',\\n                    'MATEMÁTICA FINANCEIRA_REPROVADO',\\n                    'PROGRAMAÇÃO_FREQUENCIA',\\n                    'PROGRAMAÇÃO_NOTA_1',\\n                    'PROGRAMAÇÃO_NOTA_2',\\n                    'PROGRAMAÇÃO_NOTA_3',\\n                    'PROGRAMAÇÃO_MEDIA_FINAL_1',\\n                    'PROGRAMAÇÃO_MEDIA_FINAL_2',\\n                    'SISTEMAS DE APOIO À DECISÃO',\\n                    'SISTEMAS DE APOIO À DECISÃO_APROVADO',\\n                    'SISTEMAS DE APOIO À DECISÃO_REPROVADO',\\n                    'PROGRAMAÇÃO_FREQUENCIA',\\n                    'PROGRAMAÇÃO_NOTA_1',\\n                    'PROGRAMAÇÃO_NOTA_2',\\n                    'PROGRAMAÇÃO_NOTA_3',\\n                    'PROGRAMAÇÃO_MEDIA_FINAL_1',\\n                    'PROGRAMAÇÃO_MEDIA_FINAL_2',\\n                    'ÉTICA',\\n                    'ÉTICA_APROVADO',\\n                    'ÉTICA_REPROVADO',\\n                    'PROGRAMAÇÃO_FREQUENCIA',\\n                    'PROGRAMAÇÃO_NOTA_1',\\n                    'PROGRAMAÇÃO_NOTA_2',\\n                    'PROGRAMAÇÃO_NOTA_3',\\n                    'PROGRAMAÇÃO_MEDIA_FINAL_1',\\n                    'PROGRAMAÇÃO_MEDIA_FINAL_2']\\n\""
      ]
     },
     "execution_count": 281,
     "metadata": {},
     "output_type": "execute_result"
    }
   ],
   "source": [
    "'''colunas_ordenadas = ['discente', 'sexo', 'ano_ingresso', 'ultimo_periodo', 'ch_cumprida',\n",
    "                    'ch_cumprida_dividida', 'ch_reprovacao',\n",
    "                    'taxa_reprovacao', 'semestre', 'semestre_dividido', 'tempo_relativo', 'status', 'matricula',\n",
    "                    'ALGORITMOS E LÓGICA DE PROGRAMAÇÃO',\n",
    "                    'ALGORITMOS E LÓGICA DE PROGRAMAÇÃO_APROVADO',\n",
    "                    'ALGORITMOS E LÓGICA DE PROGRAMAÇÃO_REPROVADO',\n",
    "                    'ALGORITMOS E LÓGICA DE PROGRAMAÇÃO_FREQUENCIA',\n",
    "                    'ALGORITMOS E LÓGICA DE PROGRAMAÇÃO_NOTA_1',\n",
    "                    'ALGORITMOS E LÓGICA DE PROGRAMAÇÃO_NOTA_2',\n",
    "                    'ALGORITMOS E LÓGICA DE PROGRAMAÇÃO_NOTA_3',\n",
    "                    'ALGORITMOS E LÓGICA DE PROGRAMAÇÃO_MEDIA_FINAL_1',\n",
    "                    'ALGORITMOS E LÓGICA DE PROGRAMAÇÃO_MEDIA_FINAL_2',\n",
    "                    'INTRODUÇÃO À INFORMÁTICA',\n",
    "                    'INTRODUÇÃO À INFORMÁTICA_APROVADO',\n",
    "                    'INTRODUÇÃO À INFORMÁTICA_REPROVADO',\n",
    "                    'INTRODUÇÃO À INFORMÁTICA_FREQUENCIA',\n",
    "                    'INTRODUÇÃO À INFORMÁTICA_NOTA_1',\n",
    "                    'INTRODUÇÃO À INFORMÁTICA_NOTA_2',\n",
    "                    'INTRODUÇÃO À INFORMÁTICA_NOTA_3',\n",
    "                    'INTRODUÇÃO À INFORMÁTICA_MEDIA_FINAL_1',\n",
    "                    'INTRODUÇÃO À INFORMÁTICA_MEDIA_FINAL_2',\n",
    "                    'FUNDAMENTOS DE MATEMÁTICA',\n",
    "                    'FUNDAMENTOS DE MATEMÁTICA_APROVADO',\n",
    "                    'FUNDAMENTOS DE MATEMÁTICA_REPROVADO',\n",
    "                    'PROGRAMAÇÃO_FREQUENCIA',\n",
    "                    'PROGRAMAÇÃO_NOTA_1',\n",
    "                    'PROGRAMAÇÃO_NOTA_2',\n",
    "                    'PROGRAMAÇÃO_NOTA_3',\n",
    "                    'PROGRAMAÇÃO_MEDIA_FINAL_1',\n",
    "                    'PROGRAMAÇÃO_MEDIA_FINAL_2',\n",
    "                    'LÓGICA',\n",
    "                    'LÓGICA_APROVADO',\n",
    "                    'LÓGICA_REPROVADO',\n",
    "                    'PROGRAMAÇÃO_FREQUENCIA',\n",
    "                    'PROGRAMAÇÃO_NOTA_1',\n",
    "                    'PROGRAMAÇÃO_NOTA_2',\n",
    "                    'PROGRAMAÇÃO_NOTA_3',\n",
    "                    'PROGRAMAÇÃO_MEDIA_FINAL_1',\n",
    "                    'PROGRAMAÇÃO_MEDIA_FINAL_2',\n",
    "                    'TEORIA GERAL DA ADMINISTRAÇÃO',\n",
    "                    'TEORIA GERAL DA ADMINISTRAÇÃO_APROVADO',\n",
    "                    'TEORIA GERAL DA ADMINISTRAÇÃO_REPROVADO',\n",
    "                    'TEORIA GERAL DA ADMINISTRAÇÃO_FREQUENCIA',\n",
    "                    'TEORIA GERAL DA ADMINISTRAÇÃO_NOTA_1',\n",
    "                    'TEORIA GERAL DA ADMINISTRAÇÃO_NOTA_2',\n",
    "                    'TEORIA GERAL DA ADMINISTRAÇÃO_NOTA_3',\n",
    "                    'TEORIA GERAL DA ADMINISTRAÇÃO_MEDIA_FINAL_1',\n",
    "                    'TEORIA GERAL DA ADMINISTRAÇÃO_MEDIA_FINAL_2',\n",
    "                    'PROGRAMAÇÃO',\n",
    "                    'PROGRAMAÇÃO_APROVADO',\n",
    "                    'PROGRAMAÇÃO_REPROVADO',\n",
    "                    'PROGRAMAÇÃO_FREQUENCIA',\n",
    "                    'PROGRAMAÇÃO_NOTA_1',\n",
    "                    'PROGRAMAÇÃO_NOTA_2',\n",
    "                    'PROGRAMAÇÃO_NOTA_3',\n",
    "                    'PROGRAMAÇÃO_MEDIA_FINAL_1',\n",
    "                    'PROGRAMAÇÃO_MEDIA_FINAL_2',\n",
    "                    'CÁLCULO DIFERENCIAL E INTEGRAL',\n",
    "                    'CÁLCULO DIFERENCIAL E INTEGRAL_APROVADO',\n",
    "                    'CÁLCULO DIFERENCIAL E INTEGRAL_REPROVADO',\n",
    "                    'PROGRAMAÇÃO_FREQUENCIA',\n",
    "                    'PROGRAMAÇÃO_NOTA_1',\n",
    "                    'PROGRAMAÇÃO_NOTA_2',\n",
    "                    'PROGRAMAÇÃO_NOTA_3',\n",
    "                    'PROGRAMAÇÃO_MEDIA_FINAL_1',\n",
    "                    'PROGRAMAÇÃO_MEDIA_FINAL_2',\n",
    "                    'TEORIA GERAL DOS SISTEMAS',\n",
    "                    'TEORIA GERAL DOS SISTEMAS_APROVADO',\n",
    "                    'TEORIA GERAL DOS SISTEMAS_REPROVADO',\n",
    "                    'PROGRAMAÇÃO_FREQUENCIA',\n",
    "                    'PROGRAMAÇÃO_NOTA_1',\n",
    "                    'PROGRAMAÇÃO_NOTA_2',\n",
    "                    'PROGRAMAÇÃO_NOTA_3',\n",
    "                    'PROGRAMAÇÃO_MEDIA_FINAL_1',\n",
    "                    'PROGRAMAÇÃO_MEDIA_FINAL_2',\n",
    "                    'PROGRAMAÇÃO ORIENTADA A OBJETOS I',\n",
    "                    'PROGRAMAÇÃO ORIENTADA A OBJETOS I_APROVADO',\n",
    "                    'PROGRAMAÇÃO ORIENTADA A OBJETOS I_REPROVADO',\n",
    "                    'PROGRAMAÇÃO_FREQUENCIA',\n",
    "                    'PROGRAMAÇÃO_NOTA_1',\n",
    "                    'PROGRAMAÇÃO_NOTA_2',\n",
    "                    'PROGRAMAÇÃO_NOTA_3',\n",
    "                    'PROGRAMAÇÃO_MEDIA_FINAL_1',\n",
    "                    'PROGRAMAÇÃO_MEDIA_FINAL_2',\n",
    "                    'ESTRUTURA DE DADOS',\n",
    "                    'ESTRUTURA DE DADOS_APROVADO',\n",
    "                    'ESTRUTURA DE DADOS_REPROVADO',\n",
    "                    'PROGRAMAÇÃO_FREQUENCIA',\n",
    "                    'PROGRAMAÇÃO_NOTA_1',\n",
    "                    'PROGRAMAÇÃO_NOTA_2',\n",
    "                    'PROGRAMAÇÃO_NOTA_3',\n",
    "                    'PROGRAMAÇÃO_MEDIA_FINAL_1',\n",
    "                    'PROGRAMAÇÃO_MEDIA_FINAL_2',\n",
    "                    'ÁLGEBRA LINEAR',\n",
    "                    'ÁLGEBRA LINEAR_APROVADO',\n",
    "                    'ÁLGEBRA LINEAR_REPROVADO',\n",
    "                    'PROGRAMAÇÃO_FREQUENCIA',\n",
    "                    'PROGRAMAÇÃO_NOTA_1',\n",
    "                    'PROGRAMAÇÃO_NOTA_2',\n",
    "                    'PROGRAMAÇÃO_NOTA_3',\n",
    "                    'PROGRAMAÇÃO_MEDIA_FINAL_1',\n",
    "                    'PROGRAMAÇÃO_MEDIA_FINAL_2',\n",
    "                    'ORGANIZAÇÃO, SISTEMAS E MÉTODOS',\n",
    "                    'ORGANIZAÇÃO, SISTEMAS E MÉTODOS_APROVADO',\n",
    "                    'ORGANIZAÇÃO, SISTEMAS E MÉTODOS_REPROVADO',\n",
    "                    'PROGRAMAÇÃO_FREQUENCIA',\n",
    "                    'PROGRAMAÇÃO_NOTA_1',\n",
    "                    'PROGRAMAÇÃO_NOTA_2',\n",
    "                    'PROGRAMAÇÃO_NOTA_3',\n",
    "                    'PROGRAMAÇÃO_MEDIA_FINAL_1',\n",
    "                    'PROGRAMAÇÃO_MEDIA_FINAL_2',\n",
    "                    'FUNDAMENTOS DE SISTEMAS DE INFORMAÇÃO',\n",
    "                    'FUNDAMENTOS DE SISTEMAS DE INFORMAÇÃO_APROVADO',\n",
    "                    'FUNDAMENTOS DE SISTEMAS DE INFORMAÇÃO_REPROVADO',\n",
    "                    'PROGRAMAÇÃO_FREQUENCIA',\n",
    "                    'PROGRAMAÇÃO_NOTA_1',\n",
    "                    'PROGRAMAÇÃO_NOTA_2',\n",
    "                    'PROGRAMAÇÃO_NOTA_3',\n",
    "                    'PROGRAMAÇÃO_MEDIA_FINAL_1',\n",
    "                    'PROGRAMAÇÃO_MEDIA_FINAL_2',\n",
    "                    'PROGRAMAÇÃO WEB',\n",
    "                    'PROGRAMAÇÃO WEB_APROVADO',\n",
    "                    'PROGRAMAÇÃO WEB_REPROVADO',\n",
    "                    'PROGRAMAÇÃO_FREQUENCIA',\n",
    "                    'PROGRAMAÇÃO_NOTA_1',\n",
    "                    'PROGRAMAÇÃO_NOTA_2',\n",
    "                    'PROGRAMAÇÃO_NOTA_3',\n",
    "                    'PROGRAMAÇÃO_MEDIA_FINAL_1',\n",
    "                    'PROGRAMAÇÃO_MEDIA_FINAL_2',\n",
    "                    'ARQUITETURA DE COMPUTADORES',\n",
    "                    'ARQUITETURA DE COMPUTADORES_APROVADO',\n",
    "                    'ARQUITETURA DE COMPUTADORES_REPROVADO',\n",
    "                    'PROGRAMAÇÃO_FREQUENCIA',\n",
    "                    'PROGRAMAÇÃO_NOTA_1',\n",
    "                    'PROGRAMAÇÃO_NOTA_2',\n",
    "                    'PROGRAMAÇÃO_NOTA_3',\n",
    "                    'PROGRAMAÇÃO_MEDIA_FINAL_1',\n",
    "                    'PROGRAMAÇÃO_MEDIA_FINAL_2',\n",
    "                    'PROBABILIDADE E ESTATÍSTICA',\n",
    "                    'PROBABILIDADE E ESTATÍSTICA_APROVADO',\n",
    "                    'PROBABILIDADE E ESTATÍSTICA_REPROVADO',\n",
    "                    'PROGRAMAÇÃO_FREQUENCIA',\n",
    "                    'PROGRAMAÇÃO_NOTA_1',\n",
    "                    'PROGRAMAÇÃO_NOTA_2',\n",
    "                    'PROGRAMAÇÃO_NOTA_3',\n",
    "                    'PROGRAMAÇÃO_MEDIA_FINAL_1',\n",
    "                    'PROGRAMAÇÃO_MEDIA_FINAL_2',\n",
    "                    'BANCO DE DADOS',\n",
    "                    'BANCO DE DADOS_APROVADO',\n",
    "                    'BANCO DE DADOS_REPROVADO',\n",
    "                    'PROGRAMAÇÃO_FREQUENCIA',\n",
    "                    'PROGRAMAÇÃO_NOTA_1',\n",
    "                    'PROGRAMAÇÃO_NOTA_2',\n",
    "                    'PROGRAMAÇÃO_NOTA_3',\n",
    "                    'PROGRAMAÇÃO_MEDIA_FINAL_1',\n",
    "                    'PROGRAMAÇÃO_MEDIA_FINAL_2',\n",
    "                    'ENGENHARIA DE SOFTWARE I',\n",
    "                    'ENGENHARIA DE SOFTWARE I_APROVADO',\n",
    "                    'ENGENHARIA DE SOFTWARE I_REPROVADO',\n",
    "                    'PROGRAMAÇÃO ORIENTADA A OBJETOS II',\n",
    "                    'PROGRAMAÇÃO ORIENTADA A OBJETOS II_APROVADO',\n",
    "                    'PROGRAMAÇÃO ORIENTADA A OBJETOS II_REPROVADO',\n",
    "                    'PROGRAMAÇÃO_FREQUENCIA',\n",
    "                    'PROGRAMAÇÃO_NOTA_1',\n",
    "                    'PROGRAMAÇÃO_NOTA_2',\n",
    "                    'PROGRAMAÇÃO_NOTA_3',\n",
    "                    'PROGRAMAÇÃO_MEDIA_FINAL_1',\n",
    "                    'PROGRAMAÇÃO_MEDIA_FINAL_2',\n",
    "                    'SISTEMAS OPERACIONAIS',\n",
    "                    'SISTEMAS OPERACIONAIS_APROVADO',\n",
    "                    'SISTEMAS OPERACIONAIS_REPROVADO',\n",
    "                    'PROGRAMAÇÃO_FREQUENCIA',\n",
    "                    'PROGRAMAÇÃO_NOTA_1',\n",
    "                    'PROGRAMAÇÃO_NOTA_2',\n",
    "                    'PROGRAMAÇÃO_NOTA_3',\n",
    "                    'PROGRAMAÇÃO_MEDIA_FINAL_1',\n",
    "                    'PROGRAMAÇÃO_MEDIA_FINAL_2',\n",
    "                    'PROJETO E ADMINISTRAÇÃO DE BANCO DE DADOS',\n",
    "                    'PROJETO E ADMINISTRAÇÃO DE BANCO DE DADOS_APROVADO',\n",
    "                    'PROJETO E ADMINISTRAÇÃO DE BANCO DE DADOS_REPROVADO',\n",
    "                    'PROGRAMAÇÃO_FREQUENCIA',\n",
    "                    'PROGRAMAÇÃO_NOTA_1',\n",
    "                    'PROGRAMAÇÃO_NOTA_2',\n",
    "                    'PROGRAMAÇÃO_NOTA_3',\n",
    "                    'PROGRAMAÇÃO_MEDIA_FINAL_1',\n",
    "                    'PROGRAMAÇÃO_MEDIA_FINAL_2',\n",
    "                    'ENGENHARIA DE SOFTWARE II',\n",
    "                    'ENGENHARIA DE SOFTWARE II_APROVADO',\n",
    "                    'ENGENHARIA DE SOFTWARE II_REPROVADO',\n",
    "                    'PROGRAMAÇÃO_FREQUENCIA',\n",
    "                    'PROGRAMAÇÃO_NOTA_1',\n",
    "                    'PROGRAMAÇÃO_NOTA_2',\n",
    "                    'PROGRAMAÇÃO_NOTA_3',\n",
    "                    'PROGRAMAÇÃO_MEDIA_FINAL_1',\n",
    "                    'PROGRAMAÇÃO_MEDIA_FINAL_2',\n",
    "                    'REDES DE COMPUTADORES',\n",
    "                    'REDES DE COMPUTADORES_APROVADO',\n",
    "                    'REDES DE COMPUTADORES_REPROVADO',\n",
    "                    'PROGRAMAÇÃO_FREQUENCIA',\n",
    "                    'PROGRAMAÇÃO_NOTA_1',\n",
    "                    'PROGRAMAÇÃO_NOTA_2',\n",
    "                    'PROGRAMAÇÃO_NOTA_3',\n",
    "                    'PROGRAMAÇÃO_MEDIA_FINAL_1',\n",
    "                    'PROGRAMAÇÃO_MEDIA_FINAL_2',\n",
    "                    'EMPREENDEDORISMO EM INFORMÁTICA',\n",
    "                    'EMPREENDEDORISMO EM INFORMÁTICA_APROVADO',\n",
    "                    'EMPREENDEDORISMO EM INFORMÁTICA_REPROVADO',\n",
    "                    'PROGRAMAÇÃO_FREQUENCIA',\n",
    "                    'PROGRAMAÇÃO_NOTA_1',\n",
    "                    'PROGRAMAÇÃO_NOTA_2',\n",
    "                    'PROGRAMAÇÃO_NOTA_3',\n",
    "                    'PROGRAMAÇÃO_MEDIA_FINAL_1',\n",
    "                    'PROGRAMAÇÃO_MEDIA_FINAL_2',\n",
    "                    'GESTÃO DE PROJETO DE SOFTWARE',\n",
    "                    'GESTÃO DE PROJETO DE SOFTWARE_APROVADO',\n",
    "                    'GESTÃO DE PROJETO DE SOFTWARE_REPROVADO',\n",
    "                    'PROGRAMAÇÃO_FREQUENCIA',\n",
    "                    'PROGRAMAÇÃO_NOTA_1',\n",
    "                    'PROGRAMAÇÃO_NOTA_2',\n",
    "                    'PROGRAMAÇÃO_NOTA_3',\n",
    "                    'PROGRAMAÇÃO_MEDIA_FINAL_1',\n",
    "                    'PROGRAMAÇÃO_MEDIA_FINAL_2',\n",
    "                    'PROGRAMAÇÃO VISUAL',\n",
    "                    'PROGRAMAÇÃO VISUAL_APROVADO',\n",
    "                    'PROGRAMAÇÃO VISUAL_REPROVADO',\n",
    "                    'PROGRAMAÇÃO_FREQUENCIA',\n",
    "                    'PROGRAMAÇÃO_NOTA_1',\n",
    "                    'PROGRAMAÇÃO_NOTA_2',\n",
    "                    'PROGRAMAÇÃO_NOTA_3',\n",
    "                    'PROGRAMAÇÃO_MEDIA_FINAL_1',\n",
    "                    'PROGRAMAÇÃO_MEDIA_FINAL_2',\n",
    "                    'MATEMÁTICA FINANCEIRA',\n",
    "                    'MATEMÁTICA FINANCEIRA_APROVADO',\n",
    "                    'MATEMÁTICA FINANCEIRA_REPROVADO',\n",
    "                    'PROGRAMAÇÃO_FREQUENCIA',\n",
    "                    'PROGRAMAÇÃO_NOTA_1',\n",
    "                    'PROGRAMAÇÃO_NOTA_2',\n",
    "                    'PROGRAMAÇÃO_NOTA_3',\n",
    "                    'PROGRAMAÇÃO_MEDIA_FINAL_1',\n",
    "                    'PROGRAMAÇÃO_MEDIA_FINAL_2',\n",
    "                    'SISTEMAS DE APOIO À DECISÃO',\n",
    "                    'SISTEMAS DE APOIO À DECISÃO_APROVADO',\n",
    "                    'SISTEMAS DE APOIO À DECISÃO_REPROVADO',\n",
    "                    'PROGRAMAÇÃO_FREQUENCIA',\n",
    "                    'PROGRAMAÇÃO_NOTA_1',\n",
    "                    'PROGRAMAÇÃO_NOTA_2',\n",
    "                    'PROGRAMAÇÃO_NOTA_3',\n",
    "                    'PROGRAMAÇÃO_MEDIA_FINAL_1',\n",
    "                    'PROGRAMAÇÃO_MEDIA_FINAL_2',\n",
    "                    'ÉTICA',\n",
    "                    'ÉTICA_APROVADO',\n",
    "                    'ÉTICA_REPROVADO',\n",
    "                    'PROGRAMAÇÃO_FREQUENCIA',\n",
    "                    'PROGRAMAÇÃO_NOTA_1',\n",
    "                    'PROGRAMAÇÃO_NOTA_2',\n",
    "                    'PROGRAMAÇÃO_NOTA_3',\n",
    "                    'PROGRAMAÇÃO_MEDIA_FINAL_1',\n",
    "                    'PROGRAMAÇÃO_MEDIA_FINAL_2']\n",
    "'''"
   ]
  },
  {
   "attachments": {},
   "cell_type": "markdown",
   "metadata": {},
   "source": [
    "Reordenando as colunas."
   ]
  },
  {
   "cell_type": "code",
   "execution_count": null,
   "metadata": {},
   "outputs": [
    {
     "ename": "NameError",
     "evalue": "name 'colunas_ordenadas' is not defined",
     "output_type": "error",
     "traceback": [
      "\u001b[0;31m---------------------------------------------------------------------------\u001b[0m",
      "\u001b[0;31mNameError\u001b[0m                                 Traceback (most recent call last)",
      "Cell \u001b[0;32mIn[282], line 1\u001b[0m\n\u001b[0;32m----> 1\u001b[0m tabela_final \u001b[39m=\u001b[39m tabela_final[colunas_ordenadas]\n\u001b[1;32m      2\u001b[0m tabela_final\n",
      "\u001b[0;31mNameError\u001b[0m: name 'colunas_ordenadas' is not defined"
     ]
    }
   ],
   "source": [
    "tabela_final = tabela_final[colunas_ordenadas]\n",
    "tabela_final"
   ]
  },
  {
   "attachments": {},
   "cell_type": "markdown",
   "metadata": {},
   "source": [
    "Para salvar o DataFrame no formato CSV com a separação por ';' e garantir que os dados numéricos estejam no formato correto."
   ]
  },
  {
   "cell_type": "code",
   "execution_count": null,
   "metadata": {},
   "outputs": [],
   "source": [
    "tabela_final.to_csv('tabela_final.csv', index=False, sep=',', quoting=csv.QUOTE_NONNUMERIC)"
   ]
  }
 ],
 "metadata": {
  "kernelspec": {
   "display_name": "Python 3",
   "language": "python",
   "name": "python3"
  },
  "language_info": {
   "codemirror_mode": {
    "name": "ipython",
    "version": 3
   },
   "file_extension": ".py",
   "mimetype": "text/x-python",
   "name": "python",
   "nbconvert_exporter": "python",
   "pygments_lexer": "ipython3",
   "version": "3.10.12"
  },
  "orig_nbformat": 4,
  "vscode": {
   "interpreter": {
    "hash": "916dbcbb3f70747c44a77c7bcd40155683ae19c65e1c03b4aa3499c5328201f1"
   }
  }
 },
 "nbformat": 4,
 "nbformat_minor": 2
}
