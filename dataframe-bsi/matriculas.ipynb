{
 "cells": [
  {
   "attachments": {},
   "cell_type": "markdown",
   "metadata": {},
   "source": [
    "# Dataframe Matrícula"
   ]
  },
  {
   "attachments": {},
   "cell_type": "markdown",
   "metadata": {},
   "source": [
    "Esse dataframe contém as matrículas dos discentes de Sistemas de Informação da UFRN, no período de 2009.1 à 2022.2."
   ]
  },
  {
   "attachments": {},
   "cell_type": "markdown",
   "metadata": {},
   "source": [
    "Importando o Pandas e o Csv"
   ]
  },
  {
   "cell_type": "code",
   "execution_count": 1,
   "metadata": {},
   "outputs": [],
   "source": [
    "import pandas as pd\n",
    "import csv"
   ]
  },
  {
   "attachments": {},
   "cell_type": "markdown",
   "metadata": {},
   "source": [
    "Download de dados abertos da UFRN"
   ]
  },
  {
   "cell_type": "code",
   "execution_count": 2,
   "metadata": {},
   "outputs": [],
   "source": [
    "df20091 = \"https://dados.ufrn.br/dataset/c8650d55-3c5a-4787-a126-d28a4ef902a6/resource/bd578e3c-9fd0-4fc3-af12-07d36990325a/download/matricula-componente-20091.csv\"\n",
    "df20092 = \"https://dados.ufrn.br/dataset/c8650d55-3c5a-4787-a126-d28a4ef902a6/resource/a98d196c-3ee2-487d-951e-4e1be755e84d/download/matricula-componente-20092.csv\"\n",
    "df20101 = \"https://dados.ufrn.br/dataset/c8650d55-3c5a-4787-a126-d28a4ef902a6/resource/d44017d7-8390-45c1-8073-82c0d1f57847/download/matricula-componente-20101.csv\"\n",
    "df20102 = \"https://dados.ufrn.br/dataset/c8650d55-3c5a-4787-a126-d28a4ef902a6/resource/34857034-d117-491b-aace-4d389df76051/download/matricula-componente-20102.csv\"\n",
    "df20111 = \"https://dados.ufrn.br/dataset/c8650d55-3c5a-4787-a126-d28a4ef902a6/resource/919193f3-c3a9-46e5-a186-30486f228385/download/matricula-componente-20111.csv\"\n",
    "df20112 = \"https://dados.ufrn.br/dataset/c8650d55-3c5a-4787-a126-d28a4ef902a6/resource/63aca0fb-6bde-4e0b-aa3a-b2d1baa22deb/download/matricula-componente-20112.csv\"\n",
    "df20121 = \"https://dados.ufrn.br/dataset/c8650d55-3c5a-4787-a126-d28a4ef902a6/resource/28d90237-a056-4768-b790-64d7ff6308c2/download/matricula-componente-20121.csv\"\n",
    "df20122 = \"https://dados.ufrn.br/dataset/c8650d55-3c5a-4787-a126-d28a4ef902a6/resource/f2487ebc-e1d7-4fef-ac5d-542636448207/download/matricula-componente-20122.csv\"\n",
    "df20131 = \"https://dados.ufrn.br/dataset/c8650d55-3c5a-4787-a126-d28a4ef902a6/resource/674de4cc-1fc0-4314-9f04-a38f0e1f9225/download/matricula-componente-20131.csv\"\n",
    "df20132 = \"https://dados.ufrn.br/dataset/c8650d55-3c5a-4787-a126-d28a4ef902a6/resource/517ed5f6-f8a2-40fd-826b-6ed3388f6e88/download/matricula-componente-20132.csv\"\n",
    "df20141 = \"https://dados.ufrn.br/dataset/c8650d55-3c5a-4787-a126-d28a4ef902a6/resource/7081446d-39f9-4374-ad0b-86ecab97e569/download/matricula-componente-20141.csv\"\n",
    "df20142 = \"https://dados.ufrn.br/dataset/c8650d55-3c5a-4787-a126-d28a4ef902a6/resource/e974792c-b557-470c-bf3d-ede7d5b5e6a6/download/matricula-componente-20142.csv\"\n",
    "df20151 = \"https://dados.ufrn.br/dataset/c8650d55-3c5a-4787-a126-d28a4ef902a6/resource/9e7ba1c2-f92d-4b9c-9e91-3b026ecdf913/download/matriculas-de-2015.1.csv\"\n",
    "df20152 = \"https://dados.ufrn.br/dataset/c8650d55-3c5a-4787-a126-d28a4ef902a6/resource/baa6c8b4-2072-417f-b238-c028ccc8c14b/download/matriculas-de-2015.2.csv\"\n",
    "df20161 = \"https://dados.ufrn.br/dataset/c8650d55-3c5a-4787-a126-d28a4ef902a6/resource/4778d3ce-8898-46a8-a623-ee6a480a2980/download/matriculas-de-2016.1.csv\"\n",
    "df20162 = \"https://dados.ufrn.br/dataset/c8650d55-3c5a-4787-a126-d28a4ef902a6/resource/f6179838-b619-4d7d-af9c-18c438b80dd4/download/matriculas-de-2016.2.csv\"\n",
    "df20171 = \"https://dados.ufrn.br/dataset/c8650d55-3c5a-4787-a126-d28a4ef902a6/resource/79071c21-e32c-438f-b930-d1b6ccc02ec2/download/matricula-componente-20171.csv\"\n",
    "df20172 = \"https://dados.ufrn.br/dataset/c8650d55-3c5a-4787-a126-d28a4ef902a6/resource/55dfe713-ff7c-4fa8-8d1d-d4294a025bff/download/matricula-componente-20172.csv\"\n",
    "df20181 = \"https://dados.ufrn.br/dataset/c8650d55-3c5a-4787-a126-d28a4ef902a6/resource/3c1feba4-ced1-466e-8e94-a040224a51dc/download/matricula-componente-20181.csv\"\n",
    "df20182 = \"https://dados.ufrn.br/dataset/c8650d55-3c5a-4787-a126-d28a4ef902a6/resource/0bfcaf6a-4424-4983-8ba8-d330350a8fbe/download/matricula-componente-20182.csv\"\n",
    "df20191 = \"https://dados.ufrn.br/dataset/c8650d55-3c5a-4787-a126-d28a4ef902a6/resource/6d66d15a-8d0f-43a3-902b-d314f4a2a296/download/matricula-componente-20191.csv\"\n",
    "df20192 = \"https://dados.ufrn.br/dataset/c8650d55-3c5a-4787-a126-d28a4ef902a6/resource/0d573a4f-de65-4c3d-b6bb-337473bc4e44/download/matricula-componente-20192.csv\"\n",
    "df20201 = \"https://dados.ufrn.br/dataset/c8650d55-3c5a-4787-a126-d28a4ef902a6/resource/4e4dd1fb-fc0b-460d-b52a-9f37a42b82b3/download/matricula-componente-20201.csv\"\n",
    "df20202 = \"https://dados.ufrn.br/dataset/c8650d55-3c5a-4787-a126-d28a4ef902a6/resource/0748a131-f6ba-4b7c-b08d-3a69b8176a1b/download/matriculas-2020-2.csv\"\n",
    "df20205 = \"https://dados.ufrn.br/dataset/c8650d55-3c5a-4787-a126-d28a4ef902a6/resource/54683a60-b998-4933-a4ee-a6331eba8826/download/matricula-componente-20205.csv\"\n",
    "df20206 = \"https://dados.ufrn.br/dataset/c8650d55-3c5a-4787-a126-d28a4ef902a6/resource/9d663129-879a-4663-b631-4bfd0ee08e98/download/matricula-componente-20206.csv\"\n",
    "df20211 = \"https://dados.ufrn.br/dataset/c8650d55-3c5a-4787-a126-d28a4ef902a6/resource/ffd73a99-325b-4835-9338-036be30fdec8/download/matriculas-2021-1.csv\"\n",
    "df20212 = \"https://dados.ufrn.br/dataset/c8650d55-3c5a-4787-a126-d28a4ef902a6/resource/d5a9b2ae-4bd7-4a43-b169-2f6a5c9d1379/download/matriculas-2021-2.csv\"\n",
    "df20221 = \"https://dados.ufrn.br/dataset/c8650d55-3c5a-4787-a126-d28a4ef902a6/resource/c3b45170-5417-4f2a-a53e-c8edbf6c501a/download/matriculas-2022.1.csv\"\n",
    "df20222 = \"https://dados.ufrn.br/dataset/c8650d55-3c5a-4787-a126-d28a4ef902a6/resource/b159805b-e7cb-4d71-872b-14a1a2625d7e/download/matriculas-2022.2.csv\""
   ]
  },
  {
   "attachments": {},
   "cell_type": "markdown",
   "metadata": {},
   "source": [
    "Leitura dos arquivos em csv e carregamento desses dados em um DataFrame usando o ponto e vírgula como separador."
   ]
  },
  {
   "cell_type": "code",
   "execution_count": 3,
   "metadata": {},
   "outputs": [],
   "source": [
    "dff20091 = pd.read_csv(df20091, sep=';')\n",
    "dff20092 = pd.read_csv(df20092, sep=';')\n",
    "dff20101 = pd.read_csv(df20101, sep=';')\n",
    "dff20102 = pd.read_csv(df20102, sep=';')\n",
    "dff20111 = pd.read_csv(df20111, sep=';')\n",
    "dff20112 = pd.read_csv(df20112, sep=';')\n",
    "dff20121 = pd.read_csv(df20121, sep=';')\n",
    "dff20122 = pd.read_csv(df20122, sep=';')\n",
    "dff20131 = pd.read_csv(df20131, sep=';')\n",
    "dff20132 = pd.read_csv(df20132, sep=';')\n",
    "dff20141 = pd.read_csv(df20141, sep=';')\n",
    "dff20142 = pd.read_csv(df20142, sep=';')\n",
    "dff20151 = pd.read_csv(df20151, sep=';')\n",
    "dff20152 = pd.read_csv(df20152, sep=';')\n",
    "dff20161 = pd.read_csv(df20161, sep=';')\n",
    "dff20162 = pd.read_csv(df20162, sep=';')\n",
    "dff20171 = pd.read_csv(df20171, sep=';')\n",
    "dff20172 = pd.read_csv(df20172, sep=';')\n",
    "dff20181 = pd.read_csv(df20181, sep=';')\n",
    "dff20182 = pd.read_csv(df20182, sep=';')\n",
    "dff20191 = pd.read_csv(df20191, sep=';')\n",
    "dff20192 = pd.read_csv(df20192, sep=';')\n",
    "dff20201 = pd.read_csv(df20201, sep=';')\n",
    "dff20202 = pd.read_csv(df20202, sep=';')\n",
    "dff20205 = pd.read_csv(df20205, sep=';')\n",
    "dff20206 = pd.read_csv(df20206, sep=';')\n",
    "dff20211 = pd.read_csv(df20211, sep=';')\n",
    "dff20212 = pd.read_csv(df20212, sep=';')\n",
    "dff20221 = pd.read_csv(df20221, sep=';')\n",
    "dff20222 = pd.read_csv(df20222, sep=';')"
   ]
  },
  {
   "attachments": {},
   "cell_type": "markdown",
   "metadata": {},
   "source": [
    "Filtrando a coluna de id_curso do curso de sistemas usando o parâmetro 7191770"
   ]
  },
  {
   "cell_type": "code",
   "execution_count": 4,
   "metadata": {},
   "outputs": [],
   "source": [
    "id_curso_filtrado = 7191770\n",
    "df20091_filtrado = dff20091.loc[dff20091 ['id_curso'] == id_curso_filtrado]\n",
    "df20092_filtrado = dff20092.loc[dff20092 ['id_curso'] == id_curso_filtrado]\n",
    "df20101_filtrado = dff20101.loc[dff20101 ['id_curso'] == id_curso_filtrado]\n",
    "df20102_filtrado = dff20102.loc[dff20102 ['id_curso'] == id_curso_filtrado]\n",
    "df20111_filtrado = dff20111.loc[dff20111 ['id_curso'] == id_curso_filtrado]\n",
    "df20112_filtrado = dff20112.loc[dff20112 ['id_curso'] == id_curso_filtrado]\n",
    "df20121_filtrado = dff20121.loc[dff20121 ['id_curso'] == id_curso_filtrado]\n",
    "df20122_filtrado = dff20122.loc[dff20122 ['id_curso'] == id_curso_filtrado]\n",
    "df20131_filtrado = dff20131.loc[dff20131 ['id_curso'] == id_curso_filtrado]\n",
    "df20132_filtrado = dff20132.loc[dff20132 ['id_curso'] == id_curso_filtrado]\n",
    "df20141_filtrado = dff20141.loc[dff20141 ['id_curso'] == id_curso_filtrado]\n",
    "df20142_filtrado = dff20142.loc[dff20142 ['id_curso'] == id_curso_filtrado]\n",
    "df20151_filtrado = dff20151.loc[dff20151 ['id_curso'] == id_curso_filtrado]\n",
    "df20152_filtrado = dff20152.loc[dff20152 ['id_curso'] == id_curso_filtrado]\n",
    "df20161_filtrado = dff20161.loc[dff20161 ['id_curso'] == id_curso_filtrado]\n",
    "df20162_filtrado = dff20162.loc[dff20162 ['id_curso'] == id_curso_filtrado]\n",
    "df20171_filtrado = dff20171.loc[dff20171 ['id_curso'] == id_curso_filtrado]\n",
    "df20172_filtrado = dff20172.loc[dff20172 ['id_curso'] == id_curso_filtrado]\n",
    "df20181_filtrado = dff20181.loc[dff20181 ['id_curso'] == id_curso_filtrado]\n",
    "df20182_filtrado = dff20182.loc[dff20182 ['id_curso'] == id_curso_filtrado]\n",
    "df20191_filtrado = dff20191.loc[dff20191 ['id_curso'] == id_curso_filtrado]\n",
    "df20192_filtrado = dff20192.loc[dff20192 ['id_curso'] == id_curso_filtrado]\n",
    "df20201_filtrado = dff20201.loc[dff20201 ['id_curso'] == id_curso_filtrado]\n",
    "df20202_filtrado = dff20202.loc[dff20202 ['id_curso'] == id_curso_filtrado]\n",
    "df20205_filtrado = dff20205.loc[dff20205 ['id_curso'] == id_curso_filtrado]\n",
    "df20206_filtrado = dff20206.loc[dff20206 ['id_curso'] == id_curso_filtrado]\n",
    "df20211_filtrado = dff20211.loc[dff20211 ['id_curso'] == id_curso_filtrado]\n",
    "df20212_filtrado = dff20212.loc[dff20212 ['id_curso'] == id_curso_filtrado]\n",
    "df20221_filtrado = dff20221.loc[dff20221 ['id_curso'] == id_curso_filtrado]\n",
    "df20222_filtrado = dff20222.loc[dff20222 ['id_curso'] == id_curso_filtrado]"
   ]
  },
  {
   "attachments": {},
   "cell_type": "markdown",
   "metadata": {},
   "source": [
    "Criação de um novo DataFrame chamado merged_df que contém todos os dados dos DataFrames df20091_filtrado a df20222_filtrado, concatenados em uma única estrutura de dados."
   ]
  },
  {
   "cell_type": "code",
   "execution_count": 5,
   "metadata": {},
   "outputs": [],
   "source": [
    "merged_df = pd.concat([\n",
    "    df20091_filtrado, df20092_filtrado, df20101_filtrado, df20102_filtrado,\n",
    "    df20111_filtrado, df20112_filtrado, df20121_filtrado, df20122_filtrado,\n",
    "    df20131_filtrado, df20132_filtrado, df20141_filtrado, df20142_filtrado,\n",
    "    df20151_filtrado, df20152_filtrado, df20161_filtrado, df20162_filtrado,\n",
    "    df20171_filtrado, df20172_filtrado, df20181_filtrado, df20182_filtrado,\n",
    "    df20191_filtrado, df20192_filtrado, df20201_filtrado, df20202_filtrado,\n",
    "    df20205_filtrado, df20206_filtrado, df20211_filtrado, df20212_filtrado,\n",
    "    df20221_filtrado, df20222_filtrado,], ignore_index=True)"
   ]
  },
  {
   "cell_type": "code",
   "execution_count": 6,
   "metadata": {},
   "outputs": [
    {
     "data": {
      "text/html": [
       "<div>\n",
       "<style scoped>\n",
       "    .dataframe tbody tr th:only-of-type {\n",
       "        vertical-align: middle;\n",
       "    }\n",
       "\n",
       "    .dataframe tbody tr th {\n",
       "        vertical-align: top;\n",
       "    }\n",
       "\n",
       "    .dataframe thead th {\n",
       "        text-align: right;\n",
       "    }\n",
       "</style>\n",
       "<table border=\"1\" class=\"dataframe\">\n",
       "  <thead>\n",
       "    <tr style=\"text-align: right;\">\n",
       "      <th></th>\n",
       "      <th>id_turma</th>\n",
       "      <th>discente</th>\n",
       "      <th>id_curso</th>\n",
       "      <th>unidade</th>\n",
       "      <th>nota</th>\n",
       "      <th>reposicao</th>\n",
       "      <th>faltas_unidade</th>\n",
       "      <th>media_final</th>\n",
       "      <th>numero_total_faltas</th>\n",
       "      <th>descricao</th>\n",
       "    </tr>\n",
       "  </thead>\n",
       "  <tbody>\n",
       "    <tr>\n",
       "      <th>0</th>\n",
       "      <td>57512315</td>\n",
       "      <td>afba64c0118bfcc8d5b3987e725ed545</td>\n",
       "      <td>7191770.0</td>\n",
       "      <td>NaN</td>\n",
       "      <td>NaN</td>\n",
       "      <td>NaN</td>\n",
       "      <td>NaN</td>\n",
       "      <td>NaN</td>\n",
       "      <td>NaN</td>\n",
       "      <td>TRANCADO</td>\n",
       "    </tr>\n",
       "    <tr>\n",
       "      <th>1</th>\n",
       "      <td>57512128</td>\n",
       "      <td>bad4e0ec61e635f382e7e32c32d5ad11</td>\n",
       "      <td>7191770.0</td>\n",
       "      <td>1.0</td>\n",
       "      <td>0,0</td>\n",
       "      <td>False</td>\n",
       "      <td>0.0</td>\n",
       "      <td>0,0</td>\n",
       "      <td>44.0</td>\n",
       "      <td>REPROVADO POR FALTAS</td>\n",
       "    </tr>\n",
       "    <tr>\n",
       "      <th>2</th>\n",
       "      <td>57512128</td>\n",
       "      <td>bad4e0ec61e635f382e7e32c32d5ad11</td>\n",
       "      <td>7191770.0</td>\n",
       "      <td>2.0</td>\n",
       "      <td>0,0</td>\n",
       "      <td>False</td>\n",
       "      <td>0.0</td>\n",
       "      <td>0,0</td>\n",
       "      <td>44.0</td>\n",
       "      <td>REPROVADO POR FALTAS</td>\n",
       "    </tr>\n",
       "    <tr>\n",
       "      <th>3</th>\n",
       "      <td>57512128</td>\n",
       "      <td>bad4e0ec61e635f382e7e32c32d5ad11</td>\n",
       "      <td>7191770.0</td>\n",
       "      <td>3.0</td>\n",
       "      <td>0,0</td>\n",
       "      <td>False</td>\n",
       "      <td>0.0</td>\n",
       "      <td>0,0</td>\n",
       "      <td>44.0</td>\n",
       "      <td>REPROVADO POR FALTAS</td>\n",
       "    </tr>\n",
       "    <tr>\n",
       "      <th>4</th>\n",
       "      <td>57512128</td>\n",
       "      <td>bee926721a5b23a098fdfb850bf8d5b5</td>\n",
       "      <td>7191770.0</td>\n",
       "      <td>1.0</td>\n",
       "      <td>0,0</td>\n",
       "      <td>False</td>\n",
       "      <td>0.0</td>\n",
       "      <td>0,0</td>\n",
       "      <td>52.0</td>\n",
       "      <td>REPROVADO POR FALTAS</td>\n",
       "    </tr>\n",
       "  </tbody>\n",
       "</table>\n",
       "</div>"
      ],
      "text/plain": [
       "   id_turma                          discente   id_curso  unidade nota  \\\n",
       "0  57512315  afba64c0118bfcc8d5b3987e725ed545  7191770.0      NaN  NaN   \n",
       "1  57512128  bad4e0ec61e635f382e7e32c32d5ad11  7191770.0      1.0  0,0   \n",
       "2  57512128  bad4e0ec61e635f382e7e32c32d5ad11  7191770.0      2.0  0,0   \n",
       "3  57512128  bad4e0ec61e635f382e7e32c32d5ad11  7191770.0      3.0  0,0   \n",
       "4  57512128  bee926721a5b23a098fdfb850bf8d5b5  7191770.0      1.0  0,0   \n",
       "\n",
       "  reposicao  faltas_unidade media_final  numero_total_faltas  \\\n",
       "0       NaN             NaN         NaN                  NaN   \n",
       "1     False             0.0         0,0                 44.0   \n",
       "2     False             0.0         0,0                 44.0   \n",
       "3     False             0.0         0,0                 44.0   \n",
       "4     False             0.0         0,0                 52.0   \n",
       "\n",
       "              descricao  \n",
       "0              TRANCADO  \n",
       "1  REPROVADO POR FALTAS  \n",
       "2  REPROVADO POR FALTAS  \n",
       "3  REPROVADO POR FALTAS  \n",
       "4  REPROVADO POR FALTAS  "
      ]
     },
     "execution_count": 6,
     "metadata": {},
     "output_type": "execute_result"
    }
   ],
   "source": [
    "merged_df.head()"
   ]
  },
  {
   "attachments": {},
   "cell_type": "markdown",
   "metadata": {},
   "source": [
    "Listando colunas"
   ]
  },
  {
   "cell_type": "code",
   "execution_count": 7,
   "metadata": {},
   "outputs": [
    {
     "name": "stdout",
     "output_type": "stream",
     "text": [
      "Index(['id_turma', 'discente', 'id_curso', 'unidade', 'nota', 'reposicao',\n",
      "       'faltas_unidade', 'media_final', 'numero_total_faltas', 'descricao'],\n",
      "      dtype='object')\n"
     ]
    }
   ],
   "source": [
    "colunas = merged_df.columns\n",
    "print(colunas)"
   ]
  },
  {
   "attachments": {},
   "cell_type": "markdown",
   "metadata": {},
   "source": [
    "Para salvar o DataFrame no formato CSV com a separação por ';' e garantir que os dados numéricos estejam no formato correto"
   ]
  },
  {
   "cell_type": "code",
   "execution_count": 8,
   "metadata": {},
   "outputs": [],
   "source": [
    "merged_df.to_csv('matricula-2009-2022.csv', sep=';', quoting=csv.QUOTE_NONNUMERIC, index=False)"
   ]
  }
 ],
 "metadata": {
  "kernelspec": {
   "display_name": "Python 3",
   "language": "python",
   "name": "python3"
  },
  "language_info": {
   "codemirror_mode": {
    "name": "ipython",
    "version": 3
   },
   "file_extension": ".py",
   "mimetype": "text/x-python",
   "name": "python",
   "nbconvert_exporter": "python",
   "pygments_lexer": "ipython3",
   "version": "3.10.12"
  },
  "orig_nbformat": 4,
  "vscode": {
   "interpreter": {
    "hash": "916dbcbb3f70747c44a77c7bcd40155683ae19c65e1c03b4aa3499c5328201f1"
   }
  }
 },
 "nbformat": 4,
 "nbformat_minor": 2
}
